{
 "cells": [
  {
   "cell_type": "code",
   "execution_count": 1,
   "metadata": {},
   "outputs": [],
   "source": [
    "import random\n",
    "from PIL import Image, ImageDraw\n",
    "import matplotlib.pyplot as plt"
   ]
  },
  {
   "cell_type": "code",
   "execution_count": null,
   "metadata": {},
   "outputs": [],
   "source": [
    "#запускать лучше по очереди."
   ]
  },
  {
   "cell_type": "code",
   "execution_count": null,
   "metadata": {},
   "outputs": [],
   "source": [
    "image = Image.open(\"bear.JPG\")\n",
    "draw = ImageDraw.Draw(image) \n",
    "width  = image.size[0] \n",
    "height = image.size[1]\n",
    "pix = image.load() \n",
    "#list_of_grey_value = [];\n",
    "inc = 0\n",
    "inc2 = 0\n",
    "for x in range(width):\n",
    "        for y in range(height):\n",
    "                a = pix[x, y][0]\n",
    "                b = pix[x, y][1]\n",
    "                c = pix[x, y][2]\n",
    "                #shades of gray\n",
    "                draw.point((x, y), (x, x, x))\n",
    "image.show()"
   ]
  },
  {
   "cell_type": "code",
   "execution_count": null,
   "metadata": {},
   "outputs": [],
   "source": [
    "image = Image.open(\"bear.JPG\")\n",
    "draw = ImageDraw.Draw(image) \n",
    "pix = image.load() \n",
    "for x in range(width):\n",
    "        for y in range(height):\n",
    "                a = pix[x, y][0]\n",
    "                b = pix[x, y][1]\n",
    "                c = pix[x, y][2]\n",
    "                #yellow_bear\n",
    "                if a < 200 and  b < 200 and c < 200 :\n",
    "                        draw.point((x, y), (a, b, c))\n",
    "                else:\n",
    "                        draw.point((x,y), (253,233,16))\n",
    "image.show()"
   ]
  },
  {
   "cell_type": "code",
   "execution_count": null,
   "metadata": {},
   "outputs": [],
   "source": [
    "image = Image.open(\"bear.JPG\")\n",
    "draw = ImageDraw.Draw(image) \n",
    "pix = image.load() \n",
    "for x in range(width):\n",
    "        for y in range(height):\n",
    "                a = pix[x, y][0]\n",
    "                b = pix[x, y][1]\n",
    "                c = pix[x, y][2]\n",
    "                #yellow\n",
    "                draw.point((x,y),(255,255,0))\n",
    "image.show()"
   ]
  },
  {
   "cell_type": "code",
   "execution_count": null,
   "metadata": {},
   "outputs": [],
   "source": [
    "image = Image.open(\"roof.JPG\")\n",
    "width  = image.size[0] \n",
    "height = image.size[1]\n",
    "draw = ImageDraw.Draw(image) \n",
    "pix = image.load() \n",
    "for x in range(width):\n",
    "        for y in range(height):\n",
    "                a = pix[x, y][0]\n",
    "                b = pix[x, y][1]\n",
    "                c = pix[x, y][2]\n",
    "                #negative_roof                \n",
    "                draw.point((x,y),(255-a,255-b,255-c))\n",
    "image.show()"
   ]
  },
  {
   "cell_type": "code",
   "execution_count": null,
   "metadata": {},
   "outputs": [],
   "source": [
    "image = Image.open(\"roof.JPG\")\n",
    "draw = ImageDraw.Draw(image) \n",
    "pix = image.load() \n",
    "for x in range(width):\n",
    "        for y in range(height):\n",
    "                a = pix[x, y][0]\n",
    "                b = pix[x, y][1]\n",
    "                c = pix[x, y][2]\n",
    "                #shades_of_gray_roof\n",
    "                avarage_value = int ((a+b+c)/3)\n",
    "                draw.point((x,y),(avarage_value,avarage_value,avarage_value))\n",
    "image.show()"
   ]
  },
  {
   "cell_type": "code",
   "execution_count": null,
   "metadata": {},
   "outputs": [],
   "source": [
    "image = Image.open(\"roof.JPG\")\n",
    "draw = ImageDraw.Draw(image) \n",
    "pix = image.load() \n",
    "for x in range(width):\n",
    "        for y in range(height):\n",
    "                a = pix[x, y][0]\n",
    "                b = pix[x, y][1]\n",
    "                c = pix[x, y][2]\n",
    "                #sepia_roof\n",
    "                avarage_value = int((a + b + c) / 3)\n",
    "                draw.point((x,y), (avarage_value+25*2,avarage_value+25,avarage_value))\n",
    "image.show()"
   ]
  },
  {
   "cell_type": "code",
   "execution_count": null,
   "metadata": {},
   "outputs": [],
   "source": [
    "image = Image.open(\"roof.JPG\")\n",
    "draw = ImageDraw.Draw(image) \n",
    "pix = image.load() \n",
    "for x in range(width):\n",
    "        for y in range(height):\n",
    "                a = pix[x, y][0]\n",
    "                b = pix[x, y][1]\n",
    "                c = pix[x, y][2]\n",
    "                #white_and_black_roof\n",
    "                if a > 80 and b > 80 and c > 80 :\n",
    "                        draw.point((x,y),(255,255,255))\n",
    "                else:\n",
    "                        draw.point((x,y),(0,0,0))\n",
    "image.show()"
   ]
  },
  {
   "cell_type": "code",
   "execution_count": null,
   "metadata": {},
   "outputs": [],
   "source": [
    "image = Image.open(\"roof.JPG\")\n",
    "draw = ImageDraw.Draw(image) \n",
    "pix = image.load() \n",
    "for x in range(width):\n",
    "        for y in range(height):\n",
    "                a = pix[x, y][0]\n",
    "                b = pix[x, y][1]\n",
    "                c = pix[x, y][2]\n",
    "               #tone_del_2\n",
    "                draw.point((x,y),(int(a/2),int(b/2),int(c/2)))\n",
    "image.show()"
   ]
  },
  {
   "cell_type": "code",
   "execution_count": null,
   "metadata": {},
   "outputs": [],
   "source": [
    "image = Image.open(\"roof.JPG\")\n",
    "draw = ImageDraw.Draw(image) \n",
    "pix = image.load() \n",
    "one = width/3\n",
    "two = width*2/3\n",
    "for x in range(width):\n",
    "        for y in range(height):\n",
    "                a = pix[x, y][0]\n",
    "                b = pix[x, y][1]\n",
    "                c = pix[x, y][2]\n",
    "#                 3_color_roof\n",
    "                avarage_value = int((a + b + c) / 3)\n",
    "                if x < one:\n",
    "                        draw.point((x,y),(avarage_value,avarage_value,0))\n",
    "                elif x < two:\n",
    "                        draw.point((x,y),(avarage_value,0,0))\n",
    "                else:\n",
    "                        draw.point((x,y),(0,avarage_value,0))\n",
    "image.show()"
   ]
  },
  {
   "cell_type": "code",
   "execution_count": 4,
   "metadata": {},
   "outputs": [
    {
     "name": "stdout",
     "output_type": "stream",
     "text": [
      "14344   0.03764640267707752   1080   540.0\n"
     ]
    }
   ],
   "source": [
    "image = Image.open(\"roof.JPG\")\n",
    "draw = ImageDraw.Draw(image)\n",
    "width  = image.size[0]\n",
    "height = image.size[1]\n",
    "pix = image.load()\n",
    "green = 256*[0]\n",
    "\n",
    "\n",
    "for x in range(width):\n",
    "    for y in range(height):\n",
    "        b = pix[x, y][1]  \n",
    "        green[b]+=1\n",
    "\n",
    "gr= height/(max(green)*2)\n",
    "print(max(green),' ',gr,' ',height,' ',max(green)*gr)\n",
    "for i in range(256):\n",
    "    green[i]=round(gr*green[i])\n",
    "\n",
    "for x in range(256):\n",
    "    for y in range(height):\n",
    "        if y > height/2-green[x]:\n",
    "            if y < height/2:\n",
    "                draw.point((x,y),(0,255,0))\n",
    "\n",
    "\n",
    "\n",
    "\n",
    "\n",
    "image.show()"
   ]
  },
  {
   "cell_type": "code",
   "execution_count": 3,
   "metadata": {},
   "outputs": [
    {
     "name": "stdout",
     "output_type": "stream",
     "text": [
      "14344   0.03764640267707752   1080   540.0\n"
     ]
    }
   ],
   "source": [
    "image = Image.open(\"roof.JPG\")\n",
    "draw = ImageDraw.Draw(image)\n",
    "width  = image.size[0]\n",
    "height = image.size[1]\n",
    "pix = image.load()\n",
    "green = 256*[0]\n",
    "red = 256*[0]\n",
    "blue = 256*[0]\n",
    "grey = 256*[0]\n",
    "\n",
    "for x in range(width):\n",
    "    for y in range(height):\n",
    "        a = pix[x, y][0]\n",
    "        b = pix[x, y][1]\n",
    "        c = pix[x, y][2]\n",
    "        green[b]+=1\n",
    "        red[a]+=1\n",
    "        blue[c]+=1\n",
    "        grey[int((a+b+c)/3)]+=1\n",
    "\n",
    "gr = height/(max(green)*2)\n",
    "re = height/(max(red)*2)\n",
    "bl = height/(max(blue)*2)\n",
    "gre = height/(max(grey)*2)\n",
    "\n",
    "print(max(green),' ',gr,' ',height,' ',max(green)*gr)\n",
    "for i in range(256):\n",
    "    green[i]=round(gr*green[i])\n",
    "    blue[i]=round(bl*blue[i])\n",
    "    red[i] = round(re*red[i])\n",
    "    grey[i] = round(gre*grey[i])\n",
    "\n",
    "for x in range(256):\n",
    "    for y in range(height):\n",
    "        if y > height/2-green[x]:\n",
    "            if y < height/2:\n",
    "                draw.point((x,y),(0,255,0))\n",
    "\n",
    "for x in range(256 , 512):\n",
    "    for y in range(height):\n",
    "        if y > height / 2 - red[x-256]:\n",
    "            if y < height / 2:\n",
    "                draw.point((x, y), (255, 0, 0))\n",
    "\n",
    "for x in range(512 , 768):\n",
    "    for y in range(height):\n",
    "        if y > height / 2 - blue[x-512]:\n",
    "            if y < height / 2:\n",
    "                draw.point((x, y), (0, 0, 255))\n",
    "for x in range(768 , 1024):\n",
    "    for y in range(height):\n",
    "        if y > height / 2 - grey[x-768]:\n",
    "            if y < height / 2:\n",
    "                draw.point((x, y), (128, 128, 128))\n",
    "image.show()"
   ]
  },
  {
   "cell_type": "code",
   "execution_count": null,
   "metadata": {},
   "outputs": [],
   "source": [
    "image = Image.open(\"roof.jpg\") \n",
    "draw = ImageDraw.Draw(image) \n",
    "pix = image.load()\n",
    "inc = 0\n",
    "inc2 = 0\n",
    "for x in range(width-1, 1 , -1):\n",
    "        for y in range(height-1,1,-1):\n",
    "                a = pix[x, y][0]\n",
    "                b = pix[x, y][1]\n",
    "                c = pix[x, y][2]\n",
    "\n",
    "                draw.point((x,y),(a-inc,b-inc,c-inc))\n",
    "        inc2+=1\n",
    "        if inc2 == 6:\n",
    "                inc += 1\n",
    "                inc2 = 0\n",
    "image.show()"
   ]
  },
  {
   "cell_type": "code",
   "execution_count": null,
   "metadata": {},
   "outputs": [],
   "source": [
    "image = Image.open(\"roof.jpg\")\n",
    "draw = ImageDraw.Draw(image) \n",
    "pix = image.load() \n",
    "inc = 0\n",
    "inc2 = 0\n",
    "for x in range(width):\n",
    "        for y in range(height):\n",
    "                a = pix[x, y][0]\n",
    "                b = pix[x, y][1]\n",
    "                c = pix[x, y][2]\n",
    "\n",
    "                draw.point((x,y),(a+inc,b+inc,c+inc))\n",
    "        inc2+=1\n",
    "        if inc2 == 6:\n",
    "                inc += 1\n",
    "                inc2 = 0\n",
    "image.show()"
   ]
  },
  {
   "cell_type": "code",
   "execution_count": null,
   "metadata": {},
   "outputs": [],
   "source": [
    "image = Image.open(\"roof.jpg\")\n",
    "draw = ImageDraw.Draw(image) \n",
    "\n",
    "pix = image.load()\n",
    "inc = 0\n",
    "inc2 = 0\n",
    "#dark_to_light\n",
    "for x in range(int(width/2), 1 , -1 ):\n",
    "        for y in range(height-1, 1 , -1):\n",
    "                a = pix[x, y][0]\n",
    "                b = pix[x, y][1]\n",
    "                c = pix[x, y][2]\n",
    "\n",
    "                draw.point((x,y),(a-inc,b-inc,c-inc))\n",
    "        inc2+=1\n",
    "        if inc2 == 4:\n",
    "                inc += 1\n",
    "                inc2 = 0\n",
    "\n",
    "inc = 0\n",
    "\n",
    "for x in range(int(width/2), width , 1 ):\n",
    "        for y in range(height):\n",
    "                a = pix[x, y][0]\n",
    "                b = pix[x, y][1]\n",
    "                c = pix[x, y][2]\n",
    "\n",
    "                draw.point((x,y),(a+inc,b+inc,c+inc))\n",
    "        inc2+=1\n",
    "        if inc2 == 4:\n",
    "                inc += 1\n",
    "                inc2 = 0\n",
    "image.show()"
   ]
  },
  {
   "cell_type": "code",
   "execution_count": null,
   "metadata": {},
   "outputs": [],
   "source": [
    "image = Image.open(\"roof.JPG\")\n",
    "draw = ImageDraw.Draw(image) \n",
    "pix = image.load() \n",
    "for x in range(width):\n",
    "        for y in range(height):\n",
    "                a = pix[x, y][0]\n",
    "                b = pix[x, y][1]\n",
    "                c = pix[x, y][2]\n",
    "                draw.point((x,y), (a+80,b+40,c))\n",
    "image.show()"
   ]
  },
  {
   "cell_type": "code",
   "execution_count": null,
   "metadata": {},
   "outputs": [],
   "source": [
    "image = Image.open(\"roof.JPG\")\n",
    "draw = ImageDraw.Draw(image) \n",
    "pix = image.load() \n",
    "for x in range(width):\n",
    "        for y in range(height):\n",
    "                # triangle_half\n",
    "                if y<= 0.75*x:\n",
    "                        draw.point((x,y),(255,255,0))\n",
    "image.show()"
   ]
  },
  {
   "cell_type": "code",
   "execution_count": null,
   "metadata": {},
   "outputs": [],
   "source": [
    "image = Image.open(\"roof.JPG\")\n",
    "draw = ImageDraw.Draw(image) \n",
    "pix = image.load() \n",
    "for x in range(width):\n",
    "        for y in range(height):\n",
    "                if y <= 0.75*x and y >= -0.75*x+1080:\n",
    "                        draw.point((x,y),(172,74,245))\n",
    "                if y >= 0.75*x and y <= -0.75*x+1080:\n",
    "                        draw.point((x,y),(172,74,245))\n",
    "image.show()"
   ]
  },
  {
   "cell_type": "code",
   "execution_count": null,
   "metadata": {},
   "outputs": [],
   "source": [
    "image = Image.open(\"roof.JPG\")\n",
    "draw = ImageDraw.Draw(image) \n",
    "pix = image.load() \n",
    "for x in range(1, width, 80):\n",
    "    for y in range(360, 720 ,1):\n",
    "        for x1 in range(x,x+40):\n",
    "            draw.point((x1,y),(0,255,0))\n",
    "for x in range(width ):\n",
    "        for y in range(height):\n",
    "               if (x-720)**2+(y-540)**2 <= 300**2:\n",
    "                       draw.point((x,y),(249,166,2) )\n",
    "image.show()"
   ]
  },
  {
   "cell_type": "code",
   "execution_count": 15,
   "metadata": {},
   "outputs": [],
   "source": [
    "image = Image.open(\"roof.jpg\")\n",
    "draw = ImageDraw.Draw(image)\n",
    "width  = image.size[0]\n",
    "height = image.size[1]\n",
    "pix = image.load()\n",
    "for x in range(width-1):\n",
    "        for y in range(height):\n",
    "                red = pix[x, y][0]\n",
    "                red_right = pix[x + 1, y][0]\n",
    "                green = pix[x, y][1]\n",
    "                green_right = pix[x + 1, y][1]\n",
    "                blue = pix[x, y][2]\n",
    "                blue_right = pix[x + 1, y][2]\n",
    "                draw.point((x, y), (100 + 2*(red - red_right), 100 + 2*(green - green_right), 100+ 2*(blue - blue_right)))\n",
    "image.show()"
   ]
  },
  {
   "cell_type": "code",
   "execution_count": 18,
   "metadata": {},
   "outputs": [],
   "source": [
    "def level(x):\n",
    "    if x > 128:\n",
    "        return 255\n",
    "    else:\n",
    "        return 0"
   ]
  },
  {
   "cell_type": "code",
   "execution_count": 19,
   "metadata": {},
   "outputs": [],
   "source": [
    "image = Image.open(\"roof.jpg\")\n",
    "draw = ImageDraw.Draw(image)\n",
    "width  = image.size[0]\n",
    "height = image.size[1]\n",
    "pix = image.load()\n",
    "for x in range(width)[:-1]:\n",
    "        for y in range(height):\n",
    "                r = level(pix[x, y][0])\n",
    "                g = level(pix[x, y][1])\n",
    "                b = level(pix[x, y][2])\n",
    "                draw.point((x, y), (r, g, b))\n",
    "image.show()"
   ]
  },
  {
   "cell_type": "code",
   "execution_count": 24,
   "metadata": {},
   "outputs": [],
   "source": [
    "def level_for_4(x):\n",
    "    if x < 64:\n",
    "        return 0\n",
    "    if x < 128:\n",
    "        return 85\n",
    "    if x <= 192:\n",
    "        return 170\n",
    "    if x > 192:\n",
    "        return 255"
   ]
  },
  {
   "cell_type": "code",
   "execution_count": 26,
   "metadata": {},
   "outputs": [],
   "source": [
    "image = Image.open(\"roof.jpg\")\n",
    "draw = ImageDraw.Draw(image)\n",
    "width  = image.size[0]\n",
    "height = image.size[1]\n",
    "pix = image.load()\n",
    "for x in range(width):\n",
    "        for y in range(height):\n",
    "                r = pix[x, y][0]\n",
    "                g = pix[x, y][1]\n",
    "                b = pix[x, y][2]\n",
    "                res = level_for_4(round((r + g*2 + b*7)/10))\n",
    "                draw.point((x, y), (res, res, res))\n",
    "image.show()"
   ]
  },
  {
   "cell_type": "code",
   "execution_count": null,
   "metadata": {},
   "outputs": [],
   "source": []
  }
 ],
 "metadata": {
  "kernelspec": {
   "display_name": "Python 3",
   "language": "python",
   "name": "python3"
  },
  "language_info": {
   "codemirror_mode": {
    "name": "ipython",
    "version": 3
   },
   "file_extension": ".py",
   "mimetype": "text/x-python",
   "name": "python",
   "nbconvert_exporter": "python",
   "pygments_lexer": "ipython3",
   "version": "3.7.4"
  }
 },
 "nbformat": 4,
 "nbformat_minor": 2
}
