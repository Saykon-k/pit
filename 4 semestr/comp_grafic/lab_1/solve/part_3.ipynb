{
 "cells": [
  {
   "cell_type": "code",
   "execution_count": 11,
   "metadata": {},
   "outputs": [],
   "source": [
    "import random\n",
    "from PIL import Image, ImageDraw\n",
    "from math import sqrt"
   ]
  },
  {
   "cell_type": "code",
   "execution_count": 7,
   "metadata": {},
   "outputs": [],
   "source": [
    "image = Image.open(\"../files/park.jpg\")\n",
    "draw = ImageDraw.Draw(image)\n",
    "w  = image.size[0]\n",
    "h = image.size[1]\n",
    "pix = image.load()\n",
    "\n",
    "q2Start = (h / 2)**2 / (h / 3)**2\n",
    "q2Finish = 1\n",
    "\n",
    "for x in range(w):\n",
    "        for y in range(h):\n",
    "            q1 = (x - w / 2)**2 / (w / 2)**2 + (y - h / 2)**2 / (h / 2)**2\n",
    "            q2 = (x - w / 2)**2 / (w / 3)**2 + (y - h / 2)**2 / (h / 3)**2\n",
    "            if q1 > 1:\n",
    "                draw.point((x, y), (255, 255, 255))\n",
    "            elif q2 < 1:\n",
    "                r = pix[x, y][0]\n",
    "                g = pix[x, y][1]\n",
    "                b = pix[x, y][2]\n",
    "                draw.point((x, y), (r, g, b))\n",
    "            else:\n",
    "                q = (q2 - q2Finish)/(q2Start - q2Finish)\n",
    "                r = round(pix[x, y][0]*(1 - q) + 255*(q))\n",
    "                g = round(pix[x, y][1]*(1 - q) + 255*(q))\n",
    "                b = round(pix[x, y][2]*(1 - q) + 255*(q))\n",
    "                draw.point((x, y), (r, g, b))\n",
    "image.show()"
   ]
  },
  {
   "cell_type": "code",
   "execution_count": 12,
   "metadata": {},
   "outputs": [],
   "source": [
    "image = Image.open(\"../files/winter.jpg\")\n",
    "draw = ImageDraw.Draw(image)\n",
    "width  = image.size[0]\n",
    "height = image.size[1]\n",
    "pix = image.load()\n",
    "\n",
    "start = height / 3\n",
    "finish = height / 2\n",
    "\n",
    "for x in range(width):\n",
    "        for y in range(height):\n",
    "            r = sqrt((x - width/2)**2 + (y - height/2)**2)\n",
    "            if r > finish:\n",
    "                draw.point((x, y), (255, 255, 255))\n",
    "            elif r < start:\n",
    "                r = pix[x, y][0]\n",
    "                g = pix[x, y][1]\n",
    "                b = pix[x, y][2]\n",
    "                draw.point((x, y), (r, g, b))\n",
    "            else:\n",
    "                q = (r - start) / (finish - start)\n",
    "                r = round(pix[x, y][0]*(1 - q) + 255*q)\n",
    "                g = round(pix[x, y][1]*(1 - q) + 255*q)\n",
    "                b = round(pix[x, y][2]*(1 - q) + 255*q)\n",
    "                draw.point((x, y), (r, g, b))\n",
    "image.show()"
   ]
  },
  {
   "cell_type": "code",
   "execution_count": 27,
   "metadata": {},
   "outputs": [],
   "source": [
    "image = Image.open(\"../files/winter.jpg\")\n",
    "image_2 = Image.open(\"../files/park.jpg\")\n",
    "draw = ImageDraw.Draw(image)\n",
    "width  = image.size[0]\n",
    "height = image.size[1]\n",
    "\n",
    "start = width / 3\n",
    "finish = start * 2\n",
    "\n",
    "pix_Park = image_2.load()\n",
    "pix_Winter = image.load()\n",
    "\n",
    "\n",
    "for x in range(width):\n",
    "        for y in range(height):\n",
    "            if x < width/3:\n",
    "                r = pix_Park[x, y][0]\n",
    "                g = pix_Park[x, y][1]\n",
    "                b = pix_Park[x, y][2]\n",
    "                draw.point((x,y),(r,g,b))\n",
    "            elif x < width*2/3:\n",
    "                q = (x - start) / (finish - start)\n",
    "                r = round(pix_Park[x, y][0]*(1 - q) + pix_Winter[x, y][0]*q)\n",
    "                g = round(pix_Park[x, y][1]*(1 - q) + pix_Winter[x, y][1]*q)\n",
    "                b = round(pix_Park[x, y][2]*(1 - q) + pix_Winter[x, y][2]*q)\n",
    "                draw.point((x, y), (r, g, b))\n",
    "            else:\n",
    "                r = pix_Winter[x, y][0]\n",
    "                g = pix_Winter[x, y][1]\n",
    "                b = pix_Winter[x, y][2]\n",
    "                draw.point((x,y),(r,g,b))\n",
    "image.show()"
   ]
  },
  {
   "cell_type": "code",
   "execution_count": null,
   "metadata": {},
   "outputs": [],
   "source": []
  }
 ],
 "metadata": {
  "kernelspec": {
   "display_name": "Python 3",
   "language": "python",
   "name": "python3"
  },
  "language_info": {
   "codemirror_mode": {
    "name": "ipython",
    "version": 3
   },
   "file_extension": ".py",
   "mimetype": "text/x-python",
   "name": "python",
   "nbconvert_exporter": "python",
   "pygments_lexer": "ipython3",
   "version": "3.7.4"
  }
 },
 "nbformat": 4,
 "nbformat_minor": 2
}
