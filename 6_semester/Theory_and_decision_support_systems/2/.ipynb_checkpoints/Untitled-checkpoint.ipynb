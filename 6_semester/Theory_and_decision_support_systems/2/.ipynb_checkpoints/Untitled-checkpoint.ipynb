{
 "cells": [
  {
   "cell_type": "code",
   "execution_count": 1,
   "metadata": {},
   "outputs": [],
   "source": [
    "import cvxpy as cp\n",
    "import numpy as np\n",
    "import math \n",
    "\n",
    "x1 = cp.Variable()\n",
    "x2 = cp.Variable()\n",
    "x3 = cp.Variable()\n",
    "x4 = cp.Variable()\n"
   ]
  },
  {
   "cell_type": "code",
   "execution_count": 2,
   "metadata": {},
   "outputs": [],
   "source": [
    "def find_max_min(check):\n",
    "    x1 = cp.Variable()\n",
    "    x2 = cp.Variable()\n",
    "    x3 = cp.Variable()\n",
    "    #ограничения по условиям задачи\n",
    "    constraints = [x1+x2+x3<=6,\n",
    "                   x1+x2<=3,\n",
    "                   x1<=2,\n",
    "                   x1>=0,\n",
    "                   x2>=0,\n",
    "                   x3>=0\n",
    "                   ]\n",
    "    if check:\n",
    "        obj = cp.Maximize(x1+2*x2+x3)\n",
    "    else:\n",
    "       \n",
    "        obj = cp.Minimize((-2)*x1-x2+x3)\n",
    "    prob = cp.Problem(obj, constraints)\n",
    "    prob.solve() \n",
    "    print(\"status:\", prob.status)\n",
    "    print(\"optimal val:\", np.round(prob.value, 5))\n",
    "    print(\"optimal var:\\n{0:12}x1 = {1}\\n{0:12}x2 = {2}\".format('',np.round(x1.value, 5), np.round(x2.value, 5) ))\n",
    "    return np.round(prob.value, 5)"
   ]
  },
  {
   "cell_type": "code",
   "execution_count": 3,
   "metadata": {},
   "outputs": [
    {
     "name": "stdout",
     "output_type": "stream",
     "text": [
      "status: optimal\n",
      "optimal val: 9.0\n",
      "optimal var:\n",
      "            x1 = 0.0\n",
      "            x2 = 3.0\n"
     ]
    }
   ],
   "source": [
    "max_ch = find_max_min(True)"
   ]
  },
  {
   "cell_type": "code",
   "execution_count": 4,
   "metadata": {},
   "outputs": [
    {
     "name": "stdout",
     "output_type": "stream",
     "text": [
      "status: optimal\n",
      "optimal val: -5.0\n",
      "optimal var:\n",
      "            x1 = 2.0\n",
      "            x2 = 1.0\n"
     ]
    }
   ],
   "source": [
    "min_ch = find_max_min(False)"
   ]
  },
  {
   "cell_type": "code",
   "execution_count": 10,
   "metadata": {},
   "outputs": [],
   "source": [
    "conc1 = [i*max_ch for i in [0.05,0.1,0.15]]"
   ]
  },
  {
   "cell_type": "code",
   "execution_count": 11,
   "metadata": {},
   "outputs": [],
   "source": [
    "conc2 = [0.1, 0.15, 0.2]"
   ]
  },
  {
   "cell_type": "code",
   "execution_count": 23,
   "metadata": {},
   "outputs": [],
   "source": [
    "# уступки для второго критерия "
   ]
  },
  {
   "cell_type": "code",
   "execution_count": 26,
   "metadata": {},
   "outputs": [
    {
     "name": "stdout",
     "output_type": "stream",
     "text": [
      "status: optimal\n",
      "optimal val: -0.45\n",
      "optimal var:\n",
      "            x1 = 0.1967\n",
      "            x2 = 2.8033\n"
     ]
    }
   ],
   "source": [
    "constraints = [x1+x2+x3<=6,\n",
    "           x1+x2<=3,\n",
    "           x1<=2,\n",
    "       max_ch-(x1+2*x2+x3)<=conc1[0],\n",
    "           x1>=0,\n",
    "           x2>=0,\n",
    "           x3>=0\n",
    "           ]\n",
    "obj = cp.Minimize((-2)*x1-x2+x3)\n",
    "prob = cp.Problem(obj, constraints)\n",
    "prob.solve() \n",
    "print(\"status:\", prob.status)\n",
    "print(\"optimal val:\", np.round(prob.value, 5))\n",
    "print(\"optimal var:\\n{0:12}x1 = {1}\\n{0:12}x2 = {2}\".format('',np.round(x1.value, 5), np.round(x2.value, 5) ))"
   ]
  }
 ],
 "metadata": {
  "kernelspec": {
   "display_name": "Python 3",
   "language": "python",
   "name": "python3"
  },
  "language_info": {
   "codemirror_mode": {
    "name": "ipython",
    "version": 3
   },
   "file_extension": ".py",
   "mimetype": "text/x-python",
   "name": "python",
   "nbconvert_exporter": "python",
   "pygments_lexer": "ipython3",
   "version": "3.7.4"
  }
 },
 "nbformat": 4,
 "nbformat_minor": 2
}
