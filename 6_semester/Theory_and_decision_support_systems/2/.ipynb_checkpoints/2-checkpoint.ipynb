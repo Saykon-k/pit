{
 "cells": [
  {
   "cell_type": "code",
   "execution_count": 1,
   "metadata": {},
   "outputs": [],
   "source": [
    "from IPython.display import Image\n",
    "Image(filename='info.png')\n",
    "\n"
   ]
  },
  {
   "cell_type": "code",
   "execution_count": 2,
   "metadata": {},
   "outputs": [],
   "source": [
    "def function_opt_1(x1,x2,x3):\n",
    "    return x1+2*x2+x3\n",
    "def function_opt_2(x1,x2,x3):\n",
    "    return 2*x1+x2-x3"
   ]
  },
  {
   "cell_type": "code",
   "execution_count": 3,
   "metadata": {},
   "outputs": [],
   "source": [
    "import cvxpy as cp\n",
    "import numpy as np\n",
    "import math \n",
    "import matplotlib as mtp\n",
    "\n",
    "x1 = cp.Variable()\n",
    "x2 = cp.Variable()\n",
    "x3 = cp.Variable()\n",
    "x4 = cp.Variable()\n",
    "f_1 = x1+2*x2+x3\n",
    "f_2 = 2*x1+x2+x3"
   ]
  },
  {
   "cell_type": "code",
   "execution_count": 4,
   "metadata": {},
   "outputs": [],
   "source": [
    "def find_max_min(check):\n",
    "    x1 = cp.Variable()\n",
    "    x2 = cp.Variable()\n",
    "    x3 = cp.Variable()\n",
    "    #ограничения по условиям задачи\n",
    "    constraints = [x1+x2+x3<=6,\n",
    "                   x1+x2<=3,\n",
    "                   x1<=2,\n",
    "                   x1>=0,\n",
    "                   x2>=0,\n",
    "                   x3>=0\n",
    "                   ]\n",
    "    if check:\n",
    "        obj = cp.Maximize(x1+2*x2+x3)\n",
    "    else:\n",
    "       \n",
    "        obj = cp.Maximize(2*x1+x2-x3)\n",
    "    prob = cp.Problem(obj, constraints)\n",
    "    prob.solve() \n",
    "    print(\"status:\", prob.status)\n",
    "    print(\"optimal val:\", np.round(prob.value, 5))\n",
    "    print(\"optimal var:\\n{0:12}x1 = {1}\\n{0:12}x2 = {2}\\n{0:12}x3 = {3}\".format('',np.round(x1.value, 5), np.round(x2.value, 5), np.round(x3.value, 5) ))\n",
    "    return np.round(prob.value, 5)"
   ]
  },
  {
   "cell_type": "code",
   "execution_count": 5,
   "metadata": {},
   "outputs": [
    {
     "name": "stdout",
     "output_type": "stream",
     "text": [
      "status: optimal\n",
      "optimal val: 9.0\n",
      "optimal var:\n",
      "            x1 = 0.0\n",
      "            x2 = 3.0\n",
      "            x3 = 3.0\n"
     ]
    }
   ],
   "source": [
    "max_ch = find_max_min(True)"
   ]
  },
  {
   "cell_type": "code",
   "execution_count": 6,
   "metadata": {},
   "outputs": [
    {
     "name": "stdout",
     "output_type": "stream",
     "text": [
      "status: optimal\n",
      "optimal val: 5.0\n",
      "optimal var:\n",
      "            x1 = 2.0\n",
      "            x2 = 1.0\n",
      "            x3 = 0.0\n"
     ]
    }
   ],
   "source": [
    "min_ch = find_max_min(False)"
   ]
  },
  {
   "cell_type": "code",
   "execution_count": 7,
   "metadata": {},
   "outputs": [],
   "source": [
    "mas_to_plot_x = [function_opt_1(0,3,3),function_opt_1(2,1,0)]\n",
    "mas_to_plot_y = [function_opt_2(0,3,3),function_opt_2(2,1,0)]"
   ]
  },
  {
   "cell_type": "code",
   "execution_count": 8,
   "metadata": {},
   "outputs": [
    {
     "name": "stdout",
     "output_type": "stream",
     "text": [
      "9.0\n",
      "[0.45, 0.9, 1.3499999999999999]\n"
     ]
    }
   ],
   "source": [
    "print(max_ch)\n",
    "conc1 = [i*max_ch for i in [0.05,0.1,0.15]]\n",
    "print(conc1)"
   ]
  },
  {
   "cell_type": "code",
   "execution_count": 9,
   "metadata": {},
   "outputs": [
    {
     "name": "stdout",
     "output_type": "stream",
     "text": [
      "5.0\n"
     ]
    }
   ],
   "source": [
    "print(min_ch)\n",
    "conc2 = [i*min_ch for i in [0.1, 0.15, 0.2]]\n",
    "\n",
    "constraints = [x1+x2+x3<=6,\n",
    "           x1+x2<=3,\n",
    "           x1<=2,\n",
    "       max_ch-(x1+2*x2+x3)<=conc1[0],\n",
    "           x1>=0,\n",
    "           x2>=0,\n",
    "           x3>=0\n",
    "           ]"
   ]
  },
  {
   "cell_type": "code",
   "execution_count": 10,
   "metadata": {},
   "outputs": [],
   "source": [
    "# уступки для первого критерия "
   ]
  },
  {
   "cell_type": "code",
   "execution_count": 11,
   "metadata": {},
   "outputs": [
    {
     "name": "stdout",
     "output_type": "stream",
     "text": [
      "status: optimal\n",
      "optimal val: 8.55\n",
      "optimal var:\n",
      "            x1 = 0.1967\n",
      "            x2 = 2.8033\n",
      "            x3 = 2.7467\n",
      "8.550000000017322\n"
     ]
    }
   ],
   "source": [
    "constraints = [x1+x2+x3<=6,\n",
    "           x1+x2<=3,\n",
    "           x1<=2,\n",
    "       max_ch-(x1+2*x2+x3)<=conc1[0],\n",
    "           x1>=0,\n",
    "           x2>=0,\n",
    "           x3>=0\n",
    "           ]\n",
    "constraints[3] =   max_ch -  (x1+2*x2+x3) <= conc1[0]\n",
    "\n",
    "obj = cp.Maximize(2*x1+x2-x3) \n",
    "prob = cp.Problem(obj, constraints)\n",
    "prob.solve() \n",
    "print(\"status:\", prob.status)\n",
    "print(\"optimal val:\", np.round(x1.value+2*x2.value+x3.value,5))\n",
    "print(\"optimal var:\\n{0:12}x1 = {1}\\n{0:12}x2 = {2}\\n{0:12}x3 = {3}\".format('',np.round(x1.value, 5), np.round(x2.value, 5), np.round(x3.value, 5) ))\n",
    "print(x1.value+2*x2.value+x3.value)\n"
   ]
  },
  {
   "cell_type": "code",
   "execution_count": 12,
   "metadata": {},
   "outputs": [],
   "source": [
    "mas_to_plot_x.append(function_opt_1(x1.value,x2.value,x3.value))\n",
    "mas_to_plot_y.append(function_opt_2(x1.value,x2.value,x3.value))"
   ]
  },
  {
   "cell_type": "code",
   "execution_count": 13,
   "metadata": {},
   "outputs": [
    {
     "name": "stdout",
     "output_type": "stream",
     "text": [
      "status: optimal\n",
      "optimal val: 8.1\n",
      "optimal var:\n",
      "            x1 = 0.42423\n",
      "            x2 = 2.57577\n",
      "            x3 = 2.52423\n"
     ]
    }
   ],
   "source": [
    "constraints = [x1+x2+x3<=6,\n",
    "           x1+x2<=3,\n",
    "           x1<=2,\n",
    "       max_ch-(x1+2*x2+x3)<=conc1[0],\n",
    "           x1>=0,\n",
    "           x2>=0,\n",
    "           x3>=0\n",
    "           ]\n",
    "constraints[3] = max_ch -  (x1+2*x2+x3) <= conc1[1]\n",
    "obj = cp.Maximize(2*x1+x2-x3)\n",
    "prob = cp.Problem(obj, constraints)\n",
    "prob.solve() \n",
    "print(\"status:\", prob.status)\n",
    "print(\"optimal val:\", np.round(x1.value+2*x2.value+x3.value,5))\n",
    "print(\"optimal var:\\n{0:12}x1 = {1}\\n{0:12}x2 = {2}\\n{0:12}x3 = {3}\".format('',np.round(x1.value, 5), np.round(x2.value, 5), np.round(x3.value, 5) ))\n"
   ]
  },
  {
   "cell_type": "code",
   "execution_count": 14,
   "metadata": {},
   "outputs": [],
   "source": [
    "mas_to_plot_x.append(function_opt_1(x1.value,x2.value,x3.value))\n",
    "mas_to_plot_y.append(function_opt_2(x1.value,x2.value,x3.value))"
   ]
  },
  {
   "cell_type": "code",
   "execution_count": 15,
   "metadata": {},
   "outputs": [
    {
     "name": "stdout",
     "output_type": "stream",
     "text": [
      "status: optimal\n",
      "optimal val: 7.65\n",
      "optimal var:\n",
      "            x1 = 0.65658\n",
      "            x2 = 2.34342\n",
      "            x3 = 2.30658\n"
     ]
    }
   ],
   "source": [
    "constraints = [x1+x2+x3<=6,\n",
    "           x1+x2<=3,\n",
    "           x1<=2,\n",
    "       max_ch-(x1+2*x2+x3)<=conc1[0],\n",
    "           x1>=0,\n",
    "           x2>=0,\n",
    "           x3>=0\n",
    "           ]\n",
    "constraints[3] = max_ch -  (x1+2*x2+x3) <= conc1[2]\n",
    "obj = cp.Maximize(2*x1+x2-x3)\n",
    "prob = cp.Problem(obj, constraints)\n",
    "prob.solve() \n",
    "\n",
    "print(\"status:\", prob.status)\n",
    "print(\"optimal val:\", np.round(x1.value+2*x2.value+x3.value,5))\n",
    "print(\"optimal var:\\n{0:12}x1 = {1}\\n{0:12}x2 = {2}\\n{0:12}x3 = {3}\".format('',np.round(x1.value, 5), np.round(x2.value, 5), np.round(x3.value, 5) ))\n"
   ]
  },
  {
   "cell_type": "code",
   "execution_count": 16,
   "metadata": {},
   "outputs": [],
   "source": [
    "mas_to_plot_x.append(function_opt_1(x1.value,x2.value,x3.value))\n",
    "mas_to_plot_y.append(function_opt_2(x1.value,x2.value,x3.value))"
   ]
  },
  {
   "cell_type": "code",
   "execution_count": 17,
   "metadata": {},
   "outputs": [
    {
     "data": {
      "text/plain": [
       "[<matplotlib.lines.Line2D at 0x7f9d4a629ac0>]"
      ]
     },
     "execution_count": 17,
     "metadata": {},
     "output_type": "execute_result"
    },
    {
     "data": {
      "image/png": "[encoded data removed]",
      "text/plain": [
       "<Figure size 432x288 with 1 Axes>"
      ]
     },
     "metadata": {
      "needs_background": "light"
     },
     "output_type": "display_data"
    }
   ],
   "source": [
    "import matplotlib.pyplot as plt\n",
    "plt.plot(mas_to_plot_y, mas_to_plot_x,marker='o')"
   ]
  },
  {
   "cell_type": "code",
   "execution_count": 18,
   "metadata": {},
   "outputs": [],
   "source": [
    "# уступки для второго критерия "
   ]
  },
  {
   "cell_type": "code",
   "execution_count": 19,
   "metadata": {},
   "outputs": [
    {
     "name": "stdout",
     "output_type": "stream",
     "text": [
      "status: optimal\n",
      "optimal val: 4.5\n",
      "optimal var:\n",
      "            x1 = 1.76495\n",
      "            x2 = 1.23505\n",
      "            x3 = 0.26495\n"
     ]
    }
   ],
   "source": [
    "constraints = [x1+x2+x3<=6,\n",
    "           x1+x2<=3,\n",
    "           x1<=2,\n",
    "       max_ch-(x1+2*x2+x3)<=conc1[0],\n",
    "           x1>=0,\n",
    "           x2>=0,\n",
    "           x3>=0\n",
    "           ]\n",
    "constraints[3] = min_ch -  (2*x1+x2-x3) <= conc2[0]\n",
    "obj = cp.Maximize(x1+2*x2+x3)\n",
    "prob = cp.Problem(obj, constraints)\n",
    "prob.solve() \n",
    "print(\"status:\", prob.status)\n",
    "print(\"optimal val:\", np.round(2*x1.value+x2.value-x3.value,5))\n",
    "print(\"optimal var:\\n{0:12}x1 = {1}\\n{0:12}x2 = {2}\\n{0:12}x3 = {3}\".format('',np.round(x1.value, 5), np.round(x2.value, 5), np.round(x3.value, 5) ))\n"
   ]
  },
  {
   "cell_type": "code",
   "execution_count": 20,
   "metadata": {},
   "outputs": [],
   "source": [
    "mas_to_plot_x.append(function_opt_1(x1.value,x2.value,x3.value))\n",
    "mas_to_plot_y.append(function_opt_2(x1.value,x2.value,x3.value))"
   ]
  },
  {
   "cell_type": "code",
   "execution_count": 21,
   "metadata": {},
   "outputs": [
    {
     "name": "stdout",
     "output_type": "stream",
     "text": [
      "status: optimal\n",
      "optimal val: 4.25\n",
      "optimal var:\n",
      "            x1 = 1.66203\n",
      "            x2 = 1.33797\n",
      "            x3 = 0.41203\n"
     ]
    }
   ],
   "source": [
    "constraints = [x1+x2+x3<=6,\n",
    "           x1+x2<=3,\n",
    "           x1<=2,\n",
    "       max_ch-(x1+2*x2+x3)<=conc1[0],\n",
    "           x1>=0,\n",
    "           x2>=0,\n",
    "           x3>=0\n",
    "           ]\n",
    "constraints[3] = min_ch -  (2*x1+x2-x3) <= conc2[1]\n",
    "obj = cp.Maximize(x1+2*x2+x3)\n",
    "prob = cp.Problem(obj, constraints)\n",
    "prob.solve() \n",
    "print(\"status:\", prob.status)\n",
    "print(\"optimal val:\", np.round(2*x1.value+x2.value-x3.value,5))\n",
    "print(\"optimal var:\\n{0:12}x1 = {1}\\n{0:12}x2 = {2}\\n{0:12}x3 = {3}\".format('',np.round(x1.value, 5), np.round(x2.value, 5), np.round(x3.value, 5) ))\n"
   ]
  },
  {
   "cell_type": "code",
   "execution_count": 22,
   "metadata": {},
   "outputs": [],
   "source": [
    "mas_to_plot_x.append(function_opt_1(x1.value,x2.value,x3.value))\n",
    "mas_to_plot_y.append(function_opt_2(x1.value,x2.value,x3.value))"
   ]
  },
  {
   "cell_type": "code",
   "execution_count": 23,
   "metadata": {},
   "outputs": [
    {
     "name": "stdout",
     "output_type": "stream",
     "text": [
      "status: optimal\n",
      "optimal val: 4.0\n",
      "optimal var:\n",
      "            x1 = 1.56936\n",
      "            x2 = 1.43064\n",
      "            x3 = 0.56936\n"
     ]
    }
   ],
   "source": [
    "constraints = [x1+x2+x3<=6,\n",
    "           x1+x2<=3,\n",
    "           x1<=2,\n",
    "       max_ch-(x1+2*x2+x3)<=conc1[0],\n",
    "           x1>=0,\n",
    "           x2>=0,\n",
    "           x3>=0\n",
    "           ]\n",
    "constraints[3] = min_ch -  (2*x1+x2-x3) <= conc2[2]\n",
    "obj = cp.Maximize(x1+2*x2+x3)\n",
    "prob = cp.Problem(obj, constraints)\n",
    "prob.solve() \n",
    "print(\"status:\", prob.status)\n",
    "print(\"optimal val:\", np.round(2*x1.value+x2.value-x3.value,5))\n",
    "print(\"optimal var:\\n{0:12}x1 = {1}\\n{0:12}x2 = {2}\\n{0:12}x3 = {3}\".format('',np.round(x1.value, 5), np.round(x2.value, 5), np.round(x3.value, 5) ))\n"
   ]
  },
  {
   "cell_type": "code",
   "execution_count": 24,
   "metadata": {},
   "outputs": [],
   "source": [
    "mas_to_plot_x.append(function_opt_1(x1.value,x2.value,x3.value))\n",
    "mas_to_plot_y.append(function_opt_2(x1.value,x2.value,x3.value))"
   ]
  },
  {
   "cell_type": "code",
   "execution_count": 25,
   "metadata": {},
   "outputs": [
    {
     "data": {
      "text/plain": [
       "[<matplotlib.lines.Line2D at 0x7f9d4a684a00>]"
      ]
     },
     "execution_count": 25,
     "metadata": {},
     "output_type": "execute_result"
    },
    {
     "data": {
      "image/png": "[encoded data removed]",
      "text/plain": [
       "<Figure size 432x288 with 1 Axes>"
      ]
     },
     "metadata": {
      "needs_background": "light"
     },
     "output_type": "display_data"
    }
   ],
   "source": [
    "import matplotlib.pyplot as plt\n",
    "plt.plot(mas_to_plot_y, mas_to_plot_x,marker='o')"
   ]
  }
 ],
 "metadata": {
  "kernelspec": {
   "display_name": "Python 3",
   "language": "python",
   "name": "python3"
  },
  "language_info": {
   "codemirror_mode": {
    "name": "ipython",
    "version": 3
   },
   "file_extension": ".py",
   "mimetype": "text/x-python",
   "name": "python",
   "nbconvert_exporter": "python",
   "pygments_lexer": "ipython3",
   "version": "3.8.5"
  }
 },
 "nbformat": 4,
 "nbformat_minor": 2
}
