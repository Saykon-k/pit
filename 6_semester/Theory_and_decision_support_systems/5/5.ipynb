{
 "cells": [
  {
   "cell_type": "code",
   "execution_count": 3,
   "metadata": {},
   "outputs": [],
   "source": [
    "def function_opt_1(x1,x2,x3):\n",
    "    return x1+2*x2+x3\n",
    "def function_opt_2(x1,x2,x3):\n",
    "    return 2*x1+x2-x3"
   ]
  },
  {
   "cell_type": "code",
   "execution_count": 4,
   "metadata": {},
   "outputs": [],
   "source": [
    "import cvxpy as cp\n",
    "import numpy as np\n",
    "import math \n",
    "import matplotlib as mtp"
   ]
  },
  {
   "cell_type": "code",
   "execution_count": 11,
   "metadata": {},
   "outputs": [
    {
     "name": "stdout",
     "output_type": "stream",
     "text": [
      "status: optimal\n",
      "optimal val: 0.66667\n",
      "optimal var:\n",
      "            x1 = 2.0\n",
      "            x2 = 1.0\n",
      "            x3 = 0.0\n"
     ]
    }
   ],
   "source": [
    "x1 = cp.Variable()\n",
    "x2 = cp.Variable()\n",
    "x3 = cp.Variable()\n",
    "alfa = 0.6\n",
    "beta = 0.4\n",
    "#ограничения по условиям задачи\n",
    "constraints = [x1+x2+x3<=6,\n",
    "               x1+x2<=3,\n",
    "               x1<=2,\n",
    "               x1>=0,\n",
    "               x2>=0,\n",
    "               x3>=0,\n",
    "              \n",
    "               ]\n",
    "obj = cp.Maximize(alfa*(x1+2*x2+x3)/9+beta*(2*x1+x2-x3)/5)\n",
    "\n",
    "prob = cp.Problem(obj, constraints)\n",
    "prob.solve() \n",
    "print(\"status:\", prob.status)\n",
    "print(\"optimal val:\", np.round(prob.value, 5))\n",
    "print(\"optimal var:\\n{0:12}x1 = {1}\\n{0:12}x2 = {2}\\n{0:12}x3 = {3}\".format('',np.round(x1.value, 5), np.round(x2.value, 5), np.round(x3.value, 5) ))\n"
   ]
  },
  {
   "cell_type": "code",
   "execution_count": null,
   "metadata": {},
   "outputs": [],
   "source": []
  }
 ],
 "metadata": {
  "kernelspec": {
   "display_name": "Python 3",
   "language": "python",
   "name": "python3"
  },
  "language_info": {
   "codemirror_mode": {
    "name": "ipython",
    "version": 3
   },
   "file_extension": ".py",
   "mimetype": "text/x-python",
   "name": "python",
   "nbconvert_exporter": "python",
   "pygments_lexer": "ipython3",
   "version": "3.7.4"
  }
 },
 "nbformat": 4,
 "nbformat_minor": 2
}
