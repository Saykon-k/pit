{
 "cells": [
  {
   "cell_type": "code",
   "execution_count": 1,
   "metadata": {},
   "outputs": [],
   "source": [
    "import cvxpy as cp\n",
    "import numpy as np\n",
    "import math \n",
    "\n",
    "x1 = cp.Variable()\n",
    "x2 = cp.Variable()\n",
    "x3 = cp.Variable()\n",
    "x4 = cp.Variable()\n"
   ]
  },
  {
   "cell_type": "code",
   "execution_count": 2,
   "metadata": {},
   "outputs": [],
   "source": [
    "def find_max_min(check):\n",
    "    x1 = cp.Variable()\n",
    "    x2 = cp.Variable()\n",
    "    x3 = cp.Variable()\n",
    "    #ограничения по условиям задачи\n",
    "    constraints = [x1+x2+x3<=6,\n",
    "                   x1+x2<=3,\n",
    "                   x1<=2,\n",
    "                   x1>=0,\n",
    "                   x2>=0,\n",
    "                   x3>=0\n",
    "                   ]\n",
    "    if check:\n",
    "        obj = cp.Maximize(x1+2*x2+x3)\n",
    "    else:\n",
    "       \n",
    "        obj = cp.Minimize((-2)*x1-x2+x3)\n",
    "    prob = cp.Problem(obj, constraints)\n",
    "    prob.solve() \n",
    "    print(\"status:\", prob.status)\n",
    "    print(\"optimal val:\", np.round(prob.value, 5))\n",
    "    print(\"optimal var:\\n{0:12}x1 = {1}\\n{0:12}x2 = {2}\".format('',np.round(x1.value, 5), np.round(x2.value, 5) ))\n",
    "    return np.round(prob.value, 5)"
   ]
  },
  {
   "cell_type": "code",
   "execution_count": 3,
   "metadata": {},
   "outputs": [
    {
     "name": "stdout",
     "output_type": "stream",
     "text": [
      "status: optimal\n",
      "optimal val: 9.0\n",
      "optimal var:\n",
      "            x1 = 0.0\n",
      "            x2 = 3.0\n"
     ]
    }
   ],
   "source": [
    "max_ch = find_max_min(True)"
   ]
  },
  {
   "cell_type": "code",
   "execution_count": 4,
   "metadata": {},
   "outputs": [
    {
     "name": "stdout",
     "output_type": "stream",
     "text": [
      "status: optimal\n",
      "optimal val: -5.0\n",
      "optimal var:\n",
      "            x1 = 2.0\n",
      "            x2 = 1.0\n"
     ]
    }
   ],
   "source": [
    "min_ch = find_max_min(False)"
   ]
  },
  {
   "cell_type": "code",
   "execution_count": 5,
   "metadata": {},
   "outputs": [],
   "source": [
    "constraints = [x1+x2+x3<=6,\n",
    "                   x1+x2<=3,\n",
    "                   x1<=2,\n",
    "                   x1>=0,\n",
    "                   x2>=0,\n",
    "                   x3>=0,\n",
    "    (max_ch-(x1+2*x2+x3))/max_ch-x4<=0,\n",
    "    ((-2)*x1-x2+x3-min_ch)/min_ch-x4<=0       \n",
    "                   ]"
   ]
  },
  {
   "cell_type": "code",
   "execution_count": 6,
   "metadata": {},
   "outputs": [
    {
     "name": "stdout",
     "output_type": "stream",
     "text": [
      "\n",
      "ECOS 2.0.7 - (C) embotech GmbH, Zurich Switzerland, 2012-15. Web: www.embotech.com/ECOS\n",
      "\n",
      "It     pcost       dcost      gap   pres   dres    k/t    mu     step   sigma     IR    |   BT\n",
      " 0  +1.412e-02  -1.211e+01  +2e+01  2e-01  8e-01  1e+00  2e+00    ---    ---    1  1  - |  -  - \n",
      " 1  +2.403e-01  -5.609e-01  +2e+00  2e-02  1e-01  4e-01  3e-01  0.9129  7e-02   1  1  1 |  0  0\n",
      " 2  +6.677e-02  -8.710e-02  +4e-01  3e-03  2e-02  8e-02  7e-02  0.8392  4e-02   1  1  1 |  0  0\n",
      " 3  +1.403e-03  -2.351e-03  +9e-03  6e-05  5e-04  8e-04  1e-03  0.9834  3e-03   1  1  1 |  0  0\n",
      " 4  +1.555e-05  -2.612e-05  +1e-04  7e-07  5e-06  9e-06  1e-05  0.9890  1e-04   1  1  1 |  0  0\n",
      " 5  +1.723e-07  -2.901e-07  +1e-06  7e-09  6e-08  1e-07  2e-07  0.9890  1e-04   1  0  0 |  0  0\n",
      " 6  +1.910e-09  -3.221e-09  +1e-08  8e-11  6e-10  1e-09  2e-09  0.9890  1e-04   1  0  0 |  0  0\n",
      " 7  +2.118e-11  -3.576e-11  +1e-10  9e-13  7e-12  1e-11  2e-11  0.9890  1e-04   1  0  0 |  0  0\n",
      "\n",
      "OPTIMAL (within feastol=7.0e-12, reltol=-nan(ind), abstol=1.4e-10).\n",
      "Runtime: 0.000378 seconds.\n",
      "\n",
      "status: optimal\n",
      "optimal val: 0.0\n",
      "optimal var:\n",
      "            x1 = 0.0\n",
      "            x2 = 3.0\n",
      "            x3 = 3.0\n"
     ]
    }
   ],
   "source": [
    "obj = cp.Minimize(x4)\n",
    "prob = cp.Problem(obj, constraints)\n",
    "prob.solve(verbose=True)\n",
    "print(\"status:\", prob.status)\n",
    "print(\"optimal val:\", np.round(prob.value, 5))\n",
    "print(\"optimal var:\\n{0:12}x1 = {1}\\n{0:12}x2 = {2}\\n{0:12}x3 = {3}\".format('',np.round(x1.value, 5), np.round(x2.value, 5),np.round(x3.value, 5) ))\n"
   ]
  },
  {
   "cell_type": "code",
   "execution_count": null,
   "metadata": {},
   "outputs": [],
   "source": []
  }
 ],
 "metadata": {
  "kernelspec": {
   "display_name": "Python 3",
   "language": "python",
   "name": "python3"
  },
  "language_info": {
   "codemirror_mode": {
    "name": "ipython",
    "version": 3
   },
   "file_extension": ".py",
   "mimetype": "text/x-python",
   "name": "python",
   "nbconvert_exporter": "python",
   "pygments_lexer": "ipython3",
   "version": "3.7.4"
  }
 },
 "nbformat": 4,
 "nbformat_minor": 2
}
