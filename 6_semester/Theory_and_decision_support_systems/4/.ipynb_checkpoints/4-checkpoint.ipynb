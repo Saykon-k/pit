{
 "cells": [
  {
   "cell_type": "code",
   "execution_count": 1,
   "metadata": {},
   "outputs": [],
   "source": [
    "import cvxpy as cp\n",
    "import numpy as np\n",
    "import math "
   ]
  },
  {
   "cell_type": "code",
   "execution_count": 18,
   "metadata": {},
   "outputs": [],
   "source": [
    "def function_opt_1(x1,x2,x3):\n",
    "    return x1+2*x2+x3\n",
    "def function_opt_2(x1,x2,x3):\n",
    "    return 2*x1+x2-x3"
   ]
  },
  {
   "cell_type": "code",
   "execution_count": 5,
   "metadata": {},
   "outputs": [],
   "source": [
    "def find_max_min(check):\n",
    "    x1 = cp.Variable()\n",
    "    x2 = cp.Variable()\n",
    "    x3 = cp.Variable()\n",
    "    #ограничения по условиям задачи\n",
    "    constraints = [x1+x2+x3<=6,\n",
    "                   x1+x2<=3,\n",
    "                   x1<=2,\n",
    "                   x1>=0,\n",
    "                   x2>=0,\n",
    "                   x3>=0\n",
    "                   ]\n",
    "    if check:\n",
    "        obj = cp.Maximize(x1+2*x2+x3)\n",
    "    else:\n",
    "       \n",
    "        obj = cp.Maximize(2*x1+x2-x3)\n",
    "    prob = cp.Problem(obj, constraints)\n",
    "    prob.solve() \n",
    "    print(\"status:\", prob.status)\n",
    "    print(\"optimal val:\", np.round(prob.value, 5))\n",
    "    print(\"optimal var:\\n{0:12}x1 = {1}\\n{0:12}x2 = {2}\\n{0:12}x3 = {3}\".format('',np.round(x1.value, 5), np.round(x2.value, 5), np.round(x3.value, 5) ))\n",
    "    return np.round(prob.value, 5)"
   ]
  },
  {
   "cell_type": "code",
   "execution_count": 6,
   "metadata": {},
   "outputs": [
    {
     "name": "stdout",
     "output_type": "stream",
     "text": [
      "status: optimal\n",
      "optimal val: 9.0\n",
      "optimal var:\n",
      "            x1 = 0.0\n",
      "            x2 = 3.0\n",
      "            x3 = 3.0\n"
     ]
    }
   ],
   "source": [
    "max_ch = find_max_min(True)"
   ]
  },
  {
   "cell_type": "code",
   "execution_count": 7,
   "metadata": {},
   "outputs": [
    {
     "name": "stdout",
     "output_type": "stream",
     "text": [
      "status: optimal\n",
      "optimal val: 5.0\n",
      "optimal var:\n",
      "            x1 = 2.0\n",
      "            x2 = 1.0\n",
      "            x3 = 0.0\n"
     ]
    }
   ],
   "source": [
    "min_ch = find_max_min(False)"
   ]
  },
  {
   "cell_type": "code",
   "execution_count": 17,
   "metadata": {},
   "outputs": [
    {
     "name": "stdout",
     "output_type": "stream",
     "text": [
      "status: optimal\n",
      "optimal val: 3.21429\n",
      "optimal var:\n",
      "            x1 = 1.45194\n",
      "            x2 = 1.54806\n",
      "            x3 = 1.23766\n"
     ]
    }
   ],
   "source": [
    "x1 = cp.Variable()\n",
    "x2 = cp.Variable()\n",
    "x3 = cp.Variable()\n",
    "#ограничения по условиям задачи\n",
    "constraints = [x1+x2+x3<=6,\n",
    "               x1+x2<=3,\n",
    "               x1<=2,\n",
    "               x1>=0,\n",
    "               x2>=0,\n",
    "               x3>=0,\n",
    "               (x1 + 2*x2 + x3 - 9)/9 == (2*x1 + x2 - x3)/5 - 5/5\n",
    "               ]\n",
    "obj = cp.Maximize(2*x1+x2-x3)\n",
    "\n",
    "prob = cp.Problem(obj, constraints)\n",
    "prob.solve() \n",
    "print(\"status:\", prob.status)\n",
    "print(\"optimal val:\", np.round(prob.value, 5))\n",
    "print(\"optimal var:\\n{0:12}x1 = {1}\\n{0:12}x2 = {2}\\n{0:12}x3 = {3}\".format('',np.round(x1.value, 5), np.round(x2.value, 5), np.round(x3.value, 5) ))\n"
   ]
  },
  {
   "cell_type": "code",
   "execution_count": 21,
   "metadata": {},
   "outputs": [
    {
     "data": {
      "text/plain": [
       "0.3571428571093377"
      ]
     },
     "execution_count": 21,
     "metadata": {},
     "output_type": "execute_result"
    }
   ],
   "source": [
    "abs((function_opt_1(x1.value,x2.value,x3.value)-9)/9)"
   ]
  },
  {
   "cell_type": "code",
   "execution_count": 22,
   "metadata": {},
   "outputs": [
    {
     "data": {
      "text/plain": [
       "0.3571428571093316"
      ]
     },
     "execution_count": 22,
     "metadata": {},
     "output_type": "execute_result"
    }
   ],
   "source": [
    "abs((function_opt_2(x1.value,x2.value,x3.value)-5)/5)"
   ]
  }
 ],
 "metadata": {
  "kernelspec": {
   "display_name": "Python 3",
   "language": "python",
   "name": "python3"
  },
  "language_info": {
   "codemirror_mode": {
    "name": "ipython",
    "version": 3
   },
   "file_extension": ".py",
   "mimetype": "text/x-python",
   "name": "python",
   "nbconvert_exporter": "python",
   "pygments_lexer": "ipython3",
   "version": "3.8.5"
  }
 },
 "nbformat": 4,
 "nbformat_minor": 2
}
