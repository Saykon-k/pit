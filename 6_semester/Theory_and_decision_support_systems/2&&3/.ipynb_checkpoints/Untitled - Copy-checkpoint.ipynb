{
 "cells": [
  {
   "cell_type": "code",
   "execution_count": null,
   "metadata": {},
   "outputs": [],
   "source": [
    "from IPython.display import Image\n",
    "Image(filename='info/conditions of the problem.png')\n",
    "import cvxpy as cp\n",
    "import numpy as np\n",
    "import math \n",
    "\n",
    "x1 = cp.Variable()\n",
    "x2 = cp.Variable()\n",
    "x3 = cp.Variable()\n",
    "x4 = cp.Variable()\n"
   ]
  },
  {
   "cell_type": "code",
   "execution_count": 62,
   "metadata": {},
   "outputs": [],
   "source": [
    "def find_max_min(check):\n",
    "    x1 = cp.Variable()\n",
    "    x2 = cp.Variable()\n",
    "    x3 = cp.Variable()\n",
    "    #ограничения по условиям задачи\n",
    "    constraints = [x1+x2+x3<=6,\n",
    "                   x1+x2<=3,\n",
    "                   x1<=2,\n",
    "                   x1>=0,\n",
    "                   x2>=0,\n",
    "                   x3>=0\n",
    "                   ]\n",
    "    if check:\n",
    "        obj = cp.Maximize(x1+2*x2+x3)\n",
    "    else:\n",
    "       \n",
    "        obj = cp.Maximize(2*x1+x2-x3)\n",
    "    prob = cp.Problem(obj, constraints)\n",
    "    prob.solve() \n",
    "    print(\"status:\", prob.status)\n",
    "    print(\"optimal val:\", np.round(prob.value, 5))\n",
    "    print(\"optimal var:\\n{0:12}x1 = {1}\\n{0:12}x2 = {2}\".format('',np.round(x1.value, 5), np.round(x2.value, 5) ))\n",
    "    return np.round(prob.value, 5)"
   ]
  },
  {
   "cell_type": "code",
   "execution_count": 63,
   "metadata": {},
   "outputs": [
    {
     "name": "stdout",
     "output_type": "stream",
     "text": [
      "status: optimal\n",
      "optimal val: 9.0\n",
      "optimal var:\n",
      "            x1 = 0.0\n",
      "            x2 = 3.0\n"
     ]
    }
   ],
   "source": [
    "max_ch = find_max_min(True)"
   ]
  },
  {
   "cell_type": "code",
   "execution_count": 64,
   "metadata": {},
   "outputs": [
    {
     "name": "stdout",
     "output_type": "stream",
     "text": [
      "status: optimal\n",
      "optimal val: 5.0\n",
      "optimal var:\n",
      "            x1 = 2.0\n",
      "            x2 = 1.0\n"
     ]
    }
   ],
   "source": [
    "min_ch = find_max_min(False)"
   ]
  },
  {
   "cell_type": "code",
   "execution_count": 65,
   "metadata": {},
   "outputs": [
    {
     "name": "stdout",
     "output_type": "stream",
     "text": [
      "9.0\n",
      "[0.45, 0.9, 1.3499999999999999]\n"
     ]
    }
   ],
   "source": [
    "print(max_ch)\n",
    "conc1 = [i*max_ch for i in [0.05,0.1,0.15]]\n",
    "print(conc1)"
   ]
  },
  {
   "cell_type": "code",
   "execution_count": 66,
   "metadata": {},
   "outputs": [
    {
     "name": "stdout",
     "output_type": "stream",
     "text": [
      "5.0\n"
     ]
    }
   ],
   "source": [
    "print(min_ch)\n",
    "conc2 = [i*min_ch for i in [0.1, 0.15, 0.2]]\n",
    "\n",
    "constraints = [x1+x2+x3<=6,\n",
    "           x1+x2<=3,\n",
    "           x1<=2,\n",
    "       max_ch-(x1+2*x2+x3)<=conc1[0],\n",
    "           x1>=0,\n",
    "           x2>=0,\n",
    "           x3>=0\n",
    "           ]"
   ]
  },
  {
   "cell_type": "code",
   "execution_count": 67,
   "metadata": {},
   "outputs": [],
   "source": [
    "# уступки для первого критерия "
   ]
  },
  {
   "cell_type": "code",
   "execution_count": 73,
   "metadata": {},
   "outputs": [
    {
     "name": "stdout",
     "output_type": "stream",
     "text": [
      "status: optimal\n",
      "optimal val: 8.550000000017322\n",
      "optimal var:\n",
      "            x1 = 0.1967\n",
      "            x2 = 2.8033\n",
      "8.550000000017322\n"
     ]
    }
   ],
   "source": [
    "constraints = [x1+x2+x3<=6,\n",
    "           x1+x2<=3,\n",
    "           x1<=2,\n",
    "       max_ch-(x1+2*x2+x3)<=conc1[0],\n",
    "           x1>=0,\n",
    "           x2>=0,\n",
    "           x3>=0\n",
    "           ]\n",
    "constraints[3] =   max_ch -  (x1+2*x2+x3) <= conc1[0]\n",
    "\n",
    "obj = cp.Maximize(2*x1+x2-x3) \n",
    "prob = cp.Problem(obj, constraints)\n",
    "prob.solve() \n",
    "print(\"status:\", prob.status)\n",
    "print(\"optimal val:\", x1.value+2*x2.value+x3.value)\n",
    "print(\"optimal var:\\n{0:12}x1 = {1}\\n{0:12}x2 = {2}\".format('',np.round(x1.value, 5), np.round(x2.value, 5) ))\n",
    "print(x1.value+2*x2.value+x3.value)"
   ]
  },
  {
   "cell_type": "code",
   "execution_count": 74,
   "metadata": {},
   "outputs": [
    {
     "name": "stdout",
     "output_type": "stream",
     "text": [
      "status: optimal\n",
      "optimal val: 8.100000000007096\n",
      "optimal var:\n",
      "            x1 = 0.42423\n",
      "            x2 = 2.57577\n"
     ]
    }
   ],
   "source": [
    "constraints = [x1+x2+x3<=6,\n",
    "           x1+x2<=3,\n",
    "           x1<=2,\n",
    "       max_ch-(x1+2*x2+x3)<=conc1[0],\n",
    "           x1>=0,\n",
    "           x2>=0,\n",
    "           x3>=0\n",
    "           ]\n",
    "constraints[3] = max_ch -  (x1+2*x2+x3) <= conc1[1]\n",
    "obj = cp.Maximize(2*x1+x2-x3)\n",
    "prob = cp.Problem(obj, constraints)\n",
    "prob.solve() \n",
    "print(\"status:\", prob.status)\n",
    "print(\"optimal val:\", x1.value+2*x2.value+x3.value)\n",
    "print(\"optimal var:\\n{0:12}x1 = {1}\\n{0:12}x2 = {2}\".format('',np.round(x1.value, 5), np.round(x2.value, 5) ))"
   ]
  },
  {
   "cell_type": "code",
   "execution_count": 75,
   "metadata": {},
   "outputs": [
    {
     "name": "stdout",
     "output_type": "stream",
     "text": [
      "status: optimal\n",
      "optimal val: 7.650000000264219\n",
      "optimal var:\n",
      "            x1 = 0.65658\n",
      "            x2 = 2.34342\n"
     ]
    }
   ],
   "source": [
    "constraints = [x1+x2+x3<=6,\n",
    "           x1+x2<=3,\n",
    "           x1<=2,\n",
    "       max_ch-(x1+2*x2+x3)<=conc1[0],\n",
    "           x1>=0,\n",
    "           x2>=0,\n",
    "           x3>=0\n",
    "           ]\n",
    "constraints[3] = max_ch -  (x1+2*x2+x3) <= conc1[2]\n",
    "obj = cp.Maximize(2*x1+x2-x3)\n",
    "prob = cp.Problem(obj, constraints)\n",
    "prob.solve() \n",
    "\n",
    "print(\"status:\", prob.status)\n",
    "print(\"optimal val:\", x1.value+2*x2.value+x3.value)\n",
    "print(\"optimal var:\\n{0:12}x1 = {1}\\n{0:12}x2 = {2}\".format('',np.round(x1.value, 5), np.round(x2.value, 5) ))"
   ]
  },
  {
   "cell_type": "code",
   "execution_count": 36,
   "metadata": {},
   "outputs": [],
   "source": [
    "# уступки для второго критерия "
   ]
  },
  {
   "cell_type": "code",
   "execution_count": 81,
   "metadata": {},
   "outputs": [
    {
     "name": "stdout",
     "output_type": "stream",
     "text": [
      "status: optimal\n",
      "optimal val: 4.49999999932873\n",
      "optimal var:\n",
      "            x1 = 1.76495\n",
      "            x2 = 1.23505\n"
     ]
    }
   ],
   "source": [
    "constraints = [x1+x2+x3<=6,\n",
    "           x1+x2<=3,\n",
    "           x1<=2,\n",
    "       max_ch-(x1+2*x2+x3)<=conc1[0],\n",
    "           x1>=0,\n",
    "           x2>=0,\n",
    "           x3>=0\n",
    "           ]\n",
    "constraints[3] = min_ch -  (2*x1+x2-x3) <= conc2[0]\n",
    "obj = cp.Maximize(x1+2*x2+x3)\n",
    "prob = cp.Problem(obj, constraints)\n",
    "prob.solve() \n",
    "print(\"status:\", prob.status)\n",
    "print(\"optimal val:\", 2*x1.value+x2.value-x3.value)\n",
    "print(\"optimal var:\\n{0:12}x1 = {1}\\n{0:12}x2 = {2}\".format('',np.round(x1.value, 5), np.round(x2.value, 5) ))"
   ]
  },
  {
   "cell_type": "code",
   "execution_count": 82,
   "metadata": {},
   "outputs": [
    {
     "name": "stdout",
     "output_type": "stream",
     "text": [
      "status: optimal\n",
      "optimal val: 4.249999999576578\n",
      "optimal var:\n",
      "            x1 = 1.66203\n",
      "            x2 = 1.33797\n"
     ]
    }
   ],
   "source": [
    "constraints = [x1+x2+x3<=6,\n",
    "           x1+x2<=3,\n",
    "           x1<=2,\n",
    "       max_ch-(x1+2*x2+x3)<=conc1[0],\n",
    "           x1>=0,\n",
    "           x2>=0,\n",
    "           x3>=0\n",
    "           ]\n",
    "constraints[3] = min_ch -  (2*x1+x2-x3) <= conc2[1]\n",
    "obj = cp.Maximize(x1+2*x2+x3)\n",
    "prob = cp.Problem(obj, constraints)\n",
    "prob.solve() \n",
    "print(\"status:\", prob.status)\n",
    "print(\"optimal val:\", 2*x1.value+x2.value-x3.value)\n",
    "print(\"optimal var:\\n{0:12}x1 = {1}\\n{0:12}x2 = {2}\".format('',np.round(x1.value, 5), np.round(x2.value, 5) ))"
   ]
  },
  {
   "cell_type": "code",
   "execution_count": 83,
   "metadata": {},
   "outputs": [
    {
     "name": "stdout",
     "output_type": "stream",
     "text": [
      "status: optimal\n",
      "optimal val: 3.9999999997017412\n",
      "optimal var:\n",
      "            x1 = 1.56936\n",
      "            x2 = 1.43064\n"
     ]
    }
   ],
   "source": [
    "constraints = [x1+x2+x3<=6,\n",
    "           x1+x2<=3,\n",
    "           x1<=2,\n",
    "       max_ch-(x1+2*x2+x3)<=conc1[0],\n",
    "           x1>=0,\n",
    "           x2>=0,\n",
    "           x3>=0\n",
    "           ]\n",
    "constraints[3] = min_ch -  (2*x1+x2-x3) <= conc2[2]\n",
    "obj = cp.Maximize(x1+2*x2+x3)\n",
    "prob = cp.Problem(obj, constraints)\n",
    "prob.solve() \n",
    "print(\"status:\", prob.status)\n",
    "print(\"optimal val:\", 2*x1.value+x2.value-x3.value)\n",
    "print(\"optimal var:\\n{0:12}x1 = {1}\\n{0:12}x2 = {2}\".format('',np.round(x1.value, 5), np.round(x2.value, 5) ))"
   ]
  },
  {
   "cell_type": "code",
   "execution_count": null,
   "metadata": {},
   "outputs": [],
   "source": []
  }
 ],
 "metadata": {
  "kernelspec": {
   "display_name": "Python 3",
   "language": "python",
   "name": "python3"
  },
  "language_info": {
   "codemirror_mode": {
    "name": "ipython",
    "version": 3
   },
   "file_extension": ".py",
   "mimetype": "text/x-python",
   "name": "python",
   "nbconvert_exporter": "python",
   "pygments_lexer": "ipython3",
   "version": "3.7.4"
  }
 },
 "nbformat": 4,
 "nbformat_minor": 2
}
