{
 "cells": [
  {
   "cell_type": "markdown",
   "metadata": {},
   "source": [
    "## Занятие 3. Предварительная обработка данных и отбор признаков"
   ]
  },
  {
   "cell_type": "markdown",
   "metadata": {},
   "source": [
    "## Предварительная обработка данных"
   ]
  },
  {
   "cell_type": "markdown",
   "metadata": {},
   "source": [
    "## Rescale data"
   ]
  },
  {
   "cell_type": "code",
   "execution_count": 11,
   "metadata": {},
   "outputs": [],
   "source": [
    "import os\n",
    "os.chdir(\"C:/Users/HP/Documents/analysis/Marketing/data/\")"
   ]
  },
  {
   "cell_type": "code",
   "execution_count": 4,
   "metadata": {},
   "outputs": [
    {
     "name": "stdout",
     "output_type": "stream",
     "text": [
      "[[0.769 0.84  0.107 0.737]\n",
      " [0.836 0.821 0.122 0.644]\n",
      " [0.787 0.417 0.311 0.787]\n",
      " [0.757 0.872 0.055 0.45 ]\n",
      " [0.532 0.349 0.425 0.687]]\n"
     ]
    }
   ],
   "source": [
    "# Rescale data (between 0 and 1)\n",
    "from pandas import read_csv\n",
    "from numpy import set_printoptions\n",
    "from sklearn.preprocessing import MinMaxScaler\n",
    "filename = \"banknote_authentication.csv\"\n",
    "names = ['дисперсия',\n",
    "         'асимметрия',\n",
    "         'эксцесс', 'энтропия','класс']\n",
    "dataframe = read_csv(filename, names=names)\n",
    "peek = data.head(20);peek\n",
    "array = dataframe.values\n",
    "# separate array into input and output components\n",
    "X = array[:,0:4]\n",
    "Y = array[:,4]\n",
    "scaler = MinMaxScaler(feature_range=(0, 1))\n",
    "rescaledX = scaler.fit_transform(X)\n",
    "# summarize transformed data\n",
    "set_printoptions(precision=3)\n",
    "print(rescaledX[0:5,:])"
   ]
  },
  {
   "cell_type": "markdown",
   "metadata": {},
   "source": [
    "## Standardize data"
   ]
  },
  {
   "cell_type": "code",
   "execution_count": 5,
   "metadata": {},
   "outputs": [
    {
     "name": "stdout",
     "output_type": "stream",
     "text": [
      "[[ 1.122  1.149 -0.976  0.355]\n",
      " [ 1.447  1.064 -0.895 -0.129]\n",
      " [ 1.208 -0.777  0.122  0.618]\n",
      " [ 1.064  1.295 -1.255 -1.144]\n",
      " [-0.037 -1.087  0.737  0.097]]\n"
     ]
    }
   ],
   "source": [
    "# Standardize data (0 mean, 1 stdev)\n",
    "from sklearn.preprocessing import StandardScaler\n",
    "from pandas import read_csv\n",
    "from numpy import set_printoptions\n",
    "filename = \"banknote_authentication.csv\"\n",
    "names = ['дисперсия',\n",
    "         'асимметрия',\n",
    "         'эксцесс', 'энтропия','класс']\n",
    "dataframe = read_csv(filename, names=names)\n",
    "peek = data.head(20);peek\n",
    "array = dataframe.values\n",
    "# separate array into input and output components\n",
    "X = array[:,0:4]\n",
    "Y = array[:,4]\n",
    "scaler = StandardScaler().fit(X)\n",
    "rescaledX = scaler.transform(X)\n",
    "# summarize transformed data\n",
    "set_printoptions(precision=3)\n",
    "print(rescaledX[0:5,:])"
   ]
  },
  {
   "cell_type": "markdown",
   "metadata": {},
   "source": [
    "## Normalize data"
   ]
  },
  {
   "cell_type": "code",
   "execution_count": 6,
   "metadata": {},
   "outputs": [
    {
     "name": "stdout",
     "output_type": "stream",
     "text": [
      "[[ 0.369  0.883 -0.286 -0.046]\n",
      " [ 0.465  0.836 -0.252 -0.15 ]\n",
      " [ 0.764 -0.521  0.38   0.021]\n",
      " [ 0.301  0.83  -0.35  -0.313]\n",
      " [ 0.051 -0.689  0.707 -0.153]]\n"
     ]
    }
   ],
   "source": [
    "# Normalize data (length of 1)\n",
    "from sklearn.preprocessing import Normalizer\n",
    "from pandas import read_csv\n",
    "from numpy import set_printoptions\n",
    "filename = \"banknote_authentication.csv\"\n",
    "names = ['дисперсия',\n",
    "         'асимметрия',\n",
    "         'эксцесс', 'энтропия','класс']\n",
    "dataframe = read_csv(filename, names=names)\n",
    "peek = data.head(20);peek\n",
    "array = dataframe.values\n",
    "# separate array into input and output components\n",
    "X = array[:,0:4]\n",
    "Y = array[:,4]\n",
    "scaler = Normalizer().fit(X)\n",
    "normalizedX = scaler.transform(X)\n",
    "# summarize transformed data\n",
    "set_printoptions(precision=3)\n",
    "print(normalizedX[0:5,:])"
   ]
  },
  {
   "cell_type": "markdown",
   "metadata": {},
   "source": [
    "## Binarize data (Make Binary)"
   ]
  },
  {
   "cell_type": "code",
   "execution_count": 7,
   "metadata": {},
   "outputs": [
    {
     "name": "stdout",
     "output_type": "stream",
     "text": [
      "[[1. 1. 0. 0.]\n",
      " [1. 1. 0. 0.]\n",
      " [1. 0. 1. 1.]\n",
      " [1. 1. 0. 0.]\n",
      " [1. 0. 1. 0.]]\n"
     ]
    }
   ],
   "source": [
    "# binarization\n",
    "from sklearn.preprocessing import Binarizer\n",
    "from pandas import read_csv\n",
    "from numpy import set_printoptions\n",
    "filename = \"banknote_authentication.csv\"\n",
    "names = ['дисперсия',\n",
    "         'асимметрия',\n",
    "         'эксцесс', 'энтропия','класс']\n",
    "dataframe = read_csv(filename, names=names)\n",
    "peek = data.head(20);peek\n",
    "array = dataframe.values\n",
    "# separate array into input and output components\n",
    "X = array[:,0:4]\n",
    "Y = array[:,4]\n",
    "binarizer = Binarizer(threshold=0.0).fit(X)\n",
    "binaryX = binarizer.transform(X)\n",
    "# summarize transformed data\n",
    "set_printoptions(precision=3)\n",
    "print(binaryX[0:5,:])"
   ]
  },
  {
   "cell_type": "markdown",
   "metadata": {},
   "source": [
    "## Отбор признаков"
   ]
  },
  {
   "cell_type": "markdown",
   "metadata": {},
   "source": [
    "## Univariate Selection"
   ]
  },
  {
   "cell_type": "code",
   "execution_count": 16,
   "metadata": {},
   "outputs": [],
   "source": [
    "import os\n",
    "os.chdir(\"C:/Users/HP/Documents/analysis/Marketing/data/\")"
   ]
  },
  {
   "cell_type": "code",
   "execution_count": 8,
   "metadata": {},
   "outputs": [
    {
     "name": "stdout",
     "output_type": "stream",
     "text": [
      "[1.517e+03 3.377e+02 3.412e+01 7.521e-01]\n",
      "[[ 3.622  8.666 -2.807 -0.447]\n",
      " [ 4.546  8.167 -2.459 -1.462]\n",
      " [ 3.866 -2.638  1.924  0.106]\n",
      " [ 3.457  9.523 -4.011 -3.594]\n",
      " [ 0.329 -4.455  4.572 -0.989]]\n"
     ]
    }
   ],
   "source": [
    "# Feature Selection with Univariate Statistical Tests\n",
    "from pandas import read_csv\n",
    "from numpy import set_printoptions\n",
    "from sklearn.feature_selection import SelectKBest\n",
    "from sklearn.feature_selection import f_classif\n",
    "# load data\n",
    "filename = \"banknote_authentication.csv\"\n",
    "names = ['дисперсия',\n",
    "         'асимметрия',\n",
    "         'эксцесс', 'энтропия','класс']\n",
    "dataframe = read_csv(filename, names=names)\n",
    "peek = data.head(20);peek\n",
    "array = dataframe.values\n",
    "# separate array into input and output components\n",
    "X = array[:,0:4]\n",
    "Y = array[:,4]\n",
    "# feature extraction\n",
    "test = SelectKBest(score_func=f_classif, k=4)\n",
    "fit = test.fit(X, Y)\n",
    "# summarize scores\n",
    "set_printoptions(precision=3)\n",
    "print(fit.scores_)\n",
    "features = fit.transform(X)\n",
    "# summarize selected features\n",
    "print(features[0:5,:])"
   ]
  },
  {
   "cell_type": "markdown",
   "metadata": {},
   "source": [
    "## Recursive Feature Elimination"
   ]
  },
  {
   "cell_type": "code",
   "execution_count": 9,
   "metadata": {},
   "outputs": [
    {
     "name": "stdout",
     "output_type": "stream",
     "text": [
      "Num Features: 3\n",
      "Selected Features: [ True  True  True False]\n",
      "Feature Ranking: [1 1 1 2]\n"
     ]
    },
    {
     "name": "stderr",
     "output_type": "stream",
     "text": [
      "/Users/saykovkon/opt/anaconda3/lib/python3.8/site-packages/sklearn/utils/validation.py:67: FutureWarning: Pass n_features_to_select=3 as keyword args. From version 0.25 passing these as positional arguments will result in an error\n",
      "  warnings.warn(\"Pass {} as keyword args. From version 0.25 \"\n"
     ]
    }
   ],
   "source": [
    "# Feature Selection with RFE\n",
    "from pandas import read_csv\n",
    "from sklearn.feature_selection import RFE\n",
    "from sklearn.linear_model import LogisticRegression\n",
    "# load data\n",
    "filename = \"banknote_authentication.csv\"\n",
    "names = ['дисперсия',\n",
    "         'асимметрия',\n",
    "         'эксцесс', 'энтропия','класс']\n",
    "dataframe = read_csv(filename, names=names)\n",
    "peek = data.head(20);peek\n",
    "array = dataframe.values\n",
    "# separate array into input and output components\n",
    "X = array[:,0:4]\n",
    "Y = array[:,4]\n",
    "# feature extraction\n",
    "model = LogisticRegression(solver='liblinear')\n",
    "rfe = RFE(model, 3)\n",
    "fit = rfe.fit(X, Y)\n",
    "print(\"Num Features: %d\" % fit.n_features_)\n",
    "print(\"Selected Features: %s\" % fit.support_)\n",
    "print(\"Feature Ranking: %s\" % fit.ranking_)"
   ]
  },
  {
   "cell_type": "markdown",
   "metadata": {},
   "source": [
    "## Principle Component Analysis"
   ]
  },
  {
   "cell_type": "code",
   "execution_count": 10,
   "metadata": {},
   "outputs": [
    {
     "name": "stdout",
     "output_type": "stream",
     "text": [
      "Explained Variance: [0.761 0.142 0.067]\n",
      "[[-0.141 -0.81   0.55   0.145]\n",
      " [-0.802  0.264  0.3   -0.444]\n",
      " [ 0.431  0.456  0.778  0.018]]\n"
     ]
    }
   ],
   "source": [
    "# Feature Extraction with PCA\n",
    "from pandas import read_csv\n",
    "from sklearn.decomposition import PCA\n",
    "# load data\n",
    "filename = \"banknote_authentication.csv\"\n",
    "names = ['дисперсия',\n",
    "         'асимметрия',\n",
    "         'эксцесс', 'энтропия','класс']\n",
    "dataframe = read_csv(filename, names=names)\n",
    "peek = data.head(20);peek\n",
    "array = dataframe.values\n",
    "# separate array into input and output components\n",
    "X = array[:,0:4]\n",
    "Y = array[:,4]\n",
    "# feature extraction\n",
    "pca = PCA(n_components=3)\n",
    "fit = pca.fit(X)\n",
    "# summarize components\n",
    "print(\"Explained Variance: %s\" % fit.explained_variance_ratio_)\n",
    "print(fit.components_)"
   ]
  },
  {
   "cell_type": "markdown",
   "metadata": {},
   "source": [
    "## Feature Importance"
   ]
  },
  {
   "cell_type": "code",
   "execution_count": 11,
   "metadata": {},
   "outputs": [
    {
     "name": "stdout",
     "output_type": "stream",
     "text": [
      "[0.512 0.28  0.147 0.06 ]\n"
     ]
    }
   ],
   "source": [
    "# Feature Importance with Extra Trees Classifier\n",
    "from pandas import read_csv\n",
    "from sklearn.ensemble import ExtraTreesClassifier\n",
    "# load data\n",
    "filename = \"banknote_authentication.csv\"\n",
    "names = ['дисперсия',\n",
    "         'асимметрия',\n",
    "         'эксцесс', 'энтропия','класс']\n",
    "dataframe = read_csv(filename, names=names)\n",
    "peek = data.head(20);peek\n",
    "array = dataframe.values\n",
    "# separate array into input and output components\n",
    "X = array[:,0:4]\n",
    "Y = array[:,4]\n",
    "# feature extraction\n",
    "model = ExtraTreesClassifier(n_estimators=100)\n",
    "model.fit(X, Y)\n",
    "print(model.feature_importances_)"
   ]
  },
  {
   "cell_type": "code",
   "execution_count": null,
   "metadata": {},
   "outputs": [],
   "source": []
  }
 ],
 "metadata": {
  "kernelspec": {
   "display_name": "Python 3",
   "language": "python",
   "name": "python3"
  },
  "language_info": {
   "codemirror_mode": {
    "name": "ipython",
    "version": 3
   },
   "file_extension": ".py",
   "mimetype": "text/x-python",
   "name": "python",
   "nbconvert_exporter": "python",
   "pygments_lexer": "ipython3",
   "version": "3.8.5"
  }
 },
 "nbformat": 4,
 "nbformat_minor": 4
}
