{
 "cells": [
  {
   "cell_type": "markdown",
   "metadata": {},
   "source": [
    "# Занятие 12. Проект построения модели машинного обучения для бинарной классификации"
   ]
  },
  {
   "cell_type": "markdown",
   "metadata": {},
   "source": [
    "### 1. Problem Definition, Loading the libraries and the dataset"
   ]
  },
  {
   "cell_type": "code",
   "execution_count": 1,
   "metadata": {},
   "outputs": [],
   "source": [
    "# Load libraries\n",
    "import numpy\n",
    "from matplotlib import pyplot\n",
    "from pandas import read_csv\n",
    "from pandas import set_option\n",
    "from pandas.plotting import scatter_matrix\n",
    "from sklearn.preprocessing import StandardScaler\n",
    "from sklearn.model_selection import train_test_split\n",
    "from sklearn.model_selection import KFold\n",
    "from sklearn.model_selection import cross_val_score\n",
    "from sklearn.model_selection import GridSearchCV\n",
    "from sklearn.metrics import classification_report\n",
    "from sklearn.metrics import confusion_matrix\n",
    "from sklearn.metrics import accuracy_score\n",
    "from sklearn.pipeline import Pipeline\n",
    "from sklearn.linear_model import LogisticRegression\n",
    "from sklearn.tree import DecisionTreeClassifier\n",
    "from sklearn.neighbors import KNeighborsClassifier\n",
    "from sklearn.discriminant_analysis import LinearDiscriminantAnalysis\n",
    "from sklearn.naive_bayes import GaussianNB\n",
    "from sklearn.svm import SVC\n",
    "from sklearn.ensemble import AdaBoostClassifier\n",
    "from sklearn.ensemble import GradientBoostingClassifier\n",
    "from sklearn.ensemble import RandomForestClassifier\n",
    "from sklearn.ensemble import ExtraTreesClassifier"
   ]
  },
  {
   "cell_type": "code",
   "execution_count": 2,
   "metadata": {},
   "outputs": [],
   "source": [
    "# Load dataset\n",
    "url = 'banknote_authentication.csv'\n",
    "dataset = read_csv(url, header=None)"
   ]
  },
  {
   "cell_type": "markdown",
   "metadata": {},
   "source": [
    "### 2. Analyze Data"
   ]
  },
  {
   "cell_type": "markdown",
   "metadata": {},
   "source": [
    "#### Descriptive Statistics"
   ]
  },
  {
   "cell_type": "code",
   "execution_count": 3,
   "metadata": {},
   "outputs": [
    {
     "name": "stdout",
     "output_type": "stream",
     "text": [
      "(1372, 5)\n"
     ]
    }
   ],
   "source": [
    "# shape\n",
    "print(dataset.shape)"
   ]
  },
  {
   "cell_type": "code",
   "execution_count": 4,
   "metadata": {
    "jupyter": {
     "outputs_hidden": true
    },
    "tags": []
   },
   "outputs": [
    {
     "name": "stdout",
     "output_type": "stream",
     "text": [
      "0    float64\n",
      "1    float64\n",
      "2    float64\n",
      "3    float64\n",
      "4      int64\n",
      "dtype: object\n"
     ]
    }
   ],
   "source": [
    "# types\n",
    "set_option('display.max_rows', 500)\n",
    "print(dataset.dtypes)"
   ]
  },
  {
   "cell_type": "code",
   "execution_count": 5,
   "metadata": {},
   "outputs": [
    {
     "name": "stdout",
     "output_type": "stream",
     "text": [
      "          0        1        2        3  4\n",
      "0   3.62160   8.6661 -2.80730 -0.44699  0\n",
      "1   4.54590   8.1674 -2.45860 -1.46210  0\n",
      "2   3.86600  -2.6383  1.92420  0.10645  0\n",
      "3   3.45660   9.5228 -4.01120 -3.59440  0\n",
      "4   0.32924  -4.4552  4.57180 -0.98880  0\n",
      "5   4.36840   9.6718 -3.96060 -3.16250  0\n",
      "6   3.59120   3.0129  0.72888  0.56421  0\n",
      "7   2.09220  -6.8100  8.46360 -0.60216  0\n",
      "8   3.20320   5.7588 -0.75345 -0.61251  0\n",
      "9   1.53560   9.1772 -2.27180 -0.73535  0\n",
      "10  1.22470   8.7779 -2.21350 -0.80647  0\n",
      "11  3.98990  -2.7066  2.39460  0.86291  0\n",
      "12  1.89930   7.6625  0.15394 -3.11080  0\n",
      "13 -1.57680  10.8430  2.54620 -2.93620  0\n",
      "14  3.40400   8.7261 -2.99150 -0.57242  0\n",
      "15  4.67650  -3.3895  3.48960  1.47710  0\n",
      "16  2.67190   3.0646  0.37158  0.58619  0\n",
      "17  0.80355   2.8473  4.34390  0.60170  0\n",
      "18  1.44790  -4.8794  8.34280 -2.10860  0\n",
      "19  5.24230  11.0272 -4.35300 -4.10130  0\n"
     ]
    }
   ],
   "source": [
    "# head\n",
    "set_option('display.width', 100)\n",
    "print(dataset.head(20))"
   ]
  },
  {
   "cell_type": "code",
   "execution_count": 6,
   "metadata": {},
   "outputs": [
    {
     "name": "stdout",
     "output_type": "stream",
     "text": [
      "              0         1         2         3         4\n",
      "count  1372.000  1372.000  1372.000  1372.000  1372.000\n",
      "mean      0.434     1.922     1.398    -1.192     0.445\n",
      "std       2.843     5.869     4.310     2.101     0.497\n",
      "min      -7.042   -13.773    -5.286    -8.548     0.000\n",
      "25%      -1.773    -1.708    -1.575    -2.413     0.000\n",
      "50%       0.496     2.320     0.617    -0.587     0.000\n",
      "75%       2.821     6.815     3.179     0.395     1.000\n",
      "max       6.825    12.952    17.927     2.450     1.000\n"
     ]
    }
   ],
   "source": [
    "# descriptions, change precision to 3 places\n",
    "set_option('precision', 3)\n",
    "print(dataset.describe())"
   ]
  },
  {
   "cell_type": "code",
   "execution_count": 8,
   "metadata": {},
   "outputs": [
    {
     "name": "stdout",
     "output_type": "stream",
     "text": [
      "4\n",
      "0    762\n",
      "1    610\n",
      "dtype: int64\n"
     ]
    }
   ],
   "source": [
    "# class distribution\n",
    "print(dataset.groupby(4).size())"
   ]
  },
  {
   "cell_type": "markdown",
   "metadata": {},
   "source": [
    "#### Visualization"
   ]
  },
  {
   "cell_type": "markdown",
   "metadata": {},
   "source": [
    "##### Unimodal Data Visualizations"
   ]
  },
  {
   "cell_type": "code",
   "execution_count": 9,
   "metadata": {},
   "outputs": [
    {
     "data": {
      "image/png": "[encoded data removed]",
      "text/plain": [
       "<Figure size 432x288 with 6 Axes>"
      ]
     },
     "metadata": {
      "needs_background": "light"
     },
     "output_type": "display_data"
    }
   ],
   "source": [
    "# histograms\n",
    "dataset.hist(sharex=False, sharey=False, xlabelsize=1, ylabelsize=1)\n",
    "pyplot.show()"
   ]
  },
  {
   "cell_type": "code",
   "execution_count": 10,
   "metadata": {},
   "outputs": [
    {
     "data": {
      "image/png": "[encoded data removed]",
      "text/plain": [
       "<Figure size 432x288 with 64 Axes>"
      ]
     },
     "metadata": {
      "needs_background": "light"
     },
     "output_type": "display_data"
    }
   ],
   "source": [
    "# density\n",
    "dataset.plot(kind='density', subplots=True, layout=(8,8), sharex=False, legend=False,\n",
    "fontsize=1)\n",
    "pyplot.show()"
   ]
  },
  {
   "cell_type": "markdown",
   "metadata": {},
   "source": [
    "##### Multimodal Data Visualizations"
   ]
  },
  {
   "cell_type": "code",
   "execution_count": 11,
   "metadata": {},
   "outputs": [
    {
     "data": {
      "image/png": "[encoded data removed]",
      "text/plain": [
       "<Figure size 432x288 with 2 Axes>"
      ]
     },
     "metadata": {
      "needs_background": "light"
     },
     "output_type": "display_data"
    }
   ],
   "source": [
    "# correlation matrix\n",
    "fig = pyplot.figure()\n",
    "ax = fig.add_subplot(111)\n",
    "cax = ax.matshow(dataset.corr(), vmin=-1, vmax=1, interpolation='none')\n",
    "fig.colorbar(cax)\n",
    "pyplot.show()"
   ]
  },
  {
   "cell_type": "markdown",
   "metadata": {},
   "source": [
    "### 3. Validation Dataset"
   ]
  },
  {
   "cell_type": "code",
   "execution_count": 13,
   "metadata": {},
   "outputs": [],
   "source": [
    "# Split-out validation dataset\n",
    "array = dataset.values\n",
    "X = array[:,0:4].astype(float)\n",
    "Y = array[:,4]\n",
    "validation_size = 0.20\n",
    "seed = 7\n",
    "X_train, X_validation, Y_train, Y_validation = train_test_split(X, Y,\n",
    "test_size=validation_size, random_state=seed)"
   ]
  },
  {
   "cell_type": "markdown",
   "metadata": {},
   "source": [
    "### 4. Evaluate Algorithms: Baseline"
   ]
  },
  {
   "cell_type": "code",
   "execution_count": 14,
   "metadata": {},
   "outputs": [],
   "source": [
    "# Test options and evaluation metric\n",
    "num_folds = 10\n",
    "seed = 7\n",
    "scoring = 'accuracy'"
   ]
  },
  {
   "cell_type": "code",
   "execution_count": 15,
   "metadata": {},
   "outputs": [],
   "source": [
    "# Spot-Check Algorithms\n",
    "models = []\n",
    "models.append(('LR', LogisticRegression(solver='liblinear')))\n",
    "models.append(('LDA', LinearDiscriminantAnalysis()))\n",
    "models.append(('KNN', KNeighborsClassifier()))\n",
    "models.append(('CART', DecisionTreeClassifier()))\n",
    "models.append(('NB', GaussianNB()))\n",
    "models.append(('SVM', SVC(gamma='auto')))"
   ]
  },
  {
   "cell_type": "code",
   "execution_count": 16,
   "metadata": {},
   "outputs": [
    {
     "name": "stdout",
     "output_type": "stream",
     "text": [
      "LR: 0.991802 (0.004899)\n",
      "LDA: 0.976330 (0.015849)\n",
      "KNN: 1.000000 (0.000000)\n",
      "CART: 0.981735 (0.010870)\n",
      "NB: 0.843186 (0.027513)\n",
      "SVM: 1.000000 (0.000000)\n"
     ]
    }
   ],
   "source": [
    "results = []\n",
    "names = []\n",
    "for name, model in models:\n",
    "    kfold = KFold(n_splits=num_folds, random_state=seed, shuffle=True)\n",
    "    cv_results = cross_val_score(model, X_train, Y_train, cv=kfold, scoring=scoring)\n",
    "    results.append(cv_results)\n",
    "    names.append(name)\n",
    "    msg = \"%s: %f (%f)\" % (name, cv_results.mean(), cv_results.std())\n",
    "    print(msg)"
   ]
  },
  {
   "cell_type": "code",
   "execution_count": 17,
   "metadata": {},
   "outputs": [
    {
     "data": {
      "image/png": "[encoded data removed]",
      "text/plain": [
       "<Figure size 432x288 with 1 Axes>"
      ]
     },
     "metadata": {
      "needs_background": "light"
     },
     "output_type": "display_data"
    }
   ],
   "source": [
    "# Compare Algorithms\n",
    "fig = pyplot.figure()\n",
    "fig.suptitle('Algorithm Comparison')\n",
    "ax = fig.add_subplot(111)\n",
    "pyplot.boxplot(results)\n",
    "ax.set_xticklabels(names)\n",
    "pyplot.show()"
   ]
  },
  {
   "cell_type": "markdown",
   "metadata": {},
   "source": [
    "### 5. Evaluate Algorithms: Standardize Data"
   ]
  },
  {
   "cell_type": "code",
   "execution_count": 18,
   "metadata": {},
   "outputs": [
    {
     "name": "stdout",
     "output_type": "stream",
     "text": [
      "ScaledLR: 0.982711 (0.011807)\n",
      "ScaledLDA: 0.976330 (0.015849)\n",
      "ScaledKNN: 0.997256 (0.004192)\n",
      "ScaledCART: 0.980826 (0.011200)\n",
      "ScaledNB: 0.843186 (0.027513)\n",
      "ScaledSVM: 0.998182 (0.005455)\n"
     ]
    }
   ],
   "source": [
    "# Standardize the dataset\n",
    "pipelines = []\n",
    "pipelines.append(('ScaledLR', Pipeline([('Scaler', StandardScaler()),('LR',\n",
    "LogisticRegression(solver='liblinear'))])))\n",
    "pipelines.append(('ScaledLDA', Pipeline([('Scaler', StandardScaler()),('LDA',\n",
    "LinearDiscriminantAnalysis())])))\n",
    "pipelines.append(('ScaledKNN', Pipeline([('Scaler', StandardScaler()),('KNN',\n",
    "KNeighborsClassifier())])))\n",
    "pipelines.append(('ScaledCART', Pipeline([('Scaler', StandardScaler()),('CART',\n",
    "DecisionTreeClassifier())])))\n",
    "pipelines.append(('ScaledNB', Pipeline([('Scaler', StandardScaler()),('NB',\n",
    "GaussianNB())])))\n",
    "pipelines.append(('ScaledSVM', Pipeline([('Scaler', StandardScaler()),('SVM',\n",
    "SVC(gamma='auto'))])))\n",
    "results = []\n",
    "names = []\n",
    "for name, model in pipelines:\n",
    "    kfold = KFold(n_splits=num_folds, random_state=seed, shuffle=True)\n",
    "    cv_results = cross_val_score(model, X_train, Y_train, cv=kfold, scoring=scoring)\n",
    "    results.append(cv_results)\n",
    "    names.append(name)\n",
    "    msg = \"%s: %f (%f)\" % (name, cv_results.mean(), cv_results.std())\n",
    "    print(msg)"
   ]
  },
  {
   "cell_type": "code",
   "execution_count": 19,
   "metadata": {},
   "outputs": [
    {
     "data": {
      "image/png": "[encoded data removed]",
      "text/plain": [
       "<Figure size 432x288 with 1 Axes>"
      ]
     },
     "metadata": {
      "needs_background": "light"
     },
     "output_type": "display_data"
    }
   ],
   "source": [
    "# Compare Algorithms\n",
    "fig = pyplot.figure()\n",
    "fig.suptitle('Scaled Algorithm Comparison')\n",
    "ax = fig.add_subplot(111)\n",
    "pyplot.boxplot(results)\n",
    "ax.set_xticklabels(names)\n",
    "pyplot.show()"
   ]
  },
  {
   "cell_type": "markdown",
   "metadata": {},
   "source": [
    "### 6. Algorithm Tuning"
   ]
  },
  {
   "cell_type": "code",
   "execution_count": 20,
   "metadata": {},
   "outputs": [
    {
     "name": "stdout",
     "output_type": "stream",
     "text": [
      "Best: 0.998165 using {'n_neighbors': 3}\n",
      "0.997256 (0.004192) with: {'n_neighbors': 1}\n",
      "0.998165 (0.003670) with: {'n_neighbors': 3}\n",
      "0.997256 (0.004192) with: {'n_neighbors': 5}\n",
      "0.998165 (0.003670) with: {'n_neighbors': 7}\n",
      "0.998165 (0.003670) with: {'n_neighbors': 9}\n",
      "0.995438 (0.008391) with: {'n_neighbors': 11}\n",
      "0.993620 (0.009141) with: {'n_neighbors': 13}\n",
      "0.991810 (0.008577) with: {'n_neighbors': 15}\n",
      "0.991810 (0.008577) with: {'n_neighbors': 17}\n",
      "0.991810 (0.008577) with: {'n_neighbors': 19}\n",
      "0.990901 (0.010757) with: {'n_neighbors': 21}\n"
     ]
    }
   ],
   "source": [
    "# Tune scaled KNN\n",
    "scaler = StandardScaler().fit(X_train)\n",
    "rescaledX = scaler.transform(X_train)\n",
    "neighbors = [1,3,5,7,9,11,13,15,17,19,21]\n",
    "param_grid = dict(n_neighbors=neighbors)\n",
    "model = KNeighborsClassifier()\n",
    "kfold = KFold(n_splits=num_folds, random_state=seed, shuffle=True)\n",
    "grid = GridSearchCV(estimator=model, param_grid=param_grid, scoring=scoring, cv=kfold)\n",
    "grid_result = grid.fit(rescaledX, Y_train)\n",
    "print(\"Best: %f using %s\" % (grid_result.best_score_, grid_result.best_params_))\n",
    "means = grid_result.cv_results_['mean_test_score']\n",
    "stds = grid_result.cv_results_['std_test_score']\n",
    "params = grid_result.cv_results_['params']\n",
    "for mean, stdev, param in zip(means, stds, params):\n",
    "    print(\"%f (%f) with: %r\" % (mean, stdev, param))"
   ]
  },
  {
   "cell_type": "code",
   "execution_count": 21,
   "metadata": {},
   "outputs": [
    {
     "name": "stdout",
     "output_type": "stream",
     "text": [
      "Best: 1.000000 using {'C': 1.3, 'kernel': 'rbf'}\n",
      "0.982711 (0.011807) with: {'C': 0.1, 'kernel': 'linear'}\n",
      "0.940709 (0.026241) with: {'C': 0.1, 'kernel': 'poly'}\n",
      "0.988173 (0.010793) with: {'C': 0.1, 'kernel': 'rbf'}\n",
      "0.851351 (0.033958) with: {'C': 0.1, 'kernel': 'sigmoid'}\n",
      "0.986355 (0.012362) with: {'C': 0.3, 'kernel': 'linear'}\n",
      "0.978140 (0.014756) with: {'C': 0.3, 'kernel': 'poly'}\n",
      "0.992727 (0.008907) with: {'C': 0.3, 'kernel': 'rbf'}\n",
      "0.811293 (0.037035) with: {'C': 0.3, 'kernel': 'sigmoid'}\n",
      "0.986355 (0.012362) with: {'C': 0.5, 'kernel': 'linear'}\n",
      "0.987248 (0.010129) with: {'C': 0.5, 'kernel': 'poly'}\n",
      "0.995455 (0.007329) with: {'C': 0.5, 'kernel': 'rbf'}\n",
      "0.802185 (0.034895) with: {'C': 0.5, 'kernel': 'sigmoid'}\n",
      "0.986355 (0.012362) with: {'C': 0.7, 'kernel': 'linear'}\n",
      "0.985430 (0.010911) with: {'C': 0.7, 'kernel': 'poly'}\n",
      "0.997273 (0.005821) with: {'C': 0.7, 'kernel': 'rbf'}\n",
      "0.793995 (0.039751) with: {'C': 0.7, 'kernel': 'sigmoid'}\n",
      "0.986355 (0.012362) with: {'C': 0.9, 'kernel': 'linear'}\n",
      "0.985430 (0.010911) with: {'C': 0.9, 'kernel': 'poly'}\n",
      "0.996364 (0.007273) with: {'C': 0.9, 'kernel': 'rbf'}\n",
      "0.787631 (0.041065) with: {'C': 0.9, 'kernel': 'sigmoid'}\n",
      "0.986355 (0.012362) with: {'C': 1.0, 'kernel': 'linear'}\n",
      "0.985430 (0.010911) with: {'C': 1.0, 'kernel': 'poly'}\n",
      "0.998182 (0.005455) with: {'C': 1.0, 'kernel': 'rbf'}\n",
      "0.787623 (0.041132) with: {'C': 1.0, 'kernel': 'sigmoid'}\n",
      "0.986355 (0.012362) with: {'C': 1.3, 'kernel': 'linear'}\n",
      "0.987248 (0.008339) with: {'C': 1.3, 'kernel': 'poly'}\n",
      "1.000000 (0.000000) with: {'C': 1.3, 'kernel': 'rbf'}\n",
      "0.780325 (0.041815) with: {'C': 1.3, 'kernel': 'sigmoid'}\n",
      "0.986355 (0.012362) with: {'C': 1.5, 'kernel': 'linear'}\n",
      "0.987248 (0.008339) with: {'C': 1.5, 'kernel': 'poly'}\n",
      "1.000000 (0.000000) with: {'C': 1.5, 'kernel': 'rbf'}\n",
      "0.776664 (0.040035) with: {'C': 1.5, 'kernel': 'sigmoid'}\n",
      "0.986355 (0.012362) with: {'C': 1.7, 'kernel': 'linear'}\n",
      "0.989066 (0.006819) with: {'C': 1.7, 'kernel': 'poly'}\n",
      "1.000000 (0.000000) with: {'C': 1.7, 'kernel': 'rbf'}\n",
      "0.775763 (0.042203) with: {'C': 1.7, 'kernel': 'sigmoid'}\n",
      "0.986355 (0.012362) with: {'C': 2.0, 'kernel': 'linear'}\n",
      "0.989066 (0.006819) with: {'C': 2.0, 'kernel': 'poly'}\n",
      "1.000000 (0.000000) with: {'C': 2.0, 'kernel': 'rbf'}\n",
      "0.773019 (0.039233) with: {'C': 2.0, 'kernel': 'sigmoid'}\n"
     ]
    }
   ],
   "source": [
    "# Tune scaled SVM\n",
    "scaler = StandardScaler().fit(X_train)\n",
    "rescaledX = scaler.transform(X_train)\n",
    "c_values = [0.1, 0.3, 0.5, 0.7, 0.9, 1.0, 1.3, 1.5, 1.7, 2.0]\n",
    "kernel_values = ['linear', 'poly', 'rbf', 'sigmoid']\n",
    "param_grid = dict(C=c_values, kernel=kernel_values)\n",
    "model = SVC(gamma='auto')\n",
    "kfold = KFold(n_splits=num_folds, random_state=seed, shuffle=True)\n",
    "grid = GridSearchCV(estimator=model, param_grid=param_grid, scoring=scoring, cv=kfold)\n",
    "grid_result = grid.fit(rescaledX, Y_train)\n",
    "print(\"Best: %f using %s\" % (grid_result.best_score_, grid_result.best_params_))\n",
    "means = grid_result.cv_results_['mean_test_score']\n",
    "stds = grid_result.cv_results_['std_test_score']\n",
    "params = grid_result.cv_results_['params']\n",
    "for mean, stdev, param in zip(means, stds, params):\n",
    "    print(\"%f (%f) with: %r\" % (mean, stdev, param))"
   ]
  },
  {
   "cell_type": "markdown",
   "metadata": {},
   "source": [
    "### 7. Ensemble Methods"
   ]
  },
  {
   "cell_type": "code",
   "execution_count": 22,
   "metadata": {},
   "outputs": [
    {
     "name": "stdout",
     "output_type": "stream",
     "text": [
      "AB: 0.997264 (0.004179)\n",
      "GBM: 0.992694 (0.008965)\n",
      "RF: 0.990876 (0.009141)\n",
      "ET: 0.996339 (0.006078)\n"
     ]
    }
   ],
   "source": [
    "# ensembles\n",
    "ensembles = []\n",
    "ensembles.append(('AB', AdaBoostClassifier()))\n",
    "ensembles.append(('GBM', GradientBoostingClassifier()))\n",
    "ensembles.append(('RF', RandomForestClassifier(n_estimators=10)))\n",
    "ensembles.append(('ET', ExtraTreesClassifier(n_estimators=10)))\n",
    "results = []\n",
    "names = []\n",
    "for name, model in ensembles:\n",
    "    kfold = KFold(n_splits=num_folds, random_state=seed, shuffle=True)\n",
    "    cv_results = cross_val_score(model, X_train, Y_train, cv=kfold, scoring=scoring)\n",
    "    results.append(cv_results)\n",
    "    names.append(name)\n",
    "    msg = \"%s: %f (%f)\" % (name, cv_results.mean(), cv_results.std())\n",
    "    print(msg)"
   ]
  },
  {
   "cell_type": "code",
   "execution_count": 23,
   "metadata": {},
   "outputs": [
    {
     "data": {
      "image/png": "[encoded data removed]",
      "text/plain": [
       "<Figure size 432x288 with 1 Axes>"
      ]
     },
     "metadata": {
      "needs_background": "light"
     },
     "output_type": "display_data"
    }
   ],
   "source": [
    "# Compare Algorithms\n",
    "fig = pyplot.figure()\n",
    "fig.suptitle('Ensemble Algorithm Comparison')\n",
    "ax = fig.add_subplot(111)\n",
    "pyplot.boxplot(results)\n",
    "ax.set_xticklabels(names)\n",
    "pyplot.show()"
   ]
  },
  {
   "cell_type": "markdown",
   "metadata": {},
   "source": [
    "### 8. Finalize Model"
   ]
  },
  {
   "cell_type": "code",
   "execution_count": 24,
   "metadata": {},
   "outputs": [
    {
     "name": "stdout",
     "output_type": "stream",
     "text": [
      "1.0\n",
      "[[158   0]\n",
      " [  0 117]]\n",
      "              precision    recall  f1-score   support\n",
      "\n",
      "         0.0       1.00      1.00      1.00       158\n",
      "         1.0       1.00      1.00      1.00       117\n",
      "\n",
      "    accuracy                           1.00       275\n",
      "   macro avg       1.00      1.00      1.00       275\n",
      "weighted avg       1.00      1.00      1.00       275\n",
      "\n"
     ]
    }
   ],
   "source": [
    "# prepare the model\n",
    "scaler = StandardScaler().fit(X_train)\n",
    "rescaledX = scaler.transform(X_train)\n",
    "model = SVC(C=1.5)\n",
    "model.fit(rescaledX, Y_train)\n",
    "# estimate accuracy on validation dataset\n",
    "rescaledValidationX = scaler.transform(X_validation)\n",
    "predictions = model.predict(rescaledValidationX)\n",
    "print(accuracy_score(Y_validation, predictions))\n",
    "print(confusion_matrix(Y_validation, predictions))\n",
    "print(classification_report(Y_validation, predictions))"
   ]
  },
  {
   "cell_type": "code",
   "execution_count": null,
   "metadata": {},
   "outputs": [],
   "source": []
  }
 ],
 "metadata": {
  "kernelspec": {
   "display_name": "Python 3",
   "language": "python",
   "name": "python3"
  },
  "language_info": {
   "codemirror_mode": {
    "name": "ipython",
    "version": 3
   },
   "file_extension": ".py",
   "mimetype": "text/x-python",
   "name": "python",
   "nbconvert_exporter": "python",
   "pygments_lexer": "ipython3",
   "version": "3.8.5"
  }
 },
 "nbformat": 4,
 "nbformat_minor": 5
}
