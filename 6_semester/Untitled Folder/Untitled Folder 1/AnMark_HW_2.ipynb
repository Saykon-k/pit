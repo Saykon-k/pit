{
 "cells": [
  {
   "cell_type": "markdown",
   "metadata": {},
   "source": [
    "## Задание №2. Проверка статистических гипотез "
   ]
  },
  {
   "cell_type": "markdown",
   "metadata": {},
   "source": [
    "Веберите любые данные из репозитория данных для машинного обучения (UCI Machine learning repository: http://archive.ics.uci.edu/ml/index.php) или возьмите свои данные и проверьте для них различные статистические гипотезы в соответствии со следующей схемой. Комментарии к каждому разделу обязательны. Возможно применения разных наборов данных для проверки разных гипотез."
   ]
  },
  {
   "cell_type": "raw",
   "metadata": {},
   "source": [
    "Выдвигается две гипотезы, которые исходят из дата сета \n",
    "1 - нормально распределение оценок \n",
    "2 - не нормально распределение оценок"
   ]
  },
  {
   "cell_type": "markdown",
   "metadata": {},
   "source": [
    "# Критерий согласия Пирсона ( $\\chi^2$)¶\n"
   ]
  },
  {
   "cell_type": "code",
   "execution_count": 1,
   "metadata": {},
   "outputs": [
    {
     "name": "stdout",
     "output_type": "stream",
     "text": [
      "Populating the interactive namespace from numpy and matplotlib\n"
     ]
    }
   ],
   "source": [
    "import numpy as np\n",
    "import pandas as pd\n",
    "from pandas import read_csv\n",
    "from scipy import stats\n",
    "from pandas import set_option\n",
    "import scipy\n",
    "%pylab inline\n"
   ]
  },
  {
   "cell_type": "code",
   "execution_count": 2,
   "metadata": {},
   "outputs": [
    {
     "name": "stdout",
     "output_type": "stream",
     "text": [
      "       Unnamed: 0  season  episode     start  average_rating\n",
      "count     958.000   958.0  958.000   958.000         958.000\n",
      "mean      478.500     1.0  479.500  2010.232           7.797\n",
      "std       276.695     0.0  276.695     6.050           0.590\n",
      "min         0.000     1.0    1.000  1999.000           5.600\n",
      "25%       239.250     1.0  240.250  2005.000           7.500\n",
      "50%       478.500     1.0  479.500  2010.000           7.800\n",
      "75%       717.750     1.0  718.750  2015.000           8.200\n",
      "max       957.000     1.0  958.000  2021.000           9.600\n"
     ]
    }
   ],
   "source": [
    "data = pd.read_csv('ONE PIECE.csv', sep = ',')\n",
    "set_option('display.width', 100)\n",
    "set_option('precision', 3)\n",
    "description = data.describe()\n",
    "print(description)"
   ]
  },
  {
   "cell_type": "raw",
   "metadata": {},
   "source": [
    "# исходя из анализа дата сета можно увидеть, что минимальный средний рейтинг эпизода - 5.6, а \n",
    "разделим на некоторые интервалы \n",
    "1 - от 5.6 до 5.9\n",
    "2 - от 5.9 до 6.2\n",
    "3 - от 6.2 до 6.5\n",
    "4 - от 6.5 до 6.8\n",
    "5 - от 6.8 до 7.1\n",
    "6 - от 7.1 до 7.4\n",
    "7 - от 7.4 до 7.7\n",
    "9 - от 7.7 до 8.1\n",
    "10 - от 8.1 до 8.4\n",
    "11 - от 8.4 до 8.7\n",
    "12 - от 9.0 до 9.3\n",
    "13 - от 9.3 до 9.6"
   ]
  },
  {
   "cell_type": "code",
   "execution_count": 3,
   "metadata": {},
   "outputs": [],
   "source": [
    "data_rating = data['average_rating']\n",
    "data_tet = [0 for i in range(13)]\n",
    "for i in data_rating:\n",
    "    number = 5.6\n",
    "    for j in range(13):\n",
    "        if  number  <= i < number + 0.3 :\n",
    "            data_tet[j] +=1\n",
    "            break\n",
    "        number+=0.3"
   ]
  },
  {
   "cell_type": "code",
   "execution_count": 4,
   "metadata": {},
   "outputs": [
    {
     "data": {
      "text/plain": [
       "[2, 7, 13, 29, 38, 85, 179, 243, 167, 111, 49, 30, 4]"
      ]
     },
     "execution_count": 4,
     "metadata": {},
     "output_type": "execute_result"
    }
   ],
   "source": [
    "data_tet"
   ]
  },
  {
   "cell_type": "code",
   "execution_count": 5,
   "metadata": {},
   "outputs": [
    {
     "data": {
      "text/plain": [
       "<matplotlib.legend.Legend at 0x7fe0598ae130>"
      ]
     },
     "execution_count": 5,
     "metadata": {},
     "output_type": "execute_result"
    },
    {
     "data": {
      "image/png": "[encoded data removed]",
      "text/plain": [
       "<Figure size 432x288 with 1 Axes>"
      ]
     },
     "metadata": {
      "needs_background": "light"
     },
     "output_type": "display_data"
    }
   ],
   "source": [
    "pylab.bar(range(len(data_tet)), data_tet, color = 'b', label = 'fertility_stat')\n",
    "pylab.legend()"
   ]
  },
  {
   "cell_type": "raw",
   "metadata": {},
   "source": [
    "ось Y - количество запросов\n",
    "ось Х - интервалы, которые были расписаны выше"
   ]
  },
  {
   "cell_type": "code",
   "execution_count": 6,
   "metadata": {},
   "outputs": [
    {
     "data": {
      "text/plain": [
       "7.796555323590819"
      ]
     },
     "execution_count": 6,
     "metadata": {},
     "output_type": "execute_result"
    }
   ],
   "source": [
    "l = np.mean(data_rating);l"
   ]
  },
  {
   "cell_type": "code",
   "execution_count": 7,
   "metadata": {},
   "outputs": [
    {
     "data": {
      "text/plain": [
       "array([  2,   7,  13,  29,  38,  85, 179, 243, 167, 111,  49,  30,   4])"
      ]
     },
     "execution_count": 7,
     "metadata": {},
     "output_type": "execute_result"
    }
   ],
   "source": [
    "observed_frequences = np.array(data_tet)\n",
    "observed_frequences"
   ]
  },
  {
   "cell_type": "code",
   "execution_count": 8,
   "metadata": {},
   "outputs": [
    {
     "data": {
      "text/plain": [
       "<matplotlib.legend.Legend at 0x7fe05baaa700>"
      ]
     },
     "execution_count": 8,
     "metadata": {},
     "output_type": "execute_result"
    },
    {
     "data": {
      "image/png": "[encoded data removed]",
      "text/plain": [
       "<Figure size 432x288 with 1 Axes>"
      ]
     },
     "metadata": {
      "needs_background": "light"
     },
     "output_type": "display_data"
    }
   ],
   "source": [
    "data_prom = [round(x) for x in data_rating]\n",
    "expected_frequences = [len(data_rating)*stats.poisson.pmf(x, l) \n",
    "                           for x in np.arange(0,13)]\n",
    "pylab.bar(range(len(expected_frequences)), expected_frequences, color = 'b', label = 'poisson_distr')\n",
    "pylab.legend()"
   ]
  },
  {
   "cell_type": "code",
   "execution_count": 9,
   "metadata": {},
   "outputs": [
    {
     "data": {
      "text/plain": [
       "Power_divergenceResult(statistic=208.40104641171234, pvalue=1.3391383047583843e-38)"
      ]
     },
     "execution_count": 9,
     "metadata": {},
     "output_type": "execute_result"
    }
   ],
   "source": [
    "stats.chisquare(observed_frequences, expected_frequences, ddof = 1)"
   ]
  },
  {
   "cell_type": "markdown",
   "metadata": {},
   "source": [
    "## Проверка гипотезы о независимости метрических признаков (корреляция Пирсона)"
   ]
  },
  {
   "cell_type": "code",
   "execution_count": 10,
   "metadata": {},
   "outputs": [
    {
     "data": {
      "text/html": [
       "<div>\n",
       "<style scoped>\n",
       "    .dataframe tbody tr th:only-of-type {\n",
       "        vertical-align: middle;\n",
       "    }\n",
       "\n",
       "    .dataframe tbody tr th {\n",
       "        vertical-align: top;\n",
       "    }\n",
       "\n",
       "    .dataframe thead th {\n",
       "        text-align: right;\n",
       "    }\n",
       "</style>\n",
       "<table border=\"1\" class=\"dataframe\">\n",
       "  <thead>\n",
       "    <tr style=\"text-align: right;\">\n",
       "      <th></th>\n",
       "      <th>дисперсия</th>\n",
       "      <th>асимметрия</th>\n",
       "      <th>эксцесс</th>\n",
       "      <th>энтропия</th>\n",
       "      <th>класс</th>\n",
       "    </tr>\n",
       "  </thead>\n",
       "  <tbody>\n",
       "    <tr>\n",
       "      <th>0</th>\n",
       "      <td>3.622</td>\n",
       "      <td>8.666</td>\n",
       "      <td>-2.807</td>\n",
       "      <td>-0.447</td>\n",
       "      <td>0</td>\n",
       "    </tr>\n",
       "    <tr>\n",
       "      <th>1</th>\n",
       "      <td>4.546</td>\n",
       "      <td>8.167</td>\n",
       "      <td>-2.459</td>\n",
       "      <td>-1.462</td>\n",
       "      <td>0</td>\n",
       "    </tr>\n",
       "    <tr>\n",
       "      <th>2</th>\n",
       "      <td>3.866</td>\n",
       "      <td>-2.638</td>\n",
       "      <td>1.924</td>\n",
       "      <td>0.106</td>\n",
       "      <td>0</td>\n",
       "    </tr>\n",
       "    <tr>\n",
       "      <th>3</th>\n",
       "      <td>3.457</td>\n",
       "      <td>9.523</td>\n",
       "      <td>-4.011</td>\n",
       "      <td>-3.594</td>\n",
       "      <td>0</td>\n",
       "    </tr>\n",
       "    <tr>\n",
       "      <th>4</th>\n",
       "      <td>0.329</td>\n",
       "      <td>-4.455</td>\n",
       "      <td>4.572</td>\n",
       "      <td>-0.989</td>\n",
       "      <td>0</td>\n",
       "    </tr>\n",
       "    <tr>\n",
       "      <th>5</th>\n",
       "      <td>4.368</td>\n",
       "      <td>9.672</td>\n",
       "      <td>-3.961</td>\n",
       "      <td>-3.163</td>\n",
       "      <td>0</td>\n",
       "    </tr>\n",
       "    <tr>\n",
       "      <th>6</th>\n",
       "      <td>3.591</td>\n",
       "      <td>3.013</td>\n",
       "      <td>0.729</td>\n",
       "      <td>0.564</td>\n",
       "      <td>0</td>\n",
       "    </tr>\n",
       "    <tr>\n",
       "      <th>7</th>\n",
       "      <td>2.092</td>\n",
       "      <td>-6.810</td>\n",
       "      <td>8.464</td>\n",
       "      <td>-0.602</td>\n",
       "      <td>0</td>\n",
       "    </tr>\n",
       "    <tr>\n",
       "      <th>8</th>\n",
       "      <td>3.203</td>\n",
       "      <td>5.759</td>\n",
       "      <td>-0.753</td>\n",
       "      <td>-0.613</td>\n",
       "      <td>0</td>\n",
       "    </tr>\n",
       "    <tr>\n",
       "      <th>9</th>\n",
       "      <td>1.536</td>\n",
       "      <td>9.177</td>\n",
       "      <td>-2.272</td>\n",
       "      <td>-0.735</td>\n",
       "      <td>0</td>\n",
       "    </tr>\n",
       "    <tr>\n",
       "      <th>10</th>\n",
       "      <td>1.225</td>\n",
       "      <td>8.778</td>\n",
       "      <td>-2.213</td>\n",
       "      <td>-0.806</td>\n",
       "      <td>0</td>\n",
       "    </tr>\n",
       "    <tr>\n",
       "      <th>11</th>\n",
       "      <td>3.990</td>\n",
       "      <td>-2.707</td>\n",
       "      <td>2.395</td>\n",
       "      <td>0.863</td>\n",
       "      <td>0</td>\n",
       "    </tr>\n",
       "    <tr>\n",
       "      <th>12</th>\n",
       "      <td>1.899</td>\n",
       "      <td>7.662</td>\n",
       "      <td>0.154</td>\n",
       "      <td>-3.111</td>\n",
       "      <td>0</td>\n",
       "    </tr>\n",
       "    <tr>\n",
       "      <th>13</th>\n",
       "      <td>-1.577</td>\n",
       "      <td>10.843</td>\n",
       "      <td>2.546</td>\n",
       "      <td>-2.936</td>\n",
       "      <td>0</td>\n",
       "    </tr>\n",
       "    <tr>\n",
       "      <th>14</th>\n",
       "      <td>3.404</td>\n",
       "      <td>8.726</td>\n",
       "      <td>-2.991</td>\n",
       "      <td>-0.572</td>\n",
       "      <td>0</td>\n",
       "    </tr>\n",
       "    <tr>\n",
       "      <th>15</th>\n",
       "      <td>4.676</td>\n",
       "      <td>-3.389</td>\n",
       "      <td>3.490</td>\n",
       "      <td>1.477</td>\n",
       "      <td>0</td>\n",
       "    </tr>\n",
       "    <tr>\n",
       "      <th>16</th>\n",
       "      <td>2.672</td>\n",
       "      <td>3.065</td>\n",
       "      <td>0.372</td>\n",
       "      <td>0.586</td>\n",
       "      <td>0</td>\n",
       "    </tr>\n",
       "    <tr>\n",
       "      <th>17</th>\n",
       "      <td>0.804</td>\n",
       "      <td>2.847</td>\n",
       "      <td>4.344</td>\n",
       "      <td>0.602</td>\n",
       "      <td>0</td>\n",
       "    </tr>\n",
       "    <tr>\n",
       "      <th>18</th>\n",
       "      <td>1.448</td>\n",
       "      <td>-4.879</td>\n",
       "      <td>8.343</td>\n",
       "      <td>-2.109</td>\n",
       "      <td>0</td>\n",
       "    </tr>\n",
       "    <tr>\n",
       "      <th>19</th>\n",
       "      <td>5.242</td>\n",
       "      <td>11.027</td>\n",
       "      <td>-4.353</td>\n",
       "      <td>-4.101</td>\n",
       "      <td>0</td>\n",
       "    </tr>\n",
       "  </tbody>\n",
       "</table>\n",
       "</div>"
      ],
      "text/plain": [
       "    дисперсия  асимметрия  эксцесс  энтропия  класс\n",
       "0       3.622       8.666   -2.807    -0.447      0\n",
       "1       4.546       8.167   -2.459    -1.462      0\n",
       "2       3.866      -2.638    1.924     0.106      0\n",
       "3       3.457       9.523   -4.011    -3.594      0\n",
       "4       0.329      -4.455    4.572    -0.989      0\n",
       "5       4.368       9.672   -3.961    -3.163      0\n",
       "6       3.591       3.013    0.729     0.564      0\n",
       "7       2.092      -6.810    8.464    -0.602      0\n",
       "8       3.203       5.759   -0.753    -0.613      0\n",
       "9       1.536       9.177   -2.272    -0.735      0\n",
       "10      1.225       8.778   -2.213    -0.806      0\n",
       "11      3.990      -2.707    2.395     0.863      0\n",
       "12      1.899       7.662    0.154    -3.111      0\n",
       "13     -1.577      10.843    2.546    -2.936      0\n",
       "14      3.404       8.726   -2.991    -0.572      0\n",
       "15      4.676      -3.389    3.490     1.477      0\n",
       "16      2.672       3.065    0.372     0.586      0\n",
       "17      0.804       2.847    4.344     0.602      0\n",
       "18      1.448      -4.879    8.343    -2.109      0\n",
       "19      5.242      11.027   -4.353    -4.101      0"
      ]
     },
     "execution_count": 10,
     "metadata": {},
     "output_type": "execute_result"
    }
   ],
   "source": [
    "filename = \"banknote_authentication.csv\"\n",
    "names = ['дисперсия',\n",
    "         'асимметрия',\n",
    "         'эксцесс', 'энтропия','класс']\n",
    "data = read_csv(filename, names=names)\n",
    "peek = data.head(20);peek"
   ]
  },
  {
   "cell_type": "markdown",
   "metadata": {},
   "source": [
    "## Проверка гипотезы о независимости ранговых признаков (корреляции Спирмена, Кендалла)"
   ]
  },
  {
   "cell_type": "code",
   "execution_count": 11,
   "metadata": {},
   "outputs": [],
   "source": [
    "#кендал"
   ]
  },
  {
   "cell_type": "code",
   "execution_count": 12,
   "metadata": {},
   "outputs": [],
   "source": [
    "dict_kendal = {}\n",
    "for i in names[:-1]:\n",
    "    for j in names[:-1]:\n",
    "        if not f\"{i} - {j}\" in dict_kendal.keys() and  not f\"{j} - {i}\" in dict_kendal.keys() and i != j : \n",
    "            dict_kendal[f'{i} - {j}'] = scipy.stats.kendalltau(data[i],data[j])"
   ]
  },
  {
   "cell_type": "code",
   "execution_count": 13,
   "metadata": {},
   "outputs": [
    {
     "data": {
      "text/plain": [
       "{'дисперсия - асимметрия': KendalltauResult(correlation=0.18055421918610118, pvalue=1.2720784640615347e-23),\n",
       " 'дисперсия - эксцесс': KendalltauResult(correlation=-0.22645475996517603, pvalue=3.299764406520118e-36),\n",
       " 'дисперсия - энтропия': KendalltauResult(correlation=0.16735409538613258, pvalue=1.619204142965763e-20),\n",
       " 'асимметрия - эксцесс': KendalltauResult(correlation=-0.5524511480070493, pvalue=2.566833123691207e-206),\n",
       " 'асимметрия - энтропия': KendalltauResult(correlation=-0.390602301859174, pvalue=3.967395430852926e-104),\n",
       " 'эксцесс - энтропия': KendalltauResult(correlation=0.2836363837924914, pvalue=8.625081450863432e-56)}"
      ]
     },
     "execution_count": 13,
     "metadata": {},
     "output_type": "execute_result"
    }
   ],
   "source": [
    "dict_kendal"
   ]
  },
  {
   "cell_type": "code",
   "execution_count": 14,
   "metadata": {},
   "outputs": [],
   "source": [
    "dict_pirson = {}\n",
    "for i in names[:-1]:\n",
    "    for j in names[:-1]:\n",
    "        if not f\"{i} - {j}\" in dict_kendal.keys() and  not f\"{j} - {i}\" in dict_pirson.keys() and i != j : \n",
    "            dict_pirson[f'{i} - {j}'] = scipy.stats.pearsonr(data[i],data[j])"
   ]
  },
  {
   "cell_type": "code",
   "execution_count": 15,
   "metadata": {},
   "outputs": [
    {
     "data": {
      "text/plain": [
       "{'асимметрия - дисперсия': (0.26402552997043616, 2.5790864732246356e-23),\n",
       " 'эксцесс - дисперсия': (-0.38084997204625237, 1.353440464463466e-48),\n",
       " 'эксцесс - асимметрия': (-0.7868952243065801, 1.6277753903624563e-289),\n",
       " 'энтропия - дисперсия': (0.2768166960053636, 1.4817699814651292e-25),\n",
       " 'энтропия - асимметрия': (-0.526320842543715, 1.3048279829588256e-98),\n",
       " 'энтропия - эксцесс': (0.3188408876874457, 8.594883585820842e-34)}"
      ]
     },
     "execution_count": 15,
     "metadata": {},
     "output_type": "execute_result"
    }
   ],
   "source": [
    "dict_pirson"
   ]
  },
  {
   "cell_type": "markdown",
   "metadata": {},
   "source": [
    "## Проверка гипотезы о независимости номинативных признаков ($\\chi^2$)"
   ]
  },
  {
   "cell_type": "code",
   "execution_count": null,
   "metadata": {},
   "outputs": [],
   "source": []
  },
  {
   "cell_type": "markdown",
   "metadata": {},
   "source": [
    "## Проверка гипотезы о равенстве дисперсий (критерий Флингера-Килина, критерий Ливена, F-критерий)"
   ]
  },
  {
   "cell_type": "markdown",
   "metadata": {},
   "source": [
    "## Критерий согласия Стьюдента (одновыборочный)"
   ]
  },
  {
   "cell_type": "code",
   "execution_count": 16,
   "metadata": {},
   "outputs": [
    {
     "data": {
      "text/plain": [
       "Ttest_1sampResult(statistic=5.068159587645532, pvalue=4.820441414841524e-07)"
      ]
     },
     "execution_count": 16,
     "metadata": {},
     "output_type": "execute_result"
    }
   ],
   "source": [
    "stats.ttest_1samp(data_rating, 7.7)"
   ]
  },
  {
   "cell_type": "markdown",
   "metadata": {},
   "source": [
    "## Проверка гипотезы о равенстве средних значений для независимых выборок (двухвыборочный критерий Стьюдента для независимых выборок)"
   ]
  },
  {
   "cell_type": "code",
   "execution_count": 17,
   "metadata": {},
   "outputs": [],
   "source": [
    "#составляем список исходя из изначального массива \n",
    "#1-  дисперсия у настоящих купюр\n",
    "#2 - дисперсия у ненастоящий купюр"
   ]
  },
  {
   "cell_type": "code",
   "execution_count": 18,
   "metadata": {},
   "outputs": [],
   "source": [
    "true_money = data.loc[(data[\"класс\"] == 0)]['дисперсия']\n",
    "false_money = data.loc[(data[\"класс\"] == 1)]['дисперсия']"
   ]
  },
  {
   "cell_type": "code",
   "execution_count": 19,
   "metadata": {},
   "outputs": [
    {
     "data": {
      "text/plain": [
       "Ttest_indResult(statistic=38.943891307966624, pvalue=5.740965365479549e-224)"
      ]
     },
     "execution_count": 19,
     "metadata": {},
     "output_type": "execute_result"
    }
   ],
   "source": [
    "scipy.stats.ttest_ind(true_money,false_money)"
   ]
  },
  {
   "cell_type": "markdown",
   "metadata": {},
   "source": [
    "## Проверка гипотезы о равенстве средних значений для зависимых выборок (двухвыборочный критерий Стьюдента для зависимых выборок)"
   ]
  },
  {
   "cell_type": "code",
   "execution_count": null,
   "metadata": {},
   "outputs": [],
   "source": []
  },
  {
   "cell_type": "markdown",
   "metadata": {},
   "source": [
    "## Проверка гипотезы о равенстве медиан для независимых выборок (ранговый критерий Манна-Уитни, перестановочный критерий)"
   ]
  },
  {
   "cell_type": "code",
   "execution_count": 20,
   "metadata": {},
   "outputs": [
    {
     "data": {
      "text/plain": [
       "MannwhitneyuResult(statistic=33777.5, pvalue=1.1786904483003944e-163)"
      ]
     },
     "execution_count": 20,
     "metadata": {},
     "output_type": "execute_result"
    }
   ],
   "source": [
    "true_money = data.loc[(data[\"класс\"] == 0)]['дисперсия']\n",
    "false_money = data.loc[(data[\"класс\"] == 1)]['дисперсия']\n",
    "scipy.stats.mannwhitneyu(true_money,false_money)"
   ]
  },
  {
   "cell_type": "markdown",
   "metadata": {},
   "source": [
    "## Проверка гипотезы о равенстве медиан для зависимых выборок (критерий знаковых рангов Уилкоксона, критерий знаков, перестановочный критерий)"
   ]
  },
  {
   "cell_type": "code",
   "execution_count": null,
   "metadata": {},
   "outputs": [],
   "source": []
  }
 ],
 "metadata": {
  "kernelspec": {
   "display_name": "Python 3",
   "language": "python",
   "name": "python3"
  },
  "language_info": {
   "codemirror_mode": {
    "name": "ipython",
    "version": 3
   },
   "file_extension": ".py",
   "mimetype": "text/x-python",
   "name": "python",
   "nbconvert_exporter": "python",
   "pygments_lexer": "ipython3",
   "version": "3.8.5"
  }
 },
 "nbformat": 4,
 "nbformat_minor": 4
}
