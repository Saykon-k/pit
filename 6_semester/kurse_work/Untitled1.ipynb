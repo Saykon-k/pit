{
 "cells": [
  {
   "cell_type": "code",
   "execution_count": 5,
   "metadata": {},
   "outputs": [
    {
     "ename": "ImportError",
     "evalue": "DLL load failed: The specified module could not be found.",
     "output_type": "error",
     "traceback": [
      "\u001b[1;31m---------------------------------------------------------------------------\u001b[0m",
      "\u001b[1;31mImportError\u001b[0m                               Traceback (most recent call last)",
      "\u001b[1;32m<ipython-input-5-3212c4176d00>\u001b[0m in \u001b[0;36m<module>\u001b[1;34m\u001b[0m\n\u001b[0;32m      1\u001b[0m \u001b[1;32mimport\u001b[0m \u001b[0mcopy\u001b[0m\u001b[1;33m\u001b[0m\u001b[1;33m\u001b[0m\u001b[0m\n\u001b[1;32m----> 2\u001b[1;33m \u001b[1;32mimport\u001b[0m \u001b[0mcvxpy\u001b[0m \u001b[1;32mas\u001b[0m \u001b[0mcp\u001b[0m\u001b[1;33m\u001b[0m\u001b[1;33m\u001b[0m\u001b[0m\n\u001b[0m\u001b[0;32m      3\u001b[0m \u001b[1;32mimport\u001b[0m \u001b[0mnumpy\u001b[0m \u001b[1;32mas\u001b[0m \u001b[0mnp\u001b[0m\u001b[1;33m\u001b[0m\u001b[1;33m\u001b[0m\u001b[0m\n\u001b[0;32m      4\u001b[0m \u001b[1;32mimport\u001b[0m \u001b[0mmath\u001b[0m\u001b[1;33m\u001b[0m\u001b[1;33m\u001b[0m\u001b[0m\n",
      "\u001b[1;32mc:\\users\\lenov\\appdata\\local\\programs\\python\\python37\\lib\\site-packages\\cvxpy\\__init__.py\u001b[0m in \u001b[0;36m<module>\u001b[1;34m\u001b[0m\n\u001b[0;32m     16\u001b[0m \u001b[1;33m\u001b[0m\u001b[0m\n\u001b[0;32m     17\u001b[0m \u001b[0m__version__\u001b[0m \u001b[1;33m=\u001b[0m \u001b[1;34m\"1.1.5\"\u001b[0m\u001b[1;33m\u001b[0m\u001b[1;33m\u001b[0m\u001b[0m\n\u001b[1;32m---> 18\u001b[1;33m \u001b[1;32mfrom\u001b[0m \u001b[0mcvxpy\u001b[0m\u001b[1;33m.\u001b[0m\u001b[0matoms\u001b[0m \u001b[1;32mimport\u001b[0m \u001b[1;33m*\u001b[0m\u001b[1;33m\u001b[0m\u001b[1;33m\u001b[0m\u001b[0m\n\u001b[0m\u001b[0;32m     19\u001b[0m \u001b[1;32mfrom\u001b[0m \u001b[0mcvxpy\u001b[0m\u001b[1;33m.\u001b[0m\u001b[0mconstraints\u001b[0m \u001b[1;32mimport\u001b[0m \u001b[0mNonPos\u001b[0m\u001b[1;33m,\u001b[0m \u001b[0mZero\u001b[0m\u001b[1;33m,\u001b[0m \u001b[0mSOC\u001b[0m\u001b[1;33m,\u001b[0m \u001b[0mPSD\u001b[0m\u001b[1;33m\u001b[0m\u001b[1;33m\u001b[0m\u001b[0m\n\u001b[0;32m     20\u001b[0m \u001b[1;32mfrom\u001b[0m \u001b[0mcvxpy\u001b[0m\u001b[1;33m.\u001b[0m\u001b[0mexpressions\u001b[0m\u001b[1;33m.\u001b[0m\u001b[0mexpression\u001b[0m \u001b[1;32mimport\u001b[0m \u001b[0mExpression\u001b[0m\u001b[1;33m\u001b[0m\u001b[1;33m\u001b[0m\u001b[0m\n",
      "\u001b[1;32mc:\\users\\lenov\\appdata\\local\\programs\\python\\python37\\lib\\site-packages\\cvxpy\\atoms\\__init__.py\u001b[0m in \u001b[0;36m<module>\u001b[1;34m\u001b[0m\n\u001b[0;32m     15\u001b[0m \"\"\"\n\u001b[0;32m     16\u001b[0m \u001b[1;33m\u001b[0m\u001b[0m\n\u001b[1;32m---> 17\u001b[1;33m \u001b[1;32mfrom\u001b[0m \u001b[0mcvxpy\u001b[0m\u001b[1;33m.\u001b[0m\u001b[0matoms\u001b[0m\u001b[1;33m.\u001b[0m\u001b[0mcummax\u001b[0m \u001b[1;32mimport\u001b[0m \u001b[0mcummax\u001b[0m\u001b[1;33m\u001b[0m\u001b[1;33m\u001b[0m\u001b[0m\n\u001b[0m\u001b[0;32m     18\u001b[0m \u001b[1;32mfrom\u001b[0m \u001b[0mcvxpy\u001b[0m\u001b[1;33m.\u001b[0m\u001b[0matoms\u001b[0m\u001b[1;33m.\u001b[0m\u001b[0mdist_ratio\u001b[0m \u001b[1;32mimport\u001b[0m \u001b[0mdist_ratio\u001b[0m\u001b[1;33m\u001b[0m\u001b[1;33m\u001b[0m\u001b[0m\n\u001b[0;32m     19\u001b[0m \u001b[1;32mfrom\u001b[0m \u001b[0mcvxpy\u001b[0m\u001b[1;33m.\u001b[0m\u001b[0matoms\u001b[0m\u001b[1;33m.\u001b[0m\u001b[0meye_minus_inv\u001b[0m \u001b[1;32mimport\u001b[0m \u001b[0meye_minus_inv\u001b[0m\u001b[1;33m,\u001b[0m \u001b[0mresolvent\u001b[0m\u001b[1;33m\u001b[0m\u001b[1;33m\u001b[0m\u001b[0m\n",
      "\u001b[1;32mc:\\users\\lenov\\appdata\\local\\programs\\python\\python37\\lib\\site-packages\\cvxpy\\atoms\\cummax.py\u001b[0m in \u001b[0;36m<module>\u001b[1;34m\u001b[0m\n\u001b[0;32m     15\u001b[0m \"\"\"\n\u001b[0;32m     16\u001b[0m \u001b[1;33m\u001b[0m\u001b[0m\n\u001b[1;32m---> 17\u001b[1;33m \u001b[1;32mfrom\u001b[0m \u001b[0mcvxpy\u001b[0m\u001b[1;33m.\u001b[0m\u001b[0matoms\u001b[0m\u001b[1;33m.\u001b[0m\u001b[0matom\u001b[0m \u001b[1;32mimport\u001b[0m \u001b[0mAtom\u001b[0m\u001b[1;33m\u001b[0m\u001b[1;33m\u001b[0m\u001b[0m\n\u001b[0m\u001b[0;32m     18\u001b[0m \u001b[1;32mfrom\u001b[0m \u001b[0mcvxpy\u001b[0m\u001b[1;33m.\u001b[0m\u001b[0matoms\u001b[0m\u001b[1;33m.\u001b[0m\u001b[0maxis_atom\u001b[0m \u001b[1;32mimport\u001b[0m \u001b[0mAxisAtom\u001b[0m\u001b[1;33m\u001b[0m\u001b[1;33m\u001b[0m\u001b[0m\n\u001b[0;32m     19\u001b[0m \u001b[1;32mimport\u001b[0m \u001b[0mnumpy\u001b[0m \u001b[1;32mas\u001b[0m \u001b[0mnp\u001b[0m\u001b[1;33m\u001b[0m\u001b[1;33m\u001b[0m\u001b[0m\n",
      "\u001b[1;32mc:\\users\\lenov\\appdata\\local\\programs\\python\\python37\\lib\\site-packages\\cvxpy\\atoms\\atom.py\u001b[0m in \u001b[0;36m<module>\u001b[1;34m\u001b[0m\n\u001b[0;32m     19\u001b[0m \u001b[1;32mfrom\u001b[0m \u001b[0mcvxpy\u001b[0m \u001b[1;32mimport\u001b[0m \u001b[0minterface\u001b[0m \u001b[1;32mas\u001b[0m \u001b[0mintf\u001b[0m\u001b[1;33m\u001b[0m\u001b[1;33m\u001b[0m\u001b[0m\n\u001b[0;32m     20\u001b[0m \u001b[1;32mfrom\u001b[0m \u001b[0mcvxpy\u001b[0m\u001b[1;33m.\u001b[0m\u001b[0mexpressions\u001b[0m \u001b[1;32mimport\u001b[0m \u001b[0mcvxtypes\u001b[0m\u001b[1;33m\u001b[0m\u001b[1;33m\u001b[0m\u001b[0m\n\u001b[1;32m---> 21\u001b[1;33m \u001b[1;32mfrom\u001b[0m \u001b[0mcvxpy\u001b[0m\u001b[1;33m.\u001b[0m\u001b[0mexpressions\u001b[0m\u001b[1;33m.\u001b[0m\u001b[0mconstants\u001b[0m \u001b[1;32mimport\u001b[0m \u001b[0mConstant\u001b[0m\u001b[1;33m\u001b[0m\u001b[1;33m\u001b[0m\u001b[0m\n\u001b[0m\u001b[0;32m     22\u001b[0m \u001b[1;32mfrom\u001b[0m \u001b[0mcvxpy\u001b[0m\u001b[1;33m.\u001b[0m\u001b[0mexpressions\u001b[0m\u001b[1;33m.\u001b[0m\u001b[0mexpression\u001b[0m \u001b[1;32mimport\u001b[0m \u001b[0mExpression\u001b[0m\u001b[1;33m\u001b[0m\u001b[1;33m\u001b[0m\u001b[0m\n\u001b[0;32m     23\u001b[0m \u001b[1;32mimport\u001b[0m \u001b[0mcvxpy\u001b[0m\u001b[1;33m.\u001b[0m\u001b[0mlin_ops\u001b[0m\u001b[1;33m.\u001b[0m\u001b[0mlin_utils\u001b[0m \u001b[1;32mas\u001b[0m \u001b[0mlu\u001b[0m\u001b[1;33m\u001b[0m\u001b[1;33m\u001b[0m\u001b[0m\n",
      "\u001b[1;32mc:\\users\\lenov\\appdata\\local\\programs\\python\\python37\\lib\\site-packages\\cvxpy\\expressions\\constants\\__init__.py\u001b[0m in \u001b[0;36m<module>\u001b[1;34m\u001b[0m\n\u001b[0;32m     15\u001b[0m \"\"\"\n\u001b[0;32m     16\u001b[0m \u001b[1;33m\u001b[0m\u001b[0m\n\u001b[1;32m---> 17\u001b[1;33m \u001b[1;32mfrom\u001b[0m \u001b[1;33m.\u001b[0m\u001b[0mconstant\u001b[0m \u001b[1;32mimport\u001b[0m \u001b[0mConstant\u001b[0m\u001b[1;33m\u001b[0m\u001b[1;33m\u001b[0m\u001b[0m\n\u001b[0m\u001b[0;32m     18\u001b[0m \u001b[1;32mfrom\u001b[0m \u001b[1;33m.\u001b[0m\u001b[0mcallback_param\u001b[0m \u001b[1;32mimport\u001b[0m \u001b[0mCallbackParam\u001b[0m\u001b[1;33m\u001b[0m\u001b[1;33m\u001b[0m\u001b[0m\n\u001b[0;32m     19\u001b[0m \u001b[1;32mfrom\u001b[0m \u001b[1;33m.\u001b[0m\u001b[0mparameter\u001b[0m \u001b[1;32mimport\u001b[0m \u001b[0mParameter\u001b[0m\u001b[1;33m\u001b[0m\u001b[1;33m\u001b[0m\u001b[0m\n",
      "\u001b[1;32mc:\\users\\lenov\\appdata\\local\\programs\\python\\python37\\lib\\site-packages\\cvxpy\\expressions\\constants\\constant.py\u001b[0m in \u001b[0;36m<module>\u001b[1;34m\u001b[0m\n\u001b[0;32m     20\u001b[0m \u001b[1;32mfrom\u001b[0m \u001b[0mcvxpy\u001b[0m\u001b[1;33m.\u001b[0m\u001b[0msettings\u001b[0m \u001b[1;32mimport\u001b[0m \u001b[0mEIGVAL_TOL\u001b[0m\u001b[1;33m\u001b[0m\u001b[1;33m\u001b[0m\u001b[0m\n\u001b[0;32m     21\u001b[0m \u001b[1;32mfrom\u001b[0m \u001b[0mcvxpy\u001b[0m\u001b[1;33m.\u001b[0m\u001b[0mutilities\u001b[0m \u001b[1;32mimport\u001b[0m \u001b[0mperformance_utils\u001b[0m \u001b[1;32mas\u001b[0m \u001b[0mperf\u001b[0m\u001b[1;33m\u001b[0m\u001b[1;33m\u001b[0m\u001b[0m\n\u001b[1;32m---> 22\u001b[1;33m \u001b[1;32mfrom\u001b[0m \u001b[0mscipy\u001b[0m\u001b[1;33m.\u001b[0m\u001b[0msparse\u001b[0m\u001b[1;33m.\u001b[0m\u001b[0mlinalg\u001b[0m \u001b[1;32mimport\u001b[0m \u001b[0meigsh\u001b[0m\u001b[1;33m\u001b[0m\u001b[1;33m\u001b[0m\u001b[0m\n\u001b[0m\u001b[0;32m     23\u001b[0m \u001b[1;32mfrom\u001b[0m \u001b[0mscipy\u001b[0m\u001b[1;33m.\u001b[0m\u001b[0msparse\u001b[0m\u001b[1;33m.\u001b[0m\u001b[0mlinalg\u001b[0m\u001b[1;33m.\u001b[0m\u001b[0meigen\u001b[0m\u001b[1;33m.\u001b[0m\u001b[0marpack\u001b[0m\u001b[1;33m.\u001b[0m\u001b[0marpack\u001b[0m \u001b[1;32mimport\u001b[0m \u001b[0mArpackError\u001b[0m\u001b[1;33m\u001b[0m\u001b[1;33m\u001b[0m\u001b[0m\n\u001b[0;32m     24\u001b[0m \u001b[1;32mimport\u001b[0m \u001b[0mnumpy\u001b[0m \u001b[1;32mas\u001b[0m \u001b[0mnp\u001b[0m\u001b[1;33m\u001b[0m\u001b[1;33m\u001b[0m\u001b[0m\n",
      "\u001b[1;32mc:\\users\\lenov\\appdata\\local\\programs\\python\\python37\\lib\\site-packages\\scipy\\sparse\\linalg\\__init__.py\u001b[0m in \u001b[0;36m<module>\u001b[1;34m\u001b[0m\n\u001b[0;32m    112\u001b[0m \u001b[1;32mfrom\u001b[0m \u001b[0m__future__\u001b[0m \u001b[1;32mimport\u001b[0m \u001b[0mdivision\u001b[0m\u001b[1;33m,\u001b[0m \u001b[0mprint_function\u001b[0m\u001b[1;33m,\u001b[0m \u001b[0mabsolute_import\u001b[0m\u001b[1;33m\u001b[0m\u001b[1;33m\u001b[0m\u001b[0m\n\u001b[0;32m    113\u001b[0m \u001b[1;33m\u001b[0m\u001b[0m\n\u001b[1;32m--> 114\u001b[1;33m \u001b[1;32mfrom\u001b[0m \u001b[1;33m.\u001b[0m\u001b[0misolve\u001b[0m \u001b[1;32mimport\u001b[0m \u001b[1;33m*\u001b[0m\u001b[1;33m\u001b[0m\u001b[1;33m\u001b[0m\u001b[0m\n\u001b[0m\u001b[0;32m    115\u001b[0m \u001b[1;32mfrom\u001b[0m \u001b[1;33m.\u001b[0m\u001b[0mdsolve\u001b[0m \u001b[1;32mimport\u001b[0m \u001b[1;33m*\u001b[0m\u001b[1;33m\u001b[0m\u001b[1;33m\u001b[0m\u001b[0m\n\u001b[0;32m    116\u001b[0m \u001b[1;32mfrom\u001b[0m \u001b[1;33m.\u001b[0m\u001b[0minterface\u001b[0m \u001b[1;32mimport\u001b[0m \u001b[1;33m*\u001b[0m\u001b[1;33m\u001b[0m\u001b[1;33m\u001b[0m\u001b[0m\n",
      "\u001b[1;32mc:\\users\\lenov\\appdata\\local\\programs\\python\\python37\\lib\\site-packages\\scipy\\sparse\\linalg\\isolve\\__init__.py\u001b[0m in \u001b[0;36m<module>\u001b[1;34m\u001b[0m\n\u001b[0;32m      4\u001b[0m \u001b[1;33m\u001b[0m\u001b[0m\n\u001b[0;32m      5\u001b[0m \u001b[1;31m#from info import __doc__\u001b[0m\u001b[1;33m\u001b[0m\u001b[1;33m\u001b[0m\u001b[1;33m\u001b[0m\u001b[0m\n\u001b[1;32m----> 6\u001b[1;33m \u001b[1;32mfrom\u001b[0m \u001b[1;33m.\u001b[0m\u001b[0miterative\u001b[0m \u001b[1;32mimport\u001b[0m \u001b[1;33m*\u001b[0m\u001b[1;33m\u001b[0m\u001b[1;33m\u001b[0m\u001b[0m\n\u001b[0m\u001b[0;32m      7\u001b[0m \u001b[1;32mfrom\u001b[0m \u001b[1;33m.\u001b[0m\u001b[0mminres\u001b[0m \u001b[1;32mimport\u001b[0m \u001b[0mminres\u001b[0m\u001b[1;33m\u001b[0m\u001b[1;33m\u001b[0m\u001b[0m\n\u001b[0;32m      8\u001b[0m \u001b[1;32mfrom\u001b[0m \u001b[1;33m.\u001b[0m\u001b[0mlgmres\u001b[0m \u001b[1;32mimport\u001b[0m \u001b[0mlgmres\u001b[0m\u001b[1;33m\u001b[0m\u001b[1;33m\u001b[0m\u001b[0m\n",
      "\u001b[1;32mc:\\users\\lenov\\appdata\\local\\programs\\python\\python37\\lib\\site-packages\\scipy\\sparse\\linalg\\isolve\\iterative.py\u001b[0m in \u001b[0;36m<module>\u001b[1;34m\u001b[0m\n\u001b[0;32m      8\u001b[0m \u001b[1;32mimport\u001b[0m \u001b[0mnumpy\u001b[0m \u001b[1;32mas\u001b[0m \u001b[0mnp\u001b[0m\u001b[1;33m\u001b[0m\u001b[1;33m\u001b[0m\u001b[0m\n\u001b[0;32m      9\u001b[0m \u001b[1;33m\u001b[0m\u001b[0m\n\u001b[1;32m---> 10\u001b[1;33m \u001b[1;32mfrom\u001b[0m \u001b[1;33m.\u001b[0m \u001b[1;32mimport\u001b[0m \u001b[0m_iterative\u001b[0m\u001b[1;33m\u001b[0m\u001b[1;33m\u001b[0m\u001b[0m\n\u001b[0m\u001b[0;32m     11\u001b[0m \u001b[1;33m\u001b[0m\u001b[0m\n\u001b[0;32m     12\u001b[0m \u001b[1;32mfrom\u001b[0m \u001b[0mscipy\u001b[0m\u001b[1;33m.\u001b[0m\u001b[0msparse\u001b[0m\u001b[1;33m.\u001b[0m\u001b[0mlinalg\u001b[0m\u001b[1;33m.\u001b[0m\u001b[0minterface\u001b[0m \u001b[1;32mimport\u001b[0m \u001b[0mLinearOperator\u001b[0m\u001b[1;33m\u001b[0m\u001b[1;33m\u001b[0m\u001b[0m\n",
      "\u001b[1;31mImportError\u001b[0m: DLL load failed: The specified module could not be found."
     ]
    }
   ],
   "source": [
    "import copy\n",
    "import cvxpy as cp\n",
    "import numpy as np\n",
    "import math\n"
   ]
  },
  {
   "cell_type": "code",
   "execution_count": null,
   "metadata": {},
   "outputs": [],
   "source": [
    "!pip uninstall cvxpy"
   ]
  },
  {
   "cell_type": "code",
   "execution_count": null,
   "metadata": {},
   "outputs": [],
   "source": [
    "x1 = cp.Variable()\n",
    "x2 = cp.Variable()\n",
    "x3 = cp.Variable()\n",
    "x4 = cp.Variable()\n",
    "x5 = cp.Variable()\n",
    "x6 = cp.Variable()\n",
    "x7 = cp.Variable()\n",
    "x8 = cp.Variable()\n",
    "\n",
    "t1 = cp.Variable()\n",
    "t2 = cp.Variable()\n",
    "t3 = cp.Variable()\n",
    "t4 = cp.Variable()\n",
    "t5 = cp.Variable()\n",
    "t6 = cp.Variable()\n",
    "t7 = cp.Variable()\n",
    "t8 = cp.Variable()\n",
    "Tk = cp.Variable()"
   ]
  },
  {
   "cell_type": "code",
   "execution_count": null,
   "metadata": {},
   "outputs": [],
   "source": [
    "constraints= [t4>= 20*(1-0.1*x1), t4>= 10*(1-0.15*x2),\n",
    "              t5>= 20*(1-0.1*x1), t5>= 10*(1-0.15*x2), t5>= 5*(1-0.1*x3),\n",
    "              t6>= 20*(1-0.1*x1), t6>= 10*(1-0.15*x2), t6>= 5*(1-0.1*x3),\n",
    "              t7 >= t6 + 15*(1-0.01*x6),\n",
    "              t8 >= t4 + 30*(1-0.2*x4),t8 >= t5 + 10*(1-0.2*x5),t8 >= t7 + 10*(1-0.05*x7),\n",
    "              Tk>= t1 +20*(1-0.1*x1),Tk>= t2 +10*(1-0.15*x2), Tk>= t3 +5*(1-0.1*x3),\n",
    "              Tk>= t4 +30*(1-0.2*x4),Tk>= t5 +10*(1-0.2*x5),Tk>= t6 +15*(1-0.01*x6),\n",
    "              Tk>= t7 +10*(1-0.05*x7), Tk>= t8 +10*(1-0.1*x8),\n",
    "              Tk==80,\n",
    "              x1<=0,\n",
    "               x2<=0,\n",
    "               x3<=0,\n",
    "               x4<=0,\n",
    "               x5<=0,\n",
    "               x6<=0,\n",
    "               x7<=0,\n",
    "               x8<=0]"
   ]
  },
  {
   "cell_type": "code",
   "execution_count": null,
   "metadata": {},
   "outputs": [],
   "source": []
  },
  {
   "cell_type": "code",
   "execution_count": null,
   "metadata": {},
   "outputs": [],
   "source": []
  }
 ],
 "metadata": {
  "kernelspec": {
   "display_name": "Python 3",
   "language": "python",
   "name": "python3"
  },
  "language_info": {
   "codemirror_mode": {
    "name": "ipython",
    "version": 3
   },
   "file_extension": ".py",
   "mimetype": "text/x-python",
   "name": "python",
   "nbconvert_exporter": "python",
   "pygments_lexer": "ipython3",
   "version": "3.7.4"
  }
 },
 "nbformat": 4,
 "nbformat_minor": 2
}
