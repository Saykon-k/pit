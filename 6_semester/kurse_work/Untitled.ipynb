{
 "cells": [
  {
   "cell_type": "code",
   "execution_count": 1,
   "metadata": {},
   "outputs": [],
   "source": [
    "import copy\n",
    "import cvxpy as cp\n",
    "import numpy as np\n",
    "import math\n"
   ]
  },
  {
   "cell_type": "code",
   "execution_count": 33,
   "metadata": {},
   "outputs": [],
   "source": [
    "constraints = [20*(1-0.1*x1)>=15, 10*(1-0.15*x2)>=5, 5*(1-0.1*x3)>=5,\n",
    "               30*(1-0.2*x4)>=10, 10*(1-0.2*x5)>=5, 15*(1-0.01*x6)>=10,\n",
    "               10*(1-0.05*x7)>=3, 10*(1-0.1*x8)>=3,\n",
    "               \n",
    "               20 == 20*(1-0.1*x1), 10== 10*(1-0.15*x2), 5==5*(1-0.1*x3),\n",
    "                \n",
    "               15.0 <= 20.0 * (1.0  -0.1 * x1),\n",
    "                5.0 <= 10.0 * (1.0  -0.15 * x2),\n",
    "                5.0 <= 5.0 * (1.0  -0.1 * x3),\n",
    "                10.0 <= 30.0 * (1.0  -0.2 * x4),\n",
    "                5.0 <= 10.0 * (1.0  -0.2 * x5),\n",
    "                10.0 <= 15.0 * (1.0  -0.01 * x6),\n",
    "                3.0 <= 10.0 * (1.0  -0.05 * x7),\n",
    "                3.0 <= 10.0 * (1.0  -0.1 * x8),\n",
    "               \n",
    "               x1>=0,\n",
    "               x2>=0,\n",
    "               x3>=0,\n",
    "               x4>=0,\n",
    "               x5>=0,\n",
    "               x6>=0,\n",
    "               x7>=0,\n",
    "               x8>=0\n",
    "               \n",
    "\n",
    "\n",
    "              ]\n"
   ]
  },
  {
   "cell_type": "code",
   "execution_count": 34,
   "metadata": {},
   "outputs": [],
   "source": [
    "constraints.append(x1+x2+x3+x4+x5+x6+x7+x8 <= 60)"
   ]
  },
  {
   "cell_type": "code",
   "execution_count": 35,
   "metadata": {},
   "outputs": [
    {
     "name": "stdout",
     "output_type": "stream",
     "text": [
      "status: optimal\n",
      "optimal val: 0.0\n"
     ]
    }
   ],
   "source": [
    "obj = cp.Minimize(x1+x2+x3+x4+x5+x6+x7+x8)\n",
    "prob = cp.Problem(obj, constraints)\n",
    "prob.solve()\n",
    "print(\"status:\", prob.status)\n",
    "print(\"optimal val:\", np.round(prob.value, 5))\n",
    "k = 0\n",
    "# for i in range(len(connection_from_user)):\n",
    "#     print(f'x_{i}', round(float(dict_values.get(f'x_{i}').value),3))\n",
    "#     k += dict_values.get(f'x_{i}').value\n",
    "#     print(k)\n",
    "#     print()"
   ]
  },
  {
   "cell_type": "code",
   "execution_count": 37,
   "metadata": {},
   "outputs": [],
   "source": [
    "x1 = cp.Variable()\n",
    "x2 = cp.Variable()\n",
    "x3 = cp.Variable()\n",
    "x4 = cp.Variable()\n",
    "x5 = cp.Variable()\n",
    "x6 = cp.Variable()\n",
    "x7 = cp.Variable()\n",
    "x8 = cp.Variable()\n",
    "\n",
    "t1 = cp.Variable()\n",
    "t2 = cp.Variable()\n",
    "t3 = cp.Variable()\n",
    "t4 = cp.Variable()\n",
    "t5 = cp.Variable()\n",
    "t6 = cp.Variable()\n",
    "t7 = cp.Variable()\n",
    "t8 = cp.Variable()\n",
    "Tk = cp.Variable()"
   ]
  },
  {
   "cell_type": "code",
   "execution_count": 53,
   "metadata": {},
   "outputs": [
    {
     "ename": "Exception",
     "evalue": "Cannot evaluate the truth value of a constraint or chain constraints, e.g., 1 >= x >= 0.",
     "output_type": "error",
     "traceback": [
      "\u001b[1;31m---------------------------------------------------------------------------\u001b[0m",
      "\u001b[1;31mException\u001b[0m                                 Traceback (most recent call last)",
      "\u001b[1;32m<ipython-input-53-79771ad7bee9>\u001b[0m in \u001b[0;36m<module>\u001b[1;34m\u001b[0m\n\u001b[1;32m----> 1\u001b[1;33m constraints = [t4>= 20*(1-0.1*x1), 100>=t4>= 10*(1-0.15*x2),\n\u001b[0m\u001b[0;32m      2\u001b[0m               \u001b[0mt5\u001b[0m\u001b[1;33m>=\u001b[0m \u001b[1;36m20\u001b[0m\u001b[1;33m*\u001b[0m\u001b[1;33m(\u001b[0m\u001b[1;36m1\u001b[0m\u001b[1;33m-\u001b[0m\u001b[1;36m0.1\u001b[0m\u001b[1;33m*\u001b[0m\u001b[0mx1\u001b[0m\u001b[1;33m)\u001b[0m\u001b[1;33m,\u001b[0m \u001b[0mt5\u001b[0m\u001b[1;33m>=\u001b[0m \u001b[1;36m10\u001b[0m\u001b[1;33m*\u001b[0m\u001b[1;33m(\u001b[0m\u001b[1;36m1\u001b[0m\u001b[1;33m-\u001b[0m\u001b[1;36m0.15\u001b[0m\u001b[1;33m*\u001b[0m\u001b[0mx2\u001b[0m\u001b[1;33m)\u001b[0m\u001b[1;33m,\u001b[0m \u001b[0mt5\u001b[0m\u001b[1;33m>=\u001b[0m \u001b[1;36m5\u001b[0m\u001b[1;33m*\u001b[0m\u001b[1;33m(\u001b[0m\u001b[1;36m1\u001b[0m\u001b[1;33m-\u001b[0m\u001b[1;36m0.1\u001b[0m\u001b[1;33m*\u001b[0m\u001b[0mx3\u001b[0m\u001b[1;33m)\u001b[0m\u001b[1;33m,\u001b[0m\u001b[1;33m\u001b[0m\u001b[1;33m\u001b[0m\u001b[0m\n\u001b[0;32m      3\u001b[0m               \u001b[0mt6\u001b[0m\u001b[1;33m>=\u001b[0m \u001b[1;36m20\u001b[0m\u001b[1;33m*\u001b[0m\u001b[1;33m(\u001b[0m\u001b[1;36m1\u001b[0m\u001b[1;33m-\u001b[0m\u001b[1;36m0.1\u001b[0m\u001b[1;33m*\u001b[0m\u001b[0mx1\u001b[0m\u001b[1;33m)\u001b[0m\u001b[1;33m,\u001b[0m \u001b[0mt6\u001b[0m\u001b[1;33m>=\u001b[0m \u001b[1;36m10\u001b[0m\u001b[1;33m*\u001b[0m\u001b[1;33m(\u001b[0m\u001b[1;36m1\u001b[0m\u001b[1;33m-\u001b[0m\u001b[1;36m0.15\u001b[0m\u001b[1;33m*\u001b[0m\u001b[0mx2\u001b[0m\u001b[1;33m)\u001b[0m\u001b[1;33m,\u001b[0m \u001b[0mt6\u001b[0m\u001b[1;33m>=\u001b[0m \u001b[1;36m5\u001b[0m\u001b[1;33m*\u001b[0m\u001b[1;33m(\u001b[0m\u001b[1;36m1\u001b[0m\u001b[1;33m-\u001b[0m\u001b[1;36m0.1\u001b[0m\u001b[1;33m*\u001b[0m\u001b[0mx3\u001b[0m\u001b[1;33m)\u001b[0m\u001b[1;33m,\u001b[0m\u001b[1;33m\u001b[0m\u001b[1;33m\u001b[0m\u001b[0m\n\u001b[0;32m      4\u001b[0m               \u001b[0mt7\u001b[0m\u001b[1;33m>=\u001b[0m \u001b[0mt6\u001b[0m \u001b[1;33m+\u001b[0m \u001b[1;36m15\u001b[0m\u001b[1;33m*\u001b[0m\u001b[1;33m(\u001b[0m\u001b[1;36m1\u001b[0m\u001b[1;33m-\u001b[0m\u001b[1;36m0.01\u001b[0m\u001b[1;33m*\u001b[0m\u001b[0mx6\u001b[0m\u001b[1;33m)\u001b[0m\u001b[1;33m,\u001b[0m\u001b[1;33m\u001b[0m\u001b[1;33m\u001b[0m\u001b[0m\n\u001b[0;32m      5\u001b[0m               \u001b[0mt8\u001b[0m\u001b[1;33m>=\u001b[0m \u001b[0mt4\u001b[0m \u001b[1;33m+\u001b[0m \u001b[1;36m30\u001b[0m\u001b[1;33m*\u001b[0m\u001b[1;33m(\u001b[0m\u001b[1;36m1\u001b[0m\u001b[1;33m-\u001b[0m\u001b[1;36m0.2\u001b[0m\u001b[1;33m*\u001b[0m\u001b[0mx4\u001b[0m\u001b[1;33m)\u001b[0m\u001b[1;33m,\u001b[0m \u001b[0mt8\u001b[0m\u001b[1;33m>=\u001b[0m \u001b[0mt5\u001b[0m \u001b[1;33m+\u001b[0m \u001b[1;36m10\u001b[0m\u001b[1;33m*\u001b[0m\u001b[1;33m(\u001b[0m\u001b[1;36m1\u001b[0m\u001b[1;33m-\u001b[0m\u001b[1;36m0.2\u001b[0m\u001b[1;33m*\u001b[0m\u001b[0mx5\u001b[0m\u001b[1;33m)\u001b[0m\u001b[1;33m,\u001b[0m \u001b[0mt8\u001b[0m\u001b[1;33m>=\u001b[0m \u001b[0mt7\u001b[0m \u001b[1;33m+\u001b[0m \u001b[1;36m10\u001b[0m\u001b[1;33m*\u001b[0m\u001b[1;33m(\u001b[0m\u001b[1;36m1\u001b[0m\u001b[1;33m-\u001b[0m\u001b[1;36m0.05\u001b[0m\u001b[1;33m*\u001b[0m\u001b[0mx7\u001b[0m\u001b[1;33m)\u001b[0m\u001b[1;33m,\u001b[0m\u001b[1;33m\u001b[0m\u001b[1;33m\u001b[0m\u001b[0m\n",
      "\u001b[1;32mE:\\anaconda3\\lib\\site-packages\\cvxpy\\constraints\\constraint.py\u001b[0m in \u001b[0;36m__bool__\u001b[1;34m(self)\u001b[0m\n\u001b[0;32m    225\u001b[0m         \u001b[0mRaising\u001b[0m \u001b[0man\u001b[0m \u001b[0merror\u001b[0m \u001b[0mhere\u001b[0m \u001b[0mprevents\u001b[0m \u001b[0mwriting\u001b[0m \u001b[0mchained\u001b[0m \u001b[0mconstraints\u001b[0m\u001b[1;33m.\u001b[0m\u001b[1;33m\u001b[0m\u001b[1;33m\u001b[0m\u001b[0m\n\u001b[0;32m    226\u001b[0m         \"\"\"\n\u001b[1;32m--> 227\u001b[1;33m         \u001b[1;32mreturn\u001b[0m \u001b[0mself\u001b[0m\u001b[1;33m.\u001b[0m\u001b[0m_chain_constraints\u001b[0m\u001b[1;33m(\u001b[0m\u001b[1;33m)\u001b[0m\u001b[1;33m\u001b[0m\u001b[1;33m\u001b[0m\u001b[0m\n\u001b[0m\u001b[0;32m    228\u001b[0m \u001b[1;33m\u001b[0m\u001b[0m\n\u001b[0;32m    229\u001b[0m     \u001b[1;31m# TODO(rileyjmurray): add a function to compute dual-variable violation.\u001b[0m\u001b[1;33m\u001b[0m\u001b[1;33m\u001b[0m\u001b[1;33m\u001b[0m\u001b[0m\n",
      "\u001b[1;32mE:\\anaconda3\\lib\\site-packages\\cvxpy\\constraints\\constraint.py\u001b[0m in \u001b[0;36m_chain_constraints\u001b[1;34m(self)\u001b[0m\n\u001b[0;32m    213\u001b[0m         \"\"\"\n\u001b[0;32m    214\u001b[0m         raise Exception(\n\u001b[1;32m--> 215\u001b[1;33m             (\"Cannot evaluate the truth value of a constraint or \"\n\u001b[0m\u001b[0;32m    216\u001b[0m              \"chain constraints, e.g., 1 >= x >= 0.\")\n\u001b[0;32m    217\u001b[0m         )\n",
      "\u001b[1;31mException\u001b[0m: Cannot evaluate the truth value of a constraint or chain constraints, e.g., 1 >= x >= 0."
     ]
    }
   ],
   "source": [
    "constraints = [t4>= 20*(1-0.1*x1), 100>=t4>= 10*(1-0.15*x2),\n",
    "              t5>= 20*(1-0.1*x1), t5>= 10*(1-0.15*x2), t5>= 5*(1-0.1*x3),\n",
    "              t6>= 20*(1-0.1*x1), t6>= 10*(1-0.15*x2), t6>= 5*(1-0.1*x3),\n",
    "              t7>= t6 + 15*(1-0.01*x6),\n",
    "              t8>= t4 + 30*(1-0.2*x4), t8>= t5 + 10*(1-0.2*x5), t8>= t7 + 10*(1-0.05*x7),\n",
    "              Tk>= t1 + 20*(1-0.1*x1), Tk>= t2 + 10*(1-0.15*x2), Tk>=t3+5*(1-0.1*x3),\n",
    "              Tk>= t4 + 30*(1-0.2*x4), Tk>= t5 + 10*(1-0.2*x5), Tk>=t6 + 15*(1-0.01*x6),\n",
    "              Tk>= t7 + 10*(1-0.05*x7), Tk>= t8 + 10*(1-0.1*x8),\n",
    "             \n",
    "               20*(1-0.1*x1) >= 15, 10*(1-0.15*x2) >= 5, 5*(1-0.1*x3)>=5,\n",
    "              30*(1-0.2*x4) >= 10, 10*(1-0.2*x5) >=5, 15*(1-0.01*x6)>=10,\n",
    "              10*(1-0.05*x7)>=3, 10*(1-0.1*x8)>=3,\n",
    "               Tk<=32,\n",
    "              x1+x2+x3+x4+x5+x6+x7+x8 <= 60,\n",
    "              \n",
    "              x1>=0,\n",
    "               x2>=0,\n",
    "               x3>=0,\n",
    "               x4>=0,\n",
    "               x5>=0,\n",
    "               x6>=0,\n",
    "               x7>=0,\n",
    "               x8>=0\n",
    "               \n",
    "              ]"
   ]
  },
  {
   "cell_type": "code",
   "execution_count": null,
   "metadata": {},
   "outputs": [],
   "source": [
    "obj = cp.Minimize(x1+x2+x3+x4+x5+x6+x7+x8)\n",
    "prob = cp.Problem(obj, constraints)\n",
    "prob.solve()\n",
    "print(\"status:\", prob.status)\n",
    "print(\"optimal val:\", np.round(prob.value, 5))\n",
    "k = 0\n",
    "for i in [x1,x2,x3,x4,x5,x6,x7,x8]:\n",
    "    print(f'x_{k+1}', round(float(i.value),3))\n",
    "    k += round(float(i.value),3)\n",
    "    print(k)\n",
    "    print()"
   ]
  },
  {
   "cell_type": "code",
   "execution_count": null,
   "metadata": {},
   "outputs": [],
   "source": [
    "constraints = [t4>= 20*(1-0.1*x1), t4>= 10*(1-0.15*x2),\n",
    "               t5>= 20*(1-0.1*x1), t5>= 10*(1-0.15*x2), t5>= 5*(1-0.1*x3),\n",
    "               t6>= 20*(1-0.1*x1), t6>= 10*(1-0.15*x2), t6>= 5*(1-0.1*x3),\n",
    "               t7>= t6 + 15*(1-0.01*x6),\n",
    "               t8>= t4 + 30*(1-0.2*x4), t8>= t5 + 10*(1-0.2*x5), t8>= t7 + 10*(1-0.05*x7),\n",
    "               Tk >= 20*(1-0.1*x1)\n",
    "Tk >= 10*(1-0.15*x2)\n",
    "Tk >= 5*(1-0.1*x3)\n",
    "Tk >= 30*(1-0.2*x4)\n",
    "Tk >= 10*(1-0.2*x5)\n",
    "Tk >= 15*(1-0.01*x6)\n",
    "Tk >= 10*(1-0.05*x7)\n",
    "Tk >= 10*(1-0.1*x8)\n",
    "\n",
    "               \n",
    "              ]"
   ]
  },
  {
   "cell_type": "code",
   "execution_count": null,
   "metadata": {},
   "outputs": [],
   "source": []
  }
 ],
 "metadata": {
  "kernelspec": {
   "display_name": "Python 3",
   "language": "python",
   "name": "python3"
  },
  "language_info": {
   "codemirror_mode": {
    "name": "ipython",
    "version": 3
   },
   "file_extension": ".py",
   "mimetype": "text/x-python",
   "name": "python",
   "nbconvert_exporter": "python",
   "pygments_lexer": "ipython3",
   "version": "3.7.4"
  }
 },
 "nbformat": 4,
 "nbformat_minor": 2
}
