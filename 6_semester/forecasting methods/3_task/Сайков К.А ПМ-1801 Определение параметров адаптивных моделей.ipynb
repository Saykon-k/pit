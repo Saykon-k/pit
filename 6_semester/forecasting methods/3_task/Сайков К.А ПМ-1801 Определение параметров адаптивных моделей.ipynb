{
 "cells": [
  {
   "cell_type": "markdown",
   "metadata": {},
   "source": [
    "# <center>Определение параметров адаптивных моделей</center> "
   ]
  },
  {
   "cell_type": "markdown",
   "metadata": {},
   "source": [
    "Параметры адаптивных моделей ($\\alpha, \\beta, \\gamma, \\phi$) выбираются таким образом, чтобы ошибка при аппроксимации полученной моделью была как можно меньше, т.е. необходимо решить задачу оптимизации."
   ]
  },
  {
   "cell_type": "markdown",
   "metadata": {},
   "source": [
    "## Оптимизация в <a href='https://www.scipy.org/'>SciPy</a>"
   ]
  },
  {
   "cell_type": "markdown",
   "metadata": {},
   "source": [
    "Решать задачи оптимизации позволяет библиотека SciPy. Алгоритмы оптимизации лежат в модуле `scipy.optimize`. Найдем минимум следующей функции:\n",
    "\n",
    "$$f(x)=x^2+2x^4-3x.$$"
   ]
  },
  {
   "cell_type": "code",
   "execution_count": 1,
   "metadata": {},
   "outputs": [],
   "source": [
    "def fun(x):\n",
    "    return x**2 + 2*x**4 - 3*x"
   ]
  },
  {
   "cell_type": "markdown",
   "metadata": {},
   "source": [
    "Воспользуемся функцией `minimize` из указанного модуля. В данной функции реализованы численные методы решения задач оптимизации. В качестве первого аргумента `minimize` принимает функцию, минимум которой необходимо найти, а в качестве второго аргумента &ndash; начальное значение переменных."
   ]
  },
  {
   "cell_type": "code",
   "execution_count": 2,
   "metadata": {},
   "outputs": [],
   "source": [
    "from scipy.optimize import minimize"
   ]
  },
  {
   "cell_type": "code",
   "execution_count": 3,
   "metadata": {},
   "outputs": [
    {
     "data": {
      "text/plain": [
       "      fun: -1.1810421376911344\n",
       " hess_inv: array([[0.09247045]])\n",
       "      jac: array([-3.03983688e-06])\n",
       "  message: 'Optimization terminated successfully.'\n",
       "     nfev: 21\n",
       "      nit: 4\n",
       "     njev: 7\n",
       "   status: 0\n",
       "  success: True\n",
       "        x: array([0.60670554])"
      ]
     },
     "execution_count": 3,
     "metadata": {},
     "output_type": "execute_result"
    }
   ],
   "source": [
    "result = minimize(fun, 0)\n",
    "result"
   ]
  },
  {
   "cell_type": "markdown",
   "metadata": {},
   "source": [
    "Значение целевой функции и оптимальное значение $x$:"
   ]
  },
  {
   "cell_type": "code",
   "execution_count": 4,
   "metadata": {},
   "outputs": [
    {
     "data": {
      "text/plain": [
       "(-1.1810421376911344, array([0.60670554]))"
      ]
     },
     "execution_count": 4,
     "metadata": {},
     "output_type": "execute_result"
    }
   ],
   "source": [
    "result.fun, result.x"
   ]
  },
  {
   "cell_type": "markdown",
   "metadata": {},
   "source": [
    "Функция нескольких переменных может быть передана в `minimize` двумя способами:"
   ]
  },
  {
   "cell_type": "code",
   "execution_count": 5,
   "metadata": {},
   "outputs": [],
   "source": [
    "def fun1(x1, x2):\n",
    "    return x1**2 + 2*x1*x2 + x2**2"
   ]
  },
  {
   "cell_type": "code",
   "execution_count": 6,
   "metadata": {},
   "outputs": [
    {
     "data": {
      "text/plain": [
       "      fun: 2.8552400645473715e-15\n",
       " hess_inv: array([[ 0.62499999, -0.375     ],\n",
       "       [-0.375     ,  0.62500001]])\n",
       "      jac: array([-9.19677317e-08, -9.19677317e-08])\n",
       "  message: 'Optimization terminated successfully.'\n",
       "     nfev: 12\n",
       "      nit: 2\n",
       "     njev: 3\n",
       "   status: 0\n",
       "  success: True\n",
       "        x: array([ 5.67418834e-08, -1.10176330e-07])"
      ]
     },
     "execution_count": 6,
     "metadata": {},
     "output_type": "execute_result"
    }
   ],
   "source": [
    "minimize(lambda x: fun1(x[0], x[1]), (2,2))"
   ]
  },
  {
   "cell_type": "code",
   "execution_count": 7,
   "metadata": {},
   "outputs": [],
   "source": [
    "fun2 = lambda x: x[0]**2 + 2*x[0]*x[1] + x[1]**2"
   ]
  },
  {
   "cell_type": "code",
   "execution_count": 8,
   "metadata": {},
   "outputs": [
    {
     "data": {
      "text/plain": [
       "      fun: 2.8552400645473715e-15\n",
       " hess_inv: array([[ 0.62499999, -0.375     ],\n",
       "       [-0.375     ,  0.62500001]])\n",
       "      jac: array([-9.19677317e-08, -9.19677317e-08])\n",
       "  message: 'Optimization terminated successfully.'\n",
       "     nfev: 12\n",
       "      nit: 2\n",
       "     njev: 3\n",
       "   status: 0\n",
       "  success: True\n",
       "        x: array([ 5.67418834e-08, -1.10176330e-07])"
      ]
     },
     "execution_count": 8,
     "metadata": {},
     "output_type": "execute_result"
    }
   ],
   "source": [
    "minimize(fun2, (2,2))"
   ]
  },
  {
   "cell_type": "markdown",
   "metadata": {},
   "source": [
    "Можно указать ограничения на значения переменных с помощью опций `constraints` и `bounds`."
   ]
  },
  {
   "cell_type": "code",
   "execution_count": 9,
   "metadata": {},
   "outputs": [],
   "source": [
    "fun3 = lambda x: x[0] + x[1]"
   ]
  },
  {
   "cell_type": "code",
   "execution_count": 10,
   "metadata": {},
   "outputs": [],
   "source": [
    "# x1 >= 0, x2 >= 0\n",
    "bnds = ((0,None),(0,None))\n",
    "\n",
    "# 3*x1 + 2*x2 >= 7\n",
    "# x1 + 2*x2 >= 6\n",
    "cons = ({'type': 'ineq', 'fun': lambda x: 3*x[0] + 2*x[1] - 7},\n",
    "        {'type': 'ineq', 'fun': lambda x: x[0] + 2*x[1] - 6})"
   ]
  },
  {
   "cell_type": "code",
   "execution_count": 11,
   "metadata": {},
   "outputs": [
    {
     "data": {
      "text/plain": [
       "     fun: 3.2500000000000004\n",
       "     jac: array([1., 1.])\n",
       " message: 'Optimization terminated successfully.'\n",
       "    nfev: 12\n",
       "     nit: 3\n",
       "    njev: 3\n",
       "  status: 0\n",
       " success: True\n",
       "       x: array([0.5 , 2.75])"
      ]
     },
     "execution_count": 11,
     "metadata": {},
     "output_type": "execute_result"
    }
   ],
   "source": [
    "minimize(fun3, (2,2), bounds=bnds, constraints=cons)"
   ]
  },
  {
   "cell_type": "markdown",
   "metadata": {},
   "source": [
    "<div class=\"alert alert-info\">\n",
    "\n",
    "<h3> Задание 1</h3>\n",
    "<p></p>\n",
    "<ul>1. Определите функцию, которая принимает на вход временной ряд и параметры модели Хольта для линейного тренда (см. задание 2 с предыдущего занятия). Данная функция должна возвращать среднеквадратичную ошибку модели.</ul>\n",
    "<ul>2. Определите оптимальные параметры $\\alpha$ и $\\beta$ для ряда объемов пассажирских авиаперевозок в Австралии (файл ausair.csv). Постройте модель Хольта с найденными параметрами и получите прогноз на 10 лет вперед.</ul>\n",
    "<p></p>\n",
    "  \n",
    "</div>"
   ]
  },
  {
   "cell_type": "markdown",
   "metadata": {},
   "source": [
    "<div class=\"alert alert-warning\">\n",
    "\n",
    "<p></p>\n",
    "Если на предыдущем занятии не удалось оформить модель Хольта в виде функции:    \n",
    "    \n",
    "<ul>1. Определите функцию, которая принимает на вход два одномерных массива и возвращает среднеквадратичную ошибку.</ul>\n",
    "    \n",
    "<ul>2. Определите сетку возможных параметров $\\alpha$ и $\\beta$ с помощью np.linspace.</ul>\n",
    "    \n",
    "<ul>3. Путем перебора различных комбинаций параметров $\\alpha$ и $\\beta$ выберите оптимальные с т.з. значения среднеквадратичной ошибки параметры. </ul>\n",
    "<p></p>\n",
    "  \n",
    "</div>"
   ]
  },
  {
   "cell_type": "code",
   "execution_count": 12,
   "metadata": {},
   "outputs": [],
   "source": [
    "def holt(alfa,beta):\n",
    "    data = pd.read_csv('ausair.csv')\n",
    "    data = list(data['Passengers'])\n",
    "    b_n = data[1] - data[0]\n",
    "    a_f = data[0]\n",
    "    a_n = data[0]\n",
    "    data_prom = [a_n]\n",
    "    n = len(data)\n",
    "    for i in range(1,len(data)):\n",
    "        data_prom.append(a_n+b_n)\n",
    "        a_n = alfa*data[i]+(1-alfa)*(a_n+b_n)\n",
    "        b_n = beta*(a_n-a_f)+(1-beta)*b_n\n",
    "        a_f = a_n\n",
    "        \n",
    "    error = 1/n * sum((numpy.array(data[1:])-numpy.array(data_prom[:-1]))**2)\n",
    "    return error"
   ]
  },
  {
   "cell_type": "code",
   "execution_count": 13,
   "metadata": {},
   "outputs": [
    {
     "data": {
      "text/plain": [
       "10.142677281283994"
      ]
     },
     "execution_count": 13,
     "metadata": {},
     "output_type": "execute_result"
    }
   ],
   "source": [
    "import pandas as pd\n",
    "import numpy \n",
    "data = pd.read_csv('ausair.csv')\n",
    "info_data = list(data['Passengers'])\n",
    "holt(0.59 , 0.43)"
   ]
  },
  {
   "cell_type": "code",
   "execution_count": 14,
   "metadata": {},
   "outputs": [
    {
     "data": {
      "text/plain": [
       "      fun: 9.841066897840715\n",
       " hess_inv: <2x2 LbfgsInvHessProduct with dtype=float64>\n",
       "      jac: array([ 9.76996262e-06, -7.99360578e-06])\n",
       "  message: b'CONVERGENCE: NORM_OF_PROJECTED_GRADIENT_<=_PGTOL'\n",
       "     nfev: 48\n",
       "      nit: 15\n",
       "   status: 0\n",
       "  success: True\n",
       "        x: array([0.83865144, 0.28304001])"
      ]
     },
     "execution_count": 14,
     "metadata": {},
     "output_type": "execute_result"
    }
   ],
   "source": [
    "bnds=((0,1),(0,1))\n",
    "minimize(lambda x: holt(x[0], x[1]), (0,0),bounds=bnds)"
   ]
  },
  {
   "cell_type": "code",
   "execution_count": 15,
   "metadata": {},
   "outputs": [
    {
     "data": {
      "text/plain": [
       "(9.841066897840715, array([0.83865144, 0.28304001]))"
      ]
     },
     "execution_count": 15,
     "metadata": {},
     "output_type": "execute_result"
    }
   ],
   "source": [
    "bnds = ((0,1),(0,1))\n",
    "result = minimize(lambda x: holt(x[0], x[1]), (0,0), bounds=bnds)\n",
    "alpha1, beta1 = result.x\n",
    "result.fun, result.x"
   ]
  },
  {
   "cell_type": "code",
   "execution_count": 16,
   "metadata": {},
   "outputs": [],
   "source": [
    "def holt_3(alfa,beta,years):\n",
    "    data = pd.read_csv('ausair.csv')\n",
    "    info_data = list(data['Passengers'])\n",
    "    info_data_real = copy.deepcopy(info_data)\n",
    "    data = list(data['Passengers'])\n",
    "    \n",
    "    \n",
    "    \n",
    "    b_n = data[1] - data[0]\n",
    "    a_f = data[0]\n",
    "    a_n = data[0]\n",
    "    data_prom = [a_n]\n",
    "    n = len(data)\n",
    "    \n",
    "    for i in range(1,len(data)):\n",
    "        data_prom.append(a_n+b_n)\n",
    "        a_n = alfa*data[i]+(1-alfa)*(a_n+b_n)\n",
    "        b_n = beta*(a_n-a_f)+(1-beta)*b_n\n",
    "        a_f = a_n\n",
    "    \n",
    "    n_1 = a_n+b_n;n_1\n",
    "    data_prom.append(n_1)\n",
    "    for i in range(years):\n",
    "        a_n = alfa*data_prom[-1]+(1-alfa)*(a_n+b_n)\n",
    "        b_n = beta*(a_n-a_f)+(1-beta)*b_n\n",
    "        a_f = a_n\n",
    "        data_prom.append(a_n+b_n)\n",
    "    \n",
    "    fig = matplotlib.pyplot.gcf()\n",
    "    fig.set_size_inches(12,5, forward=True)\n",
    "    plt.plot(info_data_real)\n",
    "    plt.plot(data_prom)\n",
    "    plt.legend()\n",
    "    plt.show()\n",
    "    return data_prom"
   ]
  },
  {
   "cell_type": "code",
   "execution_count": 17,
   "metadata": {},
   "outputs": [
    {
     "name": "stderr",
     "output_type": "stream",
     "text": [
      "No handles with labels found to put in legend.\n"
     ]
    },
    {
     "data": {
      "image/png": "[encoded data removed]",
      "text/plain": [
       "<Figure size 864x360 with 1 Axes>"
      ]
     },
     "metadata": {
      "needs_background": "light"
     },
     "output_type": "display_data"
    },
    {
     "data": {
      "text/plain": [
       "[7.32,\n",
       " 7.33,\n",
       " 7.34,\n",
       " 7.8449707419360335,\n",
       " 9.615889150647206,\n",
       " 11.222940722468007,\n",
       " 11.779019207858548,\n",
       " 11.482862035646518,\n",
       " 11.771438055576713,\n",
       " 12.5800458619116,\n",
       " 13.569732619126526,\n",
       " 14.276820782504942,\n",
       " 13.779428750689268,\n",
       " 13.534101886528987,\n",
       " 12.777984847979477,\n",
       " 13.302392791314901,\n",
       " 14.631142284981692,\n",
       " 15.965906592556763,\n",
       " 17.555587981349525,\n",
       " 19.73920047922159,\n",
       " 15.881284203968224,\n",
       " 17.70123072659514,\n",
       " 22.596639203067422,\n",
       " 25.395976272909795,\n",
       " 28.761279804942916,\n",
       " 28.826531365755265,\n",
       " 30.4648667552086,\n",
       " 31.68616755354229,\n",
       " 32.43810393051181,\n",
       " 31.388415957001758,\n",
       " 32.43025247918323,\n",
       " 33.472548597731766,\n",
       " 34.3972766256262,\n",
       " 40.289913825125296,\n",
       " 43.489415837886945,\n",
       " 43.73327343614248,\n",
       " 46.55887176534127,\n",
       " 49.028132644311896,\n",
       " 50.84857558000355,\n",
       " 53.609235540705676,\n",
       " 51.98062296570433,\n",
       " 62.67143332277466,\n",
       " 66.84095851179471,\n",
       " 69.91549367753053,\n",
       " 71.547474132965,\n",
       " 70.93011362042948,\n",
       " 71.94966010125114,\n",
       " 74.63353194021907,\n",
       " 76.77199528864989,\n",
       " 78.91045863708071,\n",
       " 81.04892198551153,\n",
       " 83.18738533394234,\n",
       " 85.32584868237316,\n",
       " 87.46431203080398,\n",
       " 89.6027753792348,\n",
       " 91.74123872766562,\n",
       " 93.87970207609644,\n",
       " 96.01816542452725]"
      ]
     },
     "execution_count": 17,
     "metadata": {},
     "output_type": "execute_result"
    }
   ],
   "source": [
    "import copy\n",
    "%matplotlib inline\n",
    "import matplotlib.pyplot as plt\n",
    "import matplotlib\n",
    "holt_3(result.x[0],result.x[1],10)"
   ]
  },
  {
   "cell_type": "markdown",
   "metadata": {},
   "source": [
    "<div class=\"alert alert-info\">\n",
    "\n",
    "<h3> Задание 2</h3>\n",
    "<p></p>\n",
    "<ul>1. Для модели Хольта с аддитивным затухающим трендом (задание 3 с предыдущего занятия) проделайте те же шаги, что и в задании 1. В данном случае кроме параметров $\\alpha$ и $\\beta$ необходимо также определить оптимальный параметр $\\phi$.</ul>\n",
    "<ul>2. Сравните на графике аппроксимации и прогнозы с помощью модели для линейного тренда и модели с аддитивным затухающим трендом.</ul>\n",
    "<p></p>\n",
    "  \n",
    "</div>"
   ]
  },
  {
   "cell_type": "code",
   "execution_count": null,
   "metadata": {},
   "outputs": [],
   "source": []
  },
  {
   "cell_type": "code",
   "execution_count": null,
   "metadata": {},
   "outputs": [],
   "source": []
  },
  {
   "cell_type": "code",
   "execution_count": null,
   "metadata": {},
   "outputs": [],
   "source": []
  }
 ],
 "metadata": {
  "kernelspec": {
   "display_name": "Python 3",
   "language": "python",
   "name": "python3"
  },
  "language_info": {
   "codemirror_mode": {
    "name": "ipython",
    "version": 3
   },
   "file_extension": ".py",
   "mimetype": "text/x-python",
   "name": "python",
   "nbconvert_exporter": "python",
   "pygments_lexer": "ipython3",
   "version": "3.7.4"
  }
 },
 "nbformat": 4,
 "nbformat_minor": 4
}
