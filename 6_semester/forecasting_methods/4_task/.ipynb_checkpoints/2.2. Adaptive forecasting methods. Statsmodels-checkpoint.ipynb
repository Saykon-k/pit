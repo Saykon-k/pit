{
 "cells": [
  {
   "cell_type": "markdown",
   "metadata": {},
   "source": [
    "# <center> Построение адаптивных моделей в statsmodels </center>"
   ]
  },
  {
   "cell_type": "code",
   "execution_count": null,
   "metadata": {},
   "outputs": [],
   "source": [
    "import pandas as pd\n",
    "import numpy as np\n",
    "\n",
    "import matplotlib.pyplot as plt\n",
    "%matplotlib inline"
   ]
  },
  {
   "cell_type": "markdown",
   "metadata": {},
   "source": [
    "В библиотеке **statsmodels** реализованы модели прогнозирования, в т. ч. модель Хольта-Уинтерса. Все рассмотренные ранее модели, в основе которых лежит метод экспоненциального сглаживания, реализованы в модуле `statsmodels.tsa.holtwinters`."
   ]
  },
  {
   "cell_type": "markdown",
   "metadata": {},
   "source": [
    "## 1. Простое экспоненциальное сглаживание"
   ]
  },
  {
   "cell_type": "markdown",
   "metadata": {},
   "source": [
    "Функция `SimpleExpSmoothing` предназначена для построения простого экспоненциального сглаживания. Построим модель экспоненциального сглаживания для прогнозирования объемов пассажирских авиаперевозок в Австралии."
   ]
  },
  {
   "cell_type": "code",
   "execution_count": null,
   "metadata": {},
   "outputs": [],
   "source": [
    "from statsmodels.tsa.holtwinters import SimpleExpSmoothing"
   ]
  },
  {
   "cell_type": "code",
   "execution_count": null,
   "metadata": {},
   "outputs": [],
   "source": [
    "ausair = pd.read_csv('data/ausair.csv', index_col='Year', parse_dates=True)\n",
    "ausair = ausair['Passengers'][20:]\n",
    "ausair.index = pd.DatetimeIndex(ausair.index, freq='YS')"
   ]
  },
  {
   "cell_type": "markdown",
   "metadata": {},
   "source": [
    "В качестве аргумента фукнции `SimpleExpSmoothing` выступает исходный временной ряд. Для опредения оптимального параметра сглаживания $\\alpha$ воспользуемся методом `fit()` модели."
   ]
  },
  {
   "cell_type": "code",
   "execution_count": null,
   "metadata": {},
   "outputs": [],
   "source": [
    "ses = SimpleExpSmoothing(ausair).fit()"
   ]
  },
  {
   "cell_type": "markdown",
   "metadata": {},
   "source": [
    "Помимо параметра сглаживания $\\alpha$ функция `SimpleExpSmoothing` определяет начальное значение уровня $l_0$, которое также влияет на результат прогнозирования. Значения $\\alpha$ и $l_0$ можно задать вручную:"
   ]
  },
  {
   "cell_type": "code",
   "execution_count": null,
   "metadata": {},
   "outputs": [],
   "source": [
    "y0 = ausair.values[0]\n",
    "ses_lvl = SimpleExpSmoothing(ausair).fit(smoothing_level=0.8, initial_level=y0, optimized=False)"
   ]
  },
  {
   "cell_type": "code",
   "execution_count": null,
   "metadata": {},
   "outputs": [],
   "source": [
    "plt.figure(figsize=(12, 4), dpi=150)\n",
    "ausair.plot(legend=True)\n",
    "ses.fittedvalues.rename(r'$\\alpha=%.2f$' % ses.model.params['smoothing_level'] + ', ' +\n",
    "                        r'$l_0=%.4f$' % ses.model.params['initial_level']).plot(legend=True)\n",
    "ses_lvl.fittedvalues.rename(r'$\\alpha=%.2f$' % ses_lvl.model.params['smoothing_level'] + ', ' +\n",
    "                            r'$l_0=%.4f$' % ses_lvl.model.params['initial_level']).plot(legend=True)\n",
    "plt.show()"
   ]
  },
  {
   "cell_type": "markdown",
   "metadata": {},
   "source": [
    "Для построения прогноза воспользуемся методом `.forecast()`, указав горизонт прогнозирования."
   ]
  },
  {
   "cell_type": "code",
   "execution_count": null,
   "metadata": {},
   "outputs": [],
   "source": [
    "ses_forecast = ses.forecast(10)\n",
    "ses_lvl_forecast = ses_lvl.forecast(10)"
   ]
  },
  {
   "cell_type": "code",
   "execution_count": null,
   "metadata": {},
   "outputs": [],
   "source": [
    "plt.figure(figsize=(12,4), dpi=150)\n",
    "ausair.plot(legend=True)\n",
    "ses_forecast.rename(r'$\\alpha=%.2f$' % ses.model.params['smoothing_level'] + ', ' +\n",
    "                    r'$l_0=%.4f$' % ses.model.params['initial_level']).plot(legend=True)\n",
    "ses_lvl_forecast.rename(r'$\\alpha=%.2f$' % ses_lvl.model.params['smoothing_level'] + ', ' +\n",
    "                        r'$l_0=%.4f$' % ses_lvl.model.params['initial_level']).plot(legend=True)\n",
    "plt.show()"
   ]
  },
  {
   "cell_type": "markdown",
   "metadata": {},
   "source": [
    "**Важно!** Если не задан период наблюдений, то statsmodels может построить прогноз с неожиданного индекса. Чтобы явно передать, для каких дат необходимо построить прогноз, можно воспользоваться методом `.predict(start, end)`."
   ]
  },
  {
   "cell_type": "code",
   "execution_count": null,
   "metadata": {},
   "outputs": [],
   "source": [
    "start = ausair.index[-1] + pd.DateOffset(years=1)\n",
    "end = start + pd.DateOffset(years=9)\n",
    "start, end"
   ]
  },
  {
   "cell_type": "code",
   "execution_count": null,
   "metadata": {},
   "outputs": [],
   "source": [
    "ses.predict(start=start, end=end)"
   ]
  },
  {
   "cell_type": "markdown",
   "metadata": {},
   "source": [
    "## 2. Метод Хольта"
   ]
  },
  {
   "cell_type": "markdown",
   "metadata": {},
   "source": [
    "Для рядов с трендом можно воспользоваться функцией `Holt`."
   ]
  },
  {
   "cell_type": "code",
   "execution_count": null,
   "metadata": {},
   "outputs": [],
   "source": [
    "from statsmodels.tsa.holtwinters import Holt"
   ]
  },
  {
   "cell_type": "code",
   "execution_count": null,
   "metadata": {},
   "outputs": [],
   "source": [
    "holt = Holt(ausair).fit()\n",
    "\n",
    "b0 = ausair.values[1] - ausair.values[0]\n",
    "holt_initial = Holt(ausair).fit(smoothing_level=0.59, smoothing_trend=0.43,\n",
    "                                initial_level=y0, initial_trend=b0, \n",
    "                                optimized=False)"
   ]
  },
  {
   "cell_type": "code",
   "execution_count": null,
   "metadata": {},
   "outputs": [],
   "source": [
    "alpha = holt_initial.model.params['smoothing_level']\n",
    "beta = holt_initial.model.params['smoothing_trend']\n",
    "l0 = holt_initial.model.params['initial_level']\n",
    "b0 = holt_initial.model.params['initial_trend']\n",
    "print('Best params: ')\n",
    "print('alpha = {:.2f},'.format(alpha), 'beta = {:.2f}'.format(beta))\n",
    "print('l0  = {:.2f},'.format(l0), 'b0 = {:.2f}'.format(b0))"
   ]
  },
  {
   "cell_type": "code",
   "execution_count": null,
   "metadata": {},
   "outputs": [],
   "source": [
    "plt.figure(figsize=(12,4), dpi=150)\n",
    "ausair.plot(legend=True)\n",
    "holt.fittedvalues.rename('Holt').plot(legend=True)\n",
    "holt_initial.fittedvalues.rename('Holt initial').plot(legend=True)\n",
    "plt.show()"
   ]
  },
  {
   "cell_type": "code",
   "execution_count": null,
   "metadata": {},
   "outputs": [],
   "source": [
    "#version 0.12.2\n",
    "#pip install -U statsmodels"
   ]
  },
  {
   "cell_type": "code",
   "execution_count": null,
   "metadata": {},
   "outputs": [],
   "source": [
    "import statsmodels\n",
    "statsmodels.__version__"
   ]
  },
  {
   "cell_type": "code",
   "execution_count": null,
   "metadata": {},
   "outputs": [],
   "source": [
    "holt_damped = Holt(ausair, damped_trend=True).fit()\n",
    "\n",
    "b0 = ausair.values[1] - ausair.values[0]\n",
    "holt_damped_initial = Holt(ausair, damped_trend=True).fit(smoothing_level=0.39, \n",
    "                                                          smoothing_trend=0.10,\n",
    "                                                          damping_trend=0.9,\n",
    "                                                          initial_level=y0, initial_trend=b0, \n",
    "                                                          optimized=False)"
   ]
  },
  {
   "cell_type": "code",
   "execution_count": null,
   "metadata": {},
   "outputs": [],
   "source": [
    "alpha = holt_damped.model.params['smoothing_level']\n",
    "beta = holt_damped.model.params['smoothing_trend']\n",
    "l0 = holt_damped.model.params['initial_level']\n",
    "b0 = holt_damped.model.params['initial_trend']\n",
    "phi = holt_damped.model.params['damping_trend']\n",
    "print('Best params: ')\n",
    "print('alpha = {:.2f},'.format(alpha), 'beta = {:.2f}'.format(beta), 'phi = {:.2f}'.format(phi))\n",
    "print('l0  = {:.2f},'.format(l0), 'b0 = {:.2f}'.format(b0))"
   ]
  },
  {
   "cell_type": "code",
   "execution_count": null,
   "metadata": {},
   "outputs": [],
   "source": [
    "plt.figure(figsize=(12,4), dpi=150)\n",
    "ausair.plot(legend=True)\n",
    "holt_damped.fittedvalues.rename('Holt').plot(legend=True)\n",
    "holt_damped_initial.fittedvalues.rename('Holt initial').plot(legend=True)\n",
    "plt.show()"
   ]
  },
  {
   "cell_type": "markdown",
   "metadata": {},
   "source": [
    "## 3. Метод Хольта-Уинтерса"
   ]
  },
  {
   "cell_type": "markdown",
   "metadata": {},
   "source": [
    "Модель Хольта-Уинтерса для рядов с сезонностью реализована в `ExponentialSmoothing`."
   ]
  },
  {
   "cell_type": "code",
   "execution_count": null,
   "metadata": {},
   "outputs": [],
   "source": [
    "from statsmodels.tsa.holtwinters import ExponentialSmoothing"
   ]
  },
  {
   "cell_type": "markdown",
   "metadata": {},
   "source": [
    "<a href='https://www.statsmodels.org/dev/generated/statsmodels.tsa.holtwinters.ExponentialSmoothing.html'>Документация</a>"
   ]
  },
  {
   "cell_type": "markdown",
   "metadata": {},
   "source": [
    "<div class=\"alert alert-info\">\n",
    "\n",
    "<h3> Задание</h3>\n",
    "<p></p>\n",
    "<ul>1. Постройте модель Хольта-Уинтерса для ряда <b>passengers.csv</b>.</ul>\n",
    "<ul>2. Оцените качество аппроксимации с помощью среднеквадратичной ошибки.</ul>\n",
    "<ul>3. Постройте прогноз на год вперед и отобразите его на графике.</ul>\n",
    "<p></p>\n",
    "  \n",
    "</div>"
   ]
  },
  {
   "cell_type": "code",
   "execution_count": null,
   "metadata": {},
   "outputs": [],
   "source": []
  },
  {
   "cell_type": "code",
   "execution_count": null,
   "metadata": {},
   "outputs": [],
   "source": []
  },
  {
   "cell_type": "code",
   "execution_count": null,
   "metadata": {},
   "outputs": [],
   "source": []
  },
  {
   "cell_type": "markdown",
   "metadata": {},
   "source": [
    "<div class=\"alert alert-warning\">\n",
    "\n",
    "<h3> Домашнее задание</h3>    \n",
    "    \n",
    "<p></p> \n",
    "Выполнять в отдельном файле!\n",
    "    \n",
    "<ul>1. Для <b>своего</b> ряда (см. папку Данные на de.unecon) определите наилучшую адаптивную модель прогнозирования. Для этого загрузите данные и отобразите их на графике. Есть ли в ряде тренд, сезонность?</ul>\n",
    "    \n",
    "<ul>2. С помощью библиотеки statsmodels обучите выбранную модель и постройте прогноз. Отобразите результат на графике.</ul>\n",
    "    \n",
    "<ul>3. Вычислите среднеквадратичную ошибку для оценки качества аппроксимации.</ul>\n",
    "<p></p>\n",
    "  \n",
    "</div>"
   ]
  }
 ],
 "metadata": {
  "kernelspec": {
   "display_name": "Python 3",
   "language": "python",
   "name": "python3"
  },
  "language_info": {
   "codemirror_mode": {
    "name": "ipython",
    "version": 3
   },
   "file_extension": ".py",
   "mimetype": "text/x-python",
   "name": "python",
   "nbconvert_exporter": "python",
   "pygments_lexer": "ipython3",
   "version": "3.7.4"
  }
 },
 "nbformat": 4,
 "nbformat_minor": 4
}
