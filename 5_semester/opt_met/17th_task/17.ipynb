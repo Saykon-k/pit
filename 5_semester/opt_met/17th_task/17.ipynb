{
 "cells": [
  {
   "cell_type": "markdown",
   "metadata": {},
   "source": [
    "# Сайков К.А\n",
    "##  ПМ - 1801\n",
    "### задание 17\n",
    "### Методы оптимизации"
   ]
  },
  {
   "cell_type": "code",
   "execution_count": 2,
   "metadata": {},
   "outputs": [
    {
     "data": {
      "text/latex": [
       "$\\displaystyle x_{1}^{2} + 2 x_{1} x_{2} - x_{1} x_{3} + x_{1} + 3 x_{2}^{2} + x_{2} x_{3} - 3 x_{2} + x_{3}^{2} - 5 x_{3}$"
      ],
      "text/plain": [
       "x1**2 + 2*x1*x2 - x1*x3 + x1 + 3*x2**2 + x2*x3 - 3*x2 + x3**2 - 5*x3"
      ]
     },
     "execution_count": 2,
     "metadata": {},
     "output_type": "execute_result"
    }
   ],
   "source": [
    "from sympy import *\n",
    "import numpy as np\n",
    "x1, x2, x3, t = symbols('x1 x2 x3 t')\n",
    "f_x1_x2_x3 = (x1**2)+(3*x2**2)+(x3**2)+(2*x1*x2)-(x1*x3)+(x2*x3)+(x1)-(3*x2)-(5*x3)\n",
    "varibles = [x1, x2, x3]\n",
    "#f_x1_x2_x3 = 2*x1**2+3*x2**2+4*x3**2+4*x1*x2+4*x1*x3+2*x2*x3+3*x1-x2+5\n",
    "f_x1_x2_x3"
   ]
  },
  {
   "cell_type": "code",
   "execution_count": 3,
   "metadata": {},
   "outputs": [
    {
     "data": {
      "text/latex": [
       "$\\displaystyle \\left[\\begin{matrix}2 & 2 & -1\\\\2 & 6 & 1\\\\-1 & 1 & 2\\end{matrix}\\right]$"
      ],
      "text/plain": [
       "Matrix([\n",
       "[ 2, 2, -1],\n",
       "[ 2, 6,  1],\n",
       "[-1, 1,  2]])"
      ]
     },
     "execution_count": 3,
     "metadata": {},
     "output_type": "execute_result"
    }
   ],
   "source": [
    "matrix_gesse_prom = []\n",
    "matrix_gesse = []\n",
    "for i in varibles:\n",
    "    for j in varibles:\n",
    "        matrix_gesse_prom.append(diff(f_x1_x2_x3,i,j))\n",
    "    matrix_gesse.append(matrix_gesse_prom.copy())\n",
    "    matrix_gesse_prom.clear()\n",
    "matrix_gesse = Matrix(matrix_gesse);matrix_gesse"
   ]
  },
  {
   "cell_type": "code",
   "execution_count": 4,
   "metadata": {},
   "outputs": [
    {
     "data": {
      "text/latex": [
       "$\\displaystyle \\left[\\begin{matrix}2 x_{1} + 2 x_{2} - x_{3} + 1\\\\2 x_{1} + 6 x_{2} + x_{3} - 3\\\\- x_{1} + x_{2} + 2 x_{3} - 5\\end{matrix}\\right]$"
      ],
      "text/plain": [
       "Matrix([\n",
       "[2*x1 + 2*x2 - x3 + 1],\n",
       "[2*x1 + 6*x2 + x3 - 3],\n",
       "[ -x1 + x2 + 2*x3 - 5]])"
      ]
     },
     "execution_count": 4,
     "metadata": {},
     "output_type": "execute_result"
    }
   ],
   "source": [
    "diff_f_x1 = diff(f_x1_x2_x3,x1)\n",
    "diff_f_x2 = diff(f_x1_x2_x3,x2)\n",
    "diff_f_x3 = diff(f_x1_x2_x3,x3)\n",
    "gradient_prom = Matrix([diff_f_x1,diff_f_x2,diff_f_x3]);gradient_prom"
   ]
  },
  {
   "cell_type": "code",
   "execution_count": 19,
   "metadata": {},
   "outputs": [
    {
     "data": {
      "text/latex": [
       "$\\displaystyle \\left[\\begin{matrix}-1\\\\3\\\\5\\end{matrix}\\right]$"
      ],
      "text/plain": [
       "Matrix([\n",
       "[-1],\n",
       "[ 3],\n",
       "[ 5]])"
      ]
     },
     "execution_count": 19,
     "metadata": {},
     "output_type": "execute_result"
    }
   ],
   "source": [
    "x_vect = Matrix([0,0,0])\n",
    "s_o = []\n",
    "for i in gradient_prom:\n",
    "    f_prom= lambdify([x1,x2,x3], i)\n",
    "    s_o.append((-1)*f_prom(x_vect[0],x_vect[1],x_vect[2]))\n",
    "s_o = Matrix(s_o);s_o"
   ]
  },
  {
   "cell_type": "code",
   "execution_count": 20,
   "metadata": {},
   "outputs": [
    {
     "data": {
      "text/latex": [
       "$\\displaystyle \\left[\\begin{matrix}-1\\\\3\\\\5\\end{matrix}\\right]$"
      ],
      "text/plain": [
       "Matrix([\n",
       "[-1],\n",
       "[ 3],\n",
       "[ 5]])"
      ]
     },
     "execution_count": 20,
     "metadata": {},
     "output_type": "execute_result"
    }
   ],
   "source": [
    "gradient_prom_minus = []\n",
    "for i in gradient_prom:\n",
    "    f_prom= lambdify([x1,x2,x3], i)\n",
    "    gradient_prom_minus.append((-1)*f_prom(x_vect[0],x_vect[1],x_vect[2]))\n",
    "gradient_prom_minus = Matrix(gradient_prom_minus);gradient_prom_minus"
   ]
  },
  {
   "cell_type": "code",
   "execution_count": 21,
   "metadata": {},
   "outputs": [],
   "source": [
    "t_o = (transpose(s_o)*gradient_prom_minus)[0]/(transpose(s_o)*matrix_gesse* s_o)[0]"
   ]
  },
  {
   "cell_type": "code",
   "execution_count": 22,
   "metadata": {},
   "outputs": [
    {
     "data": {
      "text/latex": [
       "$\\displaystyle \\frac{35}{134}$"
      ],
      "text/plain": [
       "35/134"
      ]
     },
     "execution_count": 22,
     "metadata": {},
     "output_type": "execute_result"
    }
   ],
   "source": [
    "t_o"
   ]
  },
  {
   "cell_type": "code",
   "execution_count": 23,
   "metadata": {},
   "outputs": [],
   "source": [
    "x1_step = x_vect+t_o*s_o"
   ]
  },
  {
   "cell_type": "code",
   "execution_count": 24,
   "metadata": {},
   "outputs": [
    {
     "data": {
      "text/latex": [
       "$\\displaystyle \\left[\\begin{matrix}\\frac{99}{134}\\\\\\frac{333}{134}\\\\- \\frac{90}{67}\\end{matrix}\\right]$"
      ],
      "text/plain": [
       "Matrix([\n",
       "[ 99/134],\n",
       "[333/134],\n",
       "[ -90/67]])"
      ]
     },
     "execution_count": 24,
     "metadata": {},
     "output_type": "execute_result"
    }
   ],
   "source": [
    "grad_x1 = []\n",
    "for i in gradient_prom:\n",
    "    f_prom= lambdify([x1,x2,x3], i)\n",
    "    grad_x1.append(f_prom(x1_step[0],x1_step[1],x1_step[2]))\n",
    "grad_x1 = Matrix(grad_x1);grad_x1"
   ]
  },
  {
   "cell_type": "code",
   "execution_count": 25,
   "metadata": {},
   "outputs": [],
   "source": [
    "bet_o = (transpose(matrix_gesse*s_o)*grad_x1)[0]/(transpose(matrix_gesse*s_o)*s_o)[0]"
   ]
  },
  {
   "cell_type": "code",
   "execution_count": 26,
   "metadata": {},
   "outputs": [
    {
     "data": {
      "text/latex": [
       "$\\displaystyle \\left[\\begin{matrix}\\frac{2187}{67}\\end{matrix}\\right]$"
      ],
      "text/plain": [
       "Matrix([[2187/67]])"
      ]
     },
     "execution_count": 26,
     "metadata": {},
     "output_type": "execute_result"
    }
   ],
   "source": [
    "transpose(matrix_gesse*s_o)*grad_x1"
   ]
  },
  {
   "cell_type": "code",
   "execution_count": 27,
   "metadata": {},
   "outputs": [
    {
     "data": {
      "text/latex": [
       "$\\displaystyle \\left[\\begin{matrix}134\\end{matrix}\\right]$"
      ],
      "text/plain": [
       "Matrix([[134]])"
      ]
     },
     "execution_count": 27,
     "metadata": {},
     "output_type": "execute_result"
    }
   ],
   "source": [
    "(transpose(matrix_gesse*s_o)*s_o)"
   ]
  },
  {
   "cell_type": "code",
   "execution_count": 28,
   "metadata": {},
   "outputs": [
    {
     "data": {
      "text/latex": [
       "$\\displaystyle \\frac{2187}{8978}$"
      ],
      "text/plain": [
       "2187/8978"
      ]
     },
     "execution_count": 28,
     "metadata": {},
     "output_type": "execute_result"
    }
   ],
   "source": [
    "bet_o"
   ]
  },
  {
   "cell_type": "code",
   "execution_count": 29,
   "metadata": {},
   "outputs": [
    {
     "data": {
      "text/latex": [
       "$\\displaystyle \\left[\\begin{matrix}- \\frac{4410}{4489}\\\\- \\frac{7875}{4489}\\\\\\frac{22995}{8978}\\end{matrix}\\right]$"
      ],
      "text/plain": [
       "Matrix([\n",
       "[-4410/4489],\n",
       "[-7875/4489],\n",
       "[22995/8978]])"
      ]
     },
     "execution_count": 29,
     "metadata": {},
     "output_type": "execute_result"
    }
   ],
   "source": [
    "s_1 = (-1)*grad_x1+bet_o*s_o;s_1"
   ]
  },
  {
   "cell_type": "code",
   "execution_count": 30,
   "metadata": {},
   "outputs": [
    {
     "name": "stdout",
     "output_type": "stream",
     "text": [
      "Matrix([[7/2], [-3/2], [5]])\n",
      "2\n"
     ]
    }
   ],
   "source": [
    "x_vect = Matrix([0,0,0])\n",
    "x_vect_2 = Matrix([0,0,0])\n",
    "s_o = []\n",
    "s_1 = []\n",
    "\n",
    "for i in gradient_prom:\n",
    "    f_prom= lambdify([x1,x2,x3], i)\n",
    "    s_o.append((-1)*f_prom(x_vect[0],x_vect[1],x_vect[2]))\n",
    "s_o = Matrix(s_o);s_o\n",
    "\n",
    "for m in range(6):\n",
    "    \n",
    "    gradient_prom_minus = []\n",
    "    for i in gradient_prom:\n",
    "        f_prom= lambdify([x1,x2,x3], i)\n",
    "        gradient_prom_minus.append((-1)*f_prom(x_vect[0],x_vect[1],x_vect[2]))\n",
    "    gradient_prom_minus = Matrix(gradient_prom_minus);gradient_prom_minus\n",
    "    t_o = (transpose(s_o)*gradient_prom_minus)[0]/(transpose(s_o)*matrix_gesse* s_o)[0]\n",
    "    x_vect_2 = x_vect+t_o*s_o\n",
    "\n",
    "    grad_x1 = []\n",
    "    for i in gradient_prom:\n",
    "        f_prom= lambdify([x1,x2,x3], i)\n",
    "        grad_x1.append(f_prom(x_vect_2[0],x_vect_2[1],x_vect_2[2]))\n",
    "    grad_x1 = Matrix(grad_x1);grad_x1\n",
    "    \n",
    "    if grad_x1 == Matrix([0,0,0]):\n",
    "        print(x_vect_2)\n",
    "        print(m)\n",
    "        break\n",
    "        \n",
    "    bet_o = (transpose(matrix_gesse*s_o)*grad_x1)[0]/(transpose(matrix_gesse*s_o)*s_o)[0]\n",
    "    s_o = (-1)*grad_x1+bet_o*s_o;s_o\n",
    "    x_vect = x_vect_2"
   ]
  },
  {
   "cell_type": "code",
   "execution_count": 31,
   "metadata": {},
   "outputs": [
    {
     "data": {
      "text/latex": [
       "$\\displaystyle -5.56787330316742$"
      ],
      "text/plain": [
       "-5.56787330316742"
      ]
     },
     "execution_count": 31,
     "metadata": {},
     "output_type": "execute_result"
    }
   ],
   "source": [
    "f_prom= lambdify([x1,x2,x3],f_x1_x2_x3)\n",
    "N(f_prom(x_vect[0],x_vect[1],x_vect[2]))"
   ]
  },
  {
   "cell_type": "code",
   "execution_count": null,
   "metadata": {},
   "outputs": [],
   "source": []
  }
 ],
 "metadata": {
  "kernelspec": {
   "display_name": "Python 3",
   "language": "python",
   "name": "python3"
  },
  "language_info": {
   "codemirror_mode": {
    "name": "ipython",
    "version": 3
   },
   "file_extension": ".py",
   "mimetype": "text/x-python",
   "name": "python",
   "nbconvert_exporter": "python",
   "pygments_lexer": "ipython3",
   "version": "3.7.4"
  }
 },
 "nbformat": 4,
 "nbformat_minor": 2
}
