{
 "cells": [
  {
   "cell_type": "code",
   "execution_count": 1,
   "metadata": {},
   "outputs": [
    {
     "data": {
      "text/latex": [
       "$\\displaystyle x_{1}^{2} + 2 x_{1} x_{2} - x_{1} x_{3} + x_{1} + 3 x_{2}^{2} + x_{2} x_{3} - 3 x_{2} + x_{3}^{2} - 5 x_{3}$"
      ],
      "text/plain": [
       "x1**2 + 2*x1*x2 - x1*x3 + x1 + 3*x2**2 + x2*x3 - 3*x2 + x3**2 - 5*x3"
      ]
     },
     "execution_count": 1,
     "metadata": {},
     "output_type": "execute_result"
    }
   ],
   "source": [
    "from sympy import *\n",
    "import numpy as np\n",
    "\n",
    "x1, x2, x3 = symbols('x1 x2 x3')\n",
    "f_x1_x2_x3 = (x1**2)+(3*x2**2)+(x3**2)+(2*x1*x2)-(x1*x3)+(x2*x3)+(x1)-(3*x2)-(5*x3)\n",
    "f_x1_x2_x3"
   ]
  },
  {
   "cell_type": "code",
   "execution_count": 2,
   "metadata": {},
   "outputs": [
    {
     "name": "stdout",
     "output_type": "stream",
     "text": [
      "2*x1 + 2*x2 - x3 + 1\n"
     ]
    },
    {
     "data": {
      "text/plain": [
       "dict_keys([1, x3, x1, x2])"
      ]
     },
     "execution_count": 2,
     "metadata": {},
     "output_type": "execute_result"
    }
   ],
   "source": [
    "df_x1 = diff(f_x1_x2_x3,x1)\n",
    "print(df_x1)\n",
    "df_x1_coef = df_x1.as_coefficients_dict() \n",
    "df_x1_coef.keys()"
   ]
  },
  {
   "cell_type": "code",
   "execution_count": 12,
   "metadata": {},
   "outputs": [
    {
     "data": {
      "text/latex": [
       "$\\displaystyle \\left[\\begin{matrix}2 & 2 & -1\\\\2 & 6 & 1\\\\-1 & 1 & 2\\end{matrix}\\right]$"
      ],
      "text/plain": [
       "Matrix([\n",
       "[ 2, 2, -1],\n",
       "[ 2, 6,  1],\n",
       "[-1, 1,  2]])"
      ]
     },
     "execution_count": 12,
     "metadata": {},
     "output_type": "execute_result"
    }
   ],
   "source": [
    "prom = []\n",
    "gesse = []\n",
    "for i in [x1,x2,x3]:\n",
    "    for j in [x1,x2,x3]:\n",
    "        prom.append(diff(diff(f_x1_x2_x3,j),i))\n",
    "    gesse.append(prom.copy())\n",
    "    prom.clear()\n",
    "gesse = Matrix(gesse);gesse"
   ]
  },
  {
   "cell_type": "code",
   "execution_count": 10,
   "metadata": {},
   "outputs": [
    {
     "data": {
      "text/latex": [
       "$\\displaystyle 4$"
      ],
      "text/plain": [
       "4"
      ]
     },
     "execution_count": 10,
     "metadata": {},
     "output_type": "execute_result"
    }
   ],
   "source": [
    "gesse.det()"
   ]
  },
  {
   "cell_type": "code",
   "execution_count": 30,
   "metadata": {},
   "outputs": [
    {
     "name": "stdout",
     "output_type": "stream",
     "text": [
      "8\n"
     ]
    },
    {
     "data": {
      "text/latex": [
       "$\\displaystyle \\left[\\begin{matrix}2 & 2\\\\2 & 6\\end{matrix}\\right]$"
      ],
      "text/plain": [
       "Matrix([\n",
       "[2, 2],\n",
       "[2, 6]])"
      ]
     },
     "execution_count": 30,
     "metadata": {},
     "output_type": "execute_result"
    }
   ],
   "source": [
    "print(gesse.minor(-1, -1))\n",
    "gesse.minor_submatrix(-1, -1)"
   ]
  },
  {
   "cell_type": "code",
   "execution_count": null,
   "metadata": {},
   "outputs": [],
   "source": []
  }
 ],
 "metadata": {
  "kernelspec": {
   "display_name": "Python 3",
   "language": "python",
   "name": "python3"
  },
  "language_info": {
   "codemirror_mode": {
    "name": "ipython",
    "version": 3
   },
   "file_extension": ".py",
   "mimetype": "text/x-python",
   "name": "python",
   "nbconvert_exporter": "python",
   "pygments_lexer": "ipython3",
   "version": "3.7.4"
  }
 },
 "nbformat": 4,
 "nbformat_minor": 2
}
