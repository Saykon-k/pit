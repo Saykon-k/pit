{
 "cells": [
  {
   "cell_type": "markdown",
   "metadata": {},
   "source": [
    "# Сайков К.А\n",
    "##  ПМ - 1801\n",
    "### задание 18\n",
    "### Методы оптимизации"
   ]
  },
  {
   "cell_type": "code",
   "execution_count": 52,
   "metadata": {},
   "outputs": [
    {
     "data": {
      "text/latex": [
       "$\\displaystyle 20 x_{1}^{2} - 10 x_{1} x_{2} - 5 x_{1} x_{3} + 25 x_{1} + 5 x_{2}^{2} - 12 x_{2} x_{3} - 20 x_{2} + 13 x_{3}^{2} - 30 x_{3}$"
      ],
      "text/plain": [
       "20*x1**2 - 10*x1*x2 - 5*x1*x3 + 25*x1 + 5*x2**2 - 12*x2*x3 - 20*x2 + 13*x3**2 - 30*x3"
      ]
     },
     "execution_count": 52,
     "metadata": {},
     "output_type": "execute_result"
    }
   ],
   "source": [
    "from sympy import *\n",
    "import numpy as np\n",
    "x1, x2, x3, t = symbols('x1 x2 x3 t')\n",
    "f_x1_x2_x3 = 20*x1**2+5*x2**2+13*x3**2-10*x1*x2-5*x1*x3-12*x2*x3+25*x1-20*x2-30*x3\n",
    "constrain_1 = x1+10*x2+10*x3-1000\n",
    "constrain_2 = 3*x1+15*x2+2*x3-700\n",
    "varibles = [x1, x2, x3]\n",
    "f_x1_x2_x3"
   ]
  },
  {
   "cell_type": "code",
   "execution_count": 54,
   "metadata": {},
   "outputs": [
    {
     "data": {
      "text/latex": [
       "$\\displaystyle - \\log{\\left(- 3 x_{1} - 15 x_{2} - 2 x_{3} + 700 \\right)} - \\log{\\left(- x_{1} - 10 x_{2} - 10 x_{3} + 1000 \\right)}$"
      ],
      "text/plain": [
       "-log(-3*x1 - 15*x2 - 2*x3 + 700) - log(-x1 - 10*x2 - 10*x3 + 1000)"
      ]
     },
     "execution_count": 54,
     "metadata": {},
     "output_type": "execute_result"
    }
   ],
   "source": [
    "tax_f = (-1)*ln((-1)*constrain_1)-ln((-1)*constrain_2);tax_f\n",
    "big_f = f_x1_x2_x3 + t*tax_f  \n",
    "tax_f"
   ]
  },
  {
   "cell_type": "code",
   "execution_count": 40,
   "metadata": {},
   "outputs": [
    {
     "data": {
      "text/latex": [
       "$\\displaystyle \\left[\\begin{matrix}t \\left(\\frac{1}{\\left(- x_{1} - 10 x_{2} - 10 x_{3} + 1000\\right)^{2}} + \\frac{9}{\\left(- 3 x_{1} - 15 x_{2} - 2 x_{3} + 700\\right)^{2}}\\right) + 40 & t \\left(\\frac{10}{\\left(- x_{1} - 10 x_{2} - 10 x_{3} + 1000\\right)^{2}} + \\frac{45}{\\left(- 3 x_{1} - 15 x_{2} - 2 x_{3} + 700\\right)^{2}}\\right) - 10 & t \\left(\\frac{10}{\\left(- x_{1} - 10 x_{2} - 10 x_{3} + 1000\\right)^{2}} + \\frac{6}{\\left(- 3 x_{1} - 15 x_{2} - 2 x_{3} + 700\\right)^{2}}\\right) - 5\\\\t \\left(\\frac{10}{\\left(- x_{1} - 10 x_{2} - 10 x_{3} + 1000\\right)^{2}} + \\frac{45}{\\left(- 3 x_{1} - 15 x_{2} - 2 x_{3} + 700\\right)^{2}}\\right) - 10 & t \\left(\\frac{100}{\\left(- x_{1} - 10 x_{2} - 10 x_{3} + 1000\\right)^{2}} + \\frac{225}{\\left(- 3 x_{1} - 15 x_{2} - 2 x_{3} + 700\\right)^{2}}\\right) + 10 & t \\left(\\frac{100}{\\left(- x_{1} - 10 x_{2} - 10 x_{3} + 1000\\right)^{2}} + \\frac{30}{\\left(- 3 x_{1} - 15 x_{2} - 2 x_{3} + 700\\right)^{2}}\\right) - 12\\\\t \\left(\\frac{10}{\\left(- x_{1} - 10 x_{2} - 10 x_{3} + 1000\\right)^{2}} + \\frac{6}{\\left(- 3 x_{1} - 15 x_{2} - 2 x_{3} + 700\\right)^{2}}\\right) - 5 & t \\left(\\frac{100}{\\left(- x_{1} - 10 x_{2} - 10 x_{3} + 1000\\right)^{2}} + \\frac{30}{\\left(- 3 x_{1} - 15 x_{2} - 2 x_{3} + 700\\right)^{2}}\\right) - 12 & t \\left(\\frac{100}{\\left(- x_{1} - 10 x_{2} - 10 x_{3} + 1000\\right)^{2}} + \\frac{4}{\\left(- 3 x_{1} - 15 x_{2} - 2 x_{3} + 700\\right)^{2}}\\right) + 26\\end{matrix}\\right]$"
      ],
      "text/plain": [
       "Matrix([\n",
       "[ t*((-x1 - 10*x2 - 10*x3 + 1000)**(-2) + 9/(-3*x1 - 15*x2 - 2*x3 + 700)**2) + 40,   t*(10/(-x1 - 10*x2 - 10*x3 + 1000)**2 + 45/(-3*x1 - 15*x2 - 2*x3 + 700)**2) - 10,    t*(10/(-x1 - 10*x2 - 10*x3 + 1000)**2 + 6/(-3*x1 - 15*x2 - 2*x3 + 700)**2) - 5],\n",
       "[t*(10/(-x1 - 10*x2 - 10*x3 + 1000)**2 + 45/(-3*x1 - 15*x2 - 2*x3 + 700)**2) - 10, t*(100/(-x1 - 10*x2 - 10*x3 + 1000)**2 + 225/(-3*x1 - 15*x2 - 2*x3 + 700)**2) + 10, t*(100/(-x1 - 10*x2 - 10*x3 + 1000)**2 + 30/(-3*x1 - 15*x2 - 2*x3 + 700)**2) - 12],\n",
       "[  t*(10/(-x1 - 10*x2 - 10*x3 + 1000)**2 + 6/(-3*x1 - 15*x2 - 2*x3 + 700)**2) - 5,  t*(100/(-x1 - 10*x2 - 10*x3 + 1000)**2 + 30/(-3*x1 - 15*x2 - 2*x3 + 700)**2) - 12,  t*(100/(-x1 - 10*x2 - 10*x3 + 1000)**2 + 4/(-3*x1 - 15*x2 - 2*x3 + 700)**2) + 26]])"
      ]
     },
     "execution_count": 40,
     "metadata": {},
     "output_type": "execute_result"
    }
   ],
   "source": [
    "hessian(big_f,(x1,x2,x3))"
   ]
  },
  {
   "cell_type": "code",
   "execution_count": 41,
   "metadata": {},
   "outputs": [],
   "source": [
    "def newton(big_F, x_vect, iter_1, eps, t_prom):\n",
    "    x_step = Matrix([x_vect[0]+1,x_vect[1]+1,x_vect[2]+1])\n",
    "    x_vect = x_vect \n",
    "    x_prom_vect = []\n",
    "    f_prom= lambdify([x1,x2,x3,t], big_f)\n",
    "\n",
    "    gradient_prom = Matrix([diff(big_f,x1),diff(big_f,x2),diff(big_f,x3)])\n",
    "    f_prom_1 = lambdify([x1,x2,x3,t], gradient_prom)\n",
    "\n",
    "    gess = hessian(big_f,(x1,x2,x3))\n",
    "    f_prom_2 = lambdify([x1,x2,x3,t], gess)\n",
    "    \n",
    "    for i in range(iter_1):\n",
    "\n",
    "        prom_error_1 = abs(f_prom(float(x_vect[0]),\n",
    "                                  float(x_vect[1]),\n",
    "                                  float(x_vect[2]),\n",
    "                                  float(t_prom))-f_prom(float(x_step[0]),float(x_step[1]),float(x_step[2]),float(t_prom)))\n",
    "        prim_error_2 = 1+abs(f_prom(float(x_vect[0]),float(x_vect[1]),float(x_vect[2]),float(t_prom)))\n",
    "        if prom_error_1/prim_error_2<eps:\n",
    "            break\n",
    "        \n",
    "        x_step = x_vect.copy()\n",
    "\n",
    "        prom_1 = f_prom_1(x_vect[0],x_vect[1],x_vect[2],t_prom)\n",
    "        \n",
    "        prom_2 = f_prom_2(x_vect[0],x_vect[1],x_vect[2],t_prom)\n",
    "        \n",
    "        prom_1 = Matrix([prom_1[0],prom_1[1],prom_1[2]])\n",
    "        \n",
    "        prom_2 = Matrix([prom_2[0],prom_2[1],prom_2[2]])\n",
    "\n",
    "\n",
    "        x_vect = x_vect - (prom_2**(-1)*prom_1)\n",
    "    return x_vect\n"
   ]
  },
  {
   "cell_type": "code",
   "execution_count": 55,
   "metadata": {},
   "outputs": [
    {
     "name": "stdout",
     "output_type": "stream",
     "text": [
      "40\n"
     ]
    }
   ],
   "source": [
    "eps = 0.0001\n",
    "x_vect = Matrix([3,4,5])\n",
    "xex =  Matrix([0,1,1])\n",
    "f_prom= lambdify([x1,x2,x3,t], big_f)\n",
    "t_prom = 1000\n",
    "for i in range(1000):\n",
    "    prom_1 = f_prom(float(x_vect[0]),float(x_vect[1]),float(x_vect[2]),float(t_prom))\n",
    "    prom_2 = f_prom(float(xex[0]),float(xex[1]),float(xex[2]),float(t_prom))\n",
    "    prom_3 = 1+abs(f_prom(float(x_vect[0]),float(x_vect[1]),float(x_vect[2]),float(t_prom)))\n",
    "    if abs(prom_1-prom_2)/prom_3 < eps:\n",
    "        print(i)\n",
    "        break\n",
    "    t_prom *= 0.9\n",
    "    xex = x_vect.copy()\n",
    "\n",
    "    x_vect = newton(big_f, x_vect, 850, eps, t_prom)\n",
    "    "
   ]
  },
  {
   "cell_type": "code",
   "execution_count": 56,
   "metadata": {},
   "outputs": [
    {
     "data": {
      "text/plain": [
       "-805.6307727763137"
      ]
     },
     "execution_count": 56,
     "metadata": {},
     "output_type": "execute_result"
    }
   ],
   "source": [
    "f_prom(float(x_vect[0]),float(x_vect[1]),float(x_vect[2]),float(t_prom))"
   ]
  },
  {
   "cell_type": "code",
   "execution_count": 57,
   "metadata": {},
   "outputs": [
    {
     "data": {
      "text/plain": [
       "-659.3775223974294"
      ]
     },
     "execution_count": 57,
     "metadata": {},
     "output_type": "execute_result"
    }
   ],
   "source": [
    "f_prom= lambdify([x1,x2,x3], f_x1_x2_x3)\n",
    "f_prom(float(x_vect[0]),float(x_vect[1]),float(x_vect[2]))"
   ]
  },
  {
   "cell_type": "code",
   "execution_count": 58,
   "metadata": {},
   "outputs": [
    {
     "data": {
      "text/latex": [
       "$\\displaystyle \\left[\\begin{matrix}11.5315971162728\\\\38.2287825621656\\\\20.9786170520651\\end{matrix}\\right]$"
      ],
      "text/plain": [
       "Matrix([\n",
       "[11.5315971162728],\n",
       "[38.2287825621656],\n",
       "[20.9786170520651]])"
      ]
     },
     "execution_count": 58,
     "metadata": {},
     "output_type": "execute_result"
    }
   ],
   "source": [
    "x_vect"
   ]
  },
  {
   "cell_type": "code",
   "execution_count": null,
   "metadata": {},
   "outputs": [],
   "source": []
  }
 ],
 "metadata": {
  "kernelspec": {
   "display_name": "Python 3",
   "language": "python",
   "name": "python3"
  },
  "language_info": {
   "codemirror_mode": {
    "name": "ipython",
    "version": 3
   },
   "file_extension": ".py",
   "mimetype": "text/x-python",
   "name": "python",
   "nbconvert_exporter": "python",
   "pygments_lexer": "ipython3",
   "version": "3.7.4"
  }
 },
 "nbformat": 4,
 "nbformat_minor": 2
}
