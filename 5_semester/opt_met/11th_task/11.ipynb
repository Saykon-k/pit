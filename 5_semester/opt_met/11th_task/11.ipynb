{
 "cells": [
  {
   "cell_type": "code",
   "execution_count": 1,
   "metadata": {},
   "outputs": [
    {
     "name": "stdout",
     "output_type": "stream",
     "text": [
      "x1: 0.0\n",
      "x2: 5.0\n",
      "objective: -15.0\n"
     ]
    }
   ],
   "source": [
    "from pulp import LpMaximize, LpProblem, LpStatus, lpSum, LpVariable\n",
    "\n",
    "model = LpProblem(name=\"small-problem\", sense=LpMaximize)\n",
    "\n",
    "# Initialize x1,x2\n",
    "x1 = LpVariable(name=\"x1\", lowBound=0, cat=\"Integer\")\n",
    "x2 = LpVariable(name=\"x2\", lowBound=0, cat=\"Integer\")\n",
    "\n",
    "#constraints\n",
    "model += ( x1 + x2 >= 5, \"red_constraint\")\n",
    "model += (1 +   x2 <= 15, \"blue_constraint\")\n",
    "model += (1/10*x2 <= 3, \"yellow_constraint\")\n",
    "model += (2.4*x1 <= 2, \"green_constraint\")\n",
    "\n",
    "# objective function\n",
    "model += lpSum([x1, (-3) * x2])\n",
    "\n",
    "# Solve the problem\n",
    "status = model.solve()\n",
    "for var in model.variables():\n",
    "     print(f\"{var.name}: {var.value()}\")\n",
    "print(f\"objective: {model.objective.value()}\")"
   ]
  },
  {
   "cell_type": "code",
   "execution_count": 2,
   "metadata": {},
   "outputs": [
    {
     "name": "stdout",
     "output_type": "stream",
     "text": [
      "x1: 0.83333333\n",
      "x2: 4.1666667\n",
      "objective: -11.66666677\n"
     ]
    }
   ],
   "source": [
    "from pulp import LpMaximize, LpProblem, LpStatus, lpSum, LpVariable\n",
    "\n",
    "model = LpProblem(name=\"small-problem\", sense=LpMaximize)\n",
    "\n",
    "# Initialize x1,x2\n",
    "x1 = LpVariable(name=\"x1\", lowBound=0)\n",
    "x2 = LpVariable(name=\"x2\", lowBound=0)\n",
    "\n",
    "#constraints\n",
    "model += ( x1 + x2 >= 5, \"red_constraint\")\n",
    "model += (1 +   x2 <= 15, \"blue_constraint\")\n",
    "model += (1/10*x2 <= 3, \"yellow_constraint\")\n",
    "model += (2.4*x1 <= 2, \"green_constraint\")\n",
    "\n",
    "# objective function\n",
    "model += lpSum([x1, (-3) * x2])\n",
    "\n",
    "# Solve the problem\n",
    "status = model.solve()\n",
    "for var in model.variables():\n",
    "     print(f\"{var.name}: {var.value()}\")\n",
    "print(f\"objective: {model.objective.value()}\")"
   ]
  },
  {
   "cell_type": "code",
   "execution_count": null,
   "metadata": {},
   "outputs": [],
   "source": []
  }
 ],
 "metadata": {
  "kernelspec": {
   "display_name": "Python 3",
   "language": "python",
   "name": "python3"
  },
  "language_info": {
   "codemirror_mode": {
    "name": "ipython",
    "version": 3
   },
   "file_extension": ".py",
   "mimetype": "text/x-python",
   "name": "python",
   "nbconvert_exporter": "python",
   "pygments_lexer": "ipython3",
   "version": "3.7.4"
  }
 },
 "nbformat": 4,
 "nbformat_minor": 2
}
