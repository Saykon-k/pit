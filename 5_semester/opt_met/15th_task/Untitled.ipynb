{
 "cells": [
  {
   "cell_type": "code",
   "execution_count": 1,
   "metadata": {},
   "outputs": [
    {
     "data": {
      "text/latex": [
       "$\\displaystyle x_{1}^{2} + 2 x_{1} x_{2} - x_{1} x_{3} + x_{1} + 3 x_{2}^{2} + x_{2} x_{3} - 3 x_{2} + x_{3}^{2} - 5 x_{3}$"
      ],
      "text/plain": [
       "x1**2 + 2*x1*x2 - x1*x3 + x1 + 3*x2**2 + x2*x3 - 3*x2 + x3**2 - 5*x3"
      ]
     },
     "execution_count": 1,
     "metadata": {},
     "output_type": "execute_result"
    }
   ],
   "source": [
    "from sympy import *\n",
    "import numpy as np\n",
    "\n",
    "x1, x2, x3, t, x1_, x2_, x3_ = symbols('x1 x2 x3 t x1_ x2_ x3_')\n",
    "f_x1_x2_x3 = (x1**2)+(3*x2**2)+(x3**2)+(2*x1*x2)-(x1*x3)+(x2*x3)+(x1)-(3*x2)-(5*x3)\n",
    "f_x1_x2_x3"
   ]
  },
  {
   "cell_type": "code",
   "execution_count": 2,
   "metadata": {},
   "outputs": [
    {
     "name": "stdout",
     "output_type": "stream",
     "text": [
      "2*x1 + 2*x2 - x3 + 1\n"
     ]
    },
    {
     "data": {
      "text/plain": [
       "dict_keys([1, x3, x1, x2])"
      ]
     },
     "execution_count": 2,
     "metadata": {},
     "output_type": "execute_result"
    }
   ],
   "source": [
    "df_x1 = diff(f_x1_x2_x3,x1)\n",
    "print(df_x1)\n",
    "df_x1_coef = df_x1.as_coefficients_dict() \n",
    "df_x1_coef.keys()"
   ]
  },
  {
   "cell_type": "code",
   "execution_count": 3,
   "metadata": {},
   "outputs": [
    {
     "data": {
      "text/latex": [
       "$\\displaystyle \\left[\\begin{matrix}2 & 2 & -1\\\\2 & 6 & 1\\\\-1 & 1 & 2\\end{matrix}\\right]$"
      ],
      "text/plain": [
       "Matrix([\n",
       "[ 2, 2, -1],\n",
       "[ 2, 6,  1],\n",
       "[-1, 1,  2]])"
      ]
     },
     "execution_count": 3,
     "metadata": {},
     "output_type": "execute_result"
    }
   ],
   "source": [
    "prom = []\n",
    "gesse = []\n",
    "for i in [x1,x2,x3]:\n",
    "    for j in [x1,x2,x3]:\n",
    "        prom.append(diff(diff(f_x1_x2_x3,j),i))\n",
    "    gesse.append(prom.copy())\n",
    "    prom.clear()\n",
    "gesse = Matrix(gesse);gesse"
   ]
  },
  {
   "cell_type": "code",
   "execution_count": 4,
   "metadata": {},
   "outputs": [
    {
     "data": {
      "text/latex": [
       "$\\displaystyle 4$"
      ],
      "text/plain": [
       "4"
      ]
     },
     "execution_count": 4,
     "metadata": {},
     "output_type": "execute_result"
    }
   ],
   "source": [
    "gesse.det()"
   ]
  },
  {
   "cell_type": "code",
   "execution_count": 5,
   "metadata": {},
   "outputs": [
    {
     "name": "stdout",
     "output_type": "stream",
     "text": [
      "8\n"
     ]
    },
    {
     "data": {
      "text/latex": [
       "$\\displaystyle \\left[\\begin{matrix}2 & 2\\\\2 & 6\\end{matrix}\\right]$"
      ],
      "text/plain": [
       "Matrix([\n",
       "[2, 2],\n",
       "[2, 6]])"
      ]
     },
     "execution_count": 5,
     "metadata": {},
     "output_type": "execute_result"
    }
   ],
   "source": [
    "print(gesse.minor(-1, -1))\n",
    "gesse.minor_submatrix(-1, -1)"
   ]
  },
  {
   "cell_type": "markdown",
   "metadata": {},
   "source": [
    "точка минимума"
   ]
  },
  {
   "cell_type": "code",
   "execution_count": 6,
   "metadata": {},
   "outputs": [
    {
     "data": {
      "text/plain": [
       "[2*x1 + 2*x2 - x3 + 1, 2*x1 + 6*x2 + x3 - 3, -x1 + x2 + 2*x3 - 5]"
      ]
     },
     "execution_count": 6,
     "metadata": {},
     "output_type": "execute_result"
    }
   ],
   "source": [
    "derives = []\n",
    "for i in [x1,x2,x3]:\n",
    "    derives.append(diff(f_x1_x2_x3,i))\n",
    "derives"
   ]
  },
  {
   "cell_type": "code",
   "execution_count": 7,
   "metadata": {},
   "outputs": [],
   "source": [
    "ogr_1 = x1 - t*derives[0]\n",
    "ogr_2 = x2 - t*derives[1]\n",
    "ogr_3 = x3 - t*derives[2]"
   ]
  },
  {
   "cell_type": "code",
   "execution_count": 8,
   "metadata": {},
   "outputs": [],
   "source": [
    "anti_grad = [ogr_1,ogr_2,ogr_3]"
   ]
  },
  {
   "cell_type": "code",
   "execution_count": 47,
   "metadata": {},
   "outputs": [],
   "source": [
    "fi = -1925 *t + 27750 *t**2 + 25 *x1 - 2700 *t* x1 + 58225* t**2 *x1 + 22960* t**2 *x3 - 5 *x1 *x3 + 420 *t *x1 *x3 - 8805* t**2 *x1 *x3 - 12 *x2 *x3 + 764 *t* x2 *x3 - 11860 *t**2* x2* x3 + 13* x3**2- 845* t* x3**2 + 13802* t**2 *x3**2"
   ]
  },
  {
   "cell_type": "code",
   "execution_count": 49,
   "metadata": {},
   "outputs": [
    {
     "data": {
      "text/latex": [
       "$\\displaystyle - 17610 t x_{1} x_{3} + 116450 t x_{1} - 23720 t x_{2} x_{3} + 27604 t x_{3}^{2} + 45920 t x_{3} + 55500 t + 420 x_{1} x_{3} - 2700 x_{1} + 764 x_{2} x_{3} - 845 x_{3}^{2} - 1925$"
      ],
      "text/plain": [
       "-17610*t*x1*x3 + 116450*t*x1 - 23720*t*x2*x3 + 27604*t*x3**2 + 45920*t*x3 + 55500*t + 420*x1*x3 - 2700*x1 + 764*x2*x3 - 845*x3**2 - 1925"
      ]
     },
     "execution_count": 49,
     "metadata": {},
     "output_type": "execute_result"
    }
   ],
   "source": [
    "dfi = diff(fi,t);dfi"
   ]
  },
  {
   "cell_type": "code",
   "execution_count": 94,
   "metadata": {},
   "outputs": [],
   "source": [
    "vect = [0,0,0]"
   ]
  },
  {
   "cell_type": "code",
   "execution_count": 77,
   "metadata": {},
   "outputs": [],
   "source": [
    "i = 3 "
   ]
  },
  {
   "cell_type": "code",
   "execution_count": 90,
   "metadata": {},
   "outputs": [
    {
     "ename": "IndexError",
     "evalue": "list index out of range",
     "output_type": "error",
     "traceback": [
      "\u001b[1;31m---------------------------------------------------------------------------\u001b[0m",
      "\u001b[1;31mIndexError\u001b[0m                                Traceback (most recent call last)",
      "\u001b[1;32m<ipython-input-90-659b4d173e16>\u001b[0m in \u001b[0;36m<module>\u001b[1;34m\u001b[0m\n\u001b[0;32m      1\u001b[0m \u001b[0mt_n\u001b[0m \u001b[1;33m=\u001b[0m \u001b[0msolve\u001b[0m\u001b[1;33m(\u001b[0m\u001b[0mdfi\u001b[0m\u001b[1;33m.\u001b[0m\u001b[0msubs\u001b[0m\u001b[1;33m(\u001b[0m\u001b[1;33m[\u001b[0m\u001b[1;33m(\u001b[0m\u001b[0mx1\u001b[0m\u001b[1;33m,\u001b[0m \u001b[0mvect\u001b[0m\u001b[1;33m[\u001b[0m\u001b[1;36m0\u001b[0m\u001b[1;33m]\u001b[0m\u001b[1;33m)\u001b[0m\u001b[1;33m,\u001b[0m \u001b[1;33m(\u001b[0m\u001b[0mx2\u001b[0m\u001b[1;33m,\u001b[0m \u001b[0mvect\u001b[0m\u001b[1;33m[\u001b[0m\u001b[1;36m1\u001b[0m\u001b[1;33m]\u001b[0m\u001b[1;33m)\u001b[0m\u001b[1;33m,\u001b[0m\u001b[1;33m[\u001b[0m\u001b[0mx3\u001b[0m\u001b[1;33m,\u001b[0m\u001b[0mvect\u001b[0m\u001b[1;33m[\u001b[0m\u001b[1;36m2\u001b[0m\u001b[1;33m]\u001b[0m\u001b[1;33m]\u001b[0m\u001b[1;33m]\u001b[0m\u001b[1;33m)\u001b[0m\u001b[1;33m,\u001b[0m\u001b[0mt\u001b[0m\u001b[1;33m)\u001b[0m\u001b[1;33m\u001b[0m\u001b[1;33m\u001b[0m\u001b[0m\n\u001b[1;32m----> 2\u001b[1;33m \u001b[0mogr_1\u001b[0m\u001b[1;33m.\u001b[0m\u001b[0msubs\u001b[0m\u001b[1;33m(\u001b[0m\u001b[1;33m[\u001b[0m\u001b[1;33m(\u001b[0m\u001b[0mx1\u001b[0m\u001b[1;33m,\u001b[0m \u001b[0mvect\u001b[0m\u001b[1;33m[\u001b[0m\u001b[1;36m0\u001b[0m\u001b[1;33m]\u001b[0m\u001b[1;33m)\u001b[0m\u001b[1;33m,\u001b[0m \u001b[1;33m(\u001b[0m\u001b[0mx2\u001b[0m\u001b[1;33m,\u001b[0m \u001b[0mvect\u001b[0m\u001b[1;33m[\u001b[0m\u001b[1;36m1\u001b[0m\u001b[1;33m]\u001b[0m\u001b[1;33m)\u001b[0m\u001b[1;33m,\u001b[0m\u001b[1;33m[\u001b[0m\u001b[0mx3\u001b[0m\u001b[1;33m,\u001b[0m\u001b[0mvect\u001b[0m\u001b[1;33m[\u001b[0m\u001b[1;36m2\u001b[0m\u001b[1;33m]\u001b[0m\u001b[1;33m]\u001b[0m\u001b[1;33m,\u001b[0m\u001b[1;33m[\u001b[0m\u001b[0mt\u001b[0m\u001b[1;33m,\u001b[0m\u001b[0mlist\u001b[0m\u001b[1;33m(\u001b[0m\u001b[0mt_n\u001b[0m\u001b[1;33m)\u001b[0m\u001b[1;33m[\u001b[0m\u001b[1;36m0\u001b[0m\u001b[1;33m]\u001b[0m\u001b[1;33m]\u001b[0m\u001b[1;33m]\u001b[0m\u001b[1;33m)\u001b[0m\u001b[1;33m\u001b[0m\u001b[1;33m\u001b[0m\u001b[0m\n\u001b[0m",
      "\u001b[1;31mIndexError\u001b[0m: list index out of range"
     ]
    }
   ],
   "source": [
    "t_n = solve(dfi.subs([(x1, vect[0]), (x2, vect[1]),[x3,vect[2]]]),t)\n",
    "ogr_1.subs([(x1, vect[0]), (x2, vect[1]),[x3,vect[2]],[t,list(t_n)[0]]])"
   ]
  },
  {
   "cell_type": "code",
   "execution_count": 109,
   "metadata": {},
   "outputs": [
    {
     "name": "stdout",
     "output_type": "stream",
     "text": [
      "[0, 0, 0]\n",
      "[-77/2220, 77/740, 77/444]\n",
      "[-8447014215101/131145245322600, 7606600485407/43715081774200, 10243612620241/32786311330650]\n"
     ]
    }
   ],
   "source": [
    "vect = [0,0,0]\n",
    "answer = [[0,0,0,0,0,0,0,0,0,0]]\n",
    "for i in range(3):\n",
    "    t_n = solve(dfi.subs([(x1, vect[0]), (x2, vect[1]),[x3,vect[2]]]),t)\n",
    "    x1_n = ogr_1.subs([(x1, vect[0]), (x2, vect[1]),[x3,vect[2]],[t,list(t_n)[0]]])\n",
    "    x2_n = ogr_2.subs([(x1, vect[0]), (x2, vect[1]),[x3,vect[2]],[t,list(t_n)[0]]])\n",
    "    x3_n = ogr_3.subs([(x1, vect[0]), (x2, vect[1]),[x3,vect[2]],[t,list(t_n)[0]]])\n",
    "    print(vect)\n",
    "    fun = f_x1_x2_x3.subs([(x1, vect[0]), (x2, vect[1]),(x3,vect[2])])\n",
    "    vect = [x1_n,x2_n,x3_n]\n",
    "    answer.append(i,t_n,x1_n,x2_n,x3_n,fun,bet_1,bet_2,bet_3)\n",
    "    Max(Abs(answer[-1][2:5]))\n",
    "# t_n = solve(dfi.subs([(x1, vect[0]), (x2, vect[1]),[x3,vect[2]]]),t)\n",
    "# x1_n = ogr_1.subs([(x1, vect[0]), (x2, vect[1]),[x3,vect[2]],[t,list(t_n)[0]]])\n",
    "# x2_n = ogr_2.subs([(x1, vect[0]), (x2, vect[1]),[x3,vect[2]],[t,list(t_n)[0]]])\n",
    "# x3_n = ogr_3.subs([(x1, vect[0]), (x2, vect[1]),[x3,vect[2]],[t,list(t_n)[0]]])\n",
    "# print(vect)\n",
    "# vect = [x1_n,x2_n,x3_n]\n",
    "# t_n = solve(dfi.subs([(x1, vect[0]), (x2, vect[1]),[x3,vect[2]]]),t)\n",
    "# x1_n = ogr_1.subs([(x1, vect[0]), (x2, vect[1]),[x3,vect[2]],[t,list(t_n)[0]]])\n",
    "# x2_n = ogr_2.subs([(x1, vect[0]), (x2, vect[1]),[x3,vect[2]],[t,list(t_n)[0]]])\n",
    "# x3_n = ogr_3.subs([(x1, vect[0]), (x2, vect[1]),[x3,vect[2]],[t,list(t_n)[0]]])\n",
    "# print(vect)\n",
    "# vect = [x1_n,x2_n,x3_n]"
   ]
  },
  {
   "cell_type": "code",
   "execution_count": 110,
   "metadata": {},
   "outputs": [
    {
     "data": {
      "text/latex": [
       "$\\displaystyle - \\frac{80629174571155969121711683800497105794461969858752182469271879538269356215229607357042753083}{32668743128197126926148241400082594959923612880599730180783081289421274003379195287317124000}$"
      ],
      "text/plain": [
       "-80629174571155969121711683800497105794461969858752182469271879538269356215229607357042753083/32668743128197126926148241400082594959923612880599730180783081289421274003379195287317124000"
      ]
     },
     "execution_count": 110,
     "metadata": {},
     "output_type": "execute_result"
    }
   ],
   "source": [
    "f_x1_x2_x3.subs([(x1, vect[0]), (x2, vect[1]),(x3,vect[2])])"
   ]
  },
  {
   "cell_type": "code",
   "execution_count": 66,
   "metadata": {},
   "outputs": [
    {
     "data": {
      "text/latex": [
       "$\\displaystyle \\frac{77}{2220}$"
      ],
      "text/plain": [
       "77/2220"
      ]
     },
     "execution_count": 66,
     "metadata": {},
     "output_type": "execute_result"
    }
   ],
   "source": [
    "list(t_n)[0]"
   ]
  },
  {
   "cell_type": "code",
   "execution_count": 88,
   "metadata": {},
   "outputs": [
    {
     "ename": "IndexError",
     "evalue": "list index out of range",
     "output_type": "error",
     "traceback": [
      "\u001b[1;31m---------------------------------------------------------------------------\u001b[0m",
      "\u001b[1;31mIndexError\u001b[0m                                Traceback (most recent call last)",
      "\u001b[1;32m<ipython-input-88-7f7dd9a1fbeb>\u001b[0m in \u001b[0;36m<module>\u001b[1;34m\u001b[0m\n\u001b[1;32m----> 1\u001b[1;33m \u001b[0mogr_1\u001b[0m\u001b[1;33m.\u001b[0m\u001b[0msubs\u001b[0m\u001b[1;33m(\u001b[0m\u001b[1;33m[\u001b[0m\u001b[1;33m(\u001b[0m\u001b[0mx1\u001b[0m\u001b[1;33m,\u001b[0m \u001b[0mvect\u001b[0m\u001b[1;33m[\u001b[0m\u001b[1;36m0\u001b[0m\u001b[1;33m]\u001b[0m\u001b[1;33m)\u001b[0m\u001b[1;33m,\u001b[0m \u001b[1;33m(\u001b[0m\u001b[0mx2\u001b[0m\u001b[1;33m,\u001b[0m \u001b[0mvect\u001b[0m\u001b[1;33m[\u001b[0m\u001b[1;36m1\u001b[0m\u001b[1;33m]\u001b[0m\u001b[1;33m)\u001b[0m\u001b[1;33m,\u001b[0m\u001b[1;33m[\u001b[0m\u001b[0mx3\u001b[0m\u001b[1;33m,\u001b[0m\u001b[0mvect\u001b[0m\u001b[1;33m[\u001b[0m\u001b[1;36m2\u001b[0m\u001b[1;33m]\u001b[0m\u001b[1;33m]\u001b[0m\u001b[1;33m,\u001b[0m\u001b[1;33m[\u001b[0m\u001b[0mt\u001b[0m\u001b[1;33m,\u001b[0m\u001b[0mlist\u001b[0m\u001b[1;33m(\u001b[0m\u001b[0mt_n\u001b[0m\u001b[1;33m)\u001b[0m\u001b[1;33m[\u001b[0m\u001b[1;36m0\u001b[0m\u001b[1;33m]\u001b[0m\u001b[1;33m]\u001b[0m\u001b[1;33m]\u001b[0m\u001b[1;33m)\u001b[0m\u001b[1;33m\u001b[0m\u001b[1;33m\u001b[0m\u001b[0m\n\u001b[0m",
      "\u001b[1;31mIndexError\u001b[0m: list index out of range"
     ]
    }
   ],
   "source": [
    "ogr_1.subs([(x1, vect[0]), (x2, vect[1]),[x3,vect[2]],[t,list(t_n)[0]]])"
   ]
  },
  {
   "cell_type": "code",
   "execution_count": 95,
   "metadata": {},
   "outputs": [
    {
     "data": {
      "text/latex": [
       "$\\displaystyle 55500 t - 1925$"
      ],
      "text/plain": [
       "55500*t - 1925"
      ]
     },
     "execution_count": 95,
     "metadata": {},
     "output_type": "execute_result"
    }
   ],
   "source": [
    "dfi.subs([(x1, vect[0]), (x2, vect[1]),[x3,vect[2]]])"
   ]
  },
  {
   "cell_type": "code",
   "execution_count": null,
   "metadata": {},
   "outputs": [],
   "source": []
  }
 ],
 "metadata": {
  "kernelspec": {
   "display_name": "Python 3",
   "language": "python",
   "name": "python3"
  },
  "language_info": {
   "codemirror_mode": {
    "name": "ipython",
    "version": 3
   },
   "file_extension": ".py",
   "mimetype": "text/x-python",
   "name": "python",
   "nbconvert_exporter": "python",
   "pygments_lexer": "ipython3",
   "version": "3.7.4"
  }
 },
 "nbformat": 4,
 "nbformat_minor": 2
}
