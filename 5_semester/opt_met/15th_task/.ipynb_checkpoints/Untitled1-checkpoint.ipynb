{
 "cells": [
  {
   "cell_type": "markdown",
   "metadata": {},
   "source": [
    "# Сайков К.А\n",
    "##  ПМ - 1801\n",
    "### задание 15\n",
    "### Методы оптимизации"
   ]
  },
  {
   "cell_type": "code",
   "execution_count": 80,
   "metadata": {},
   "outputs": [
    {
     "data": {
      "text/latex": [
       "$\\displaystyle x_{1}^{2} + 2 x_{1} x_{2} - x_{1} x_{3} + x_{1} + 3 x_{2}^{2} + x_{2} x_{3} - 3 x_{2} + x_{3}^{2} - 5 x_{3}$"
      ],
      "text/plain": [
       "x1**2 + 2*x1*x2 - x1*x3 + x1 + 3*x2**2 + x2*x3 - 3*x2 + x3**2 - 5*x3"
      ]
     },
     "execution_count": 80,
     "metadata": {},
     "output_type": "execute_result"
    }
   ],
   "source": [
    "from sympy import *\n",
    "import numpy as np\n",
    "x1, x2, x3, t = symbols('x1 x2 x3 t')\n",
    "f_x1_x2_x3 = (x1**2)+(3*x2**2)+(x3**2)+(2*x1*x2)-(x1*x3)+(x2*x3)+(x1)-(3*x2)-(5*x3)\n",
    "varibles = [x1, x2, x3]\n",
    "f_x1_x2_x3"
   ]
  },
  {
   "cell_type": "code",
   "execution_count": 81,
   "metadata": {},
   "outputs": [
    {
     "data": {
      "text/latex": [
       "$\\displaystyle \\left[\\begin{matrix}2 & 2 & -1\\\\2 & 6 & 1\\\\-1 & 1 & 2\\end{matrix}\\right]$"
      ],
      "text/plain": [
       "Matrix([\n",
       "[ 2, 2, -1],\n",
       "[ 2, 6,  1],\n",
       "[-1, 1,  2]])"
      ]
     },
     "execution_count": 81,
     "metadata": {},
     "output_type": "execute_result"
    }
   ],
   "source": [
    "matrix_gesse_prom = []\n",
    "matrix_gesse = []\n",
    "for i in varibles:\n",
    "    for j in varibles:\n",
    "        matrix_gesse_prom.append(diff(f_x1_x2_x3,i,j))\n",
    "    matrix_gesse.append(matrix_gesse_prom.copy())\n",
    "    matrix_gesse_prom.clear()\n",
    "matrix_gesse = Matrix(matrix_gesse);matrix_gesse"
   ]
  },
  {
   "cell_type": "code",
   "execution_count": 82,
   "metadata": {},
   "outputs": [],
   "source": [
    "diff_f_x1 = diff(f_x1_x2_x3,x1)\n",
    "diff_f_x2 = diff(f_x1_x2_x3,x2)\n",
    "diff_f_x3 = diff(f_x1_x2_x3,x3)"
   ]
  },
  {
   "cell_type": "code",
   "execution_count": 83,
   "metadata": {},
   "outputs": [],
   "source": [
    "x1_slash = x1-t*diff_f_x1\n",
    "x2_slash = x2-t*diff_f_x2\n",
    "x3_slash = x3-t*diff_f_x3"
   ]
  },
  {
   "cell_type": "code",
   "execution_count": 84,
   "metadata": {},
   "outputs": [
    {
     "data": {
      "text/latex": [
       "$\\displaystyle 25 t^{2} x_{1}^{2} + 106 t^{2} x_{1} x_{2} + 2 t^{2} x_{1} x_{3} - 26 t^{2} x_{1} + 141 t^{2} x_{2}^{2} + 38 t^{2} x_{2} x_{3} - 138 t^{2} x_{2} + 10 t^{2} x_{3}^{2} - 50 t^{2} x_{3} + 67 t^{2} - 9 t x_{1}^{2} - 30 t x_{1} x_{2} + 4 t x_{1} x_{3} - 2 t x_{1} - 41 t x_{2}^{2} - 12 t x_{2} x_{3} + 42 t x_{2} - 6 t x_{3}^{2} + 28 t x_{3} - 35 t + x_{1}^{2} + 2 x_{1} x_{2} - x_{1} x_{3} + x_{1} + 3 x_{2}^{2} + x_{2} x_{3} - 3 x_{2} + x_{3}^{2} - 5 x_{3}$"
      ],
      "text/plain": [
       "25*t**2*x1**2 + 106*t**2*x1*x2 + 2*t**2*x1*x3 - 26*t**2*x1 + 141*t**2*x2**2 + 38*t**2*x2*x3 - 138*t**2*x2 + 10*t**2*x3**2 - 50*t**2*x3 + 67*t**2 - 9*t*x1**2 - 30*t*x1*x2 + 4*t*x1*x3 - 2*t*x1 - 41*t*x2**2 - 12*t*x2*x3 + 42*t*x2 - 6*t*x3**2 + 28*t*x3 - 35*t + x1**2 + 2*x1*x2 - x1*x3 + x1 + 3*x2**2 + x2*x3 - 3*x2 + x3**2 - 5*x3"
      ]
     },
     "execution_count": 84,
     "metadata": {},
     "output_type": "execute_result"
    }
   ],
   "source": [
    "help_funcion = (x1_slash**2)+(3*x2_slash**2)+(x3_slash**2)+\\\n",
    "+(2*x1_slash*x2_slash)-(x1_slash*x3_slash)+(x2_slash*x3_slash)+(x1_slash)-(3*x2_slash)-(5*x3_slash)\n",
    "expand(help_funcion)"
   ]
  },
  {
   "cell_type": "code",
   "execution_count": 85,
   "metadata": {},
   "outputs": [],
   "source": [
    "diff_help_function = diff(help_funcion,t)"
   ]
  },
  {
   "cell_type": "code",
   "execution_count": 86,
   "metadata": {},
   "outputs": [
    {
     "data": {
      "text/latex": [
       "$\\displaystyle 50 t x_{1}^{2} + 212 t x_{1} x_{2} + 4 t x_{1} x_{3} - 52 t x_{1} + 282 t x_{2}^{2} + 76 t x_{2} x_{3} - 276 t x_{2} + 20 t x_{3}^{2} - 100 t x_{3} + 134 t - 9 x_{1}^{2} - 30 x_{1} x_{2} + 4 x_{1} x_{3} - 2 x_{1} - 41 x_{2}^{2} - 12 x_{2} x_{3} + 42 x_{2} - 6 x_{3}^{2} + 28 x_{3} - 35$"
      ],
      "text/plain": [
       "50*t*x1**2 + 212*t*x1*x2 + 4*t*x1*x3 - 52*t*x1 + 282*t*x2**2 + 76*t*x2*x3 - 276*t*x2 + 20*t*x3**2 - 100*t*x3 + 134*t - 9*x1**2 - 30*x1*x2 + 4*x1*x3 - 2*x1 - 41*x2**2 - 12*x2*x3 + 42*x2 - 6*x3**2 + 28*x3 - 35"
      ]
     },
     "execution_count": 86,
     "metadata": {},
     "output_type": "execute_result"
    }
   ],
   "source": [
    "expand(diff_help_function)"
   ]
  },
  {
   "cell_type": "code",
   "execution_count": 93,
   "metadata": {},
   "outputs": [
    {
     "name": "stdout",
     "output_type": "stream",
     "text": [
      "139\n"
     ]
    }
   ],
   "source": [
    "points = [0,0,0]\n",
    "vector_data_set = [points]\n",
    "error = 0.00001\n",
    "for i in range(200):\n",
    "    \n",
    "    f_prom = lambdify([x1,x2,x3], diff_help_function)\n",
    "    solve_d_fi = solve(f_prom(points[0],points[1],points[2]),t)\n",
    "    f_prom1 = lambdify([x1,x2,x3,t],x1_slash)\n",
    "    f_prom2 = lambdify([x1,x2,x3,t],x2_slash)\n",
    "    f_prom3 = lambdify([x1,x2,x3,t],x3_slash)\n",
    "    points = [float(f_prom1(points[0],points[1],points[2],solve_d_fi[0])),\n",
    "              float(f_prom2(points[0],points[1],points[2],solve_d_fi[0])),\n",
    "              float(f_prom3(points[0],points[1],points[2],solve_d_fi[0]))]\n",
    "    vector_data_set.append(points.copy())\n",
    "    if i>3:\n",
    "        if np.linalg.norm([vector_data_set[-1][0]-vector_data_set[-2][0],\n",
    "                        vector_data_set[-1][1]-vector_data_set[-2][1],\n",
    "                        vector_data_set[-1][2]-vector_data_set[-2][2]])/(1+np.linalg.norm(vector_data_set[-1]))<error:\n",
    "            print(i)\n",
    "            break"
   ]
  },
  {
   "cell_type": "code",
   "execution_count": 94,
   "metadata": {},
   "outputs": [
    {
     "data": {
      "text/plain": [
       "[3.499323282597735, -1.4996922212747563, 4.999444530609503]"
      ]
     },
     "execution_count": 94,
     "metadata": {},
     "output_type": "execute_result"
    }
   ],
   "source": [
    "points"
   ]
  },
  {
   "cell_type": "code",
   "execution_count": 95,
   "metadata": {},
   "outputs": [
    {
     "data": {
      "text/plain": [
       "-8.499999912739984"
      ]
     },
     "execution_count": 95,
     "metadata": {},
     "output_type": "execute_result"
    }
   ],
   "source": [
    "f = lambdify([x1,x2,x3],f_x1_x2_x3)\n",
    "f(points[0],points[1],points[2])"
   ]
  }
 ],
 "metadata": {
  "kernelspec": {
   "display_name": "Python 3",
   "language": "python",
   "name": "python3"
  },
  "language_info": {
   "codemirror_mode": {
    "name": "ipython",
    "version": 3
   },
   "file_extension": ".py",
   "mimetype": "text/x-python",
   "name": "python",
   "nbconvert_exporter": "python",
   "pygments_lexer": "ipython3",
   "version": "3.7.4"
  }
 },
 "nbformat": 4,
 "nbformat_minor": 2
}
