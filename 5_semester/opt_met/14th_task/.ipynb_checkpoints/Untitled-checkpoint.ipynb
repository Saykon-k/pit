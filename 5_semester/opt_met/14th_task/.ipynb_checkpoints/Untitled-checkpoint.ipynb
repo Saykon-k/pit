{
 "cells": [
  {
   "cell_type": "markdown",
   "metadata": {},
   "source": [
    "# Сайков К.А\n",
    "##  ПМ - 1801\n",
    "### задание 14(a,б)\n",
    "### Методы оптимизации"
   ]
  },
  {
   "cell_type": "code",
   "execution_count": 1,
   "metadata": {},
   "outputs": [
    {
     "data": {
      "text/latex": [
       "$\\displaystyle 20 x_{1}^{2} - 10 x_{1} x_{2} - 5 x_{1} x_{3} + 25 x_{1} + 5 x_{2}^{2} - 12 x_{2} x_{3} - 20 x_{2} + 13 x_{3}^{2} - 30 x_{3}$"
      ],
      "text/plain": [
       "20*x1**2 - 10*x1*x2 - 5*x1*x3 + 25*x1 + 5*x2**2 - 12*x2*x3 - 20*x2 + 13*x3**2 - 30*x3"
      ]
     },
     "execution_count": 1,
     "metadata": {},
     "output_type": "execute_result"
    }
   ],
   "source": [
    "from sympy import *\n",
    "import numpy as np\n",
    "x1, x2, x3, v1, v2 = symbols('x1 x2 x3 v1 v2')\n",
    "f_x1_x2_x3 = 20*x1**2+5*x2**2+13*x3**2-10*x1*x2-5*x1*x3-12*x2*x3+25*x1-20*x2-30*x3\n",
    "varabl = [x1, x2, x3, v1, v2 , 1 ]\n",
    "x_all = [x1,x2,x3]\n",
    "f_x1_x2_x3"
   ]
  },
  {
   "cell_type": "code",
   "execution_count": 2,
   "metadata": {},
   "outputs": [
    {
     "name": "stdout",
     "output_type": "stream",
     "text": [
      "x1 + 10*x2 + 10*x3 - 1000\n"
     ]
    },
    {
     "data": {
      "text/latex": [
       "$\\displaystyle 3 x_{1} + 15 x_{2} + 2 x_{3} - 700$"
      ],
      "text/plain": [
       "3*x1 + 15*x2 + 2*x3 - 700"
      ]
     },
     "execution_count": 2,
     "metadata": {},
     "output_type": "execute_result"
    }
   ],
   "source": [
    "constrain_1 = x1+10*x2+10*x3-1000\n",
    "constrain_2 = 3*x1+15*x2+2*x3-700\n",
    "print(constrain_1)\n",
    "constrain_2"
   ]
  },
  {
   "cell_type": "code",
   "execution_count": 3,
   "metadata": {},
   "outputs": [],
   "source": [
    "lagrang_function = f_x1_x2_x3+v1*constrain_1+v2*constrain_2"
   ]
  },
  {
   "cell_type": "code",
   "execution_count": 4,
   "metadata": {},
   "outputs": [
    {
     "name": "stdout",
     "output_type": "stream",
     "text": [
      "v1 + 3*v2 + 40*x1 - 10*x2 - 5*x3 + 25\n",
      "10*v1 + 15*v2 - 10*x1 + 10*x2 - 12*x3 - 20\n",
      "10*v1 + 2*v2 - 5*x1 - 12*x2 + 26*x3 - 30\n",
      "x1 + 10*x2 + 10*x3 - 1000\n",
      "3*x1 + 15*x2 + 2*x3 - 700\n"
     ]
    },
    {
     "data": {
      "text/plain": [
       "defaultdict(int, {1: 25, v1: 1, x2: -10, x3: -5, v2: 3, x1: 40})"
      ]
     },
     "execution_count": 4,
     "metadata": {},
     "output_type": "execute_result"
    }
   ],
   "source": [
    "dif = []\n",
    "for i in varabl[:-1]:\n",
    "    dif.append(diff(lagrang_function,i))\n",
    "    print((diff(lagrang_function,i)))\n",
    "dif[0].as_coefficients_dict()"
   ]
  },
  {
   "cell_type": "code",
   "execution_count": 5,
   "metadata": {},
   "outputs": [],
   "source": [
    "coef_all = []\n",
    "coef_prom = []\n",
    "k= 1 \n",
    "for i1 in dif:\n",
    "    prom = i1.as_coefficients_dict()\n",
    "    for i in varabl:\n",
    "        if i in prom.keys():\n",
    "            coef_prom.append(prom[i])\n",
    "        else:\n",
    "            coef_prom.append(0)\n",
    "    coef_all.append(coef_prom.copy())\n",
    "    coef_prom.clear()"
   ]
  },
  {
   "cell_type": "code",
   "execution_count": 6,
   "metadata": {},
   "outputs": [
    {
     "data": {
      "text/plain": [
       "[[40, -10, -5, 1, 3, 25],\n",
       " [-10, 10, -12, 10, 15, -20],\n",
       " [-5, -12, 26, 10, 2, -30],\n",
       " [1, 10, 10, 0, 0, -1000],\n",
       " [3, 15, 2, 0, 0, -700]]"
      ]
     },
     "execution_count": 6,
     "metadata": {},
     "output_type": "execute_result"
    }
   ],
   "source": [
    "coef_all"
   ]
  },
  {
   "cell_type": "code",
   "execution_count": 7,
   "metadata": {},
   "outputs": [],
   "source": [
    "vect = np.array([i[:-1] for i in coef_all],\n",
    "                 dtype='float')\n",
    "vect_zero = np.array([-i[-1] for i in coef_all],dtype='float')\n",
    "x = np.linalg.solve(vect, vect_zero)"
   ]
  },
  {
   "cell_type": "code",
   "execution_count": 8,
   "metadata": {},
   "outputs": [
    {
     "data": {
      "text/plain": [
       "array([  10.29811306,   36.24348334,   62.72670535, -136.49048561,\n",
       "        125.21144117])"
      ]
     },
     "execution_count": 8,
     "metadata": {},
     "output_type": "execute_result"
    }
   ],
   "source": [
    "x"
   ]
  },
  {
   "cell_type": "markdown",
   "metadata": {},
   "source": [
    "Градиент для ограничений"
   ]
  },
  {
   "cell_type": "code",
   "execution_count": 9,
   "metadata": {},
   "outputs": [
    {
     "name": "stdout",
     "output_type": "stream",
     "text": [
      "[1, 10, 10]\n",
      "[3, 15, 2]\n"
     ]
    }
   ],
   "source": [
    "cof = []\n",
    "cof_prom = []\n",
    "for i in [constrain_1,constrain_2]:\n",
    "    for j in [x1,x2,x3]:\n",
    "        cof_prom.append(diff(i,j))\n",
    "    cof.append(cof_prom.copy())\n",
    "    cof_prom.clear()\n",
    "for i in cof:\n",
    "    print(i)"
   ]
  },
  {
   "cell_type": "code",
   "execution_count": 10,
   "metadata": {},
   "outputs": [],
   "source": [
    "cof.append((len(cof)+1)*[0])"
   ]
  },
  {
   "cell_type": "code",
   "execution_count": 11,
   "metadata": {},
   "outputs": [
    {
     "data": {
      "text/plain": [
       "[[1, 10, 10], [3, 15, 2], [0, 0, 0]]"
      ]
     },
     "execution_count": 11,
     "metadata": {},
     "output_type": "execute_result"
    }
   ],
   "source": [
    "cof"
   ]
  },
  {
   "cell_type": "code",
   "execution_count": 12,
   "metadata": {},
   "outputs": [
    {
     "data": {
      "text/plain": [
       "[-28/15, 26/3]"
      ]
     },
     "execution_count": 12,
     "metadata": {},
     "output_type": "execute_result"
    }
   ],
   "source": [
    "sol = solve([x1 + 10*x2 + 10*x3, 3*x1+15*x2+2*x3], [x1, x2,x3])\n",
    "[i/x3 for i in sol.values()]\n"
   ]
  },
  {
   "cell_type": "code",
   "execution_count": 13,
   "metadata": {},
   "outputs": [],
   "source": [
    "if len(sol) < len(x_all):\n",
    "    for i in x_all:\n",
    "        if not i in sol.keys():\n",
    "            sol[i] = 1 \n",
    "delta = [sol[i] for i in x_all]"
   ]
  },
  {
   "cell_type": "code",
   "execution_count": 14,
   "metadata": {},
   "outputs": [
    {
     "data": {
      "text/plain": [
       "array([ 8.66666667, -1.86666667,  1.        ])"
      ]
     },
     "execution_count": 14,
     "metadata": {},
     "output_type": "execute_result"
    }
   ],
   "source": [
    "delta[0]= delta[0]/x3\n",
    "delta[1]= delta[1]/x3\n",
    "delta= np.array(delta,dtype='float')\n",
    "delta"
   ]
  },
  {
   "cell_type": "code",
   "execution_count": 15,
   "metadata": {},
   "outputs": [],
   "source": [
    "dif_2 = []\n",
    "dif_2_ges = []\n",
    "for i in [x1,x2,x3]:\n",
    "    for j in [x1,x2,x3]:\n",
    "        dif_2.append(diff(lagrang_function,i,j))\n",
    "    dif_2_ges.append(dif_2.copy())\n",
    "    dif_2.clear()"
   ]
  },
  {
   "cell_type": "code",
   "execution_count": 16,
   "metadata": {},
   "outputs": [
    {
     "name": "stdout",
     "output_type": "stream",
     "text": [
      "[40, -10, -5]\n",
      "[-10, 10, -12]\n",
      "[-5, -12, 26]\n"
     ]
    }
   ],
   "source": [
    "for i in dif_2_ges:\n",
    "    print(i)"
   ]
  },
  {
   "cell_type": "code",
   "execution_count": 17,
   "metadata": {},
   "outputs": [],
   "source": [
    "first = np.dot(delta,dif_2_ges)\n",
    "sec = np.dot(first,delta.transpose()) "
   ]
  },
  {
   "cell_type": "code",
   "execution_count": 18,
   "metadata": {},
   "outputs": [
    {
     "data": {
      "text/latex": [
       "$\\displaystyle 3346.97777777778$"
      ],
      "text/plain": [
       "3346.97777777778"
      ]
     },
     "execution_count": 18,
     "metadata": {},
     "output_type": "execute_result"
    }
   ],
   "source": [
    "sec"
   ]
  },
  {
   "cell_type": "code",
   "execution_count": 19,
   "metadata": {},
   "outputs": [],
   "source": [
    "A = f_x1_x2_x3.evalf(subs={x1:x[0], x2:x[1],x3:x[2]})"
   ]
  },
  {
   "cell_type": "code",
   "execution_count": 20,
   "metadata": {},
   "outputs": [
    {
     "data": {
      "text/latex": [
       "$\\displaystyle 23246.6293970016$"
      ],
      "text/plain": [
       "23246.6293970016"
      ]
     },
     "execution_count": 20,
     "metadata": {},
     "output_type": "execute_result"
    }
   ],
   "source": [
    "A"
   ]
  }
 ],
 "metadata": {
  "kernelspec": {
   "display_name": "Python 3",
   "language": "python",
   "name": "python3"
  },
  "language_info": {
   "codemirror_mode": {
    "name": "ipython",
    "version": 3
   },
   "file_extension": ".py",
   "mimetype": "text/x-python",
   "name": "python",
   "nbconvert_exporter": "python",
   "pygments_lexer": "ipython3",
   "version": "3.7.4"
  }
 },
 "nbformat": 4,
 "nbformat_minor": 2
}
