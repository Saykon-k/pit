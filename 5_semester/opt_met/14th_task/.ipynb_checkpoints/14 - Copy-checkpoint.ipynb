{
 "cells": [
  {
   "cell_type": "markdown",
   "metadata": {},
   "source": [
    "# Сайков К.А\n",
    "##  ПМ - 1801\n",
    "### задание 14(a,б,c)\n",
    "### Методы оптимизации"
   ]
  },
  {
   "cell_type": "code",
   "execution_count": 1,
   "metadata": {},
   "outputs": [
    {
     "data": {
      "text/latex": [
       "$\\displaystyle 20 x_{1}^{2} - 10 x_{1} x_{2} - 5 x_{1} x_{3} + 25 x_{1} + 5 x_{2}^{2} - 12 x_{2} x_{3} - 20 x_{2} + 13 x_{3}^{2} - 30 x_{3}$"
      ],
      "text/plain": [
       "20*x1**2 - 10*x1*x2 - 5*x1*x3 + 25*x1 + 5*x2**2 - 12*x2*x3 - 20*x2 + 13*x3**2 - 30*x3"
      ]
     },
     "execution_count": 1,
     "metadata": {},
     "output_type": "execute_result"
    }
   ],
   "source": [
    "from sympy import *\n",
    "import numpy as np\n",
    "x1, x2, x3, v1, v2, x4 = symbols('x1 x2 x3 v1 v2 x4')\n",
    "f_x1_x2_x3 = 20*x1**2+5*x2**2+13*x3**2-10*x1*x2-5*x1*x3-12*x2*x3+25*x1-20*x2-30*x3\n",
    "varabl = [x1, x2, x3, v1, v2 , 1 ]\n",
    "x_all = [x1,x2,x3]\n",
    "f_x1_x2_x3"
   ]
  },
  {
   "cell_type": "code",
   "execution_count": 2,
   "metadata": {},
   "outputs": [
    {
     "name": "stdout",
     "output_type": "stream",
     "text": [
      "x1 + 10*x2 + 10*x3 - 1000\n"
     ]
    },
    {
     "data": {
      "text/latex": [
       "$\\displaystyle 3 x_{1} + 15 x_{2} + 2 x_{3} - 700$"
      ],
      "text/plain": [
       "3*x1 + 15*x2 + 2*x3 - 700"
      ]
     },
     "execution_count": 2,
     "metadata": {},
     "output_type": "execute_result"
    }
   ],
   "source": [
    "constrain_1 = x1+10*x2+10*x3-1000\n",
    "constrain_2 = 3*x1+15*x2+2*x3-700\n",
    "print(constrain_1)\n",
    "constrain_2"
   ]
  },
  {
   "cell_type": "code",
   "execution_count": 3,
   "metadata": {},
   "outputs": [
    {
     "data": {
      "text/latex": [
       "$\\displaystyle v_{1} \\left(x_{1} + 10 x_{2} + 10 x_{3} - 1000\\right) + v_{2} \\left(3 x_{1} + 15 x_{2} + 2 x_{3} - 700\\right) + 20 x_{1}^{2} - 10 x_{1} x_{2} - 5 x_{1} x_{3} + 25 x_{1} + 5 x_{2}^{2} - 12 x_{2} x_{3} - 20 x_{2} + 13 x_{3}^{2} - 30 x_{3}$"
      ],
      "text/plain": [
       "v1*(x1 + 10*x2 + 10*x3 - 1000) + v2*(3*x1 + 15*x2 + 2*x3 - 700) + 20*x1**2 - 10*x1*x2 - 5*x1*x3 + 25*x1 + 5*x2**2 - 12*x2*x3 - 20*x2 + 13*x3**2 - 30*x3"
      ]
     },
     "execution_count": 3,
     "metadata": {},
     "output_type": "execute_result"
    }
   ],
   "source": [
    "lagrang_function = f_x1_x2_x3+v1*constrain_1+v2*constrain_2\n",
    "lagrang_function"
   ]
  },
  {
   "cell_type": "code",
   "execution_count": 4,
   "metadata": {},
   "outputs": [
    {
     "name": "stdout",
     "output_type": "stream",
     "text": [
      "v1 + 3*v2 + 40*x1 - 10*x2 - 5*x3 + 25\n",
      "10*v1 + 15*v2 - 10*x1 + 10*x2 - 12*x3 - 20\n",
      "10*v1 + 2*v2 - 5*x1 - 12*x2 + 26*x3 - 30\n",
      "x1 + 10*x2 + 10*x3 - 1000\n",
      "3*x1 + 15*x2 + 2*x3 - 700\n"
     ]
    },
    {
     "data": {
      "text/plain": [
       "defaultdict(int, {1: 25, v1: 1, x2: -10, x3: -5, v2: 3, x1: 40})"
      ]
     },
     "execution_count": 4,
     "metadata": {},
     "output_type": "execute_result"
    }
   ],
   "source": [
    "dif = []\n",
    "for i in varabl[:-1]:\n",
    "    dif.append(diff(lagrang_function,i))\n",
    "    print((diff(lagrang_function,i)))\n",
    "dif[0].as_coefficients_dict()"
   ]
  },
  {
   "cell_type": "code",
   "execution_count": 5,
   "metadata": {},
   "outputs": [],
   "source": [
    "coef_all = []\n",
    "coef_prom = []\n",
    "k= 1 \n",
    "for i1 in dif:\n",
    "    prom = i1.as_coefficients_dict()\n",
    "    for i in varabl:\n",
    "        if i in prom.keys():\n",
    "            coef_prom.append(prom[i])\n",
    "        else:\n",
    "            coef_prom.append(0)\n",
    "    coef_all.append(coef_prom.copy())\n",
    "    coef_prom.clear()"
   ]
  },
  {
   "cell_type": "code",
   "execution_count": null,
   "metadata": {},
   "outputs": [],
   "source": []
  },
  {
   "cell_type": "code",
   "execution_count": 6,
   "metadata": {},
   "outputs": [],
   "source": [
    "vect = np.array([i[:-1] for i in coef_all],\n",
    "                 dtype='float')\n",
    "vect_zero = np.array([-i[-1] for i in coef_all],dtype='float')\n",
    "x = np.linalg.solve(vect, vect_zero)"
   ]
  },
  {
   "cell_type": "code",
   "execution_count": 7,
   "metadata": {},
   "outputs": [
    {
     "data": {
      "text/plain": [
       "array([  10.29811306,   36.24348334,   62.72670535, -136.49048561,\n",
       "        125.21144117])"
      ]
     },
     "execution_count": 7,
     "metadata": {},
     "output_type": "execute_result"
    }
   ],
   "source": [
    "x"
   ]
  },
  {
   "cell_type": "markdown",
   "metadata": {},
   "source": [
    "Градиент для ограничений"
   ]
  },
  {
   "cell_type": "code",
   "execution_count": 176,
   "metadata": {},
   "outputs": [
    {
     "name": "stdout",
     "output_type": "stream",
     "text": [
      "[1, 10, 10]\n",
      "[3, 15, 2]\n"
     ]
    }
   ],
   "source": [
    "cof = []\n",
    "cof_prom = []\n",
    "for i in [constrain_1,constrain_2]:\n",
    "    for j in [x1,x2,x3]:\n",
    "        cof_prom.append(diff(i,j))\n",
    "    cof.append(cof_prom.copy())\n",
    "    cof_prom.clear()\n",
    "for i in cof:\n",
    "    print(i)"
   ]
  },
  {
   "cell_type": "code",
   "execution_count": 177,
   "metadata": {},
   "outputs": [],
   "source": [
    "cof.append((len(cof)+1)*[0])"
   ]
  },
  {
   "cell_type": "code",
   "execution_count": 178,
   "metadata": {},
   "outputs": [
    {
     "data": {
      "text/plain": [
       "[[1, 10, 10], [3, 15, 2], [0, 0, 0]]"
      ]
     },
     "execution_count": 178,
     "metadata": {},
     "output_type": "execute_result"
    }
   ],
   "source": [
    "cof"
   ]
  },
  {
   "cell_type": "code",
   "execution_count": 179,
   "metadata": {},
   "outputs": [
    {
     "data": {
      "text/plain": [
       "[-28/15, 26/3]"
      ]
     },
     "execution_count": 179,
     "metadata": {},
     "output_type": "execute_result"
    }
   ],
   "source": [
    "sol = solve([x1 + 10*x2 + 10*x3, 3*x1+15*x2+2*x3], [x1, x2,x3])\n",
    "[i/x3 for i in sol.values()]\n"
   ]
  },
  {
   "cell_type": "code",
   "execution_count": 180,
   "metadata": {},
   "outputs": [],
   "source": [
    "if len(sol) < len(x_all):\n",
    "    for i in x_all:\n",
    "        if not i in sol.keys():\n",
    "            sol[i] = 1 \n",
    "delta = [sol[i] for i in x_all]"
   ]
  },
  {
   "cell_type": "code",
   "execution_count": 181,
   "metadata": {},
   "outputs": [
    {
     "data": {
      "text/plain": [
       "array([ 8.66666667, -1.86666667,  1.        ])"
      ]
     },
     "execution_count": 181,
     "metadata": {},
     "output_type": "execute_result"
    }
   ],
   "source": [
    "delta[0]= delta[0]/x3\n",
    "delta[1]= delta[1]/x3\n",
    "delta= np.array(delta,dtype='float')\n",
    "delta"
   ]
  },
  {
   "cell_type": "code",
   "execution_count": 182,
   "metadata": {},
   "outputs": [],
   "source": [
    "dif_2 = []\n",
    "dif_2_ges = []\n",
    "for i in [x1,x2,x3]:\n",
    "    for j in [x1,x2,x3]:\n",
    "        dif_2.append(diff(lagrang_function,i,j))\n",
    "    dif_2_ges.append(dif_2.copy())\n",
    "    dif_2.clear()"
   ]
  },
  {
   "cell_type": "code",
   "execution_count": 183,
   "metadata": {},
   "outputs": [
    {
     "name": "stdout",
     "output_type": "stream",
     "text": [
      "[40, -10, -5]\n",
      "[-10, 10, -12]\n",
      "[-5, -12, 26]\n"
     ]
    }
   ],
   "source": [
    "for i in dif_2_ges:\n",
    "    print(i)"
   ]
  },
  {
   "cell_type": "code",
   "execution_count": 184,
   "metadata": {},
   "outputs": [],
   "source": [
    "first = np.dot(delta,dif_2_ges)\n",
    "sec = np.dot(first,delta.transpose()) \n"
   ]
  },
  {
   "cell_type": "code",
   "execution_count": 185,
   "metadata": {},
   "outputs": [
    {
     "data": {
      "text/latex": [
       "$\\displaystyle 3346.97777777778$"
      ],
      "text/plain": [
       "3346.97777777778"
      ]
     },
     "execution_count": 185,
     "metadata": {},
     "output_type": "execute_result"
    }
   ],
   "source": [
    "sec"
   ]
  },
  {
   "cell_type": "code",
   "execution_count": 186,
   "metadata": {},
   "outputs": [],
   "source": [
    "A = f_x1_x2_x3.evalf(subs={x1:x[0], x2:x[1],x3:x[2]})"
   ]
  },
  {
   "cell_type": "code",
   "execution_count": 187,
   "metadata": {},
   "outputs": [
    {
     "data": {
      "text/latex": [
       "$\\displaystyle 23246.6293970016$"
      ],
      "text/plain": [
       "23246.6293970016"
      ]
     },
     "execution_count": 187,
     "metadata": {},
     "output_type": "execute_result"
    }
   ],
   "source": [
    "A"
   ]
  },
  {
   "cell_type": "markdown",
   "metadata": {},
   "source": [
    "Второй способ"
   ]
  },
  {
   "cell_type": "code",
   "execution_count": 143,
   "metadata": {},
   "outputs": [],
   "source": [
    "varabl = [v1,v2,x1, x2, x3]"
   ]
  },
  {
   "cell_type": "code",
   "execution_count": 144,
   "metadata": {},
   "outputs": [
    {
     "data": {
      "text/plain": [
       "[[1, 3, 40, -10, -5],\n",
       " [10, 15, -10, 10, -12],\n",
       " [10, 2, -5, -12, 26],\n",
       " [0, 0, 1, 10, 10],\n",
       " [0, 0, 3, 15, 2]]"
      ]
     },
     "execution_count": 144,
     "metadata": {},
     "output_type": "execute_result"
    }
   ],
   "source": [
    "coef_all = []\n",
    "coef_prom = []\n",
    "k= 1 \n",
    "for i1 in dif:\n",
    "    prom = i1.as_coefficients_dict()\n",
    "    for i in varabl:\n",
    "        if i in prom.keys():\n",
    "            coef_prom.append(prom[i])\n",
    "        else:\n",
    "            coef_prom.append(0)\n",
    "    coef_all.append(coef_prom.copy())\n",
    "    coef_prom.clear()\n",
    "coef_all"
   ]
  },
  {
   "cell_type": "code",
   "execution_count": 145,
   "metadata": {},
   "outputs": [
    {
     "data": {
      "text/plain": [
       "array([[  0,   0,   1,  10,  10],\n",
       "       [  0,   0,   3,  15,   2],\n",
       "       [  1,   3,  40, -10,  -5],\n",
       "       [ 10,  15, -10,  10, -12],\n",
       "       [ 10,   2,  -5, -12,  26]])"
      ]
     },
     "execution_count": 145,
     "metadata": {},
     "output_type": "execute_result"
    }
   ],
   "source": [
    " a = np.array(\n",
    "[[0,0,1,10,10],\n",
    " [0,0,3,15,2],\n",
    " [1, 3, 40, -10, -5],\n",
    " [10, 15, -10, 10, -12],\n",
    " [10, 2, -5, -12, 26]])\n",
    "a"
   ]
  },
  {
   "cell_type": "code",
   "execution_count": 146,
   "metadata": {},
   "outputs": [
    {
     "data": {
      "text/plain": [
       "753069.9999999987"
      ]
     },
     "execution_count": 146,
     "metadata": {},
     "output_type": "execute_result"
    }
   ],
   "source": [
    "np.linalg.det(a)"
   ]
  },
  {
   "cell_type": "code",
   "execution_count": 147,
   "metadata": {},
   "outputs": [
    {
     "data": {
      "text/plain": [
       "-1"
      ]
     },
     "execution_count": 147,
     "metadata": {},
     "output_type": "execute_result"
    }
   ],
   "source": [
    "(-1)**(2+1)"
   ]
  },
  {
   "cell_type": "code",
   "execution_count": 148,
   "metadata": {},
   "outputs": [
    {
     "data": {
      "text/plain": [
       "1"
      ]
     },
     "execution_count": 148,
     "metadata": {},
     "output_type": "execute_result"
    }
   ],
   "source": [
    "(-1)**2"
   ]
  },
  {
   "cell_type": "markdown",
   "metadata": {},
   "source": [
    "точка минимума "
   ]
  },
  {
   "cell_type": "markdown",
   "metadata": {},
   "source": [
    "Метод Якоби\n",
    "пусть х1 свободная переменная, а х2 и х3 зависимые S"
   ]
  },
  {
   "cell_type": "code",
   "execution_count": 149,
   "metadata": {},
   "outputs": [],
   "source": [
    "# f_x1_x2_x3 = 8*x1**2+6*x2**2+3*x3**2+10*x1*x2+2*x1*x3-3*x2*x3-35*x1-2*x2-40*x3\n",
    "# constrain_1 = 2*x1-1*x2+7*x3-11\n",
    "# constrain_2 = (-1)*x1+3*x2-9*x3-4"
   ]
  },
  {
   "cell_type": "code",
   "execution_count": 150,
   "metadata": {},
   "outputs": [
    {
     "data": {
      "text/latex": [
       "$\\displaystyle \\left[\\begin{matrix}10 & 10\\\\15 & 2\\end{matrix}\\right]$"
      ],
      "text/plain": [
       "Matrix([\n",
       "[10, 10],\n",
       "[15,  2]])"
      ]
     },
     "execution_count": 150,
     "metadata": {},
     "output_type": "execute_result"
    }
   ],
   "source": [
    "j = Matrix(\n",
    "    [\n",
    "     [diff(constrain_1,x2),diff(constrain_1,x3)],\n",
    "     [diff(constrain_2,x2),diff(constrain_2,x3)]\n",
    "    ]); j"
   ]
  },
  {
   "cell_type": "code",
   "execution_count": 151,
   "metadata": {},
   "outputs": [
    {
     "data": {
      "text/latex": [
       "$\\displaystyle \\left[\\begin{matrix}1\\\\3\\end{matrix}\\right]$"
      ],
      "text/plain": [
       "Matrix([\n",
       "[1],\n",
       "[3]])"
      ]
     },
     "execution_count": 151,
     "metadata": {},
     "output_type": "execute_result"
    }
   ],
   "source": [
    "c = Matrix(\n",
    "    [\n",
    "     diff(constrain_1,x1),\n",
    "     diff(constrain_2,x1)\n",
    "    ]); c"
   ]
  },
  {
   "cell_type": "code",
   "execution_count": 152,
   "metadata": {},
   "outputs": [],
   "source": [
    "mul_j_and_c = j.inv()*c"
   ]
  },
  {
   "cell_type": "code",
   "execution_count": 153,
   "metadata": {},
   "outputs": [
    {
     "data": {
      "text/latex": [
       "$\\displaystyle \\left[\\begin{matrix}\\frac{14}{65}\\\\- \\frac{3}{26}\\end{matrix}\\right]$"
      ],
      "text/plain": [
       "Matrix([\n",
       "[14/65],\n",
       "[-3/26]])"
      ]
     },
     "execution_count": 153,
     "metadata": {},
     "output_type": "execute_result"
    }
   ],
   "source": [
    "mul_j_and_c"
   ]
  },
  {
   "cell_type": "code",
   "execution_count": 154,
   "metadata": {},
   "outputs": [
    {
     "data": {
      "text/latex": [
       "$\\displaystyle \\left[\\begin{matrix}- 10 x_{1} + 10 x_{2} - 12 x_{3} - 20 & - 5 x_{1} - 12 x_{2} + 26 x_{3} - 30\\end{matrix}\\right]$"
      ],
      "text/plain": [
       "Matrix([[-10*x1 + 10*x2 - 12*x3 - 20, -5*x1 - 12*x2 + 26*x3 - 30]])"
      ]
     },
     "execution_count": 154,
     "metadata": {},
     "output_type": "execute_result"
    }
   ],
   "source": [
    "from sympy.matrices import Matrix, eye, zeros, ones, diag, GramSchmidt\n",
    "some = diff(f_x1_x2_x3,x1) \n",
    "some_2 = Matrix([diff(f_x1_x2_x3,x2),diff(f_x1_x2_x3,x3)]); some_2\n",
    "some_2 =  transpose(some_2)\n",
    "some_2"
   ]
  },
  {
   "cell_type": "code",
   "execution_count": 155,
   "metadata": {},
   "outputs": [
    {
     "data": {
      "text/latex": [
       "$\\displaystyle 40 x_{1} - 10 x_{2} - 5 x_{3} + 25$"
      ],
      "text/plain": [
       "40*x1 - 10*x2 - 5*x3 + 25"
      ]
     },
     "execution_count": 155,
     "metadata": {},
     "output_type": "execute_result"
    }
   ],
   "source": [
    "some"
   ]
  },
  {
   "cell_type": "code",
   "execution_count": 156,
   "metadata": {},
   "outputs": [
    {
     "data": {
      "text/latex": [
       "$\\displaystyle \\left[\\begin{matrix}- 10 x_{1} + 10 x_{2} - 12 x_{3} - 20 & - 5 x_{1} - 12 x_{2} + 26 x_{3} - 30\\end{matrix}\\right]$"
      ],
      "text/plain": [
       "Matrix([[-10*x1 + 10*x2 - 12*x3 - 20, -5*x1 - 12*x2 + 26*x3 - 30]])"
      ]
     },
     "execution_count": 156,
     "metadata": {},
     "output_type": "execute_result"
    }
   ],
   "source": [
    "some_2"
   ]
  },
  {
   "cell_type": "code",
   "execution_count": 157,
   "metadata": {},
   "outputs": [
    {
     "data": {
      "text/latex": [
       "$\\displaystyle \\left[\\begin{matrix}- \\frac{41 x_{1}}{26} + \\frac{46 x_{2}}{13} - \\frac{363 x_{3}}{65} - \\frac{11}{13}\\end{matrix}\\right]$"
      ],
      "text/plain": [
       "Matrix([[-41*x1/26 + 46*x2/13 - 363*x3/65 - 11/13]])"
      ]
     },
     "execution_count": 157,
     "metadata": {},
     "output_type": "execute_result"
    }
   ],
   "source": [
    "mul_dif_f_x2_and_x3_and_mult_j_and_c = some_2*mul_j_and_c\n",
    "mul_dif_f_x2_and_x3_and_mult_j_and_c"
   ]
  },
  {
   "cell_type": "code",
   "execution_count": 158,
   "metadata": {},
   "outputs": [
    {
     "data": {
      "text/latex": [
       "$\\displaystyle \\frac{1081 x_{1}}{26} - \\frac{176 x_{2}}{13} + \\frac{38 x_{3}}{65} + \\frac{336}{13}$"
      ],
      "text/plain": [
       "1081*x1/26 - 176*x2/13 + 38*x3/65 + 336/13"
      ]
     },
     "execution_count": 158,
     "metadata": {},
     "output_type": "execute_result"
    }
   ],
   "source": [
    "some-mul_dif_f_x2_and_x3_and_mult_j_and_c[0]"
   ]
  },
  {
   "cell_type": "code",
   "execution_count": 159,
   "metadata": {},
   "outputs": [
    {
     "data": {
      "text/latex": [
       "$\\displaystyle \\left\\{\\left( \\frac{775520}{75307}, \\  \\frac{2729388}{75307}, \\  \\frac{4723760}{75307}\\right)\\right\\}$"
      ],
      "text/plain": [
       "{(775520/75307, 2729388/75307, 4723760/75307)}"
      ]
     },
     "execution_count": 159,
     "metadata": {},
     "output_type": "execute_result"
    }
   ],
   "source": [
    "k = linsolve(\n",
    "    [some-mul_dif_f_x2_and_x3_and_mult_j_and_c[0],\n",
    "    constrain_1, \n",
    "    constrain_2], (x1, x2, x3));k"
   ]
  },
  {
   "cell_type": "code",
   "execution_count": 161,
   "metadata": {},
   "outputs": [
    {
     "data": {
      "text/latex": [
       "$\\displaystyle 23246.6293970016$"
      ],
      "text/plain": [
       "23246.6293970016"
      ]
     },
     "execution_count": 161,
     "metadata": {},
     "output_type": "execute_result"
    }
   ],
   "source": [
    "f_x1_x2_x3.evalf(subs={x1:775520/75307, x2:2729388/75307,x3:4723760/75307})"
   ]
  },
  {
   "cell_type": "code",
   "execution_count": 168,
   "metadata": {},
   "outputs": [
    {
     "data": {
      "text/latex": [
       "$\\displaystyle 40$"
      ],
      "text/plain": [
       "40"
      ]
     },
     "execution_count": 168,
     "metadata": {},
     "output_type": "execute_result"
    }
   ],
   "source": [
    "H = diff(some,x1);H"
   ]
  },
  {
   "cell_type": "markdown",
   "metadata": {},
   "source": [
    "Анализ чувствительности"
   ]
  },
  {
   "cell_type": "code",
   "execution_count": 163,
   "metadata": {},
   "outputs": [
    {
     "data": {
      "text/latex": [
       "$\\displaystyle \\left[\\begin{matrix}- \\frac{1}{65} & \\frac{1}{13}\\\\\\frac{3}{26} & - \\frac{1}{13}\\end{matrix}\\right]$"
      ],
      "text/plain": [
       "Matrix([\n",
       "[-1/65,  1/13],\n",
       "[ 3/26, -1/13]])"
      ]
     },
     "execution_count": 163,
     "metadata": {},
     "output_type": "execute_result"
    }
   ],
   "source": [
    "j_1 = j.inv();j_1"
   ]
  },
  {
   "cell_type": "code",
   "execution_count": 164,
   "metadata": {},
   "outputs": [
    {
     "data": {
      "text/latex": [
       "$\\displaystyle \\left[\\begin{matrix}136.490485612227 & -125.211441167488\\end{matrix}\\right]$"
      ],
      "text/plain": [
       "Matrix([[136.490485612227, -125.211441167488]])"
      ]
     },
     "execution_count": 164,
     "metadata": {},
     "output_type": "execute_result"
    }
   ],
   "source": [
    "some_2.evalf(subs={x1:775520/75307, x2:2729388/75307,x3:4723760/75307})*j_1"
   ]
  }
 ],
 "metadata": {
  "kernelspec": {
   "display_name": "Python 3",
   "language": "python",
   "name": "python3"
  },
  "language_info": {
   "codemirror_mode": {
    "name": "ipython",
    "version": 3
   },
   "file_extension": ".py",
   "mimetype": "text/x-python",
   "name": "python",
   "nbconvert_exporter": "python",
   "pygments_lexer": "ipython3",
   "version": "3.7.4"
  }
 },
 "nbformat": 4,
 "nbformat_minor": 2
}
