{
 "cells": [
  {
   "cell_type": "code",
   "execution_count": 140,
   "metadata": {},
   "outputs": [],
   "source": [
    "from sympy import *\n",
    "import numpy as np\n",
    "x1, x2 = symbols('x1 x2')\n",
    "f_x1_x2 = 5*(x1**2)+x1*x2+5*x2**2-5*x1+2*x2-5"
   ]
  },
  {
   "cell_type": "code",
   "execution_count": 141,
   "metadata": {},
   "outputs": [
    {
     "name": "stdout",
     "output_type": "stream",
     "text": [
      "10*x1 + x2 - 5\n"
     ]
    }
   ],
   "source": [
    "df_x1 = diff(f_x1_x2,x1)\n",
    "print(df_x1)\n",
    "df_x1_coef = df_x1.as_coefficients_dict() "
   ]
  },
  {
   "cell_type": "code",
   "execution_count": 142,
   "metadata": {},
   "outputs": [
    {
     "name": "stdout",
     "output_type": "stream",
     "text": [
      "x1 + 10*x2 + 2\n"
     ]
    }
   ],
   "source": [
    "df_x2 = diff(f_x1_x2,x2)\n",
    "print(df_x2)\n",
    "df_x2_coef = df_x2.as_coefficients_dict()"
   ]
  },
  {
   "cell_type": "code",
   "execution_count": 143,
   "metadata": {},
   "outputs": [
    {
     "name": "stdout",
     "output_type": "stream",
     "text": [
      "[-5, 10, 1]\n",
      "[2, 1, 10]\n"
     ]
    }
   ],
   "source": [
    "df_x1_coef_sort = [df_x1_coef[i] for i in df_x2_coef.keys()]\n",
    "df_x2_coef_sort = [df_x2_coef[i] for i in df_x2_coef.keys()]\n",
    "print(df_x1_coef_sort)\n",
    "print(df_x2_coef_sort)"
   ]
  },
  {
   "cell_type": "code",
   "execution_count": 144,
   "metadata": {},
   "outputs": [],
   "source": [
    "vect = np.array([df_x1_coef_sort[1:], df_x2_coef_sort[1:]],dtype='float')\n",
    "vect_zero = np.array([-df_x1_coef_sort[0],-df_x2_coef_sort[0]],dtype='float')\n",
    "x = np.linalg.solve(vect, vect_zero)"
   ]
  },
  {
   "cell_type": "code",
   "execution_count": 145,
   "metadata": {},
   "outputs": [
    {
     "data": {
      "text/plain": [
       "array([ 0.52525253, -0.25252525])"
      ]
     },
     "execution_count": 145,
     "metadata": {},
     "output_type": "execute_result"
    }
   ],
   "source": [
    "x"
   ]
  },
  {
   "cell_type": "code",
   "execution_count": 146,
   "metadata": {},
   "outputs": [
    {
     "data": {
      "text/latex": [
       "$\\displaystyle -6.56565656565657$"
      ],
      "text/plain": [
       "-6.56565656565657"
      ]
     },
     "execution_count": 146,
     "metadata": {},
     "output_type": "execute_result"
    }
   ],
   "source": [
    "f_x1_x2.evalf(subs={x1:x[0], x2:x[1]})"
   ]
  },
  {
   "cell_type": "code",
   "execution_count": 147,
   "metadata": {},
   "outputs": [],
   "source": [
    "df_x1_x2 = diff(f_x1_x2, x1, x2)\n",
    "df_x1_x1 = diff(f_x1_x2, x1, x1)\n",
    "df_x2_x2 = diff(f_x1_x2, x2, x2)"
   ]
  },
  {
   "cell_type": "code",
   "execution_count": 148,
   "metadata": {},
   "outputs": [
    {
     "data": {
      "text/plain": [
       "1"
      ]
     },
     "execution_count": 148,
     "metadata": {},
     "output_type": "execute_result"
    }
   ],
   "source": [
    "int(df_x1_x2.evalf())"
   ]
  },
  {
   "cell_type": "code",
   "execution_count": 149,
   "metadata": {},
   "outputs": [],
   "source": [
    "A = df_x1_x1.evalf(subs={x1:x[0], x2:x[1]})\n",
    "C = df_x2_x2.evalf(subs={x1:x[0], x2:x[1]})\n",
    "B = df_x1_x2.evalf(subs={x1:x[0], x2:x[1]})"
   ]
  },
  {
   "cell_type": "code",
   "execution_count": 150,
   "metadata": {},
   "outputs": [
    {
     "data": {
      "text/latex": [
       "$\\displaystyle \\text{True}$"
      ],
      "text/plain": [
       "True"
      ]
     },
     "execution_count": 150,
     "metadata": {},
     "output_type": "execute_result"
    }
   ],
   "source": [
    "A*C-B**2>0"
   ]
  },
  {
   "cell_type": "code",
   "execution_count": 151,
   "metadata": {},
   "outputs": [
    {
     "data": {
      "text/latex": [
       "$\\displaystyle \\text{True}$"
      ],
      "text/plain": [
       "True"
      ]
     },
     "execution_count": 151,
     "metadata": {},
     "output_type": "execute_result"
    }
   ],
   "source": [
    "A>0"
   ]
  },
  {
   "cell_type": "code",
   "execution_count": 152,
   "metadata": {},
   "outputs": [],
   "source": [
    "A = int(A)\n",
    "B = int(B)\n",
    "C = int(C)"
   ]
  },
  {
   "cell_type": "markdown",
   "metadata": {},
   "source": [
    "в точке x имеется минимум функции и он равен −6.56565656565657"
   ]
  },
  {
   "cell_type": "code",
   "execution_count": 154,
   "metadata": {},
   "outputs": [
    {
     "data": {
      "text/plain": [
       "10"
      ]
     },
     "execution_count": 154,
     "metadata": {},
     "output_type": "execute_result"
    }
   ],
   "source": [
    "A"
   ]
  },
  {
   "cell_type": "code",
   "execution_count": 155,
   "metadata": {},
   "outputs": [
    {
     "data": {
      "text/plain": [
       "99.00000000000007"
      ]
     },
     "execution_count": 155,
     "metadata": {},
     "output_type": "execute_result"
    }
   ],
   "source": [
    "np.linalg.det([[A,B],[B,C]])"
   ]
  },
  {
   "cell_type": "code",
   "execution_count": null,
   "metadata": {},
   "outputs": [],
   "source": [
    "#функция выпукла,так как угловые миноры все положительные (неточно)"
   ]
  }
 ],
 "metadata": {
  "kernelspec": {
   "display_name": "Python 3",
   "language": "python",
   "name": "python3"
  },
  "language_info": {
   "codemirror_mode": {
    "name": "ipython",
    "version": 3
   },
   "file_extension": ".py",
   "mimetype": "text/x-python",
   "name": "python",
   "nbconvert_exporter": "python",
   "pygments_lexer": "ipython3",
   "version": "3.7.4"
  }
 },
 "nbformat": 4,
 "nbformat_minor": 2
}
