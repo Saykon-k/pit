{
 "cells": [
  {
   "cell_type": "markdown",
   "metadata": {},
   "source": [
    "# Сайков К.А\n",
    "##  ПМ - 1801\n",
    "### задание 13\n",
    "### Методы оптимизации"
   ]
  },
  {
   "cell_type": "code",
   "execution_count": 148,
   "metadata": {},
   "outputs": [
    {
     "data": {
      "text/latex": [
       "$\\displaystyle x_{1}^{2} + 2 x_{1} x_{2} - x_{1} x_{3} + x_{1} + 3 x_{2}^{2} + x_{2} x_{3} - 3 x_{2} + x_{3}^{2} - 5 x_{3}$"
      ],
      "text/plain": [
       "x1**2 + 2*x1*x2 - x1*x3 + x1 + 3*x2**2 + x2*x3 - 3*x2 + x3**2 - 5*x3"
      ]
     },
     "execution_count": 148,
     "metadata": {},
     "output_type": "execute_result"
    }
   ],
   "source": [
    "from sympy import *\n",
    "import numpy as np\n",
    "x1, x2, x3 = symbols('x1 x2 x3')\n",
    "f_x1_x2_x3 = (x1**2)+(3*x2**2)+(x3**2)+(2*x1*x2)-(x1*x3)+(x2*x3)+(x1)-(3*x2)-(5*x3)\n",
    "f_x1_x2_x3"
   ]
  },
  {
   "cell_type": "code",
   "execution_count": 149,
   "metadata": {},
   "outputs": [
    {
     "name": "stdout",
     "output_type": "stream",
     "text": [
      "2*x1 + 2*x2 - x3 + 1\n"
     ]
    },
    {
     "data": {
      "text/plain": [
       "dict_keys([1, x3, x1, x2])"
      ]
     },
     "execution_count": 149,
     "metadata": {},
     "output_type": "execute_result"
    }
   ],
   "source": [
    "df_x1 = diff(f_x1_x2_x3,x1)\n",
    "print(df_x1)\n",
    "df_x1_coef = df_x1.as_coefficients_dict() \n",
    "df_x1_coef.keys()"
   ]
  },
  {
   "cell_type": "code",
   "execution_count": 150,
   "metadata": {},
   "outputs": [
    {
     "name": "stdout",
     "output_type": "stream",
     "text": [
      "2*x1 + 6*x2 + x3 - 3\n"
     ]
    },
    {
     "data": {
      "text/plain": [
       "dict_keys([1, x3, x1, x2])"
      ]
     },
     "execution_count": 150,
     "metadata": {},
     "output_type": "execute_result"
    }
   ],
   "source": [
    "df_x2 = diff(f_x1_x2_x3,x2)\n",
    "print(df_x2)\n",
    "df_x2_coef = df_x2.as_coefficients_dict() \n",
    "df_x2_coef.keys()"
   ]
  },
  {
   "cell_type": "code",
   "execution_count": 151,
   "metadata": {},
   "outputs": [
    {
     "name": "stdout",
     "output_type": "stream",
     "text": [
      "-x1 + x2 + 2*x3 - 5\n"
     ]
    },
    {
     "data": {
      "text/latex": [
       "$\\displaystyle x_{1}^{2} + 2 x_{1} x_{2} - x_{1} x_{3} + x_{1} + 3 x_{2}^{2} + x_{2} x_{3} - 3 x_{2} + x_{3}^{2} - 5 x_{3}$"
      ],
      "text/plain": [
       "x1**2 + 2*x1*x2 - x1*x3 + x1 + 3*x2**2 + x2*x3 - 3*x2 + x3**2 - 5*x3"
      ]
     },
     "execution_count": 151,
     "metadata": {},
     "output_type": "execute_result"
    }
   ],
   "source": [
    "df_x3 = diff(f_x1_x2_x3, x3)\n",
    "print(df_x3)\n",
    "df_x3_coef = df_x3.as_coefficients_dict() \n",
    "df_x3_coef.keys()\n",
    "f_x1_x2_x3"
   ]
  },
  {
   "cell_type": "code",
   "execution_count": 152,
   "metadata": {},
   "outputs": [
    {
     "name": "stdout",
     "output_type": "stream",
     "text": [
      "[1, 2, 2, -1]\n",
      "[-3, 2, 6, 1]\n",
      "[-5, -1, 1, 2]\n"
     ]
    }
   ],
   "source": [
    "df_x1_coef_sort = [df_x1_coef[i] for i in [1, x1, x2, x3]]\n",
    "df_x2_coef_sort = [df_x2_coef[i] for i in [1, x1, x2, x3]]\n",
    "df_x3_coef_sort = [df_x3_coef[i] for i in [1, x1, x2, x3]]\n",
    "print(df_x1_coef_sort)\n",
    "print(df_x2_coef_sort)\n",
    "print(df_x3_coef_sort)"
   ]
  },
  {
   "cell_type": "code",
   "execution_count": 153,
   "metadata": {},
   "outputs": [],
   "source": [
    "vect = np.array([df_x1_coef_sort[1:], df_x2_coef_sort[1:],df_x3_coef_sort[1:]],dtype='float')\n",
    "vect_zero = np.array([-df_x1_coef_sort[0],-df_x2_coef_sort[0],-df_x3_coef_sort[0]],dtype='float')\n",
    "x = np.linalg.solve(vect, vect_zero)"
   ]
  },
  {
   "cell_type": "code",
   "execution_count": 154,
   "metadata": {},
   "outputs": [
    {
     "name": "stdout",
     "output_type": "stream",
     "text": [
      "[3.5, -1.5, 5.0]\n"
     ]
    }
   ],
   "source": [
    "print(list(x))"
   ]
  },
  {
   "cell_type": "code",
   "execution_count": 155,
   "metadata": {},
   "outputs": [
    {
     "data": {
      "text/latex": [
       "$\\displaystyle -8.5$"
      ],
      "text/plain": [
       "-8.50000000000000"
      ]
     },
     "execution_count": 155,
     "metadata": {},
     "output_type": "execute_result"
    }
   ],
   "source": [
    "f_x1_x2_x3.evalf(subs={x1:x[0], x2:x[1],x3:x[2]})"
   ]
  },
  {
   "cell_type": "code",
   "execution_count": 156,
   "metadata": {},
   "outputs": [],
   "source": [
    "df_x1_x1 = diff(f_x1_x2, x1, x1)\n",
    "df_x1_x2 = diff(f_x1_x2, x1, x2)\n",
    "df_x1_x3 = diff(f_x1_x2, x1, x3)"
   ]
  },
  {
   "cell_type": "code",
   "execution_count": 157,
   "metadata": {},
   "outputs": [],
   "source": [
    "df_x2_x2 = diff(f_x1_x2, x2, x2)\n",
    "df_x2_x3 = diff(f_x1_x2, x2, x3)"
   ]
  },
  {
   "cell_type": "code",
   "execution_count": 158,
   "metadata": {},
   "outputs": [],
   "source": [
    "df_x3_x3 = diff(f_x1_x2_x3,x3,x3)"
   ]
  },
  {
   "cell_type": "code",
   "execution_count": 159,
   "metadata": {},
   "outputs": [],
   "source": [
    "a11 = int(df_x1_x1.evalf(subs={x1:x[0], x2:x[1],x3:x[2]}))\n",
    "a12 = int(df_x1_x2.evalf(subs={x1:x[0], x2:x[1],x3:x[2]}))\n",
    "a13 = int(df_x1_x3.evalf(subs={x1:x[0], x2:x[1],x3:x[2]}))"
   ]
  },
  {
   "cell_type": "code",
   "execution_count": 160,
   "metadata": {},
   "outputs": [],
   "source": [
    "a21 = a12\n",
    "a22 = int(df_x2_x2.evalf(subs={x1:x[0], x2:x[1],x3:x[2]}))\n",
    "a23 = int(df_x2_x3.evalf(subs={x1:x[0], x2:x[1],x3:x[2]}))"
   ]
  },
  {
   "cell_type": "code",
   "execution_count": 161,
   "metadata": {},
   "outputs": [],
   "source": [
    "a31 = a13\n",
    "a32 = a23\n",
    "a33 = int(df_x3_x3.evalf(subs={x1:x[0], x2:x[1],x3:x[2]}))"
   ]
  },
  {
   "cell_type": "code",
   "execution_count": 162,
   "metadata": {},
   "outputs": [
    {
     "data": {
      "text/plain": [
       "10"
      ]
     },
     "execution_count": 162,
     "metadata": {},
     "output_type": "execute_result"
    }
   ],
   "source": [
    "a11"
   ]
  },
  {
   "cell_type": "code",
   "execution_count": 163,
   "metadata": {},
   "outputs": [
    {
     "data": {
      "text/plain": [
       "99.00000000000007"
      ]
     },
     "execution_count": 163,
     "metadata": {},
     "output_type": "execute_result"
    }
   ],
   "source": [
    "np.linalg.det([[a11,a12],[a21,a22]])"
   ]
  },
  {
   "cell_type": "code",
   "execution_count": 164,
   "metadata": {},
   "outputs": [
    {
     "data": {
      "text/plain": [
       "198.00000000000017"
      ]
     },
     "execution_count": 164,
     "metadata": {},
     "output_type": "execute_result"
    }
   ],
   "source": [
    "np.linalg.det([[a11,a12,a13],[a21,a22,a23],[a31,a32,a33]])"
   ]
  },
  {
   "cell_type": "markdown",
   "metadata": {},
   "source": [
    "Функция достигает минимума, согласно критерию"
   ]
  }
 ],
 "metadata": {
  "kernelspec": {
   "display_name": "Python 3",
   "language": "python",
   "name": "python3"
  },
  "language_info": {
   "codemirror_mode": {
    "name": "ipython",
    "version": 3
   },
   "file_extension": ".py",
   "mimetype": "text/x-python",
   "name": "python",
   "nbconvert_exporter": "python",
   "pygments_lexer": "ipython3",
   "version": "3.7.4"
  }
 },
 "nbformat": 4,
 "nbformat_minor": 2
}
