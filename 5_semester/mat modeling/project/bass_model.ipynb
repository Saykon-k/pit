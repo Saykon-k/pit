{
 "cells": [
  {
   "cell_type": "code",
   "execution_count": 1,
   "metadata": {},
   "outputs": [],
   "source": [
    "# imports\n",
    "import pandas as pd\n",
    "import matplotlib.pyplot as plt\n",
    "\n",
    "# this allows plots to appear directly in the notebook\n",
    "%matplotlib inline\n",
    "from numpy import genfromtxt\n",
    "import numpy as np\n",
    "import statsmodels.formula.api as smf"
   ]
  },
  {
   "cell_type": "code",
   "execution_count": 2,
   "metadata": {},
   "outputs": [],
   "source": [
    "data = pd.read_csv('ke2.csv')\n",
    "my_data = genfromtxt('apple-all-products-quarterly-sales.csv', delimiter=',')"
   ]
  },
  {
   "cell_type": "code",
   "execution_count": 3,
   "metadata": {},
   "outputs": [],
   "source": [
    "#data = data[:15]\n",
    "#data"
   ]
  },
  {
   "cell_type": "code",
   "execution_count": 4,
   "metadata": {},
   "outputs": [
    {
     "data": {
      "text/plain": [
       "Intercept    4.441825\n",
       "st           0.106315\n",
       "st2         -0.000052\n",
       "dtype: float64"
      ]
     },
     "execution_count": 4,
     "metadata": {},
     "output_type": "execute_result"
    }
   ],
   "source": [
    "lm = smf.ols(formula='isales ~ st + st2', data=data).fit()\n",
    "# print the coefficients\n",
    "lm.params"
   ]
  },
  {
   "cell_type": "code",
   "execution_count": 5,
   "metadata": {},
   "outputs": [
    {
     "data": {
      "text/html": [
       "<table class=\"simpletable\">\n",
       "<caption>OLS Regression Results</caption>\n",
       "<tr>\n",
       "  <th>Dep. Variable:</th>         <td>isales</td>      <th>  R-squared:         </th> <td>   0.827</td>\n",
       "</tr>\n",
       "<tr>\n",
       "  <th>Model:</th>                   <td>OLS</td>       <th>  Adj. R-squared:    </th> <td>   0.819</td>\n",
       "</tr>\n",
       "<tr>\n",
       "  <th>Method:</th>             <td>Least Squares</td>  <th>  F-statistic:       </th> <td>   98.33</td>\n",
       "</tr>\n",
       "<tr>\n",
       "  <th>Date:</th>             <td>Mon, 09 Nov 2020</td> <th>  Prob (F-statistic):</th> <td>2.26e-16</td>\n",
       "</tr>\n",
       "<tr>\n",
       "  <th>Time:</th>                 <td>20:32:20</td>     <th>  Log-Likelihood:    </th> <td> -161.26</td>\n",
       "</tr>\n",
       "<tr>\n",
       "  <th>No. Observations:</th>      <td>    44</td>      <th>  AIC:               </th> <td>   328.5</td>\n",
       "</tr>\n",
       "<tr>\n",
       "  <th>Df Residuals:</th>          <td>    41</td>      <th>  BIC:               </th> <td>   333.9</td>\n",
       "</tr>\n",
       "<tr>\n",
       "  <th>Df Model:</th>              <td>     2</td>      <th>                     </th>     <td> </td>   \n",
       "</tr>\n",
       "<tr>\n",
       "  <th>Covariance Type:</th>      <td>nonrobust</td>    <th>                     </th>     <td> </td>   \n",
       "</tr>\n",
       "</table>\n",
       "<table class=\"simpletable\">\n",
       "<tr>\n",
       "      <td></td>         <th>coef</th>     <th>std err</th>      <th>t</th>      <th>P>|t|</th>  <th>[0.025</th>    <th>0.975]</th>  \n",
       "</tr>\n",
       "<tr>\n",
       "  <th>Intercept</th> <td>    4.4418</td> <td>    2.521</td> <td>    1.762</td> <td> 0.086</td> <td>   -0.650</td> <td>    9.534</td>\n",
       "</tr>\n",
       "<tr>\n",
       "  <th>st</th>        <td>    0.1063</td> <td>    0.012</td> <td>    8.769</td> <td> 0.000</td> <td>    0.082</td> <td>    0.131</td>\n",
       "</tr>\n",
       "<tr>\n",
       "  <th>st2</th>       <td>-5.245e-05</td> <td> 9.73e-06</td> <td>   -5.389</td> <td> 0.000</td> <td>-7.21e-05</td> <td>-3.28e-05</td>\n",
       "</tr>\n",
       "</table>\n",
       "<table class=\"simpletable\">\n",
       "<tr>\n",
       "  <th>Omnibus:</th>       <td> 6.400</td> <th>  Durbin-Watson:     </th> <td>   2.013</td>\n",
       "</tr>\n",
       "<tr>\n",
       "  <th>Prob(Omnibus):</th> <td> 0.041</td> <th>  Jarque-Bera (JB):  </th> <td>   5.340</td>\n",
       "</tr>\n",
       "<tr>\n",
       "  <th>Skew:</th>          <td> 0.823</td> <th>  Prob(JB):          </th> <td>  0.0693</td>\n",
       "</tr>\n",
       "<tr>\n",
       "  <th>Kurtosis:</th>      <td> 3.454</td> <th>  Cond. No.          </th> <td>1.15e+06</td>\n",
       "</tr>\n",
       "</table><br/><br/>Warnings:<br/>[1] Standard Errors assume that the covariance matrix of the errors is correctly specified.<br/>[2] The condition number is large, 1.15e+06. This might indicate that there are<br/>strong multicollinearity or other numerical problems."
      ],
      "text/plain": [
       "<class 'statsmodels.iolib.summary.Summary'>\n",
       "\"\"\"\n",
       "                            OLS Regression Results                            \n",
       "==============================================================================\n",
       "Dep. Variable:                 isales   R-squared:                       0.827\n",
       "Model:                            OLS   Adj. R-squared:                  0.819\n",
       "Method:                 Least Squares   F-statistic:                     98.33\n",
       "Date:                Mon, 09 Nov 2020   Prob (F-statistic):           2.26e-16\n",
       "Time:                        20:32:20   Log-Likelihood:                -161.26\n",
       "No. Observations:                  44   AIC:                             328.5\n",
       "Df Residuals:                      41   BIC:                             333.9\n",
       "Df Model:                           2                                         \n",
       "Covariance Type:            nonrobust                                         \n",
       "==============================================================================\n",
       "                 coef    std err          t      P>|t|      [0.025      0.975]\n",
       "------------------------------------------------------------------------------\n",
       "Intercept      4.4418      2.521      1.762      0.086      -0.650       9.534\n",
       "st             0.1063      0.012      8.769      0.000       0.082       0.131\n",
       "st2        -5.245e-05   9.73e-06     -5.389      0.000   -7.21e-05   -3.28e-05\n",
       "==============================================================================\n",
       "Omnibus:                        6.400   Durbin-Watson:                   2.013\n",
       "Prob(Omnibus):                  0.041   Jarque-Bera (JB):                5.340\n",
       "Skew:                           0.823   Prob(JB):                       0.0693\n",
       "Kurtosis:                       3.454   Cond. No.                     1.15e+06\n",
       "==============================================================================\n",
       "\n",
       "Warnings:\n",
       "[1] Standard Errors assume that the covariance matrix of the errors is correctly specified.\n",
       "[2] The condition number is large, 1.15e+06. This might indicate that there are\n",
       "strong multicollinearity or other numerical problems.\n",
       "\"\"\""
      ]
     },
     "execution_count": 5,
     "metadata": {},
     "output_type": "execute_result"
    }
   ],
   "source": [
    "lm.summary()"
   ]
  },
  {
   "cell_type": "code",
   "execution_count": 6,
   "metadata": {},
   "outputs": [],
   "source": [
    "b = lm.params\n",
    "b_1 = b[0]\n",
    "b_2 = b[1]\n",
    "b_3 = b[2]"
   ]
  },
  {
   "cell_type": "code",
   "execution_count": 7,
   "metadata": {},
   "outputs": [],
   "source": [
    "m1 = (-b[1]+(b[1]**2-4*b[0]*b[2])**0.5)/(2*b[2])\n",
    "m2 = (-b[1]-(b[1]**2-4*b[0]*b[2])**0.5)/(2*b[2])"
   ]
  },
  {
   "cell_type": "markdown",
   "metadata": {},
   "source": [
    "m1"
   ]
  },
  {
   "cell_type": "code",
   "execution_count": 8,
   "metadata": {},
   "outputs": [
    {
     "name": "stdout",
     "output_type": "stream",
     "text": [
      "-40.95230204070664\n"
     ]
    }
   ],
   "source": [
    "print(m1)"
   ]
  },
  {
   "cell_type": "code",
   "execution_count": 9,
   "metadata": {},
   "outputs": [
    {
     "name": "stdout",
     "output_type": "stream",
     "text": [
      "2067.9431093283447\n"
     ]
    }
   ],
   "source": [
    "print(m2)"
   ]
  },
  {
   "cell_type": "code",
   "execution_count": 10,
   "metadata": {},
   "outputs": [],
   "source": [
    "p = b_1/max(m1,m2)\n",
    "q = -max(m1,m2)*b_3"
   ]
  },
  {
   "cell_type": "code",
   "execution_count": 11,
   "metadata": {},
   "outputs": [
    {
     "data": {
      "text/plain": [
       "0.0021479435496910685"
      ]
     },
     "execution_count": 11,
     "metadata": {},
     "output_type": "execute_result"
    }
   ],
   "source": [
    "p"
   ]
  },
  {
   "cell_type": "code",
   "execution_count": 12,
   "metadata": {},
   "outputs": [
    {
     "data": {
      "text/plain": [
       "0.10846337913787442"
      ]
     },
     "execution_count": 12,
     "metadata": {},
     "output_type": "execute_result"
    }
   ],
   "source": [
    "q"
   ]
  },
  {
   "cell_type": "code",
   "execution_count": 13,
   "metadata": {},
   "outputs": [],
   "source": [
    "def bass(M,p,q,iterations,step):\n",
    "    t_array = [0]\n",
    "    n_array = [0]\n",
    "    Big_n_array = [p*M]\n",
    "    ad_array = [p*M]\n",
    "    for i in range(1,round(iterations/step)):\n",
    "        t_array.append(i)\n",
    "        n_array.append((p+q*Big_n_array[-1]/M)*(M-Big_n_array[-1]))\n",
    "        Big_n_array.append(Big_n_array[-1]+n_array[-1])\n",
    "        ad_array.append(p*(M-Big_n_array[-1]))\n",
    "    return t_array, n_array, ad_array, Big_n_array\n",
    "M = 100000\n",
    "ex = bass(M,p,q,100,1)"
   ]
  },
  {
   "cell_type": "code",
   "execution_count": 14,
   "metadata": {},
   "outputs": [],
   "source": [
    "def create_grafic_2_max(x_data,y_data):\n",
    "    for x,y in zip(x_data,y_data):\n",
    "        plt.plot(x,y)\n",
    "        plt.xlabel('Продажи')\n",
    "        plt.xlabel('Время')\n",
    "        plt.title('Модель Басса для iphone') \n",
    "    plt.show() "
   ]
  },
  {
   "cell_type": "code",
   "execution_count": 19,
   "metadata": {},
   "outputs": [],
   "source": [
    "def create_grafic_2_max_one(x_data,y_data,data_real):\n",
    "    plt.plot(x_data,y_data)\n",
    "    plt.ylabel('Продажи')\n",
    "    plt.xlabel('Время')\n",
    "    plt.title('Модель Басса для iphone')\n",
    "    plt.plot([i for i in range(len(data_real))],data_real)\n",
    "    plt.show() "
   ]
  },
  {
   "cell_type": "code",
   "execution_count": 20,
   "metadata": {},
   "outputs": [
    {
     "data": {
      "image/png": "[encoded data removed]",
      "text/plain": [
       "<Figure size 432x288 with 1 Axes>"
      ]
     },
     "metadata": {
      "needs_background": "light"
     },
     "output_type": "display_data"
    }
   ],
   "source": [
    "data_real = [i*M/max(m1,m2) for i in data.to_numpy()[:,0]]\n",
    "create_grafic_2_max_one(ex[0],ex[1],data_real)"
   ]
  },
  {
   "cell_type": "code",
   "execution_count": 26,
   "metadata": {},
   "outputs": [
    {
     "data": {
      "image/png": "[encoded data removed]",
      "text/plain": [
       "<Figure size 432x288 with 1 Axes>"
      ]
     },
     "metadata": {
      "needs_background": "light"
     },
     "output_type": "display_data"
    }
   ],
   "source": [
    "data_real = [i/M*max(m1,m2) for i in data.to_numpy()[:,0]]\n",
    "example = [i*max(m1,m2)/M for i in ex[0]]\n",
    "example_2 = [i*max(m1,m2)/M for i in ex[1]]\n",
    "\n",
    "create_grafic_2_max_one(example,example_2,data_real)"
   ]
  },
  {
   "cell_type": "code",
   "execution_count": 18,
   "metadata": {},
   "outputs": [],
   "source": [
    "def create_grafic_2_max_log(x_data,y_data):\n",
    "    plt.plot(x_data,y_data)\n",
    "    plt.xlabel('')\n",
    "    plt.xlabel('')\n",
    "    plt.title('')\n",
    "    plt.show() "
   ]
  },
  {
   "cell_type": "code",
   "execution_count": 19,
   "metadata": {},
   "outputs": [
    {
     "data": {
      "image/png": "[encoded data removed]",
      "text/plain": [
       "<Figure size 432x288 with 1 Axes>"
      ]
     },
     "metadata": {
      "needs_background": "light"
     },
     "output_type": "display_data"
    }
   ],
   "source": [
    "create_grafic_2_max_log(ex[0],ex[2])"
   ]
  },
  {
   "cell_type": "code",
   "execution_count": 20,
   "metadata": {},
   "outputs": [
    {
     "data": {
      "image/png": "[encoded data removed]",
      "text/plain": [
       "<Figure size 432x288 with 1 Axes>"
      ]
     },
     "metadata": {
      "needs_background": "light"
     },
     "output_type": "display_data"
    }
   ],
   "source": [
    "create_grafic_2_max_log(ex[0],ex[3])"
   ]
  },
  {
   "cell_type": "code",
   "execution_count": 21,
   "metadata": {},
   "outputs": [],
   "source": [
    "def create_grafic_2_max_one(x_data,y_data,data_real):\n",
    "    plt.plot(x_data,y_data)\n",
    "    plt.ylabel('Продажи')\n",
    "    plt.xlabel('Время')\n",
    "    plt.title('Модель Басса для ipod')\n",
    "    plt.plot([i for i in range(len(data_real))],data_real)\n",
    "    plt.show() "
   ]
  },
  {
   "cell_type": "code",
   "execution_count": 22,
   "metadata": {},
   "outputs": [
    {
     "name": "stdout",
     "output_type": "stream",
     "text": [
      "                            OLS Regression Results                            \n",
      "==============================================================================\n",
      "Dep. Variable:             isales_pod   R-squared:                       0.630\n",
      "Model:                            OLS   Adj. R-squared:                  0.615\n",
      "Method:                 Least Squares   F-statistic:                     41.67\n",
      "Date:                Mon, 09 Nov 2020   Prob (F-statistic):           2.68e-11\n",
      "Time:                        20:34:27   Log-Likelihood:                -141.59\n",
      "No. Observations:                  52   AIC:                             289.2\n",
      "Df Residuals:                      49   BIC:                             295.0\n",
      "Df Model:                           2                                         \n",
      "Covariance Type:            nonrobust                                         \n",
      "==============================================================================\n",
      "                 coef    std err          t      P>|t|      [0.025      0.975]\n",
      "------------------------------------------------------------------------------\n",
      "Intercept      1.6021      0.941      1.703      0.095      -0.289       3.493\n",
      "st             0.1299      0.014      9.082      0.000       0.101       0.159\n",
      "st2           -0.0003   3.73e-05     -8.559      0.000      -0.000      -0.000\n",
      "==============================================================================\n",
      "Omnibus:                       13.770   Durbin-Watson:                   2.257\n",
      "Prob(Omnibus):                  0.001   Jarque-Bera (JB):               14.975\n",
      "Skew:                           1.266   Prob(JB):                     0.000560\n",
      "Kurtosis:                       3.710   Cond. No.                     1.36e+05\n",
      "==============================================================================\n",
      "\n",
      "Warnings:\n",
      "[1] Standard Errors assume that the covariance matrix of the errors is correctly specified.\n",
      "[2] The condition number is large, 1.36e+05. This might indicate that there are\n",
      "strong multicollinearity or other numerical problems.\n",
      "-11.977779700855299\n",
      "419.084777031834\n",
      "0.0038229088446286325 0.13375792014690444\n"
     ]
    },
    {
     "data": {
      "image/png": "[encoded data removed]",
      "text/plain": [
       "<Figure size 432x288 with 1 Axes>"
      ]
     },
     "metadata": {
      "needs_background": "light"
     },
     "output_type": "display_data"
    }
   ],
   "source": [
    "data = pd.read_csv('ipod_sales_with_cumsum_2_work.csv')\n",
    "lm = smf.ols(formula='isales_pod ~ st + st2', data=data).fit()\n",
    "# print the coefficients\n",
    "print(lm.summary())\n",
    "b = lm.params\n",
    "b_1 = b[0]\n",
    "b_2 = b[1]\n",
    "b_3 = b[2]\n",
    "m1 = (-b[1]+(b[1]**2-4*b[0]*b[2])**0.5)/(2*b[2])\n",
    "m2 = (-b[1]-(b[1]**2-4*b[0]*b[2])**0.5)/(2*b[2])\n",
    "print(m1)\n",
    "print(m2)\n",
    "p = b_1/max(m1,m2)\n",
    "q = -max(m1,m2)*b_3\n",
    "print(str(p)+\" \"+str(q))\n",
    "M = 10000\n",
    "ex = bass(M,p,q,100,1)\n",
    "data_real = [i*M/max(m1,m2) for i in data.to_numpy()[:,0]]\n",
    "create_grafic_2_max_one(ex[0],ex[1],data_real)"
   ]
  },
  {
   "cell_type": "code",
   "execution_count": null,
   "metadata": {},
   "outputs": [],
   "source": []
  }
 ],
 "metadata": {
  "kernelspec": {
   "display_name": "Python 3",
   "language": "python",
   "name": "python3"
  },
  "language_info": {
   "codemirror_mode": {
    "name": "ipython",
    "version": 3
   },
   "file_extension": ".py",
   "mimetype": "text/x-python",
   "name": "python",
   "nbconvert_exporter": "python",
   "pygments_lexer": "ipython3",
   "version": "3.7.4"
  }
 },
 "nbformat": 4,
 "nbformat_minor": 2
}
