{
 "cells": [
  {
   "cell_type": "code",
   "execution_count": 40,
   "metadata": {},
   "outputs": [],
   "source": [
    "import numpy\n",
    "import matplotlib.pyplot as plt"
   ]
  },
  {
   "cell_type": "code",
   "execution_count": 41,
   "metadata": {},
   "outputs": [],
   "source": [
    "lam=0.01\n",
    "mu=0.01\n",
    "s=0.4\n",
    "alpha=0.3\n",
    "a_big=1"
   ]
  },
  {
   "cell_type": "code",
   "execution_count": 42,
   "metadata": {},
   "outputs": [],
   "source": [
    "def solow_function(k, lam=0.01, mu=0.01, s=0.4, alpha=0.3, a_big=1):\n",
    "    return -(lam + mu)*k + s*a_big*k**alpha"
   ]
  },
  {
   "cell_type": "code",
   "execution_count": 47,
   "metadata": {},
   "outputs": [],
   "source": [
    "def el(iterations, initial, step):\n",
    "    lam=0.01\n",
    "    mu=0.01\n",
    "    s=0.4\n",
    "    alpha=0.3\n",
    "    a_big=1\n",
    "    k_val = [initial]\n",
    "    t_val = [0]\n",
    "    for i in range(iterations):\n",
    "        new_k = k_val[-1] + step*solow_function(k_val[-1])\n",
    "        k_val.append(new_k)\n",
    "        t_val.append(t_val[-1] + step)\n",
    "    return t_val, k_val"
   ]
  },
  {
   "cell_type": "code",
   "execution_count": 48,
   "metadata": {},
   "outputs": [],
   "source": [
    "iterations = 250\n",
    "initial = 3\n",
    "step = 1"
   ]
  },
  {
   "cell_type": "code",
   "execution_count": 49,
   "metadata": {},
   "outputs": [],
   "source": [
    "result = el(iterations, initial, step)\n",
    "t_list_e = result[0]\n",
    "k_list_e = result[1]\n",
    "initial1 = 250\n",
    "result1 = el(iterations, initial1, step)\n",
    "t_list_e1 = result1[0]\n",
    "k_list_e1 = result1[1]"
   ]
  },
  {
   "cell_type": "code",
   "execution_count": 50,
   "metadata": {},
   "outputs": [
    {
     "data": {
      "text/plain": [
       "[<matplotlib.lines.Line2D at 0x15aee096948>]"
      ]
     },
     "execution_count": 50,
     "metadata": {},
     "output_type": "execute_result"
    },
    {
     "data": {
      "image/png": "[encoded data removed]",
      "text/plain": [
       "<Figure size 432x288 with 1 Axes>"
      ]
     },
     "metadata": {
      "needs_background": "light"
     },
     "output_type": "display_data"
    }
   ],
   "source": [
    "plt.plot(t_list_e, k_list_e)\n",
    "plt.plot(t_list_e1, k_list_e1)"
   ]
  },
  {
   "cell_type": "code",
   "execution_count": null,
   "metadata": {},
   "outputs": [],
   "source": []
  }
 ],
 "metadata": {
  "kernelspec": {
   "display_name": "Python 3",
   "language": "python",
   "name": "python3"
  },
  "language_info": {
   "codemirror_mode": {
    "name": "ipython",
    "version": 3
   },
   "file_extension": ".py",
   "mimetype": "text/x-python",
   "name": "python",
   "nbconvert_exporter": "python",
   "pygments_lexer": "ipython3",
   "version": "3.7.4"
  }
 },
 "nbformat": 4,
 "nbformat_minor": 2
}
