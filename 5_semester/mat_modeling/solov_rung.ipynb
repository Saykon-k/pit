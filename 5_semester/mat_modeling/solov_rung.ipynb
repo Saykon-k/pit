{
 "cells": [
  {
   "cell_type": "code",
   "execution_count": 1,
   "metadata": {},
   "outputs": [],
   "source": [
    "import numpy\n",
    "import matplotlib.pyplot as plt"
   ]
  },
  {
   "cell_type": "code",
   "execution_count": 2,
   "metadata": {},
   "outputs": [],
   "source": [
    "def solow_function(k, lam=0.1, mu=0.01, s=0.4, alpha=0.3, a_big=1):\n",
    "    return -(lam + mu)*k + s*a_big*k**alpha"
   ]
  },
  {
   "cell_type": "code",
   "execution_count": 17,
   "metadata": {},
   "outputs": [],
   "source": [
    "def r_k(iterations, initial, step):\n",
    "    lam=0.01\n",
    "    mu=0.01 \n",
    "    s=0.4\n",
    "    alpha=0.3 \n",
    "    a_big=1\n",
    "    k_val = [initial]\n",
    "    t_val = [0]\n",
    "    for i in range(iterations):\n",
    "        k1 = solow_function(k_val[-1], lam, mu, s, alpha, a_big)\n",
    "        k2 = solow_function(k_val[-1]+step*k1/2, lam, mu, s, alpha, a_big)\n",
    "        k3 = solow_function(k_val[-1]+step*k2/2, lam, mu, s, alpha, a_big)\n",
    "        k4 = solow_function(k_val[-1]+step*k3, lam, mu, s, alpha, a_big)\n",
    "        k_val.append(k_val[-1]+step*(k1+2*k2+2*k3+k4)/6)\n",
    "        t_val.append(t_val[-1] + step)\n",
    "    return t_val, k_val"
   ]
  },
  {
   "cell_type": "code",
   "execution_count": 18,
   "metadata": {},
   "outputs": [],
   "source": [
    "iterations = 500\n",
    "initial = 3\n",
    "step = 1\n",
    "initial1 = 150\n"
   ]
  },
  {
   "cell_type": "code",
   "execution_count": 19,
   "metadata": {},
   "outputs": [],
   "source": [
    "result_rk = r_k(iterations, initial, step)\n",
    "t_list_rk = result_rk[0]\n",
    "k_list_rk = result_rk[1]"
   ]
  },
  {
   "cell_type": "code",
   "execution_count": 20,
   "metadata": {},
   "outputs": [],
   "source": [
    "result_rk1 = r_k(iterations, initial1, step)\n",
    "t_list_rk1 = result_rk1[0]\n",
    "k_list_rk1 = result_rk1[1]"
   ]
  },
  {
   "cell_type": "code",
   "execution_count": 21,
   "metadata": {},
   "outputs": [
    {
     "data": {
      "text/plain": [
       "[<matplotlib.lines.Line2D at 0x1d79a1d7c88>]"
      ]
     },
     "execution_count": 21,
     "metadata": {},
     "output_type": "execute_result"
    },
    {
     "data": {
      "image/png": "[encoded data removed]",
      "text/plain": [
       "<Figure size 432x288 with 1 Axes>"
      ]
     },
     "metadata": {
      "needs_background": "light"
     },
     "output_type": "display_data"
    }
   ],
   "source": [
    "plt.plot(t_list_rk, k_list_rk)\n",
    "plt.plot(t_list_rk1, k_list_rk1)"
   ]
  },
  {
   "cell_type": "code",
   "execution_count": null,
   "metadata": {},
   "outputs": [],
   "source": []
  }
 ],
 "metadata": {
  "kernelspec": {
   "display_name": "Python 3",
   "language": "python",
   "name": "python3"
  },
  "language_info": {
   "codemirror_mode": {
    "name": "ipython",
    "version": 3
   },
   "file_extension": ".py",
   "mimetype": "text/x-python",
   "name": "python",
   "nbconvert_exporter": "python",
   "pygments_lexer": "ipython3",
   "version": "3.7.4"
  }
 },
 "nbformat": 4,
 "nbformat_minor": 2
}
