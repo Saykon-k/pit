{
 "cells": [
  {
   "cell_type": "code",
   "execution_count": 49,
   "metadata": {},
   "outputs": [],
   "source": [
    "# imports\n",
    "import pandas as pd\n",
    "import matplotlib.pyplot as plt\n",
    "\n",
    "# this allows plots to appear directly in the notebook\n",
    "%matplotlib inline\n",
    "from numpy import genfromtxt\n",
    "import numpy as np\n",
    "import statsmodels.formula.api as smf\n",
    "# coding=utf8\n",
    "import openpyxl"
   ]
  },
  {
   "cell_type": "code",
   "execution_count": 50,
   "metadata": {},
   "outputs": [],
   "source": [
    "my_data = data = pd.read_csv('apple-all-products-quarterly-sales.csv')"
   ]
  },
  {
   "cell_type": "code",
   "execution_count": 51,
   "metadata": {},
   "outputs": [],
   "source": [
    "ipod_sales = my_data.to_numpy()[:,4]"
   ]
  },
  {
   "cell_type": "code",
   "execution_count": 52,
   "metadata": {},
   "outputs": [],
   "source": [
    "ipod_real_sales = []\n",
    "for i in ipod_sales:\n",
    "    if str(i) != 'nan':\n",
    "        ipod_real_sales.append(i)"
   ]
  },
  {
   "cell_type": "code",
   "execution_count": 53,
   "metadata": {},
   "outputs": [],
   "source": [
    "ipod_sales_s_t = np.cumsum(ipod_real_sales)"
   ]
  },
  {
   "cell_type": "code",
   "execution_count": 54,
   "metadata": {},
   "outputs": [],
   "source": [
    "ipod_sales_s_t_2 = ipod_sales_s_t**2"
   ]
  },
  {
   "cell_type": "code",
   "execution_count": 56,
   "metadata": {},
   "outputs": [],
   "source": [
    "workbook = openpyxl.Workbook()\n",
    "sheet = workbook.active\n",
    "row = 2\n",
    "for i, j , k  in zip(ipod_real_sales,ipod_sales_s_t,ipod_sales_s_t_2):\n",
    "    sheet.cell(row=row, column=1, value=i)\n",
    "    sheet.cell(row=row, column=2, value=j)\n",
    "    sheet.cell(row=row, column=3, value=k)\n",
    "    row += 1\n",
    "workbook.save(filename=\"ipod_sales_with_cumsum.xlsx\")"
   ]
  },
  {
   "cell_type": "code",
   "execution_count": null,
   "metadata": {},
   "outputs": [],
   "source": []
  }
 ],
 "metadata": {
  "kernelspec": {
   "display_name": "Python 3",
   "language": "python",
   "name": "python3"
  },
  "language_info": {
   "codemirror_mode": {
    "name": "ipython",
    "version": 3
   },
   "file_extension": ".py",
   "mimetype": "text/x-python",
   "name": "python",
   "nbconvert_exporter": "python",
   "pygments_lexer": "ipython3",
   "version": "3.7.4"
  }
 },
 "nbformat": 4,
 "nbformat_minor": 2
}
