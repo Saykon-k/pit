{
 "cells": [
  {
   "cell_type": "code",
   "execution_count": 59,
   "metadata": {},
   "outputs": [],
   "source": [
    "# imports\n",
    "import pandas as pd\n",
    "import matplotlib.pyplot as plt\n",
    "\n",
    "# this allows plots to appear directly in the notebook\n",
    "%matplotlib inline\n",
    "from numpy import genfromtxt\n",
    "import numpy as np\n",
    "import statsmodels.formula.api as smf"
   ]
  },
  {
   "cell_type": "code",
   "execution_count": 60,
   "metadata": {},
   "outputs": [],
   "source": [
    "data = pd.read_csv('ke2.csv')\n",
    "my_data = genfromtxt('apple-all-products-quarterly-sales.csv', delimiter=',')"
   ]
  },
  {
   "cell_type": "code",
   "execution_count": 61,
   "metadata": {},
   "outputs": [
    {
     "data": {
      "text/html": [
       "<div>\n",
       "<style scoped>\n",
       "    .dataframe tbody tr th:only-of-type {\n",
       "        vertical-align: middle;\n",
       "    }\n",
       "\n",
       "    .dataframe tbody tr th {\n",
       "        vertical-align: top;\n",
       "    }\n",
       "\n",
       "    .dataframe thead th {\n",
       "        text-align: right;\n",
       "    }\n",
       "</style>\n",
       "<table border=\"1\" class=\"dataframe\">\n",
       "  <thead>\n",
       "    <tr style=\"text-align: right;\">\n",
       "      <th></th>\n",
       "      <th>isales</th>\n",
       "      <th>st</th>\n",
       "      <th>st2</th>\n",
       "    </tr>\n",
       "  </thead>\n",
       "  <tbody>\n",
       "    <tr>\n",
       "      <td>0</td>\n",
       "      <td>0.270</td>\n",
       "      <td>0.270</td>\n",
       "      <td>7.290000e-02</td>\n",
       "    </tr>\n",
       "    <tr>\n",
       "      <td>1</td>\n",
       "      <td>1.119</td>\n",
       "      <td>1.389</td>\n",
       "      <td>1.929321e+00</td>\n",
       "    </tr>\n",
       "    <tr>\n",
       "      <td>2</td>\n",
       "      <td>2.315</td>\n",
       "      <td>3.704</td>\n",
       "      <td>1.371962e+01</td>\n",
       "    </tr>\n",
       "    <tr>\n",
       "      <td>3</td>\n",
       "      <td>1.703</td>\n",
       "      <td>5.407</td>\n",
       "      <td>2.923565e+01</td>\n",
       "    </tr>\n",
       "    <tr>\n",
       "      <td>4</td>\n",
       "      <td>0.717</td>\n",
       "      <td>6.124</td>\n",
       "      <td>3.750338e+01</td>\n",
       "    </tr>\n",
       "    <tr>\n",
       "      <td>5</td>\n",
       "      <td>6.892</td>\n",
       "      <td>13.016</td>\n",
       "      <td>1.694163e+02</td>\n",
       "    </tr>\n",
       "    <tr>\n",
       "      <td>6</td>\n",
       "      <td>4.363</td>\n",
       "      <td>17.379</td>\n",
       "      <td>3.020296e+02</td>\n",
       "    </tr>\n",
       "    <tr>\n",
       "      <td>7</td>\n",
       "      <td>3.793</td>\n",
       "      <td>21.172</td>\n",
       "      <td>4.482536e+02</td>\n",
       "    </tr>\n",
       "    <tr>\n",
       "      <td>8</td>\n",
       "      <td>5.208</td>\n",
       "      <td>26.380</td>\n",
       "      <td>6.959044e+02</td>\n",
       "    </tr>\n",
       "    <tr>\n",
       "      <td>9</td>\n",
       "      <td>7.367</td>\n",
       "      <td>33.747</td>\n",
       "      <td>1.138860e+03</td>\n",
       "    </tr>\n",
       "    <tr>\n",
       "      <td>10</td>\n",
       "      <td>8.737</td>\n",
       "      <td>42.484</td>\n",
       "      <td>1.804890e+03</td>\n",
       "    </tr>\n",
       "    <tr>\n",
       "      <td>11</td>\n",
       "      <td>8.752</td>\n",
       "      <td>51.236</td>\n",
       "      <td>2.625128e+03</td>\n",
       "    </tr>\n",
       "    <tr>\n",
       "      <td>12</td>\n",
       "      <td>8.398</td>\n",
       "      <td>59.634</td>\n",
       "      <td>3.556214e+03</td>\n",
       "    </tr>\n",
       "    <tr>\n",
       "      <td>13</td>\n",
       "      <td>14.102</td>\n",
       "      <td>73.736</td>\n",
       "      <td>5.436998e+03</td>\n",
       "    </tr>\n",
       "    <tr>\n",
       "      <td>14</td>\n",
       "      <td>16.235</td>\n",
       "      <td>89.971</td>\n",
       "      <td>8.094781e+03</td>\n",
       "    </tr>\n",
       "    <tr>\n",
       "      <td>15</td>\n",
       "      <td>18.647</td>\n",
       "      <td>108.618</td>\n",
       "      <td>1.179787e+04</td>\n",
       "    </tr>\n",
       "    <tr>\n",
       "      <td>16</td>\n",
       "      <td>20.338</td>\n",
       "      <td>128.956</td>\n",
       "      <td>1.662965e+04</td>\n",
       "    </tr>\n",
       "    <tr>\n",
       "      <td>17</td>\n",
       "      <td>17.073</td>\n",
       "      <td>146.029</td>\n",
       "      <td>2.132447e+04</td>\n",
       "    </tr>\n",
       "    <tr>\n",
       "      <td>18</td>\n",
       "      <td>37.044</td>\n",
       "      <td>183.073</td>\n",
       "      <td>3.351572e+04</td>\n",
       "    </tr>\n",
       "    <tr>\n",
       "      <td>19</td>\n",
       "      <td>35.064</td>\n",
       "      <td>218.137</td>\n",
       "      <td>4.758375e+04</td>\n",
       "    </tr>\n",
       "    <tr>\n",
       "      <td>20</td>\n",
       "      <td>26.028</td>\n",
       "      <td>244.165</td>\n",
       "      <td>5.961655e+04</td>\n",
       "    </tr>\n",
       "    <tr>\n",
       "      <td>21</td>\n",
       "      <td>26.910</td>\n",
       "      <td>271.075</td>\n",
       "      <td>7.348166e+04</td>\n",
       "    </tr>\n",
       "    <tr>\n",
       "      <td>22</td>\n",
       "      <td>47.789</td>\n",
       "      <td>318.864</td>\n",
       "      <td>1.016743e+05</td>\n",
       "    </tr>\n",
       "    <tr>\n",
       "      <td>23</td>\n",
       "      <td>37.430</td>\n",
       "      <td>356.294</td>\n",
       "      <td>1.269454e+05</td>\n",
       "    </tr>\n",
       "    <tr>\n",
       "      <td>24</td>\n",
       "      <td>31.241</td>\n",
       "      <td>387.535</td>\n",
       "      <td>1.501834e+05</td>\n",
       "    </tr>\n",
       "    <tr>\n",
       "      <td>25</td>\n",
       "      <td>33.797</td>\n",
       "      <td>421.332</td>\n",
       "      <td>1.775207e+05</td>\n",
       "    </tr>\n",
       "    <tr>\n",
       "      <td>26</td>\n",
       "      <td>51.025</td>\n",
       "      <td>472.357</td>\n",
       "      <td>2.231211e+05</td>\n",
       "    </tr>\n",
       "    <tr>\n",
       "      <td>27</td>\n",
       "      <td>43.719</td>\n",
       "      <td>516.076</td>\n",
       "      <td>2.663344e+05</td>\n",
       "    </tr>\n",
       "    <tr>\n",
       "      <td>28</td>\n",
       "      <td>35.203</td>\n",
       "      <td>551.279</td>\n",
       "      <td>3.039085e+05</td>\n",
       "    </tr>\n",
       "    <tr>\n",
       "      <td>29</td>\n",
       "      <td>39.272</td>\n",
       "      <td>590.551</td>\n",
       "      <td>3.487505e+05</td>\n",
       "    </tr>\n",
       "    <tr>\n",
       "      <td>30</td>\n",
       "      <td>74.468</td>\n",
       "      <td>665.019</td>\n",
       "      <td>4.422503e+05</td>\n",
       "    </tr>\n",
       "    <tr>\n",
       "      <td>31</td>\n",
       "      <td>61.170</td>\n",
       "      <td>726.189</td>\n",
       "      <td>5.273505e+05</td>\n",
       "    </tr>\n",
       "    <tr>\n",
       "      <td>32</td>\n",
       "      <td>47.534</td>\n",
       "      <td>773.723</td>\n",
       "      <td>5.986473e+05</td>\n",
       "    </tr>\n",
       "    <tr>\n",
       "      <td>33</td>\n",
       "      <td>48.050</td>\n",
       "      <td>821.773</td>\n",
       "      <td>6.753109e+05</td>\n",
       "    </tr>\n",
       "    <tr>\n",
       "      <td>34</td>\n",
       "      <td>74.780</td>\n",
       "      <td>896.553</td>\n",
       "      <td>8.038073e+05</td>\n",
       "    </tr>\n",
       "    <tr>\n",
       "      <td>35</td>\n",
       "      <td>51.200</td>\n",
       "      <td>947.753</td>\n",
       "      <td>8.982357e+05</td>\n",
       "    </tr>\n",
       "    <tr>\n",
       "      <td>36</td>\n",
       "      <td>40.399</td>\n",
       "      <td>988.152</td>\n",
       "      <td>9.764444e+05</td>\n",
       "    </tr>\n",
       "    <tr>\n",
       "      <td>37</td>\n",
       "      <td>45.513</td>\n",
       "      <td>1033.665</td>\n",
       "      <td>1.068463e+06</td>\n",
       "    </tr>\n",
       "    <tr>\n",
       "      <td>38</td>\n",
       "      <td>78.290</td>\n",
       "      <td>1111.955</td>\n",
       "      <td>1.236444e+06</td>\n",
       "    </tr>\n",
       "    <tr>\n",
       "      <td>39</td>\n",
       "      <td>50.763</td>\n",
       "      <td>1162.718</td>\n",
       "      <td>1.351913e+06</td>\n",
       "    </tr>\n",
       "    <tr>\n",
       "      <td>40</td>\n",
       "      <td>41.026</td>\n",
       "      <td>1203.744</td>\n",
       "      <td>1.449000e+06</td>\n",
       "    </tr>\n",
       "    <tr>\n",
       "      <td>41</td>\n",
       "      <td>46.677</td>\n",
       "      <td>1250.421</td>\n",
       "      <td>1.563553e+06</td>\n",
       "    </tr>\n",
       "    <tr>\n",
       "      <td>42</td>\n",
       "      <td>77.316</td>\n",
       "      <td>1327.737</td>\n",
       "      <td>1.762886e+06</td>\n",
       "    </tr>\n",
       "    <tr>\n",
       "      <td>43</td>\n",
       "      <td>52.217</td>\n",
       "      <td>1379.954</td>\n",
       "      <td>1.904273e+06</td>\n",
       "    </tr>\n",
       "  </tbody>\n",
       "</table>\n",
       "</div>"
      ],
      "text/plain": [
       "    isales        st           st2\n",
       "0    0.270     0.270  7.290000e-02\n",
       "1    1.119     1.389  1.929321e+00\n",
       "2    2.315     3.704  1.371962e+01\n",
       "3    1.703     5.407  2.923565e+01\n",
       "4    0.717     6.124  3.750338e+01\n",
       "5    6.892    13.016  1.694163e+02\n",
       "6    4.363    17.379  3.020296e+02\n",
       "7    3.793    21.172  4.482536e+02\n",
       "8    5.208    26.380  6.959044e+02\n",
       "9    7.367    33.747  1.138860e+03\n",
       "10   8.737    42.484  1.804890e+03\n",
       "11   8.752    51.236  2.625128e+03\n",
       "12   8.398    59.634  3.556214e+03\n",
       "13  14.102    73.736  5.436998e+03\n",
       "14  16.235    89.971  8.094781e+03\n",
       "15  18.647   108.618  1.179787e+04\n",
       "16  20.338   128.956  1.662965e+04\n",
       "17  17.073   146.029  2.132447e+04\n",
       "18  37.044   183.073  3.351572e+04\n",
       "19  35.064   218.137  4.758375e+04\n",
       "20  26.028   244.165  5.961655e+04\n",
       "21  26.910   271.075  7.348166e+04\n",
       "22  47.789   318.864  1.016743e+05\n",
       "23  37.430   356.294  1.269454e+05\n",
       "24  31.241   387.535  1.501834e+05\n",
       "25  33.797   421.332  1.775207e+05\n",
       "26  51.025   472.357  2.231211e+05\n",
       "27  43.719   516.076  2.663344e+05\n",
       "28  35.203   551.279  3.039085e+05\n",
       "29  39.272   590.551  3.487505e+05\n",
       "30  74.468   665.019  4.422503e+05\n",
       "31  61.170   726.189  5.273505e+05\n",
       "32  47.534   773.723  5.986473e+05\n",
       "33  48.050   821.773  6.753109e+05\n",
       "34  74.780   896.553  8.038073e+05\n",
       "35  51.200   947.753  8.982357e+05\n",
       "36  40.399   988.152  9.764444e+05\n",
       "37  45.513  1033.665  1.068463e+06\n",
       "38  78.290  1111.955  1.236444e+06\n",
       "39  50.763  1162.718  1.351913e+06\n",
       "40  41.026  1203.744  1.449000e+06\n",
       "41  46.677  1250.421  1.563553e+06\n",
       "42  77.316  1327.737  1.762886e+06\n",
       "43  52.217  1379.954  1.904273e+06"
      ]
     },
     "execution_count": 61,
     "metadata": {},
     "output_type": "execute_result"
    }
   ],
   "source": [
    "data"
   ]
  },
  {
   "cell_type": "code",
   "execution_count": 62,
   "metadata": {},
   "outputs": [
    {
     "data": {
      "text/plain": [
       "Intercept    4.441825\n",
       "st           0.106315\n",
       "st2         -0.000052\n",
       "dtype: float64"
      ]
     },
     "execution_count": 62,
     "metadata": {},
     "output_type": "execute_result"
    }
   ],
   "source": [
    "lm = smf.ols(formula='isales ~ st + st2', data=data).fit()\n",
    "# print the coefficients\n",
    "lm.params"
   ]
  },
  {
   "cell_type": "code",
   "execution_count": 63,
   "metadata": {},
   "outputs": [
    {
     "data": {
      "text/html": [
       "<div>\n",
       "<style scoped>\n",
       "    .dataframe tbody tr th:only-of-type {\n",
       "        vertical-align: middle;\n",
       "    }\n",
       "\n",
       "    .dataframe tbody tr th {\n",
       "        vertical-align: top;\n",
       "    }\n",
       "\n",
       "    .dataframe thead th {\n",
       "        text-align: right;\n",
       "    }\n",
       "</style>\n",
       "<table border=\"1\" class=\"dataframe\">\n",
       "  <thead>\n",
       "    <tr style=\"text-align: right;\">\n",
       "      <th></th>\n",
       "      <th>isales</th>\n",
       "      <th>st</th>\n",
       "      <th>st2</th>\n",
       "    </tr>\n",
       "  </thead>\n",
       "  <tbody>\n",
       "    <tr>\n",
       "      <td>0</td>\n",
       "      <td>0.270</td>\n",
       "      <td>0.270</td>\n",
       "      <td>7.290000e-02</td>\n",
       "    </tr>\n",
       "    <tr>\n",
       "      <td>1</td>\n",
       "      <td>1.119</td>\n",
       "      <td>1.389</td>\n",
       "      <td>1.929321e+00</td>\n",
       "    </tr>\n",
       "    <tr>\n",
       "      <td>2</td>\n",
       "      <td>2.315</td>\n",
       "      <td>3.704</td>\n",
       "      <td>1.371962e+01</td>\n",
       "    </tr>\n",
       "    <tr>\n",
       "      <td>3</td>\n",
       "      <td>1.703</td>\n",
       "      <td>5.407</td>\n",
       "      <td>2.923565e+01</td>\n",
       "    </tr>\n",
       "    <tr>\n",
       "      <td>4</td>\n",
       "      <td>0.717</td>\n",
       "      <td>6.124</td>\n",
       "      <td>3.750338e+01</td>\n",
       "    </tr>\n",
       "    <tr>\n",
       "      <td>5</td>\n",
       "      <td>6.892</td>\n",
       "      <td>13.016</td>\n",
       "      <td>1.694163e+02</td>\n",
       "    </tr>\n",
       "    <tr>\n",
       "      <td>6</td>\n",
       "      <td>4.363</td>\n",
       "      <td>17.379</td>\n",
       "      <td>3.020296e+02</td>\n",
       "    </tr>\n",
       "    <tr>\n",
       "      <td>7</td>\n",
       "      <td>3.793</td>\n",
       "      <td>21.172</td>\n",
       "      <td>4.482536e+02</td>\n",
       "    </tr>\n",
       "    <tr>\n",
       "      <td>8</td>\n",
       "      <td>5.208</td>\n",
       "      <td>26.380</td>\n",
       "      <td>6.959044e+02</td>\n",
       "    </tr>\n",
       "    <tr>\n",
       "      <td>9</td>\n",
       "      <td>7.367</td>\n",
       "      <td>33.747</td>\n",
       "      <td>1.138860e+03</td>\n",
       "    </tr>\n",
       "    <tr>\n",
       "      <td>10</td>\n",
       "      <td>8.737</td>\n",
       "      <td>42.484</td>\n",
       "      <td>1.804890e+03</td>\n",
       "    </tr>\n",
       "    <tr>\n",
       "      <td>11</td>\n",
       "      <td>8.752</td>\n",
       "      <td>51.236</td>\n",
       "      <td>2.625128e+03</td>\n",
       "    </tr>\n",
       "    <tr>\n",
       "      <td>12</td>\n",
       "      <td>8.398</td>\n",
       "      <td>59.634</td>\n",
       "      <td>3.556214e+03</td>\n",
       "    </tr>\n",
       "    <tr>\n",
       "      <td>13</td>\n",
       "      <td>14.102</td>\n",
       "      <td>73.736</td>\n",
       "      <td>5.436998e+03</td>\n",
       "    </tr>\n",
       "    <tr>\n",
       "      <td>14</td>\n",
       "      <td>16.235</td>\n",
       "      <td>89.971</td>\n",
       "      <td>8.094781e+03</td>\n",
       "    </tr>\n",
       "    <tr>\n",
       "      <td>15</td>\n",
       "      <td>18.647</td>\n",
       "      <td>108.618</td>\n",
       "      <td>1.179787e+04</td>\n",
       "    </tr>\n",
       "    <tr>\n",
       "      <td>16</td>\n",
       "      <td>20.338</td>\n",
       "      <td>128.956</td>\n",
       "      <td>1.662965e+04</td>\n",
       "    </tr>\n",
       "    <tr>\n",
       "      <td>17</td>\n",
       "      <td>17.073</td>\n",
       "      <td>146.029</td>\n",
       "      <td>2.132447e+04</td>\n",
       "    </tr>\n",
       "    <tr>\n",
       "      <td>18</td>\n",
       "      <td>37.044</td>\n",
       "      <td>183.073</td>\n",
       "      <td>3.351572e+04</td>\n",
       "    </tr>\n",
       "    <tr>\n",
       "      <td>19</td>\n",
       "      <td>35.064</td>\n",
       "      <td>218.137</td>\n",
       "      <td>4.758375e+04</td>\n",
       "    </tr>\n",
       "    <tr>\n",
       "      <td>20</td>\n",
       "      <td>26.028</td>\n",
       "      <td>244.165</td>\n",
       "      <td>5.961655e+04</td>\n",
       "    </tr>\n",
       "    <tr>\n",
       "      <td>21</td>\n",
       "      <td>26.910</td>\n",
       "      <td>271.075</td>\n",
       "      <td>7.348166e+04</td>\n",
       "    </tr>\n",
       "    <tr>\n",
       "      <td>22</td>\n",
       "      <td>47.789</td>\n",
       "      <td>318.864</td>\n",
       "      <td>1.016743e+05</td>\n",
       "    </tr>\n",
       "    <tr>\n",
       "      <td>23</td>\n",
       "      <td>37.430</td>\n",
       "      <td>356.294</td>\n",
       "      <td>1.269454e+05</td>\n",
       "    </tr>\n",
       "    <tr>\n",
       "      <td>24</td>\n",
       "      <td>31.241</td>\n",
       "      <td>387.535</td>\n",
       "      <td>1.501834e+05</td>\n",
       "    </tr>\n",
       "    <tr>\n",
       "      <td>25</td>\n",
       "      <td>33.797</td>\n",
       "      <td>421.332</td>\n",
       "      <td>1.775207e+05</td>\n",
       "    </tr>\n",
       "    <tr>\n",
       "      <td>26</td>\n",
       "      <td>51.025</td>\n",
       "      <td>472.357</td>\n",
       "      <td>2.231211e+05</td>\n",
       "    </tr>\n",
       "    <tr>\n",
       "      <td>27</td>\n",
       "      <td>43.719</td>\n",
       "      <td>516.076</td>\n",
       "      <td>2.663344e+05</td>\n",
       "    </tr>\n",
       "    <tr>\n",
       "      <td>28</td>\n",
       "      <td>35.203</td>\n",
       "      <td>551.279</td>\n",
       "      <td>3.039085e+05</td>\n",
       "    </tr>\n",
       "    <tr>\n",
       "      <td>29</td>\n",
       "      <td>39.272</td>\n",
       "      <td>590.551</td>\n",
       "      <td>3.487505e+05</td>\n",
       "    </tr>\n",
       "    <tr>\n",
       "      <td>30</td>\n",
       "      <td>74.468</td>\n",
       "      <td>665.019</td>\n",
       "      <td>4.422503e+05</td>\n",
       "    </tr>\n",
       "    <tr>\n",
       "      <td>31</td>\n",
       "      <td>61.170</td>\n",
       "      <td>726.189</td>\n",
       "      <td>5.273505e+05</td>\n",
       "    </tr>\n",
       "    <tr>\n",
       "      <td>32</td>\n",
       "      <td>47.534</td>\n",
       "      <td>773.723</td>\n",
       "      <td>5.986473e+05</td>\n",
       "    </tr>\n",
       "    <tr>\n",
       "      <td>33</td>\n",
       "      <td>48.050</td>\n",
       "      <td>821.773</td>\n",
       "      <td>6.753109e+05</td>\n",
       "    </tr>\n",
       "    <tr>\n",
       "      <td>34</td>\n",
       "      <td>74.780</td>\n",
       "      <td>896.553</td>\n",
       "      <td>8.038073e+05</td>\n",
       "    </tr>\n",
       "    <tr>\n",
       "      <td>35</td>\n",
       "      <td>51.200</td>\n",
       "      <td>947.753</td>\n",
       "      <td>8.982357e+05</td>\n",
       "    </tr>\n",
       "    <tr>\n",
       "      <td>36</td>\n",
       "      <td>40.399</td>\n",
       "      <td>988.152</td>\n",
       "      <td>9.764444e+05</td>\n",
       "    </tr>\n",
       "    <tr>\n",
       "      <td>37</td>\n",
       "      <td>45.513</td>\n",
       "      <td>1033.665</td>\n",
       "      <td>1.068463e+06</td>\n",
       "    </tr>\n",
       "    <tr>\n",
       "      <td>38</td>\n",
       "      <td>78.290</td>\n",
       "      <td>1111.955</td>\n",
       "      <td>1.236444e+06</td>\n",
       "    </tr>\n",
       "    <tr>\n",
       "      <td>39</td>\n",
       "      <td>50.763</td>\n",
       "      <td>1162.718</td>\n",
       "      <td>1.351913e+06</td>\n",
       "    </tr>\n",
       "    <tr>\n",
       "      <td>40</td>\n",
       "      <td>41.026</td>\n",
       "      <td>1203.744</td>\n",
       "      <td>1.449000e+06</td>\n",
       "    </tr>\n",
       "    <tr>\n",
       "      <td>41</td>\n",
       "      <td>46.677</td>\n",
       "      <td>1250.421</td>\n",
       "      <td>1.563553e+06</td>\n",
       "    </tr>\n",
       "    <tr>\n",
       "      <td>42</td>\n",
       "      <td>77.316</td>\n",
       "      <td>1327.737</td>\n",
       "      <td>1.762886e+06</td>\n",
       "    </tr>\n",
       "    <tr>\n",
       "      <td>43</td>\n",
       "      <td>52.217</td>\n",
       "      <td>1379.954</td>\n",
       "      <td>1.904273e+06</td>\n",
       "    </tr>\n",
       "  </tbody>\n",
       "</table>\n",
       "</div>"
      ],
      "text/plain": [
       "    isales        st           st2\n",
       "0    0.270     0.270  7.290000e-02\n",
       "1    1.119     1.389  1.929321e+00\n",
       "2    2.315     3.704  1.371962e+01\n",
       "3    1.703     5.407  2.923565e+01\n",
       "4    0.717     6.124  3.750338e+01\n",
       "5    6.892    13.016  1.694163e+02\n",
       "6    4.363    17.379  3.020296e+02\n",
       "7    3.793    21.172  4.482536e+02\n",
       "8    5.208    26.380  6.959044e+02\n",
       "9    7.367    33.747  1.138860e+03\n",
       "10   8.737    42.484  1.804890e+03\n",
       "11   8.752    51.236  2.625128e+03\n",
       "12   8.398    59.634  3.556214e+03\n",
       "13  14.102    73.736  5.436998e+03\n",
       "14  16.235    89.971  8.094781e+03\n",
       "15  18.647   108.618  1.179787e+04\n",
       "16  20.338   128.956  1.662965e+04\n",
       "17  17.073   146.029  2.132447e+04\n",
       "18  37.044   183.073  3.351572e+04\n",
       "19  35.064   218.137  4.758375e+04\n",
       "20  26.028   244.165  5.961655e+04\n",
       "21  26.910   271.075  7.348166e+04\n",
       "22  47.789   318.864  1.016743e+05\n",
       "23  37.430   356.294  1.269454e+05\n",
       "24  31.241   387.535  1.501834e+05\n",
       "25  33.797   421.332  1.775207e+05\n",
       "26  51.025   472.357  2.231211e+05\n",
       "27  43.719   516.076  2.663344e+05\n",
       "28  35.203   551.279  3.039085e+05\n",
       "29  39.272   590.551  3.487505e+05\n",
       "30  74.468   665.019  4.422503e+05\n",
       "31  61.170   726.189  5.273505e+05\n",
       "32  47.534   773.723  5.986473e+05\n",
       "33  48.050   821.773  6.753109e+05\n",
       "34  74.780   896.553  8.038073e+05\n",
       "35  51.200   947.753  8.982357e+05\n",
       "36  40.399   988.152  9.764444e+05\n",
       "37  45.513  1033.665  1.068463e+06\n",
       "38  78.290  1111.955  1.236444e+06\n",
       "39  50.763  1162.718  1.351913e+06\n",
       "40  41.026  1203.744  1.449000e+06\n",
       "41  46.677  1250.421  1.563553e+06\n",
       "42  77.316  1327.737  1.762886e+06\n",
       "43  52.217  1379.954  1.904273e+06"
      ]
     },
     "execution_count": 63,
     "metadata": {},
     "output_type": "execute_result"
    }
   ],
   "source": [
    "data"
   ]
  },
  {
   "cell_type": "code",
   "execution_count": 64,
   "metadata": {},
   "outputs": [
    {
     "data": {
      "text/html": [
       "<table class=\"simpletable\">\n",
       "<caption>OLS Regression Results</caption>\n",
       "<tr>\n",
       "  <th>Dep. Variable:</th>         <td>isales</td>      <th>  R-squared:         </th> <td>   0.827</td>\n",
       "</tr>\n",
       "<tr>\n",
       "  <th>Model:</th>                   <td>OLS</td>       <th>  Adj. R-squared:    </th> <td>   0.819</td>\n",
       "</tr>\n",
       "<tr>\n",
       "  <th>Method:</th>             <td>Least Squares</td>  <th>  F-statistic:       </th> <td>   98.33</td>\n",
       "</tr>\n",
       "<tr>\n",
       "  <th>Date:</th>             <td>Mon, 16 Nov 2020</td> <th>  Prob (F-statistic):</th> <td>2.26e-16</td>\n",
       "</tr>\n",
       "<tr>\n",
       "  <th>Time:</th>                 <td>18:30:57</td>     <th>  Log-Likelihood:    </th> <td> -161.26</td>\n",
       "</tr>\n",
       "<tr>\n",
       "  <th>No. Observations:</th>      <td>    44</td>      <th>  AIC:               </th> <td>   328.5</td>\n",
       "</tr>\n",
       "<tr>\n",
       "  <th>Df Residuals:</th>          <td>    41</td>      <th>  BIC:               </th> <td>   333.9</td>\n",
       "</tr>\n",
       "<tr>\n",
       "  <th>Df Model:</th>              <td>     2</td>      <th>                     </th>     <td> </td>   \n",
       "</tr>\n",
       "<tr>\n",
       "  <th>Covariance Type:</th>      <td>nonrobust</td>    <th>                     </th>     <td> </td>   \n",
       "</tr>\n",
       "</table>\n",
       "<table class=\"simpletable\">\n",
       "<tr>\n",
       "      <td></td>         <th>coef</th>     <th>std err</th>      <th>t</th>      <th>P>|t|</th>  <th>[0.025</th>    <th>0.975]</th>  \n",
       "</tr>\n",
       "<tr>\n",
       "  <th>Intercept</th> <td>    4.4418</td> <td>    2.521</td> <td>    1.762</td> <td> 0.086</td> <td>   -0.650</td> <td>    9.534</td>\n",
       "</tr>\n",
       "<tr>\n",
       "  <th>st</th>        <td>    0.1063</td> <td>    0.012</td> <td>    8.769</td> <td> 0.000</td> <td>    0.082</td> <td>    0.131</td>\n",
       "</tr>\n",
       "<tr>\n",
       "  <th>st2</th>       <td>-5.245e-05</td> <td> 9.73e-06</td> <td>   -5.389</td> <td> 0.000</td> <td>-7.21e-05</td> <td>-3.28e-05</td>\n",
       "</tr>\n",
       "</table>\n",
       "<table class=\"simpletable\">\n",
       "<tr>\n",
       "  <th>Omnibus:</th>       <td> 6.400</td> <th>  Durbin-Watson:     </th> <td>   2.013</td>\n",
       "</tr>\n",
       "<tr>\n",
       "  <th>Prob(Omnibus):</th> <td> 0.041</td> <th>  Jarque-Bera (JB):  </th> <td>   5.340</td>\n",
       "</tr>\n",
       "<tr>\n",
       "  <th>Skew:</th>          <td> 0.823</td> <th>  Prob(JB):          </th> <td>  0.0693</td>\n",
       "</tr>\n",
       "<tr>\n",
       "  <th>Kurtosis:</th>      <td> 3.454</td> <th>  Cond. No.          </th> <td>1.15e+06</td>\n",
       "</tr>\n",
       "</table><br/><br/>Warnings:<br/>[1] Standard Errors assume that the covariance matrix of the errors is correctly specified.<br/>[2] The condition number is large, 1.15e+06. This might indicate that there are<br/>strong multicollinearity or other numerical problems."
      ],
      "text/plain": [
       "<class 'statsmodels.iolib.summary.Summary'>\n",
       "\"\"\"\n",
       "                            OLS Regression Results                            \n",
       "==============================================================================\n",
       "Dep. Variable:                 isales   R-squared:                       0.827\n",
       "Model:                            OLS   Adj. R-squared:                  0.819\n",
       "Method:                 Least Squares   F-statistic:                     98.33\n",
       "Date:                Mon, 16 Nov 2020   Prob (F-statistic):           2.26e-16\n",
       "Time:                        18:30:57   Log-Likelihood:                -161.26\n",
       "No. Observations:                  44   AIC:                             328.5\n",
       "Df Residuals:                      41   BIC:                             333.9\n",
       "Df Model:                           2                                         \n",
       "Covariance Type:            nonrobust                                         \n",
       "==============================================================================\n",
       "                 coef    std err          t      P>|t|      [0.025      0.975]\n",
       "------------------------------------------------------------------------------\n",
       "Intercept      4.4418      2.521      1.762      0.086      -0.650       9.534\n",
       "st             0.1063      0.012      8.769      0.000       0.082       0.131\n",
       "st2        -5.245e-05   9.73e-06     -5.389      0.000   -7.21e-05   -3.28e-05\n",
       "==============================================================================\n",
       "Omnibus:                        6.400   Durbin-Watson:                   2.013\n",
       "Prob(Omnibus):                  0.041   Jarque-Bera (JB):                5.340\n",
       "Skew:                           0.823   Prob(JB):                       0.0693\n",
       "Kurtosis:                       3.454   Cond. No.                     1.15e+06\n",
       "==============================================================================\n",
       "\n",
       "Warnings:\n",
       "[1] Standard Errors assume that the covariance matrix of the errors is correctly specified.\n",
       "[2] The condition number is large, 1.15e+06. This might indicate that there are\n",
       "strong multicollinearity or other numerical problems.\n",
       "\"\"\""
      ]
     },
     "execution_count": 64,
     "metadata": {},
     "output_type": "execute_result"
    }
   ],
   "source": [
    "lm.summary()"
   ]
  },
  {
   "cell_type": "code",
   "execution_count": 65,
   "metadata": {},
   "outputs": [],
   "source": [
    "b = lm.params\n",
    "b_1 = b[0]\n",
    "b_2 = b[1]\n",
    "b_3 = b[2]"
   ]
  },
  {
   "cell_type": "code",
   "execution_count": 66,
   "metadata": {},
   "outputs": [],
   "source": [
    "m1 = (-b[1]+(b[1]**2-4*b[0]*b[2])**0.5)/(2*b[2])\n",
    "m2 = (-b[1]-(b[1]**2-4*b[0]*b[2])**0.5)/(2*b[2])"
   ]
  },
  {
   "cell_type": "markdown",
   "metadata": {},
   "source": [
    "m1"
   ]
  },
  {
   "cell_type": "code",
   "execution_count": 67,
   "metadata": {},
   "outputs": [
    {
     "name": "stdout",
     "output_type": "stream",
     "text": [
      "-40.95230204070664\n"
     ]
    }
   ],
   "source": [
    "print(m1)"
   ]
  },
  {
   "cell_type": "code",
   "execution_count": 68,
   "metadata": {},
   "outputs": [
    {
     "name": "stdout",
     "output_type": "stream",
     "text": [
      "2067.9431093283447\n"
     ]
    }
   ],
   "source": [
    "print(m2)"
   ]
  },
  {
   "cell_type": "code",
   "execution_count": 69,
   "metadata": {},
   "outputs": [],
   "source": [
    "p = b_1/max(m1,m2)\n",
    "q = -max(m1,m2)*b_3"
   ]
  },
  {
   "cell_type": "code",
   "execution_count": 70,
   "metadata": {},
   "outputs": [
    {
     "data": {
      "text/plain": [
       "0.0021479435496910685"
      ]
     },
     "execution_count": 70,
     "metadata": {},
     "output_type": "execute_result"
    }
   ],
   "source": [
    "p"
   ]
  },
  {
   "cell_type": "code",
   "execution_count": 71,
   "metadata": {},
   "outputs": [
    {
     "data": {
      "text/plain": [
       "0.10846337913787442"
      ]
     },
     "execution_count": 71,
     "metadata": {},
     "output_type": "execute_result"
    }
   ],
   "source": [
    "q"
   ]
  },
  {
   "cell_type": "code",
   "execution_count": 73,
   "metadata": {},
   "outputs": [],
   "source": [
    "def bass(M,p,q,iterations,step):\n",
    "    t_array = [0]\n",
    "    n_array = [p*M]\n",
    "    Big_n_array = [p*M]\n",
    "    ad_array = [p*M]\n",
    "    for i in range(1,round(iterations/step)):\n",
    "        t_array.append(i)\n",
    "        n_array.append((p+q*Big_n_array[-1]/M)*(M-Big_n_array[-1]))\n",
    "        Big_n_array.append(Big_n_array[-1]+n_array[-1])\n",
    "        ad_array.append(p*(M-Big_n_array[-1]))\n",
    "    return t_array, n_array, ad_array, Big_n_array\n",
    "M = max(m1,m2)\n",
    "ex = bass(M,p,q,100,1)"
   ]
  },
  {
   "cell_type": "code",
   "execution_count": 74,
   "metadata": {},
   "outputs": [],
   "source": [
    "def create_grafic_2_max(x_data,y_data):\n",
    "    for x,y in zip(x_data,y_data):\n",
    "        plt.plot(x,y)\n",
    "        plt.xlabel('Продажи')\n",
    "        plt.xlabel('Время')\n",
    "        plt.title('Модель Басса для iphone') \n",
    "    plt.show() "
   ]
  },
  {
   "cell_type": "code",
   "execution_count": 75,
   "metadata": {},
   "outputs": [],
   "source": [
    "def create_grafic_2_max_one(x_data,y_data,data_real):\n",
    "    plt.plot(x_data,y_data)\n",
    "    plt.ylabel('Продажи в миллионах')\n",
    "    plt.xlabel('Время по кварталам')\n",
    "    plt.title('Модель Басса для iphone')\n",
    "    plt.plot([i for i in range(len(data_real))],data_real)\n",
    "    plt.show() \n",
    "    plt.savefig('iphone.png')"
   ]
  },
  {
   "cell_type": "code",
   "execution_count": 76,
   "metadata": {},
   "outputs": [
    {
     "data": {
      "image/png": "[encoded data removed]",
      "text/plain": [
       "<Figure size 432x288 with 1 Axes>"
      ]
     },
     "metadata": {
      "needs_background": "light"
     },
     "output_type": "display_data"
    },
    {
     "data": {
      "text/plain": [
       "<Figure size 432x288 with 0 Axes>"
      ]
     },
     "metadata": {},
     "output_type": "display_data"
    }
   ],
   "source": [
    "data_real =data.to_numpy()[:,0]\n",
    "create_grafic_2_max_one(ex[0],ex[1],data_real)"
   ]
  },
  {
   "cell_type": "code",
   "execution_count": 77,
   "metadata": {},
   "outputs": [],
   "source": [
    "def create_grafic_2_max_log(x_data,y_data):\n",
    "    plt.plot(x_data,y_data)\n",
    "    plt.xlabel('Суммарные продажи')\n",
    "    plt.xlabel('')\n",
    "    plt.title('Суммарные продажи')\n",
    "    plt.show() "
   ]
  },
  {
   "cell_type": "code",
   "execution_count": 78,
   "metadata": {},
   "outputs": [
    {
     "data": {
      "image/png": "[encoded data removed]",
      "text/plain": [
       "<Figure size 432x288 with 1 Axes>"
      ]
     },
     "metadata": {
      "needs_background": "light"
     },
     "output_type": "display_data"
    }
   ],
   "source": [
    "create_grafic_2_max_log(ex[0],ex[2])"
   ]
  },
  {
   "cell_type": "code",
   "execution_count": 79,
   "metadata": {},
   "outputs": [
    {
     "data": {
      "image/png": "[encoded data removed]",
      "text/plain": [
       "<Figure size 432x288 with 1 Axes>"
      ]
     },
     "metadata": {
      "needs_background": "light"
     },
     "output_type": "display_data"
    }
   ],
   "source": [
    "create_grafic_2_max_log(ex[0],ex[3])"
   ]
  },
  {
   "cell_type": "code",
   "execution_count": 80,
   "metadata": {},
   "outputs": [],
   "source": [
    "def create_grafic_2_max_one(x_data,y_data,data_real):\n",
    "    plt.plot(x_data,y_data)\n",
    "    plt.ylabel('Продажи в миллионах')\n",
    "    plt.xlabel('Время(квартал)')\n",
    "    plt.title('Модель Басса для ipod')\n",
    "    plt.plot([i for i in range(len(data_real))],data_real)\n",
    "    plt.show() "
   ]
  },
  {
   "cell_type": "code",
   "execution_count": 81,
   "metadata": {},
   "outputs": [
    {
     "name": "stdout",
     "output_type": "stream",
     "text": [
      "                            OLS Regression Results                            \n",
      "==============================================================================\n",
      "Dep. Variable:             isales_pod   R-squared:                       0.630\n",
      "Model:                            OLS   Adj. R-squared:                  0.615\n",
      "Method:                 Least Squares   F-statistic:                     41.67\n",
      "Date:                Mon, 16 Nov 2020   Prob (F-statistic):           2.68e-11\n",
      "Time:                        18:31:12   Log-Likelihood:                -141.59\n",
      "No. Observations:                  52   AIC:                             289.2\n",
      "Df Residuals:                      49   BIC:                             295.0\n",
      "Df Model:                           2                                         \n",
      "Covariance Type:            nonrobust                                         \n",
      "==============================================================================\n",
      "                 coef    std err          t      P>|t|      [0.025      0.975]\n",
      "------------------------------------------------------------------------------\n",
      "Intercept      1.6021      0.941      1.703      0.095      -0.289       3.493\n",
      "st             0.1299      0.014      9.082      0.000       0.101       0.159\n",
      "st2           -0.0003   3.73e-05     -8.559      0.000      -0.000      -0.000\n",
      "==============================================================================\n",
      "Omnibus:                       13.770   Durbin-Watson:                   2.257\n",
      "Prob(Omnibus):                  0.001   Jarque-Bera (JB):               14.975\n",
      "Skew:                           1.266   Prob(JB):                     0.000560\n",
      "Kurtosis:                       3.710   Cond. No.                     1.36e+05\n",
      "==============================================================================\n",
      "\n",
      "Warnings:\n",
      "[1] Standard Errors assume that the covariance matrix of the errors is correctly specified.\n",
      "[2] The condition number is large, 1.36e+05. This might indicate that there are\n",
      "strong multicollinearity or other numerical problems.\n",
      "-11.977779700855299\n",
      "419.084777031834\n",
      "0.0038229088446286325 0.13375792014690444\n"
     ]
    },
    {
     "data": {
      "image/png": "[encoded data removed]",
      "text/plain": [
       "<Figure size 432x288 with 1 Axes>"
      ]
     },
     "metadata": {
      "needs_background": "light"
     },
     "output_type": "display_data"
    }
   ],
   "source": [
    "data = pd.read_csv('ipod_sales_with_cumsum_2_work.csv')\n",
    "lm = smf.ols(formula='isales_pod ~ st + st2', data=data).fit()\n",
    "# print the coefficients\n",
    "print(lm.summary())\n",
    "b = lm.params\n",
    "b_1 = b[0]\n",
    "b_2 = b[1]\n",
    "b_3 = b[2]\n",
    "m1 = (-b[1]+(b[1]**2-4*b[0]*b[2])**0.5)/(2*b[2])\n",
    "m2 = (-b[1]-(b[1]**2-4*b[0]*b[2])**0.5)/(2*b[2])\n",
    "print(m1)\n",
    "print(m2)\n",
    "p = b_1/max(m1,m2)\n",
    "q = -max(m1,m2)*b_3\n",
    "print(str(p)+\" \"+str(q))\n",
    "M = max(m1,m2)\n",
    "ex = bass(M,p,q,100,1)\n",
    "data_real = [i*M/max(m1,m2) for i in data.to_numpy()[:,0]]\n",
    "create_grafic_2_max_one(ex[0],ex[1],data_real)"
   ]
  },
  {
   "cell_type": "code",
   "execution_count": 82,
   "metadata": {},
   "outputs": [
    {
     "data": {
      "image/png": "[encoded data removed]",
      "text/plain": [
       "<Figure size 432x288 with 1 Axes>"
      ]
     },
     "metadata": {
      "needs_background": "light"
     },
     "output_type": "display_data"
    }
   ],
   "source": [
    "create_grafic_2_max_log(ex[0],ex[3])"
   ]
  },
  {
   "cell_type": "code",
   "execution_count": 83,
   "metadata": {},
   "outputs": [
    {
     "data": {
      "text/plain": [
       "0.0038229088446286325"
      ]
     },
     "execution_count": 83,
     "metadata": {},
     "output_type": "execute_result"
    }
   ],
   "source": [
    "p"
   ]
  },
  {
   "cell_type": "code",
   "execution_count": 206,
   "metadata": {},
   "outputs": [
    {
     "data": {
      "text/plain": [
       "0.16791616340993165"
      ]
     },
     "execution_count": 206,
     "metadata": {},
     "output_type": "execute_result"
    }
   ],
   "source": [
    "q"
   ]
  },
  {
   "cell_type": "code",
   "execution_count": 207,
   "metadata": {},
   "outputs": [
    {
     "data": {
      "text/plain": [
       "348.4179909747803"
      ]
     },
     "execution_count": 207,
     "metadata": {},
     "output_type": "execute_result"
    }
   ],
   "source": [
    "max(m1,m2)"
   ]
  }
 ],
 "metadata": {
  "kernelspec": {
   "display_name": "Python 3",
   "language": "python",
   "name": "python3"
  },
  "language_info": {
   "codemirror_mode": {
    "name": "ipython",
    "version": 3
   },
   "file_extension": ".py",
   "mimetype": "text/x-python",
   "name": "python",
   "nbconvert_exporter": "python",
   "pygments_lexer": "ipython3",
   "version": "3.7.4"
  }
 },
 "nbformat": 4,
 "nbformat_minor": 2
}
