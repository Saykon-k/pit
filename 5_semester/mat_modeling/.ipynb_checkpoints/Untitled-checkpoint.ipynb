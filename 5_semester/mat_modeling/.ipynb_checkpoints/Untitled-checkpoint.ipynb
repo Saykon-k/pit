{
 "cells": [
  {
   "cell_type": "code",
   "execution_count": 35,
   "metadata": {},
   "outputs": [],
   "source": [
    "def create_grafic_2_max_one(x_data,y_data):\n",
    "    plt.plot(x_data,y_data)\n",
    "    plt.xlabel('')\n",
    "    plt.xlabel('')\n",
    "    plt.title('') \n",
    "    plt.show() "
   ]
  },
  {
   "cell_type": "code",
   "execution_count": 15,
   "metadata": {},
   "outputs": [],
   "source": [
    "def create_grafic_2_max(x_data,y_data):\n",
    "    for x,y in zip(x_data,y_data):\n",
    "        plt.plot(x,y)\n",
    "        plt.xlabel('')\n",
    "        plt.xlabel('')\n",
    "        plt.title('') \n",
    "    plt.show() "
   ]
  },
  {
   "cell_type": "code",
   "execution_count": 16,
   "metadata": {},
   "outputs": [
    {
     "data": {
      "image/png": "[encoded data removed]",
      "text/plain": [
       "<Figure size 432x288 with 1 Axes>"
      ]
     },
     "metadata": {
      "needs_background": "light"
     },
     "output_type": "display_data"
    }
   ],
   "source": [
    "# importing the required module \n",
    "import matplotlib.pyplot as plt \n",
    "  \n",
    "# x axis values \n",
    "x = [[2,1,5],[1,2,3]] \n",
    "# corresponding y axis values \n",
    "y = [[2,4,1],[3,1,1]] \n",
    "create_grafic_2_max(x,y)"
   ]
  },
  {
   "cell_type": "code",
   "execution_count": 38,
   "metadata": {},
   "outputs": [],
   "source": [
    "def bass(M,p,q,iterations,step):\n",
    "    t_array = [0]\n",
    "    n_array = [0]\n",
    "    Big_n_array = [p*M]\n",
    "    ad_array = [p*M]\n",
    "    for i in range(1,round(iterations/step)):\n",
    "        t_array.append(i)\n",
    "        n_array.append((p+q*Big_n_array[-1]/M)*(M-Big_n_array[-1]))\n",
    "        Big_n_array.append(Big_n_array[-1]+n_array[-1])\n",
    "        ad_array.append(p*(M-Big_n_array[-1]))\n",
    "    return t_array, n_array, ad_array, Big_n_array\n",
    "        \n",
    "M = 100000\n",
    "p = 0.01\n",
    "q = 0.2\n",
    "ex = bass(M,p,q,100,1)\n"
   ]
  },
  {
   "cell_type": "code",
   "execution_count": 39,
   "metadata": {},
   "outputs": [],
   "source": [
    "M = 100000\n",
    "p = 0.02\n",
    "q = 0.05\n",
    "ex = bass(M,p,q,100,1)\n",
    "x_n = [ex[0],ex[0],ex[0]]\n",
    "y_n = [ex[1],ex[2],ex[3]]"
   ]
  },
  {
   "cell_type": "code",
   "execution_count": 51,
   "metadata": {},
   "outputs": [
    {
     "data": {
      "text/plain": [
       "array([[   nan, 35.   ,  0.27 ,    nan,  9.815,  1.764],\n",
       "       [   nan, 36.   ,  1.119,    nan, 10.2  ,  2.164],\n",
       "       [   nan, 37.   ,  2.315,    nan, 22.121,  2.319],\n",
       "       [   nan, 38.   ,  1.703,    nan, 10.644,  2.289],\n",
       "       [   nan, 39.   ,  0.717,    nan, 11.011,  2.496],\n",
       "       [   nan, 40.   ,  6.892,    nan, 11.052,  2.611],\n",
       "       [   nan, 41.   ,  4.363,    nan, 22.727,  2.524],\n",
       "       [   nan, 42.   ,  3.793,    nan, 11.013,  2.216],\n",
       "       [   nan, 43.   ,  5.208,    nan, 10.215,  2.603],\n",
       "       [   nan, 44.   ,  7.367,    nan, 10.177,  3.053],\n",
       "       [   nan, 45.   ,  8.737,    nan, 20.97 ,  3.362],\n",
       "       [   nan, 46.   ,  8.752,    nan, 10.885,  2.943],\n",
       "       [   nan, 47.   ,  8.398,  3.27 ,  9.406,  3.472],\n",
       "       [   nan, 48.   , 14.102,  4.188,  9.051,  3.885],\n",
       "       [   nan, 49.   , 16.235,  7.331, 19.446,  4.134],\n",
       "       [   nan, 50.   , 18.647,  4.694,  9.017,  3.76 ],\n",
       "       [   nan, 51.   , 20.338,  9.246,  7.535,  3.947],\n",
       "       [   nan, 52.   , 17.073, 11.123,  6.622,  4.894],\n",
       "       [   nan, 53.   , 37.044, 15.434, 15.397,  5.198],\n",
       "       [   nan, 54.   , 35.064, 11.798,  7.673,  4.017],\n",
       "       [   nan, 55.   , 26.028, 17.042,  6.751,  4.02 ],\n",
       "       [   nan, 56.   , 26.91 , 14.036,  5.344,  4.923],\n",
       "       [   nan, 57.   , 47.789, 22.86 , 12.679,  4.061],\n",
       "       [   nan, 58.   , 37.43 , 19.477,  5.633,  3.952],\n",
       "       [   nan, 59.   , 31.241, 14.617,  4.569,  3.754],\n",
       "       [   nan, 60.   , 33.797, 14.079,  3.498,  4.574],\n",
       "       [   nan, 61.   , 51.025, 26.035,  6.049,  4.837],\n",
       "       [   nan, 62.   , 43.719, 16.35 ,  2.761,  4.136],\n",
       "       [   nan, 63.   , 35.203, 13.276,  2.926,  4.413],\n",
       "       [   nan, 64.   , 39.272, 12.316,  2.641,  5.52 ],\n",
       "       [   nan, 65.   , 74.468, 21.419,    nan,  5.519],\n",
       "       [   nan, 66.   , 61.17 , 12.623,    nan,  4.563],\n",
       "       [   nan, 67.   , 47.534, 10.931,    nan,  4.796],\n",
       "       [   nan, 68.   , 48.05 ,  9.88 ,    nan,  5.71 ],\n",
       "       [   nan, 69.   , 74.78 , 16.12 ,    nan,  5.31 ],\n",
       "       [   nan, 70.   , 51.2  , 10.25 ,    nan,  4.03 ],\n",
       "       [   nan, 71.   , 40.399,  9.95 ,    nan,  4.252],\n",
       "       [   nan, 72.   , 45.513,  9.267,    nan,  4.886],\n",
       "       [   nan, 73.   , 78.29 , 13.081,    nan,  5.374],\n",
       "       [   nan, 74.   , 50.763,  8.922,    nan,  4.199],\n",
       "       [   nan, 75.   , 41.026, 11.424,    nan,  4.292],\n",
       "       [   nan, 76.   , 46.677, 10.326,    nan,  5.386],\n",
       "       [   nan, 77.   , 77.316, 13.17 ,    nan,  5.112],\n",
       "       [   nan, 78.   , 52.217,  9.113,    nan,  4.078]])"
      ]
     },
     "execution_count": 51,
     "metadata": {},
     "output_type": "execute_result"
    }
   ],
   "source": [
    "from numpy import genfromtxt\n",
    "my_data = genfromtxt('apple-all-products-quarterly-sales.csv', delimiter=',')\n",
    "my_data[35:]"
   ]
  },
  {
   "cell_type": "code",
   "execution_count": 52,
   "metadata": {},
   "outputs": [],
   "source": [
    "import numpy as np\n",
    "from sklearn.linear_model import LinearRegression"
   ]
  },
  {
   "cell_type": "code",
   "execution_count": 82,
   "metadata": {},
   "outputs": [],
   "source": [
    "cum_example= []\n",
    "for i in my_data[35:]:\n",
    "    cum_example.append(i[2])\n",
    "cum_example = np.array(cum_example)\n",
    "s_t = np.cumsum(cum_example)\n",
    "s_t2 = s_t**2\n"
   ]
  },
  {
   "cell_type": "code",
   "execution_count": 160,
   "metadata": {},
   "outputs": [
    {
     "data": {
      "text/plain": [
       "[[1, 0.27],\n",
       " [2, 1.119],\n",
       " [3, 2.315],\n",
       " [4, 1.703],\n",
       " [5, 0.717],\n",
       " [6, 6.892],\n",
       " [7, 4.363],\n",
       " [8, 3.793],\n",
       " [9, 5.208],\n",
       " [10, 7.367],\n",
       " [11, 8.737],\n",
       " [12, 8.752],\n",
       " [13, 8.398],\n",
       " [14, 14.102],\n",
       " [15, 16.235],\n",
       " [16, 18.647],\n",
       " [17, 20.338],\n",
       " [18, 17.073],\n",
       " [19, 37.044],\n",
       " [20, 35.064],\n",
       " [21, 26.028],\n",
       " [22, 26.91],\n",
       " [23, 47.789],\n",
       " [24, 37.43],\n",
       " [25, 31.241],\n",
       " [26, 33.797],\n",
       " [27, 51.025],\n",
       " [28, 43.719],\n",
       " [29, 35.203],\n",
       " [30, 39.272],\n",
       " [31, 74.468],\n",
       " [32, 61.17],\n",
       " [33, 47.534],\n",
       " [34, 48.05],\n",
       " [35, 74.78],\n",
       " [36, 51.2],\n",
       " [37, 40.399],\n",
       " [38, 45.513],\n",
       " [39, 78.29],\n",
       " [40, 50.763],\n",
       " [41, 41.026],\n",
       " [42, 46.677],\n",
       " [43, 77.316],\n",
       " [44, 52.217]]"
      ]
     },
     "execution_count": 160,
     "metadata": {},
     "output_type": "execute_result"
    }
   ],
   "source": [
    "k=1\n",
    "l = 1/ 44\n",
    "x_example= []\n",
    "for i in my_data[35:]:\n",
    "    x_example.append([k,i[2]])\n",
    "    k+=1\n",
    "x_example"
   ]
  },
  {
   "cell_type": "code",
   "execution_count": 161,
   "metadata": {},
   "outputs": [],
   "source": [
    "x_example = np.array(x_example)"
   ]
  },
  {
   "cell_type": "code",
   "execution_count": 162,
   "metadata": {},
   "outputs": [],
   "source": [
    "y = np.dot(x_example, np.array([s_t, s_t2])) "
   ]
  },
  {
   "cell_type": "code",
   "execution_count": 163,
   "metadata": {},
   "outputs": [],
   "source": [
    "reg = LinearRegression().fit(x_example, y)"
   ]
  },
  {
   "cell_type": "code",
   "execution_count": 164,
   "metadata": {},
   "outputs": [
    {
     "name": "stderr",
     "output_type": "stream",
     "text": [
      "E:\\anaconda3\\lib\\site-packages\\sklearn\\base.py:434: FutureWarning: The default value of multioutput (not exposed in score method) will change from 'variance_weighted' to 'uniform_average' in 0.23 to keep consistent with 'metrics.r2_score'. To specify the default value manually and avoid the warning, please either call 'metrics.r2_score' directly or make a custom scorer with 'metrics.make_scorer' (the built-in scorer 'r2' uses multioutput='uniform_average').\n",
      "  \"multioutput='uniform_average').\", FutureWarning)\n"
     ]
    },
    {
     "data": {
      "text/plain": [
       "1.0"
      ]
     },
     "execution_count": 164,
     "metadata": {},
     "output_type": "execute_result"
    }
   ],
   "source": [
    "reg.score(x_example, y)"
   ]
  },
  {
   "cell_type": "code",
   "execution_count": 165,
   "metadata": {},
   "outputs": [
    {
     "data": {
      "text/plain": [
       "array([[2.70000000e-01, 7.29000000e-02],\n",
       "       [1.38900000e+00, 1.92932100e+00],\n",
       "       [3.70400000e+00, 1.37196160e+01],\n",
       "       [5.40700000e+00, 2.92356490e+01],\n",
       "       [6.12400000e+00, 3.75033760e+01],\n",
       "       [1.30160000e+01, 1.69416256e+02],\n",
       "       [1.73790000e+01, 3.02029641e+02],\n",
       "       [2.11720000e+01, 4.48253584e+02],\n",
       "       [2.63800000e+01, 6.95904400e+02],\n",
       "       [3.37470000e+01, 1.13886001e+03],\n",
       "       [4.24840000e+01, 1.80489026e+03],\n",
       "       [5.12360000e+01, 2.62512770e+03],\n",
       "       [5.96340000e+01, 3.55621396e+03],\n",
       "       [7.37360000e+01, 5.43699770e+03],\n",
       "       [8.99710000e+01, 8.09478084e+03],\n",
       "       [1.08618000e+02, 1.17978699e+04],\n",
       "       [1.28956000e+02, 1.66296499e+04],\n",
       "       [1.46029000e+02, 2.13244688e+04],\n",
       "       [1.83073000e+02, 3.35157233e+04],\n",
       "       [2.18137000e+02, 4.75837508e+04],\n",
       "       [2.44165000e+02, 5.96165472e+04],\n",
       "       [2.71075000e+02, 7.34816556e+04],\n",
       "       [3.18864000e+02, 1.01674250e+05],\n",
       "       [3.56294000e+02, 1.26945414e+05],\n",
       "       [3.87535000e+02, 1.50183376e+05],\n",
       "       [4.21332000e+02, 1.77520654e+05],\n",
       "       [4.72357000e+02, 2.23121135e+05],\n",
       "       [5.16076000e+02, 2.66334438e+05],\n",
       "       [5.51279000e+02, 3.03908536e+05],\n",
       "       [5.90551000e+02, 3.48750484e+05],\n",
       "       [6.65019000e+02, 4.42250270e+05],\n",
       "       [7.26189000e+02, 5.27350464e+05],\n",
       "       [7.73723000e+02, 5.98647281e+05],\n",
       "       [8.21773000e+02, 6.75310864e+05],\n",
       "       [8.96553000e+02, 8.03807282e+05],\n",
       "       [9.47753000e+02, 8.98235749e+05],\n",
       "       [9.88152000e+02, 9.76444375e+05],\n",
       "       [1.03366500e+03, 1.06846333e+06],\n",
       "       [1.11195500e+03, 1.23644392e+06],\n",
       "       [1.16271800e+03, 1.35191315e+06],\n",
       "       [1.20374400e+03, 1.44899962e+06],\n",
       "       [1.25042100e+03, 1.56355268e+06],\n",
       "       [1.32773700e+03, 1.76288554e+06],\n",
       "       [1.37995400e+03, 1.90427304e+06]])"
      ]
     },
     "execution_count": 165,
     "metadata": {},
     "output_type": "execute_result"
    }
   ],
   "source": [
    "reg.coef_"
   ]
  },
  {
   "cell_type": "code",
   "execution_count": null,
   "metadata": {},
   "outputs": [],
   "source": []
  }
 ],
 "metadata": {
  "kernelspec": {
   "display_name": "Python 3",
   "language": "python",
   "name": "python3"
  },
  "language_info": {
   "codemirror_mode": {
    "name": "ipython",
    "version": 3
   },
   "file_extension": ".py",
   "mimetype": "text/x-python",
   "name": "python",
   "nbconvert_exporter": "python",
   "pygments_lexer": "ipython3",
   "version": "3.7.4"
  }
 },
 "nbformat": 4,
 "nbformat_minor": 2
}
