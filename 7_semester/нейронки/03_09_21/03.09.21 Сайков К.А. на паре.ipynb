{
 "cells": [
  {
   "cell_type": "code",
   "execution_count": 11,
   "metadata": {},
   "outputs": [],
   "source": [
    "import numpy as np\n",
    "import matplotlib.pyplot as plt\n",
    "from sympy import *\n",
    "from numpy import linalg as LA"
   ]
  },
  {
   "cell_type": "code",
   "execution_count": 12,
   "metadata": {},
   "outputs": [],
   "source": [
    "n = 10\n",
    "t_1 , t_2 = symbols('t1 t2')"
   ]
  },
  {
   "cell_type": "code",
   "execution_count": 13,
   "metadata": {},
   "outputs": [],
   "source": [
    "x = np.arange(n)/n+0.1*np.random.normal(0,1,n)\n",
    "y = 10*np.arange(n)/n+1+0.1*np.random.normal(0,1,n)"
   ]
  },
  {
   "cell_type": "code",
   "execution_count": 14,
   "metadata": {},
   "outputs": [
    {
     "data": {
      "text/plain": [
       "<matplotlib.collections.PathCollection at 0x23c65727a58>"
      ]
     },
     "execution_count": 14,
     "metadata": {},
     "output_type": "execute_result"
    },
    {
     "data": {
      "image/png": "[encoded data removed]",
      "text/plain": [
       "<Figure size 432x288 with 1 Axes>"
      ]
     },
     "metadata": {
      "needs_background": "light"
     },
     "output_type": "display_data"
    }
   ],
   "source": [
    "plt.scatter(x,y,4)"
   ]
  },
  {
   "cell_type": "code",
   "execution_count": 15,
   "metadata": {},
   "outputs": [],
   "source": [
    "x = np.append(x.reshape(-1,1), np.ones(n).reshape(-1,1),axis=1)\n",
    "theta_1 = np.array([t_1,t_2])\n",
    "step_size = 0.1 "
   ]
  },
  {
   "cell_type": "code",
   "execution_count": 16,
   "metadata": {},
   "outputs": [],
   "source": [
    "def func_cot(y, x, tetha):\n",
    "    print(len(x))\n",
    "    return (1/(2*len(x)))*(np.sum((y-np.dot(x,tetha))**2))\n",
    "\n",
    "def find_out_next_theta(theta,enta):\n",
    "    f_prom = lambdify([t_1, t_2], grad)\n",
    "    data = f_prom(float(theta[0]) , float(theta[1]))\n",
    "    return [data[0]*enta, data[1]*enta]"
   ]
  },
  {
   "cell_type": "code",
   "execution_count": 17,
   "metadata": {},
   "outputs": [
    {
     "name": "stdout",
     "output_type": "stream",
     "text": [
      "10\n"
     ]
    },
    {
     "data": {
      "text/latex": [
       "$\\displaystyle 1.89516813406887 \\left(- 0.107801369371147 t_{1} - 0.162428087011985 t_{2} + 1\\right)^{2} + 4.96212811075016 \\left(- 0.10276199723952 t_{1} - 0.100380883982833 t_{2} + 1\\right)^{2} + 3.91816009469753 \\left(- 0.097661359964034 t_{1} - 0.112965001804514 t_{2} + 1\\right)^{2} + 0.815472823618262 \\left(- 0.090620730267894 t_{1} - 0.247616885047965 t_{2} + 1\\right)^{2} + 1.21607562288225 \\left(- 0.0862527718324223 t_{1} - 0.202770471376824 t_{2} + 1\\right)^{2} + 3.05162996656401 \\left(- 0.0844452656013707 t_{1} - 0.128002681207846 t_{2} + 1\\right)^{2} + 2.34132096471598 \\left(- 0.0784924707177974 t_{1} - 0.146135094656277 t_{2} + 1\\right)^{2} + 0.05 \\left(- 0.0552422585195756 t_{1} - 1.0 t_{2} + 0.990292870432267\\right)^{2} + 0.42841818193576 \\left(- 0.0482562913362998 t_{1} - 0.341626109553615 t_{2} + 1\\right)^{2} + 0.151794213131356 \\left(- 0.0298564792112917 t_{1} - 0.57392797560756 t_{2} + 1\\right)^{2}$"
      ],
      "text/plain": [
       "1.89516813406887*(-0.107801369371147*t1 - 0.162428087011985*t2 + 1)**2 + 4.96212811075016*(-0.10276199723952*t1 - 0.100380883982833*t2 + 1)**2 + 3.91816009469753*(-0.097661359964034*t1 - 0.112965001804514*t2 + 1)**2 + 0.815472823618262*(-0.090620730267894*t1 - 0.247616885047965*t2 + 1)**2 + 1.21607562288225*(-0.0862527718324223*t1 - 0.202770471376824*t2 + 1)**2 + 3.05162996656401*(-0.0844452656013707*t1 - 0.128002681207846*t2 + 1)**2 + 2.34132096471598*(-0.0784924707177974*t1 - 0.146135094656277*t2 + 1)**2 + 0.05*(-0.0552422585195756*t1 - 1.0*t2 + 0.990292870432267)**2 + 0.42841818193576*(-0.0482562913362998*t1 - 0.341626109553615*t2 + 1)**2 + 0.151794213131356*(-0.0298564792112917*t1 - 0.57392797560756*t2 + 1)**2"
      ]
     },
     "execution_count": 17,
     "metadata": {},
     "output_type": "execute_result"
    }
   ],
   "source": [
    "Q = func_cot(y,x,theta_1);Q"
   ]
  },
  {
   "cell_type": "code",
   "execution_count": 18,
   "metadata": {},
   "outputs": [
    {
     "data": {
      "text/plain": [
       "[0.330020353449119*t1 + 0.478863383957084*t2 - 3.49014875820404,\n",
       " 0.478863383957084*t1 + 1.0*t2 - 5.42562754990986]"
      ]
     },
     "execution_count": 18,
     "metadata": {},
     "output_type": "execute_result"
    }
   ],
   "source": [
    "grad = [diff(Q,t_1), diff(Q,t_2)];grad"
   ]
  },
  {
   "cell_type": "code",
   "execution_count": 19,
   "metadata": {},
   "outputs": [],
   "source": [
    "teheta_0 = [0,0]\n",
    "enta = 0.0001\n",
    "iterations = 100"
   ]
  },
  {
   "cell_type": "code",
   "execution_count": 20,
   "metadata": {},
   "outputs": [
    {
     "name": "stdout",
     "output_type": "stream",
     "text": [
      "[0, 0] [0.00034901 0.00054256]\n",
      "[0.00034901 0.00054256] [0.00069799 0.00108505]\n",
      "[0.00069799 0.00108505] [0.00104693 0.00162748]\n",
      "[0.00104693 0.00162748] [0.00139583 0.00216983]\n",
      "[0.00139583 0.00216983] [0.0017447 0.0027121]\n",
      "[0.0017447 0.0027121] [0.00209353 0.00325431]\n",
      "[0.00209353 0.00325431] [0.00244232 0.00379645]\n",
      "[0.00244232 0.00379645] [0.00279107 0.00433852]\n",
      "[0.00279107 0.00433852] [0.00313978 0.00488051]\n",
      "[0.00313978 0.00488051] [0.00348846 0.00542243]\n",
      "[0.00348846 0.00542243] [0.0038371  0.00596429]\n",
      "[0.0038371  0.00596429] [0.0041857  0.00650607]\n",
      "[0.0041857  0.00650607] [0.00453427 0.00704778]\n",
      "[0.00453427 0.00704778] [0.0048828  0.00758942]\n",
      "[0.0048828  0.00758942] [0.00523129 0.00813099]\n",
      "[0.00523129 0.00813099] [0.00557974 0.00867249]\n",
      "[0.00557974 0.00867249] [0.00592816 0.00921392]\n",
      "[0.00592816 0.00921392] [0.00627653 0.00975528]\n",
      "[0.00627653 0.00975528] [0.00662487 0.01029657]\n",
      "[0.00662487 0.01029657] [0.00697318 0.01083778]\n",
      "[0.00697318 0.01083778] [0.00732144 0.01137893]\n",
      "[0.00732144 0.01137893] [0.00766967 0.01192   ]\n",
      "[0.00766967 0.01192   ] [0.00801786 0.012461  ]\n",
      "[0.00801786 0.012461  ] [0.00836602 0.01300194]\n",
      "[0.00836602 0.01300194] [0.00871413 0.0135428 ]\n",
      "[0.00871413 0.0135428 ] [0.00906221 0.01408359]\n",
      "[0.00906221 0.01408359] [0.00941025 0.01462431]\n",
      "[0.00941025 0.01462431] [0.00975826 0.01516496]\n",
      "[0.00975826 0.01516496] [0.01010622 0.01570554]\n",
      "[0.01010622 0.01570554] [0.01045415 0.01624605]\n",
      "[0.01045415 0.01624605] [0.01080204 0.01678648]\n",
      "[0.01080204 0.01678648] [0.0111499  0.01732685]\n",
      "[0.0111499  0.01732685] [0.01149772 0.01786715]\n",
      "[0.01149772 0.01786715] [0.0118455  0.01840737]\n",
      "[0.0118455  0.01840737] [0.01219324 0.01894753]\n",
      "[0.01219324 0.01894753] [0.01254094 0.01948761]\n",
      "[0.01254094 0.01948761] [0.01288861 0.02002763]\n",
      "[0.01288861 0.02002763] [0.01323624 0.02056757]\n",
      "[0.01323624 0.02056757] [0.01358384 0.02110744]\n",
      "[0.01358384 0.02110744] [0.01393139 0.02164724]\n",
      "[0.01393139 0.02164724] [0.01427891 0.02218697]\n",
      "[0.01427891 0.02218697] [0.01462639 0.02272663]\n",
      "[0.01462639 0.02272663] [0.01497383 0.02326622]\n",
      "[0.01497383 0.02326622] [0.01532124 0.02380574]\n",
      "[0.01532124 0.02380574] [0.01566861 0.02434519]\n",
      "[0.01566861 0.02434519] [0.01601594 0.02488457]\n",
      "[0.01601594 0.02488457] [0.01636324 0.02542388]\n",
      "[0.01636324 0.02542388] [0.01671049 0.02596311]\n",
      "[0.01671049 0.02596311] [0.01705771 0.02650228]\n",
      "[0.01705771 0.02650228] [0.0174049  0.02704137]\n",
      "[0.0174049  0.02704137] [0.01775204 0.0275804 ]\n",
      "[0.01775204 0.0275804 ] [0.01809915 0.02811935]\n",
      "[0.01809915 0.02811935] [0.01844622 0.02865824]\n",
      "[0.01844622 0.02865824] [0.01879326 0.02919705]\n",
      "[0.01879326 0.02919705] [0.01914025 0.0297358 ]\n",
      "[0.01914025 0.0297358 ] [0.01948721 0.03027447]\n",
      "[0.01948721 0.03027447] [0.01983413 0.03081307]\n",
      "[0.01983413 0.03081307] [0.02018102 0.0313516 ]\n",
      "[0.02018102 0.0313516 ] [0.02052787 0.03189006]\n",
      "[0.02052787 0.03189006] [0.02087468 0.03242845]\n",
      "[0.02087468 0.03242845] [0.02122145 0.03296677]\n",
      "[0.02122145 0.03296677] [0.02156819 0.03350502]\n",
      "[0.02156819 0.03350502] [0.02191488 0.0340432 ]\n",
      "[0.02191488 0.0340432 ] [0.02226155 0.03458131]\n",
      "[0.02226155 0.03458131] [0.02260817 0.03511935]\n",
      "[0.02260817 0.03511935] [0.02295476 0.03565732]\n",
      "[0.02295476 0.03565732] [0.02330131 0.03619522]\n",
      "[0.02330131 0.03619522] [0.02364782 0.03673304]\n",
      "[0.02364782 0.03673304] [0.02399429 0.0372708 ]\n",
      "[0.02399429 0.0372708 ] [0.02434073 0.03780849]\n",
      "[0.02434073 0.03780849] [0.02468713 0.0383461 ]\n",
      "[0.02468713 0.0383461 ] [0.0250335  0.03888365]\n",
      "[0.0250335  0.03888365] [0.02537982 0.03942113]\n",
      "[0.02537982 0.03942113] [0.02572611 0.03995853]\n",
      "[0.02572611 0.03995853] [0.02607237 0.04049587]\n",
      "[0.02607237 0.04049587] [0.02641858 0.04103313]\n",
      "[0.02641858 0.04103313] [0.02676476 0.04157032]\n",
      "[0.02676476 0.04157032] [0.0271109  0.04210745]\n",
      "[0.0271109  0.04210745] [0.027457  0.0426445]\n",
      "[0.027457  0.0426445] [0.02780307 0.04318149]\n",
      "[0.02780307 0.04318149] [0.0281491 0.0437184]\n",
      "[0.0281491 0.0437184] [0.02849509 0.04425524]\n",
      "[0.02849509 0.04425524] [0.02884105 0.04479202]\n",
      "[0.02884105 0.04479202] [0.02918697 0.04532872]\n",
      "[0.02918697 0.04532872] [0.02953285 0.04586535]\n",
      "[0.02953285 0.04586535] [0.02987869 0.04640191]\n",
      "[0.02987869 0.04640191] [0.0302245 0.0469384]\n",
      "[0.0302245 0.0469384] [0.03057027 0.04747483]\n",
      "[0.03057027 0.04747483] [0.030916   0.04801118]\n",
      "[0.030916   0.04801118] [0.0312617  0.04854746]\n",
      "[0.0312617  0.04854746] [0.03160735 0.04908367]\n",
      "[0.03160735 0.04908367] [0.03195298 0.04961981]\n",
      "[0.03195298 0.04961981] [0.03229856 0.05015588]\n",
      "[0.03229856 0.05015588] [0.03264411 0.05069188]\n",
      "[0.03264411 0.05069188] [0.03298962 0.05122781]\n",
      "[0.03298962 0.05122781] [0.03333509 0.05176367]\n",
      "[0.03333509 0.05176367] [0.03368053 0.05229946]\n",
      "[0.03368053 0.05229946] [0.03402593 0.05283518]\n",
      "[0.03402593 0.05283518] [0.03437129 0.05337083]\n",
      "[0.03437129 0.05337083] [0.03471661 0.05390641]\n"
     ]
    }
   ],
   "source": [
    "for i in range(iterations):\n",
    "    teheta_1 = np.array(teheta_0) - np.array(find_out_next_theta(teheta_0, enta)) \n",
    "    print(teheta_0, teheta_1)\n",
    "    teheta_0 = teheta_1"
   ]
  },
  {
   "cell_type": "code",
   "execution_count": null,
   "metadata": {},
   "outputs": [],
   "source": []
  },
  {
   "cell_type": "code",
   "execution_count": null,
   "metadata": {},
   "outputs": [],
   "source": []
  },
  {
   "cell_type": "code",
   "execution_count": null,
   "metadata": {},
   "outputs": [],
   "source": []
  },
  {
   "cell_type": "code",
   "execution_count": null,
   "metadata": {},
   "outputs": [],
   "source": []
  }
 ],
 "metadata": {
  "kernelspec": {
   "display_name": "Python 3",
   "language": "python",
   "name": "python3"
  },
  "language_info": {
   "codemirror_mode": {
    "name": "ipython",
    "version": 3
   },
   "file_extension": ".py",
   "mimetype": "text/x-python",
   "name": "python",
   "nbconvert_exporter": "python",
   "pygments_lexer": "ipython3",
   "version": "3.7.1"
  }
 },
 "nbformat": 4,
 "nbformat_minor": 5
}
