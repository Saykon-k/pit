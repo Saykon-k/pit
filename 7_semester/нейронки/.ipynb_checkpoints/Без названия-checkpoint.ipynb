{
 "cells": [
  {
   "cell_type": "code",
   "execution_count": 519,
   "id": "4c81376c",
   "metadata": {},
   "outputs": [],
   "source": [
    "import numpy as np\n",
    "import matplotlib.pyplot as plt\n",
    "from sympy import *\n",
    "from numpy import linalg as LA"
   ]
  },
  {
   "cell_type": "code",
   "execution_count": 520,
   "id": "c71ab1d0",
   "metadata": {},
   "outputs": [],
   "source": [
    "n = 1000\n",
    "t_1 , t_2 = symbols('t1 t2')"
   ]
  },
  {
   "cell_type": "code",
   "execution_count": 521,
   "id": "0042b6d3",
   "metadata": {},
   "outputs": [],
   "source": [
    "x = np.arange(n)/n+0.1*np.random.normal(0,1,n)\n",
    "y = 10*np.arange(n)/n+1+0.1*np.random.normal(0,1,n)"
   ]
  },
  {
   "cell_type": "code",
   "execution_count": 522,
   "id": "b241b5b0",
   "metadata": {},
   "outputs": [
    {
     "data": {
      "text/plain": [
       "<matplotlib.collections.PathCollection at 0x7f96a0431b20>"
      ]
     },
     "execution_count": 522,
     "metadata": {},
     "output_type": "execute_result"
    },
    {
     "data": {
      "image/png": "[encoded data removed]",
      "text/plain": [
       "<Figure size 432x288 with 1 Axes>"
      ]
     },
     "metadata": {
      "needs_background": "light"
     },
     "output_type": "display_data"
    }
   ],
   "source": [
    "plt.scatter(x,y,4)"
   ]
  },
  {
   "cell_type": "code",
   "execution_count": 523,
   "id": "8adb8d21",
   "metadata": {},
   "outputs": [],
   "source": [
    "x = np.append(x.reshape(-1,1), np.ones(n).reshape(-1,1),axis=1)\n",
    "theta_1 = np.array([t_1,t_2])\n",
    "step_size = 0.1 "
   ]
  },
  {
   "cell_type": "code",
   "execution_count": 524,
   "id": "fb279677",
   "metadata": {},
   "outputs": [],
   "source": [
    "def func_cot(y, x, tetha):\n",
    "    print(len(x))\n",
    "    return (1/(2*len(x)))*((np.sum(y-np.dot(x,tetha)))**2)\n",
    "\n",
    "def find_out_next_theta(theta,enta):\n",
    "    f_prom = lambdify([t_1, t_2], grad)\n",
    "    data = f_prom(float(theta[0]) , float(theta[1]))\n",
    "    return [data[0]*enta, data[1]*enta]"
   ]
  },
  {
   "cell_type": "code",
   "execution_count": 525,
   "id": "688b7c99",
   "metadata": {},
   "outputs": [
    {
     "name": "stdout",
     "output_type": "stream",
     "text": [
      "1000\n"
     ]
    },
    {
     "data": {
      "text/latex": [
       "$\\displaystyle 17942.7330447309 \\left(- 0.0828818615780559 t_{1} - 0.166932425761897 t_{2} + 1\\right)^{2}$"
      ],
      "text/plain": [
       "17942.7330447309*(-0.0828818615780559*t1 - 0.166932425761897*t2 + 1)**2"
      ]
     },
     "execution_count": 525,
     "metadata": {},
     "output_type": "execute_result"
    }
   ],
   "source": [
    "Q = func_cot(y,x,theta_1);Q"
   ]
  },
  {
   "cell_type": "code",
   "execution_count": 526,
   "id": "04fd04c1",
   "metadata": {},
   "outputs": [
    {
     "data": {
      "text/plain": [
       "[246.511727644978*t1 + 496.499473962438*t2 - 2974.2542330908,\n",
       " 496.499473962438*t1 + 1000.0*t2 - 5990.44790391018]"
      ]
     },
     "execution_count": 526,
     "metadata": {},
     "output_type": "execute_result"
    }
   ],
   "source": [
    "grad = [diff(Q,t_1), diff(Q,t_2)];grad"
   ]
  },
  {
   "cell_type": "code",
   "execution_count": 527,
   "id": "66dee7b4",
   "metadata": {},
   "outputs": [],
   "source": [
    "teheta_0 = [0,0]\n",
    "enta = 0.0001\n",
    "iterations = 10000"
   ]
  },
  {
   "cell_type": "code",
   "execution_count": 528,
   "id": "431f9033",
   "metadata": {},
   "outputs": [
    {
     "name": "stdout",
     "output_type": "stream",
     "text": [
      "stop\n"
     ]
    }
   ],
   "source": [
    "for i in range(iterations):\n",
    "    teheta_1 = np.array(teheta_0) - np.array(find_out_next_theta(teheta_0, enta)) \n",
    "    if numpy.linalg.norm((teheta_1 - teheta_0)) <= 10**(-5):\n",
    "        print('stop')\n",
    "        break\n",
    "    teheta_0 = teheta_1"
   ]
  },
  {
   "cell_type": "code",
   "execution_count": 529,
   "id": "8c791761",
   "metadata": {},
   "outputs": [
    {
     "data": {
      "text/plain": [
       "array([2.38602879, 4.80570256])"
      ]
     },
     "execution_count": 529,
     "metadata": {},
     "output_type": "execute_result"
    }
   ],
   "source": [
    "teheta_0"
   ]
  },
  {
   "cell_type": "code",
   "execution_count": null,
   "id": "6b4501b0",
   "metadata": {},
   "outputs": [],
   "source": []
  }
 ],
 "metadata": {
  "kernelspec": {
   "display_name": "Python 3",
   "language": "python",
   "name": "python3"
  },
  "language_info": {
   "codemirror_mode": {
    "name": "ipython",
    "version": 3
   },
   "file_extension": ".py",
   "mimetype": "text/x-python",
   "name": "python",
   "nbconvert_exporter": "python",
   "pygments_lexer": "ipython3",
   "version": "3.8.8"
  }
 },
 "nbformat": 4,
 "nbformat_minor": 5
}
